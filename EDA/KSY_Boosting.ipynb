{
 "cells": [
  {
   "cell_type": "code",
   "execution_count": 1,
   "metadata": {},
   "outputs": [
    {
     "name": "stdout",
     "output_type": "stream",
     "text": [
      "(306795, 10)\n",
      "(76699, 10)\n"
     ]
    }
   ],
   "source": [
    "#import data\n",
    "import pandas as pd\n",
    "import numpy as np\n",
    "import seaborn as sns\n",
    "import matplotlib.pyplot as plt\n",
    "import random\n",
    "import os\n",
    "\n",
    "import warnings\n",
    "warnings.filterwarnings(\"ignore\")\n",
    "\n",
    "pd.set_option('display.max_row', 50)\n",
    "\n",
    "path = '../data/'\n",
    "\n",
    "train = pd.read_csv(path+'ksy_train_rating_10n.csv')\n",
    "test = pd.read_csv(path+'ksy_test_rating_10n.csv')\n",
    "submit = pd.read_csv(path + 'sample_submission.csv')\n",
    "\n",
    "def rmse(real: list, predict: list) -> float:\n",
    "    pred = np.array(predict)\n",
    "    return np.sqrt(np.mean((real-pred) ** 2))\n",
    "\n",
    "SEED = 42\n",
    "def seed_everything(seed: int = 42):\n",
    "    random.seed(seed)\n",
    "    np.random.seed(seed)\n",
    "    os.environ[\"PYTHONHASHSEED\"] = str(seed)\n",
    "\n",
    "seed_everything(SEED)\n",
    "\n",
    "print(train.shape)\n",
    "print(test.shape)"
   ]
  },
  {
   "cell_type": "code",
   "execution_count": 2,
   "metadata": {},
   "outputs": [],
   "source": [
    "n = 10\n",
    "\n",
    "tem = train['user_id'].value_counts()\n",
    "tem = list(tem[tem >= n].index)\n",
    "train['id'] = train['user_id'].copy()\n",
    "train['id'][~train['id'].isin(tem)] = -1\n",
    "test['id'] = test['user_id'].copy()\n",
<<<<<<< HEAD
    "test['id'][~test['id'].isin(tem)] = -1"
   ]
  },
  {
   "cell_type": "code",
   "execution_count": 3,
   "metadata": {},
   "outputs": [],
   "source": [
=======
    "test['id'][~test['id'].isin(tem)] = -1\n",
    "\n",
>>>>>>> master
    "tem = train['isbn'].value_counts()\n",
    "tem = list(tem[tem >= n].index)\n",
    "train['bn'] = train['isbn'].copy()\n",
    "train['bn'][~train['bn'].isin(tem)] = '0500000000'\n",
    "test['bn'] = test['isbn'].copy()\n",
    "test['bn'][~test['bn'].isin(tem)] =  '0500000000'\n"
   ]
  },
  {
   "cell_type": "code",
   "execution_count": 4,
<<<<<<< HEAD
   "metadata": {},
   "outputs": [
    {
     "data": {
      "text/plain": [
       "0316666343    566\n",
       "0971880107    465\n",
       "0385504209    390\n",
       "0312195516    307\n",
       "0060928336    256\n",
       "             ... \n",
       "0451210239      1\n",
       "0451209788      1\n",
       "0312982291      1\n",
       "0451208439      1\n",
       "0670528951      1\n",
       "Name: bn, Length: 129777, dtype: int64"
      ]
     },
     "execution_count": 4,
     "metadata": {},
     "output_type": "execute_result"
    }
   ],
   "source": [
    "train['bn'].value_counts()"
   ]
  },
  {
   "cell_type": "code",
   "execution_count": 5,
=======
>>>>>>> master
   "metadata": {},
   "outputs": [],
   "source": [
    "train['years'] = train['years'].astype('str')\n",
    "train['fix_age'] = train['fix_age'].astype('str')\n",
    "train['id'] = train['id'].astype('str')\n",
    "train['bn'] = train['bn'].astype('str')\n",
    "\n",
    "test['years'] = test['years'].astype('str')\n",
    "test['fix_age'] = test['fix_age'].astype('str')\n",
    "test['id'] = test['id'].astype('str')\n",
    "test['bn'] = test['bn'].astype('str')"
   ]
  },
  {
   "cell_type": "code",
<<<<<<< HEAD
   "execution_count": 6,
=======
   "execution_count": 5,
>>>>>>> master
   "metadata": {},
   "outputs": [
    {
     "data": {
      "text/plain": [
       "0              8.0\n",
       "1              8.0\n",
       "2              8.0\n",
       "3              8.0\n",
       "4              8.0\n",
       "            ...   \n",
       "306790    278376.0\n",
       "306791    278621.0\n",
       "306792    278636.0\n",
       "306793    278659.0\n",
       "306794    278713.0\n",
       "Name: id, Length: 306795, dtype: object"
      ]
     },
<<<<<<< HEAD
     "execution_count": 6,
=======
     "execution_count": 5,
>>>>>>> master
     "metadata": {},
     "output_type": "execute_result"
    }
   ],
   "source": [
    "train['id']"
   ]
  },
  {
   "cell_type": "code",
<<<<<<< HEAD
   "execution_count": 7,
   "metadata": {},
   "outputs": [
    {
     "data": {
      "text/plain": [
       "0              8.0\n",
       "1              8.0\n",
       "2              8.0\n",
       "3              8.0\n",
       "4              8.0\n",
       "            ...   \n",
       "306790    278376.0\n",
       "306791    278621.0\n",
       "306792    278636.0\n",
       "306793    278659.0\n",
       "306794    278713.0\n",
       "Name: user_id, Length: 306795, dtype: float64"
      ]
     },
     "execution_count": 7,
     "metadata": {},
     "output_type": "execute_result"
    }
   ],
   "source": [
    "train['user_id']"
   ]
  },
  {
   "cell_type": "code",
   "execution_count": 8,
   "metadata": {},
   "outputs": [
    {
     "name": "stdout",
     "output_type": "stream",
     "text": [
      "59803\n",
      "129777\n",
      "10\n",
      "2102\n",
      "1217\n",
      "11\n",
      "209\n",
      "5\n",
      "234\n",
      "7\n",
      "59803\n",
      "129777\n"
     ]
    }
   ],
   "source": [
    "for col in train.columns:\n",
    "    print(train[col].nunique())"
   ]
  },
  {
   "cell_type": "code",
   "execution_count": 18,
   "metadata": {},
   "outputs": [
    {
     "name": "stdout",
     "output_type": "stream",
     "text": [
      "<class 'pandas.core.frame.DataFrame'>\n",
      "RangeIndex: 306795 entries, 0 to 306794\n",
      "Data columns (total 12 columns):\n",
      " #   Column              Non-Null Count   Dtype  \n",
      "---  ------              --------------   -----  \n",
      " 0   user_id             306795 non-null  float64\n",
      " 1   isbn                306795 non-null  object \n",
      " 2   rating              306795 non-null  float64\n",
      " 3   book_author         306795 non-null  object \n",
      " 4   publisher           306795 non-null  object \n",
      " 5   language            306795 non-null  object \n",
      " 6   category_high       306795 non-null  object \n",
      " 7   years               306795 non-null  object \n",
      " 8   fix_location_state  306795 non-null  object \n",
      " 9   fix_age             306795 non-null  object \n",
      " 10  id                  306795 non-null  object \n",
      " 11  bn                  306795 non-null  object \n",
      "dtypes: float64(2), object(10)\n",
      "memory usage: 28.1+ MB\n"
     ]
    }
   ],
=======
   "execution_count": 6,
   "metadata": {},
   "outputs": [],
>>>>>>> master
   "source": [
    "train.info()"
   ]
  },
  {
   "cell_type": "code",
   "execution_count": 10,
   "metadata": {},
   "outputs": [],
   "source": [
    "from sklearn.model_selection import train_test_split\n",
    "from catboost import CatBoostRegressor\n",
    "\n",
    "params_cat = {\n",
    "        \"task_type\" : \"GPU\",\n",
    "        \"devices\" : '0',\n",
    "        \"random_state\": SEED,\n",
    "        \"learning_rate\": 0.05,\n",
    "        \"n_estimators\": 2000,\n",
    "        \"verbose\" : 1,\n",
    "        \"objective\" : \"RMSE\",\n",
    "        \"max_depth\": 8,#trial.suggest_int(\"max_depth\", 1, 16),\n",
    "        \"colsample_bylevel\": 1,#trial.suggest_float(\"colsample_bylevel\", 0.8, 1.0),\n",
    "        #\"subsample\": 0.8, #trial.suggest_float(\"subsample\", 0.3, 1.0), GPU 사용시 안될수도.\n",
    "        \"min_child_samples\": 50, #trial.suggest_int(\"min_child_samples\", 5, 100),\n",
    "        \"max_bin\": 300, #trial.suggest_int(\"max_bin\", 200, 500),\n",
    "        \"cat_features\" : ['book_author', 'publisher', 'language', 'category_high', 'years', 'fix_location_state', 'fix_age', 'id','bn'],\n",
    "        \"one_hot_max_size\" : 256\n",
    "}\n",
    "\n",
    "X_tr, X_val, y_tr, y_val = train_test_split(train.drop(['user_id', 'isbn', 'rating'],axis = 1), train['rating'], test_size=0.2)\n",
    "\n",
    "model = CatBoostRegressor(**params_cat)\n",
    "model.fit(\n",
    "    X_tr,\n",
    "    y_tr,\n",
    "    eval_set=[(X_val, y_val)],\n",
    "    #early_stopping_rounds=10,\n",
    "    verbose=False,\n",
    ")\n",
    "\n",
    "cat_pred = model.predict(X_val)\n",
    "log_score = rmse(y_val, cat_pred)"
   ]
  },
  {
   "cell_type": "code",
<<<<<<< HEAD
   "execution_count": 11,
=======
   "execution_count": 8,
>>>>>>> master
   "metadata": {},
   "outputs": [
    {
     "data": {
      "text/plain": [
       "2.1736890717027717"
      ]
     },
<<<<<<< HEAD
     "execution_count": 11,
=======
     "execution_count": 8,
>>>>>>> master
     "metadata": {},
     "output_type": "execute_result"
    }
   ],
   "source": [
    "log_score"
   ]
  },
  {
   "cell_type": "code",
<<<<<<< HEAD
   "execution_count": 12,
=======
   "execution_count": 22,
   "metadata": {},
   "outputs": [
    {
     "data": {
      "text/plain": [
       "2.4894709408699316"
      ]
     },
     "execution_count": 22,
     "metadata": {},
     "output_type": "execute_result"
    }
   ],
   "source": [
    "# cold start 유저에 대해 예측도가 저조하다..\n",
    "X_val['pred'] = cat_pred\n",
    "X_val['rating'] = y_val\n",
    "X_val['pred2'] = 6.7\n",
    "tem = X_val[(X_val['id'] == '-1.0') & (X_val['bn'] == '1000000000')]\n",
    "rmse(tem['rating'], tem['pred'])"
   ]
  },
  {
   "cell_type": "code",
   "execution_count": 11,
>>>>>>> master
   "metadata": {},
   "outputs": [
    {
     "data": {
      "text/html": [
       "<div>\n",
       "<style scoped>\n",
       "    .dataframe tbody tr th:only-of-type {\n",
       "        vertical-align: middle;\n",
       "    }\n",
       "\n",
       "    .dataframe tbody tr th {\n",
       "        vertical-align: top;\n",
       "    }\n",
       "\n",
       "    .dataframe thead th {\n",
       "        text-align: right;\n",
       "    }\n",
       "</style>\n",
       "<table border=\"1\" class=\"dataframe\">\n",
       "  <thead>\n",
       "    <tr style=\"text-align: right;\">\n",
       "      <th></th>\n",
       "      <th>user_id</th>\n",
       "      <th>isbn</th>\n",
       "      <th>rating</th>\n",
       "      <th>book_author</th>\n",
       "      <th>publisher</th>\n",
       "      <th>language</th>\n",
       "      <th>category_high</th>\n",
       "      <th>years</th>\n",
       "      <th>fix_location_state</th>\n",
       "      <th>fix_age</th>\n",
       "      <th>id</th>\n",
       "      <th>bn</th>\n",
       "    </tr>\n",
       "  </thead>\n",
       "  <tbody>\n",
       "    <tr>\n",
       "      <th>23402</th>\n",
       "      <td>125519.0</td>\n",
       "      <td>0393046974</td>\n",
       "      <td>8.486097</td>\n",
       "      <td>others</td>\n",
       "      <td>W.W. Norton &amp; Company</td>\n",
       "      <td>en</td>\n",
       "      <td>fiction</td>\n",
       "      <td>2000.0</td>\n",
       "      <td>california</td>\n",
       "      <td>50</td>\n",
       "      <td>125519.0</td>\n",
       "      <td>0393046974</td>\n",
       "    </tr>\n",
       "    <tr>\n",
       "      <th>53048</th>\n",
       "      <td>192176.0</td>\n",
       "      <td>0553099957</td>\n",
       "      <td>8.319154</td>\n",
       "      <td>Connie Willis</td>\n",
       "      <td>Bantam</td>\n",
       "      <td>en</td>\n",
       "      <td>fiction</td>\n",
       "      <td>2000.0</td>\n",
       "      <td>oregon</td>\n",
       "      <td>100</td>\n",
       "      <td>192176.0</td>\n",
       "      <td>0553099957</td>\n",
       "    </tr>\n",
       "    <tr>\n",
       "      <th>9088</th>\n",
       "      <td>145218.0</td>\n",
       "      <td>0380727501</td>\n",
       "      <td>7.640309</td>\n",
       "      <td>Bill Bryson</td>\n",
       "      <td>Perennial</td>\n",
       "      <td>en</td>\n",
       "      <td>travel</td>\n",
       "      <td>2000.0</td>\n",
       "      <td>kildare</td>\n",
       "      <td>50</td>\n",
       "      <td>145218.0</td>\n",
       "      <td>0380727501</td>\n",
       "    </tr>\n",
       "  </tbody>\n",
       "</table>\n",
       "</div>"
      ],
      "text/plain": [
       "        user_id        isbn    rating    book_author              publisher  \\\n",
       "23402  125519.0  0393046974  8.486097         others  W.W. Norton & Company   \n",
       "53048  192176.0  0553099957  8.319154  Connie Willis                 Bantam   \n",
       "9088   145218.0  0380727501  7.640309    Bill Bryson              Perennial   \n",
       "\n",
       "      language category_high   years fix_location_state fix_age        id  \\\n",
       "23402       en       fiction  2000.0         california      50  125519.0   \n",
       "53048       en       fiction  2000.0             oregon     100  192176.0   \n",
       "9088        en        travel  2000.0            kildare      50  145218.0   \n",
       "\n",
       "               bn  \n",
       "23402  0393046974  \n",
       "53048  0553099957  \n",
       "9088   0380727501  "
      ]
     },
     "execution_count": 12,
     "metadata": {},
     "output_type": "execute_result"
    }
   ],
   "source": [
    "model = CatBoostRegressor(**params_cat)\n",
    "model.fit(\n",
    "    train.drop(['user_id', 'isbn', 'rating'],axis = 1),\n",
    "    train['rating'],\n",
    "    verbose=False,\n",
    ")\n",
    "pred = model.predict(test.drop(['user_id', 'isbn', 'rating'],axis = 1))\n",
    "test['rating'] = pred\n",
    "test.sample(3)"
   ]
  },
  {
   "cell_type": "code",
   "execution_count": 13,
   "metadata": {},
   "outputs": [],
   "source": [
    "submit['rating'] = test['rating']\n",
    "submit.to_csv('../data/20221027_Catboost_Plueid_real.csv', index = False)"
   ]
  },
  {
   "cell_type": "code",
   "execution_count": 14,
   "metadata": {},
   "outputs": [
    {
     "data": {
      "text/plain": [
       "0        6.718771\n",
       "1        7.361587\n",
       "2        7.723700\n",
       "3        7.991049\n",
       "4        7.555870\n",
       "           ...   \n",
       "76694    6.323541\n",
       "76695    6.022866\n",
       "76696    6.717984\n",
       "76697    4.763973\n",
       "76698    6.320837\n",
       "Name: rating, Length: 76699, dtype: float64"
      ]
     },
     "execution_count": 14,
     "metadata": {},
     "output_type": "execute_result"
    }
   ],
   "source": [
    "submit['rating']"
   ]
  },
  {
   "cell_type": "code",
   "execution_count": 15,
   "metadata": {},
   "outputs": [
    {
     "data": {
      "text/plain": [
       "7.064653600082897"
      ]
     },
     "execution_count": 15,
     "metadata": {},
     "output_type": "execute_result"
    }
   ],
   "source": [
    "test['rating'].mean()"
   ]
  },
  {
   "cell_type": "code",
   "execution_count": 16,
   "metadata": {},
   "outputs": [
    {
     "data": {
      "text/plain": [
       "array([12.03840585,  9.87312983,  0.46976595,  4.02093732,  4.02413836,\n",
       "       10.03075232,  5.2154461 , 47.73579981,  6.59162446])"
      ]
     },
     "execution_count": 16,
     "metadata": {},
     "output_type": "execute_result"
    }
   ],
   "source": [
    "model.get_feature_importance()"
   ]
  },
  {
   "cell_type": "code",
   "execution_count": 17,
   "metadata": {},
   "outputs": [
    {
     "data": {
      "text/plain": [
       "15"
      ]
     },
     "execution_count": 17,
     "metadata": {},
     "output_type": "execute_result"
    }
   ],
   "source": [
    "sum(test['rating'] > 10)"
   ]
  },
  {
   "cell_type": "code",
   "execution_count": null,
   "metadata": {},
   "outputs": [],
   "source": []
  }
 ],
 "metadata": {
  "kernelspec": {
   "display_name": "Python 3.8.5 ('base')",
   "language": "python",
   "name": "python3"
  },
  "language_info": {
   "codemirror_mode": {
    "name": "ipython",
    "version": 3
   },
   "file_extension": ".py",
   "mimetype": "text/x-python",
   "name": "python",
   "nbconvert_exporter": "python",
   "pygments_lexer": "ipython3",
   "version": "3.8.5"
  },
  "orig_nbformat": 4,
  "vscode": {
   "interpreter": {
    "hash": "d4d1e4263499bec80672ea0156c357c1ee493ec2b1c70f0acce89fc37c4a6abe"
   }
  }
 },
 "nbformat": 4,
 "nbformat_minor": 2
}
