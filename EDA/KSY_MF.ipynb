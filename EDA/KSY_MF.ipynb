{
 "cells": [
  {
   "cell_type": "code",
   "execution_count": 4,
   "metadata": {},
   "outputs": [],
   "source": [
    "import pandas as pd\n",
    "import numpy as np\n",
    "import seaborn as sns\n",
    "import matplotlib.pyplot as plt\n",
    "import random\n",
    "import os\n",
    "\n",
    "import warnings\n",
    "warnings.filterwarnings(\"ignore\")\n",
    "\n",
    "from sklearn.model_selection import train_test_split\n",
    "\n",
    "pd.set_option('display.max_row', 50)\n",
    "\n",
    "train = pd.read_csv('../data/train_ratings.csv')\n",
    "test = pd.read_csv('../data/test_ratings.csv')\n",
    "books = pd.read_csv('../data/books.csv')\n",
    "users = pd.read_csv('../data/users.csv')\n",
    "\n",
    "def rmse(real: list, predict: list) -> float:\n",
    "    pred = np.array(predict)\n",
    "    return np.sqrt(np.mean((real-pred) ** 2))\n",
    "\n",
    "SEED = 42\n",
    "def seed_everything(seed: int = 42):\n",
    "    random.seed(seed)\n",
    "    np.random.seed(seed)\n",
    "    os.environ[\"PYTHONHASHSEED\"] = str(seed)\n",
    "\n",
    "seed_everything(SEED)"
   ]
  },
  {
   "cell_type": "code",
   "execution_count": 22,
   "metadata": {},
   "outputs": [],
   "source": [
    "_data = pd.concat([train, test])\n",
    "\n",
    "user2idx = {v:k for k,v in enumerate(_data['user_id'].unique())}\n",
    "book2idx = {v:k for k,v in enumerate(_data['isbn'].unique())}\n",
    "\n",
    "train['isbn'] = train['isbn'].map(book2idx)\n",
    "train['user_id'] = train['user_id'].map(user2idx)\n",
    "\n",
    "test['isbn'] = test['isbn'].map(book2idx)\n",
    "test['user_id'] = test['user_id'].map(user2idx)\n",
    "\n",
    "X_tr, X_val, y_tr, y_val = train_test_split(train.drop(['rating'],axis = 1), train['rating'], test_size=0.2, random_state=SEED)\n",
    "\n",
    "_train = np.zeros((len(user2idx), len(book2idx))) # 유저수, 책 수\n",
    "_valid = np.zeros((len(user2idx), len(book2idx)))\n",
    "_test = np.zeros((len(user2idx), len(book2idx)))\n"
   ]
  },
  {
   "cell_type": "code",
   "execution_count": 24,
   "metadata": {},
   "outputs": [],
   "source": [
    "def df_to_arr(X: pd.DataFrame, y: pd.Series, arr: np.ndarray) -> np.ndarray:\n",
    "    for i, value in enumerate(X.values):\n",
    "        arr[value[0], value[1]] += y.values[i]\n",
    "\n",
    "    return arr\n",
    "\n",
    "_train = df_to_arr(X_tr, y_tr, _train)\n",
    "_valid = df_to_arr(X_val, y_val, _valid)\n",
    "# 이건 어짜피 0만 집어넣어서 필요없음\n",
    "#_test = df_to_arr(test[['user_id', 'isbn']], test['rating'], _test)"
   ]
  },
  {
   "cell_type": "code",
   "execution_count": 25,
   "metadata": {},
   "outputs": [
    {
     "data": {
      "text/plain": [
       "array([[0., 0., 0., ..., 0., 0., 0.],\n",
       "       [7., 0., 0., ..., 0., 0., 0.],\n",
       "       [0., 0., 0., ..., 0., 0., 0.],\n",
       "       ...,\n",
       "       [0., 0., 0., ..., 0., 0., 0.],\n",
       "       [0., 0., 0., ..., 0., 0., 0.],\n",
       "       [0., 0., 0., ..., 0., 0., 0.]])"
      ]
     },
     "execution_count": 25,
     "metadata": {},
     "output_type": "execute_result"
    }
   ],
   "source": [
    "_train"
   ]
  },
  {
   "cell_type": "code",
   "execution_count": null,
   "metadata": {},
   "outputs": [],
   "source": []
  }
 ],
 "metadata": {
  "kernelspec": {
   "display_name": "Python 3.8.5 ('base')",
   "language": "python",
   "name": "python3"
  },
  "language_info": {
   "codemirror_mode": {
    "name": "ipython",
    "version": 3
   },
   "file_extension": ".py",
   "mimetype": "text/x-python",
   "name": "python",
   "nbconvert_exporter": "python",
   "pygments_lexer": "ipython3",
   "version": "3.8.5"
  },
  "orig_nbformat": 4,
  "vscode": {
   "interpreter": {
    "hash": "d4d1e4263499bec80672ea0156c357c1ee493ec2b1c70f0acce89fc37c4a6abe"
   }
  }
 },
 "nbformat": 4,
 "nbformat_minor": 2
}
