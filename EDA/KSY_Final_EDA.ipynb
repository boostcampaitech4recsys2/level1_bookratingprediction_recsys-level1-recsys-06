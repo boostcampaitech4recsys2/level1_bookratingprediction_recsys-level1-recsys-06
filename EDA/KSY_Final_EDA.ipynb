{
 "cells": [
  {
   "cell_type": "code",
   "execution_count": 58,
   "metadata": {},
   "outputs": [],
   "source": [
    "import pandas as pd\n",
    "import numpy as np\n",
    "import seaborn as sns\n",
    "import matplotlib.pyplot as plt\n",
    "import matplotlib as mpl\n",
    "\n",
    "import warnings\n",
    "warnings.filterwarnings(\"ignore\")"
   ]
  },
  {
   "cell_type": "code",
   "execution_count": 2,
   "metadata": {},
   "outputs": [
    {
     "name": "stdout",
     "output_type": "stream",
     "text": [
      "(68092, 3)\n",
      "(149570, 10)\n",
      "(306795, 3)\n",
      "(76699, 3)\n"
     ]
    }
   ],
   "source": [
    "path = '../data/'\n",
    "\n",
    "users = pd.read_csv(path + 'users.csv')\n",
    "books = pd.read_csv(path + 'books.csv')\n",
    "train = pd.read_csv(path + 'train_ratings.csv')\n",
    "test = pd.read_csv(path + 'test_ratings.csv')\n",
    "print(users.shape)\n",
    "print(books.shape)\n",
    "print(train.shape)\n",
    "print(test.shape)"
   ]
  },
  {
   "cell_type": "markdown",
   "metadata": {},
   "source": [
    "# Train, Test 데이터 탐색"
   ]
  },
  {
   "cell_type": "code",
   "execution_count": 15,
   "metadata": {},
   "outputs": [
    {
     "name": "stdout",
     "output_type": "stream",
     "text": [
      "전체 데이터에 유저는 68069명, 책은 149570개 존재하고 평점 기록은 306795개 존재합니다.\n",
      "유저와 책 간 평점 행렬을 모두 채우려면 10181080330개가 필요합니다.\n",
      "현재 있는 평점 기록은 306795이므로 99.99699%만큼 희소행렬 입니다.\n",
      "유저와 책 수 대비 평점 기록 데이터가 상당히 많이 부족합니다.\n",
      "MF모델이나 딥러닝 모델 적용하기 쉽지 않아보입니다.\n"
     ]
    }
   ],
   "source": [
    "_data = pd.concat([train, test])\n",
    "_user = _data['user_id'].nunique()\n",
    "_book = _data['isbn'].nunique()\n",
    "data_cnt = len(train)\n",
    "\n",
    "_matrix = np.round((1 - data_cnt/(_user*_book)) * 100, 5)\n",
    "\n",
    "print(f'전체 데이터에 유저는 {_user}명, 책은 {_book}개 존재하고 평점 기록은 {data_cnt}개 존재합니다.')\n",
    "print(f'유저와 책 간 평점 행렬을 모두 채우려면 {_user*_book}개가 필요합니다.')\n",
    "print(f'현재 있는 평점 기록은 {data_cnt}이므로 {_matrix}%만큼 희소행렬 입니다.')\n",
    "print('유저와 책 수 대비 평점 기록 데이터가 상당히 많이 부족합니다.')\n",
    "print('MF모델이나 딥러닝 모델 적용하기 쉽지 않아보입니다.')"
   ]
  },
  {
   "cell_type": "code",
   "execution_count": 25,
   "metadata": {},
   "outputs": [
    {
     "name": "stdout",
     "output_type": "stream",
     "text": [
      "트레인 데이터 내 최다 독서 유저 5명의 리스트 입니다.\n",
      "11676     5520\n",
      "98391     4560\n",
      "189835    1503\n",
      "153662    1496\n",
      "23902      956\n",
      "Name: user_id, dtype: int64\n",
      "\n",
      "테스트 데이터 내 최다 독서 유저 5명의 리스트 입니다.\n",
      "11676     1419\n",
      "98391     1125\n",
      "189835     396\n",
      "153662     347\n",
      "23902      223\n",
      "Name: user_id, dtype: int64\n",
      "\n",
      "트레인과 테스트 데이터 구성이 거의 동일한 것으로 보이는데요. 전체 데이터 셋에서 랜덤하게 분류한 것 같습니다.\n",
      "즉, 트레인 데이터의 일부를 valid로 사용한다면 테스트 데이터 환경과 유사하다는 생각을 얻었습니다.\n",
      "시간적 요소를 고려하지 않아 실제 추천시스템 환경과는 거리가 있다는 것을 계속 고려해야겠습니다.\n"
     ]
    }
   ],
   "source": [
    "print('트레인 데이터 내 최다 독서 유저 5명의 리스트 입니다.')\n",
    "print(train['user_id'].value_counts()[:5])\n",
    "print('')\n",
    "print('테스트 데이터 내 최다 독서 유저 5명의 리스트 입니다.')\n",
    "print(test['user_id'].value_counts()[:5])\n",
    "print('')\n",
    "print('트레인과 테스트 데이터 구성이 거의 동일한 것으로 보이는데요. 전체 데이터 셋에서 랜덤하게 분류한 것 같습니다.')\n",
    "print('즉, 트레인 데이터의 일부를 valid로 사용한다면 테스트 데이터 환경과 유사하다는 생각을 얻었습니다.')\n",
    "print('시간적 요소를 고려하지 않아 실제 추천시스템 환경과는 거리가 있다는 것을 계속 고려해야겠습니다.')"
   ]
  },
  {
   "cell_type": "code",
   "execution_count": 28,
   "metadata": {},
   "outputs": [
    {
     "name": "stdout",
     "output_type": "stream",
     "text": [
      "레이팅의 평균 값을 예측에 사용했을 때 RMSE 값은 2.4332 입니다.\n",
      "이 수치는 추천 시스템 모델을 평가할 때에 기준점으로 사용할 수 있습니다.\n"
     ]
    }
   ],
   "source": [
    "def rmse(real: list, predict: list) -> float:\n",
    "    pred = np.array(predict)\n",
    "    return np.sqrt(np.mean((real-pred) ** 2))\n",
    "\n",
    "_rmse = np.round(rmse(train['rating'], train['rating'].mean()),4)\n",
    "\n",
    "print(f'레이팅의 평균 값을 예측에 사용했을 때 RMSE 값은 {_rmse} 입니다.')\n",
    "print('이 수치는 추천 시스템 모델을 평가할 때에 기준점으로 사용할 수 있습니다.')"
   ]
  },
  {
   "cell_type": "markdown",
   "metadata": {},
   "source": [
    "# User 테이블 탐색"
   ]
  },
  {
   "cell_type": "code",
   "execution_count": 27,
   "metadata": {},
   "outputs": [
    {
     "name": "stdout",
     "output_type": "stream",
     "text": [
      "전체 유저 68069명에서 test 테이터 유저 26167명중 train 데이터에 존재하지 않는 유저는 8266명 입니다.\n",
      "즉 cold start 문제가 자주 발생하는 데이터 입니다.\n"
     ]
    }
   ],
   "source": [
    "user_sum = pd.concat([train, test])['user_id'].nunique()\n",
    "test_user = test['user_id'].nunique()\n",
    "test_user_only = len(set(test['user_id']) - set(train['user_id']))\n",
    "print(f'전체 유저 {user_sum}명에서 test 테이터 유저 {test_user}명중 train 데이터에 존재하지 않는 유저는 {test_user_only}명 입니다.')\n",
    "print('즉 cold start 문제가 자주 발생하는 데이터 입니다.')"
   ]
  },
  {
   "cell_type": "code",
   "execution_count": 34,
   "metadata": {},
   "outputs": [
    {
     "name": "stderr",
     "output_type": "stream",
     "text": [
      "/tmp/ipykernel_50971/2697785152.py:1: FutureWarning: The default value of regex will change from True to False in a future version.\n",
      "  users['location'] = users['location'].str.replace(r'[^0-9a-zA-Z:,]', '') # 특수문자 제거\n"
     ]
    },
    {
     "name": "stdout",
     "output_type": "stream",
     "text": [
      "location 변수를 간단히 전처리 하여 city, state, country로 분할했습니다.\n",
      "\n",
      "user_id             68092\n",
      "age                    91\n",
      "location_city       11995\n",
      "location_state       1324\n",
      "location_country      269\n",
      "dtype: int64\n",
      "\n",
      "User 변수 별 항목 개수 입니다.\n"
     ]
    }
   ],
   "source": [
    "users['location'] = users['location'].str.replace(r'[^0-9a-zA-Z:,]', '') # 특수문자 제거\n",
    "\n",
    "users['location_city'] = users['location'].apply(lambda x: x.split(',')[0].strip())\n",
    "users['location_state'] = users['location'].apply(lambda x: x.split(',')[1].strip())\n",
    "users['location_country'] = users['location'].apply(lambda x: x.split(',')[2].strip())\n",
    "\n",
    "users = users.replace('na', np.nan) #특수문자 제거로 n/a가 na로 바뀌게 되었습니다. 따라서 이를 컴퓨터가 인식할 수 있는 결측값으로 변환합니다.\n",
    "users = users.replace('', np.nan) # 일부 경우 , , ,으로 입력된 경우가 있었으므로 이런 경우에도 결측값으로 변환합니다.\n",
    "\n",
    "modify_location = users[(users['location_country'].isna())&(users['location_city'].notnull())]['location_city'].values\n",
    "location = users[(users['location'].str.contains('seattle'))&(users['location_country'].notnull())]['location'].value_counts().index[0]\n",
    "\n",
    "location_list = []\n",
    "for location in modify_location:\n",
    "    try:\n",
    "        right_location = users[(users['location'].str.contains(location))&(users['location_country'].notnull())]['location'].value_counts().index[0]\n",
    "        location_list.append(right_location)\n",
    "    except:\n",
    "        pass\n",
    "\n",
    "for location in location_list:\n",
    "    users.loc[users[users['location_city']==location.split(',')[0]].index,'location_state'] = location.split(',')[1]\n",
    "    users.loc[users[users['location_city']==location.split(',')[0]].index,'location_country'] = location.split(',')[2]\n",
    "\n",
    "loc_city2idx = {v:k for k,v in enumerate(users['location_city'].unique())}\n",
    "loc_state2idx = {v:k for k,v in enumerate(users['location_state'].unique())}\n",
    "loc_country2idx = {v:k for k,v in enumerate(users['location_country'].unique())}\n",
    "\n",
    "users['location_city'] = users['location_city'].map(loc_city2idx)\n",
    "users['location_state'] = users['location_state'].map(loc_state2idx)\n",
    "users['location_country'] = users['location_country'].map(loc_country2idx)\n",
    "\n",
    "print('location 변수를 간단히 전처리 하여 city, state, country로 분할했습니다.')\n",
    "print('')\n",
    "print(users.drop(['location'], axis = 1).nunique())\n",
    "print('')\n",
    "print('User 변수 별 항목 개수 입니다.')"
   ]
  },
  {
   "cell_type": "code",
   "execution_count": 47,
   "metadata": {},
   "outputs": [
    {
     "name": "stdout",
     "output_type": "stream",
     "text": [
      "나이 그룹 별 평점 평균을 알아보겠습니다.\n",
      "\n",
      "0 ~ 10 까지 출판된 책 623 개의 평균 평점은 6.7335 입니다.\n",
      "10 ~ 20 까지 출판된 책 12034 개의 평균 평점은 7.1113 입니다.\n",
      "20 ~ 30 까지 출판된 책 53141 개의 평균 평점은 7.2486 입니다.\n",
      "30 ~ 40 까지 출판된 책 59784 개의 평균 평점은 7.0632 입니다.\n",
      "40 ~ 50 까지 출판된 책 38489 개의 평균 평점은 7.2613 입니다.\n",
      "50 ~ 100 까지 출판된 책 33299 개의 평균 평점은 7.3867 입니다.\n",
      "NULL 나이 책은 92662개로 평균 평점은 6.7354 입니다.\n",
      "\n",
      "나이 그룹 별 평점이 꽤 유의미하게 차이가 납니다.\n"
     ]
    }
   ],
   "source": [
    "print('나이 그룹 별 평점 평균을 알아보겠습니다.')\n",
    "print('')\n",
    "user_rating = pd.merge(train,users, how='right',on='user_id')\n",
    "user_rating.dropna(subset=['rating'], inplace = True)\n",
    "pred = 0\n",
    "for i in [10, 20, 30, 40, 50, 100]:\n",
    "    tem = user_rating['rating'][(user_rating['age'] < i) & (user_rating['age'] > pred)]\n",
    "    _mean = tem.mean()\n",
    "    cnt =  len(tem)\n",
    "    print(f'{pred} ~ {i} 까지 출판된 책 {cnt} 개의 평균 평점은 {np.round(_mean,4)} 입니다.')\n",
    "    pred = i\n",
    "\n",
    "tem = user_rating['rating'][user_rating['age'].isna()]\n",
    "_mean = tem.mean()\n",
    "cnt = tem.count()\n",
    "print(f'NULL 나이 책은 {cnt}개로 평균 평점은 {np.round(_mean,4)} 입니다.')\n",
    "print('')\n",
    "print('나이 그룹 별 평점이 꽤 유의미하게 차이가 납니다.')"
   ]
  },
  {
   "cell_type": "markdown",
   "metadata": {},
   "source": [
    "# Book 테이블 탐색"
   ]
  },
  {
   "cell_type": "code",
   "execution_count": 39,
   "metadata": {},
   "outputs": [
    {
     "name": "stdout",
     "output_type": "stream",
     "text": [
      "<class 'pandas.core.frame.DataFrame'>\n",
      "RangeIndex: 149570 entries, 0 to 149569\n",
      "Data columns (total 10 columns):\n",
      " #   Column               Non-Null Count   Dtype  \n",
      "---  ------               --------------   -----  \n",
      " 0   isbn                 149570 non-null  object \n",
      " 1   book_title           149570 non-null  object \n",
      " 2   book_author          149570 non-null  object \n",
      " 3   year_of_publication  149570 non-null  float64\n",
      " 4   publisher            149570 non-null  object \n",
      " 5   img_url              149570 non-null  object \n",
      " 6   language             82343 non-null   object \n",
      " 7   category             80719 non-null   object \n",
      " 8   summary              82343 non-null   object \n",
      " 9   img_path             149570 non-null  object \n",
      "dtypes: float64(1), object(9)\n",
      "memory usage: 11.4+ MB\n",
      "None\n",
      "\n",
      "language 변수와 category 변수 그리고 summary 변수는 결측값이 약 40%정도 있습니다.\n"
     ]
    }
   ],
   "source": [
    "print(books.info())\n",
    "print('')\n",
    "print('language 변수와 category 변수 그리고 summary 변수는 결측값이 약 40%정도 있습니다.')"
   ]
  },
  {
   "cell_type": "code",
   "execution_count": 48,
   "metadata": {},
   "outputs": [
    {
     "name": "stdout",
     "output_type": "stream",
     "text": [
      "책 출간 연도 그룹 별 평점 평균을 알아보겠습니다.\n",
      "\n",
      "1900 ~ 1970 까지 출판된 책 2469 개의 평균 평점은 7.5055 입니다.\n",
      "1970 ~ 1980 까지 출판된 책 7208 개의 평균 평점은 7.2278 입니다.\n",
      "1980 ~ 1990 까지 출판된 책 36409 개의 평균 평점은 7.0839 입니다.\n",
      "1990 ~ 2000 까지 출판된 책 140308 개의 평균 평점은 7.0004 입니다.\n",
      "2000 ~ 2020 까지 출판된 책 87570 개의 평균 평점은 7.1678 입니다.\n",
      "\n",
      "책 출간 연도 그룹 별 평점이 꽤 유의미하게 차이가 납니다.\n"
     ]
    }
   ],
   "source": [
    "print('책 출간 연도 그룹 별 평점 평균을 알아보겠습니다.')\n",
    "print('')\n",
    "\n",
    "book_rating = pd.merge(train,books, how='right',on='isbn')\n",
    "book_rating.dropna(subset=['rating'], inplace = True)\n",
    "book_rating['year_of_publication'][book_rating['year_of_publication'] < 1900] = 1900\n",
    "pred = 1900\n",
    "for i in [1970, 1980, 1990, 2000, 2020]:\n",
    "    tem = book_rating['rating'][(book_rating['year_of_publication'] < i) & (book_rating['year_of_publication'] > pred)]\n",
    "    _mean = tem.mean()\n",
    "    cnt =  len(tem)\n",
    "    print(f'{pred} ~ {i} 까지 출판된 책 {cnt} 개의 평균 평점은 {np.round(_mean,4)} 입니다.')\n",
    "    pred = i\n",
    "\n",
    "print('')\n",
    "print('책 출간 연도 그룹 별 평점이 꽤 유의미하게 차이가 납니다.')"
   ]
  },
  {
   "cell_type": "code",
   "execution_count": 53,
   "metadata": {},
   "outputs": [
    {
     "name": "stdout",
     "output_type": "stream",
     "text": [
      "책 작성 언어 별 평점 평균 비교입니다.\n",
      "영어로 작성된 책의 평점 평균은 7.0414 입니다.\n",
      "영어로 작성하지 않은 책의 평점 평균은 7.0891 입니다.\n",
      "책 작성 언어가 NULL인 책의 평점 평균은 7.0485 입니다.\n"
     ]
    }
   ],
   "source": [
    "print('책 작성 언어 별 평점 평균 비교입니다.')\n",
    "\n",
    "en_mean = np.round(book_rating['rating'][book_rating['language'] != 'en'].mean(), 4)\n",
    "non_en_mean = np.round(book_rating['rating'][book_rating['language'] == 'en'].mean(), 4)\n",
    "non_mean = np.round(book_rating['rating'][book_rating['language'].isna()].mean(), 4)\n",
    "print(f'영어로 작성된 책의 평점 평균은 {en_mean} 입니다.')\n",
    "print(f'영어로 작성하지 않은 책의 평점 평균은 {non_en_mean} 입니다.')\n",
    "print(f'책 작성 언어가 NULL인 책의 평점 평균은 {non_mean} 입니다.')"
   ]
  },
  {
   "cell_type": "markdown",
   "metadata": {},
   "source": [
    "# 전반적인 데이터 분포"
   ]
  },
  {
   "cell_type": "code",
   "execution_count": 87,
   "metadata": {},
   "outputs": [
    {
     "name": "stdout",
     "output_type": "stream",
     "text": [
      "변수 별로 평점이 기록된 책의 개수를 나타낸 그래프입니다.\n",
      "특별히 많이 추출된 일부 값이 존재하는 것을 알 수 있습니다.\n"
     ]
    },
    {
     "data": {
      "image/png": "[encoded data removed]",
      "text/plain": [
       "<Figure size 1500x700 with 4 Axes>"
      ]
     },
     "metadata": {},
     "output_type": "display_data"
    }
   ],
   "source": [
    "mpl.style.use('ggplot')\n",
    "fig, axes = plt.subplots(2, 2, figsize=(15, 7))\n",
    "\n",
    "axes[0][0].set_title('Top 50 Users To Read Most Books', fontsize=15)\n",
    "axes[0][0].bar(np.arange(1,51,1), user_rating['user_id'].value_counts()[:50], color='royalblue')\n",
    "axes[0][0].get_xaxis().set_visible(False)\n",
    "\n",
    "axes[0][1].set_title('Top 50 location_state Read Books Counts', fontsize=15)\n",
    "axes[0][1].bar(np.arange(1,51,1), user_rating['location_state'].value_counts()[:50], color='royalblue')\n",
    "axes[0][1].get_xaxis().set_visible(False)\n",
    "\n",
    "axes[1][0].set_title('Top 50 book_author Write Books Counts', fontsize=15)\n",
    "axes[1][0].bar(np.arange(1,51,1), book_rating['book_author'].value_counts()[:50], color='royalblue')\n",
    "axes[1][0].get_xaxis().set_visible(False)\n",
    "\n",
    "axes[1][1].set_title('Top 50 publisher Write Books Counts', fontsize=15)\n",
    "axes[1][1].bar(np.arange(1,51,1), book_rating['publisher'].value_counts()[:50], color='royalblue')\n",
    "axes[1][1].get_xaxis().set_visible(False)\n",
    "\n",
    "print('변수 별로 평점이 기록된 책의 개수를 나타낸 그래프입니다.')\n",
    "print('특별히 많이 추출된 일부 값이 존재하는 것을 알 수 있습니다.')"
   ]
  },
  {
   "cell_type": "code",
   "execution_count": null,
   "metadata": {},
   "outputs": [],
   "source": []
  }
 ],
 "metadata": {
  "kernelspec": {
   "display_name": "Python 3.8.5 ('base')",
   "language": "python",
   "name": "python3"
  },
  "language_info": {
   "codemirror_mode": {
    "name": "ipython",
    "version": 3
   },
   "file_extension": ".py",
   "mimetype": "text/x-python",
   "name": "python",
   "nbconvert_exporter": "python",
   "pygments_lexer": "ipython3",
   "version": "3.8.5"
  },
  "orig_nbformat": 4,
  "vscode": {
   "interpreter": {
    "hash": "d4d1e4263499bec80672ea0156c357c1ee493ec2b1c70f0acce89fc37c4a6abe"
   }
  }
 },
 "nbformat": 4,
 "nbformat_minor": 2
}
