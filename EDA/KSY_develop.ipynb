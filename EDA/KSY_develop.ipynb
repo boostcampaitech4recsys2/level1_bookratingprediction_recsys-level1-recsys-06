{
 "cells": [
  {
   "cell_type": "markdown",
   "id": "d5d17da3",
   "metadata": {},
   "source": [
    "# rating 테이블 간단한 EDA"
   ]
  },
  {
   "cell_type": "markdown",
   "id": "3f0d6a43",
   "metadata": {},
   "source": [
    "## 데이터 다운로드"
   ]
  },
  {
   "cell_type": "code",
   "execution_count": 3,
   "id": "85bfaa4d-ef76-4cb0-95d8-7c69ef886126",
   "metadata": {},
   "outputs": [],
   "source": [
    "import pandas as pd\n",
    "import numpy as np\n",
    "import seaborn as sns\n",
    "import matplotlib.pyplot as plt\n",
    "\n",
    "import warnings\n",
    "warnings.filterwarnings(\"ignore\")\n",
    "\n",
    "pd.set_option('display.max_row', 50)"
   ]
  },
  {
   "cell_type": "code",
   "execution_count": 8,
   "id": "59e4daf1",
   "metadata": {},
   "outputs": [
    {
     "name": "stdout",
     "output_type": "stream",
     "text": [
      "(306795, 3)\n",
      "(76699, 3)\n"
     ]
    }
   ],
   "source": [
    "train = pd.read_csv('../data/train_ratings.csv')\n",
    "test = pd.read_csv('../data/test_ratings.csv')\n",
    "print(train.shape)\n",
    "print(test.shape)"
   ]
  },
  {
   "cell_type": "code",
   "execution_count": 3,
   "id": "65a98cca",
   "metadata": {},
   "outputs": [],
   "source": [
    "train_counts = train.groupby('user_id')['rating'].count().sort_values(ascending=False)\n",
    "test_counts = test.groupby('user_id')['rating'].count().sort_values(ascending=False)"
   ]
  },
  {
   "cell_type": "markdown",
   "id": "db15f403",
   "metadata": {},
   "source": [
    "## rating 관해서"
   ]
  },
  {
   "cell_type": "code",
   "execution_count": 4,
   "id": "ad43c6bb",
   "metadata": {},
   "outputs": [
    {
     "name": "stdout",
     "output_type": "stream",
     "text": [
      "59803\n",
      "26167\n"
     ]
    }
   ],
   "source": [
    "print(len(train_counts))\n",
    "print(len(test_counts))"
   ]
  },
  {
   "cell_type": "markdown",
   "id": "61432056",
   "metadata": {},
   "source": [
    "train 데이터 사용자는 약 6만명, test 데이터 사용자는 약 2만 6천명 입니다."
   ]
  },
  {
   "cell_type": "code",
   "execution_count": 5,
   "id": "3c7ca020",
   "metadata": {},
   "outputs": [
    {
     "data": {
      "text/plain": [
       "8266"
      ]
     },
     "execution_count": 5,
     "metadata": {},
     "output_type": "execute_result"
    }
   ],
   "source": [
    "len(set(test['user_id']) - set(train['user_id']))"
   ]
  },
  {
   "cell_type": "markdown",
   "id": "18cc36ef",
   "metadata": {},
   "source": [
    "test 데이터 약 2만 6천명 중 8천명 정도는 train 내 없는 데이터 입니다.\n",
    "\n",
    "좋은 모델을 위해선 cold start에 대한 대비가 필요합니다. "
   ]
  },
  {
   "cell_type": "markdown",
   "id": "7bbaa18d",
   "metadata": {},
   "source": [
    "다음으로 한 유저가 몇 권의 책을 읽는지 알아봅시다."
   ]
  },
  {
   "cell_type": "code",
   "execution_count": 6,
   "id": "39e3de4a",
   "metadata": {},
   "outputs": [
    {
     "data": {
      "text/plain": [
       "user_id\n",
       "11676     5520\n",
       "98391     4560\n",
       "189835    1503\n",
       "153662    1496\n",
       "23902      956\n",
       "235105     812\n",
       "76499      810\n",
       "171118     771\n",
       "16795      760\n",
       "248718     747\n",
       "Name: rating, dtype: int64"
      ]
     },
     "execution_count": 6,
     "metadata": {},
     "output_type": "execute_result"
    }
   ],
   "source": [
    "train_counts[:10]"
   ]
  },
  {
   "cell_type": "markdown",
   "id": "972bfdf7",
   "metadata": {},
   "source": [
    "11676, 98391 두 사용자가 압도적인 독서량을 보입니다."
   ]
  },
  {
   "cell_type": "code",
   "execution_count": 7,
   "id": "3a3ee11b",
   "metadata": {},
   "outputs": [
    {
     "data": {
      "text/plain": [
       "user_id\n",
       "11676     1419\n",
       "98391     1125\n",
       "189835     396\n",
       "153662     347\n",
       "23902      223\n",
       "235105     208\n",
       "76499      201\n",
       "16795      198\n",
       "248718     194\n",
       "171118     189\n",
       "Name: rating, dtype: int64"
      ]
     },
     "execution_count": 7,
     "metadata": {},
     "output_type": "execute_result"
    }
   ],
   "source": [
    "test_counts[:10]"
   ]
  },
  {
   "cell_type": "markdown",
   "id": "ba7ddfc9",
   "metadata": {},
   "source": [
    "테스트 데이터도 train 데이터와 비슷한 사용자가 독서를 많이하는 경향을 보입니다.\n",
    "\n",
    "이것으로 볼 때 train과 test는 시간 등의 기준 요소 없이 단순히 분할 되었음을 알 수 있습니다.\n",
    "\n",
    "실제로 valid 데이터 셋을 만들 때 단순히 분할해도 큰 문제가 없을 것 같아요."
   ]
  },
  {
   "cell_type": "code",
   "execution_count": 8,
   "id": "850fa9a0",
   "metadata": {},
   "outputs": [
    {
     "data": {
      "text/plain": [
       "<AxesSubplot:>"
      ]
     },
     "execution_count": 8,
     "metadata": {},
     "output_type": "execute_result"
    },
    {
     "data": {
      "image/png": "[encoded data removed]",
      "text/plain": [
       "<Figure size 640x480 with 1 Axes>"
      ]
     },
     "metadata": {},
     "output_type": "display_data"
    }
   ],
   "source": [
    "train_counts[20:].hist()"
   ]
  },
  {
   "cell_type": "markdown",
   "id": "edd0bc5a",
   "metadata": {},
   "source": [
    "책을 극단적으로 많이 읽은 일부 인원을 제외한 분포입니다.\n",
    "\n",
    "역시 대부분에 인원은 50권 이상 책을 읽긴 힘들군요. 당연한 결과입니다."
   ]
  },
  {
   "cell_type": "code",
   "execution_count": 9,
   "id": "78a5c991",
   "metadata": {},
   "outputs": [
    {
     "name": "stdout",
     "output_type": "stream",
     "text": [
      "책을 5권 이하로 읽은 사람의 비율은 82.1 입니다.\n"
     ]
    }
   ],
   "source": [
    "n = 5\n",
    "_ratio = np.round(len(train_counts[train_counts < n]) / len(train_counts), 3) * 100\n",
    "print(f'책을 {n}권 이하로 읽은 사람의 비율은 {_ratio} 입니다.')"
   ]
  },
  {
   "cell_type": "markdown",
   "id": "83f4eeea",
   "metadata": {},
   "source": [
    "조금 더 상세한 수치를 알 수 있는 코드입니다. 대부분 인원은 책을 몇권 안 읽었습니다."
   ]
  },
  {
   "cell_type": "markdown",
   "id": "17288fdb",
   "metadata": {},
   "source": [
    "## 책에 관해서"
   ]
  },
  {
   "cell_type": "code",
   "execution_count": 4,
   "id": "6e72eb1f",
   "metadata": {},
   "outputs": [
    {
     "data": {
      "text/html": [
       "<div>\n",
       "<style scoped>\n",
       "    .dataframe tbody tr th:only-of-type {\n",
       "        vertical-align: middle;\n",
       "    }\n",
       "\n",
       "    .dataframe tbody tr th {\n",
       "        vertical-align: top;\n",
       "    }\n",
       "\n",
       "    .dataframe thead th {\n",
       "        text-align: right;\n",
       "    }\n",
       "</style>\n",
       "<table border=\"1\" class=\"dataframe\">\n",
       "  <thead>\n",
       "    <tr style=\"text-align: right;\">\n",
       "      <th></th>\n",
       "      <th>isbn</th>\n",
       "      <th>book_title</th>\n",
       "      <th>book_author</th>\n",
       "      <th>year_of_publication</th>\n",
       "      <th>publisher</th>\n",
       "      <th>language</th>\n",
       "      <th>category</th>\n",
       "      <th>summary</th>\n",
       "    </tr>\n",
       "  </thead>\n",
       "  <tbody>\n",
       "    <tr>\n",
       "      <th>10794</th>\n",
       "      <td>0679723285</td>\n",
       "      <td>China Men (Vintage International (Paperback))</td>\n",
       "      <td>MAXINE HONG KINGSTON</td>\n",
       "      <td>1989.0</td>\n",
       "      <td>Vintage</td>\n",
       "      <td>en</td>\n",
       "      <td>['History']</td>\n",
       "      <td>The author chronicles the lives of three gener...</td>\n",
       "    </tr>\n",
       "    <tr>\n",
       "      <th>37849</th>\n",
       "      <td>0449909735</td>\n",
       "      <td>Dave Barry Is Not Making This Up</td>\n",
       "      <td>Dave Barry</td>\n",
       "      <td>1995.0</td>\n",
       "      <td>Ballantine Books</td>\n",
       "      <td>en</td>\n",
       "      <td>['Humor']</td>\n",
       "      <td>THE NEW YORK TIMES BESTSELLER YOU CAN&amp;#39;T MA...</td>\n",
       "    </tr>\n",
       "    <tr>\n",
       "      <th>139429</th>\n",
       "      <td>1573245097</td>\n",
       "      <td>The Art of Pilgrimage: The Seeker's Guide to M...</td>\n",
       "      <td>Phil Cousineau</td>\n",
       "      <td>2000.0</td>\n",
       "      <td>Conari Press</td>\n",
       "      <td>NaN</td>\n",
       "      <td>NaN</td>\n",
       "      <td>NaN</td>\n",
       "    </tr>\n",
       "    <tr>\n",
       "      <th>91019</th>\n",
       "      <td>0876859147</td>\n",
       "      <td>Screams from the Balcony: Selected Letters 196...</td>\n",
       "      <td>Charles Bukowski</td>\n",
       "      <td>1993.0</td>\n",
       "      <td>Ecco</td>\n",
       "      <td>en</td>\n",
       "      <td>['Fiction']</td>\n",
       "      <td>Screams from the Balcony is a collection of le...</td>\n",
       "    </tr>\n",
       "    <tr>\n",
       "      <th>89472</th>\n",
       "      <td>0393314030</td>\n",
       "      <td>The Freud Reader</td>\n",
       "      <td>Sigmund Freud</td>\n",
       "      <td>1995.0</td>\n",
       "      <td>W. W. Norton &amp; Company</td>\n",
       "      <td>en</td>\n",
       "      <td>['Psychology']</td>\n",
       "      <td>Provides fifty-one texts spanning Freud&amp;#39;s ...</td>\n",
       "    </tr>\n",
       "  </tbody>\n",
       "</table>\n",
       "</div>"
      ],
      "text/plain": [
       "              isbn                                         book_title  \\\n",
       "10794   0679723285      China Men (Vintage International (Paperback))   \n",
       "37849   0449909735                   Dave Barry Is Not Making This Up   \n",
       "139429  1573245097  The Art of Pilgrimage: The Seeker's Guide to M...   \n",
       "91019   0876859147  Screams from the Balcony: Selected Letters 196...   \n",
       "89472   0393314030                                   The Freud Reader   \n",
       "\n",
       "                 book_author  year_of_publication               publisher  \\\n",
       "10794   MAXINE HONG KINGSTON               1989.0                 Vintage   \n",
       "37849             Dave Barry               1995.0        Ballantine Books   \n",
       "139429        Phil Cousineau               2000.0            Conari Press   \n",
       "91019       Charles Bukowski               1993.0                    Ecco   \n",
       "89472          Sigmund Freud               1995.0  W. W. Norton & Company   \n",
       "\n",
       "       language        category  \\\n",
       "10794        en     ['History']   \n",
       "37849        en       ['Humor']   \n",
       "139429      NaN             NaN   \n",
       "91019        en     ['Fiction']   \n",
       "89472        en  ['Psychology']   \n",
       "\n",
       "                                                  summary  \n",
       "10794   The author chronicles the lives of three gener...  \n",
       "37849   THE NEW YORK TIMES BESTSELLER YOU CAN&#39;T MA...  \n",
       "139429                                                NaN  \n",
       "91019   Screams from the Balcony is a collection of le...  \n",
       "89472   Provides fifty-one texts spanning Freud&#39;s ...  "
      ]
     },
     "execution_count": 4,
     "metadata": {},
     "output_type": "execute_result"
    }
   ],
   "source": [
    "books = pd.read_csv('../data/books.csv')\n",
    "books.drop(['img_url', 'img_path'], axis = 1, inplace = True)\n",
    "books.sample(5)"
   ]
  },
  {
   "cell_type": "code",
   "execution_count": 90,
   "id": "0af3e22d",
   "metadata": {},
   "outputs": [
    {
     "name": "stdout",
     "output_type": "stream",
     "text": [
      "<class 'pandas.core.frame.DataFrame'>\n",
      "RangeIndex: 149570 entries, 0 to 149569\n",
      "Data columns (total 8 columns):\n",
      " #   Column               Non-Null Count   Dtype  \n",
      "---  ------               --------------   -----  \n",
      " 0   isbn                 149570 non-null  object \n",
      " 1   book_title           149570 non-null  object \n",
      " 2   book_author          149570 non-null  object \n",
      " 3   year_of_publication  149570 non-null  float64\n",
      " 4   publisher            149570 non-null  object \n",
      " 5   language             82343 non-null   object \n",
      " 6   category             80719 non-null   object \n",
      " 7   summary              82343 non-null   object \n",
      "dtypes: float64(1), object(7)\n",
      "memory usage: 9.1+ MB\n"
     ]
    }
   ],
   "source": [
    "books.info()"
   ]
  },
  {
   "cell_type": "markdown",
   "id": "a6d8da74",
   "metadata": {},
   "source": [
    "### 작가"
   ]
  },
  {
   "cell_type": "code",
   "execution_count": 91,
   "id": "95a3a4cf",
   "metadata": {},
   "outputs": [
    {
     "name": "stdout",
     "output_type": "stream",
     "text": [
      "작가의 수 : 62059\n",
      "1권 이상 집필한 작가의 수 : 19029\n"
     ]
    }
   ],
   "source": [
    "n = 1\n",
    "print('작가의 수 :', books['book_author'].nunique())\n",
    "books_authors = books.groupby('book_author')['isbn'].count().sort_values(ascending=False)\n",
    "print(f'{n}권 이상 집필한 작가의 수 :', len(books_authors[books_authors > n]))\n",
    "# 1권 쓴 작가들은 어떻게 할까??.."
   ]
  },
  {
   "cell_type": "markdown",
   "id": "a565cfe4",
   "metadata": {},
   "source": [
    "### 출판사"
   ]
  },
  {
   "cell_type": "markdown",
   "id": "c4d5b226",
   "metadata": {},
   "source": [
    "![image](https://user-images.githubusercontent.com/79916736/197498312-c2e08d6c-262f-4ae3-bcad-d985f967cf3b.png)\n"
   ]
  },
  {
   "cell_type": "code",
   "execution_count": 92,
   "id": "a168ba1d",
   "metadata": {},
   "outputs": [
    {
     "name": "stdout",
     "output_type": "stream",
     "text": [
      "출판사의 수 : 11571\n",
      "1권 이상 집필한 출판사의 수 : 6295\n"
     ]
    }
   ],
   "source": [
    "n = 1\n",
    "print('출판사의 수 :', books['publisher'].nunique())\n",
    "books_publishers = books.groupby('publisher')['isbn'].count().sort_values(ascending=False)\n",
    "print(f'{n}권 이상 집필한 출판사의 수 :', len(books_publishers[books_publishers == n]))\n",
    "# 1권 출판한 출판사는 좀.."
   ]
  },
  {
   "cell_type": "code",
   "execution_count": 93,
   "id": "1433b0b3",
   "metadata": {},
   "outputs": [
    {
     "data": {
      "text/plain": [
       "{'Harlequin',\n",
       " 'Harlequin Audio',\n",
       " 'Harlequin Books',\n",
       " 'Harlequin Enterprises',\n",
       " 'Harlequin Enterprises Limited',\n",
       " 'Harlequin Mills & Boon Ltd',\n",
       " 'Harlequin Romance',\n",
       " 'Harlequin Sales Corp',\n",
       " 'Harlequin Sales Corp (Mm)'}"
      ]
     },
     "execution_count": 93,
     "metadata": {},
     "output_type": "execute_result"
    }
   ],
   "source": [
    "tem = books[books['publisher'].str.contains('Harlequin')]\n",
    "\n",
    "# tem_num = set(tem['isbn'])\n",
    "# train_t = train[(train['user_id'] == 11676)]\n",
    "# train_t = train_t[train_t['isbn'].isin(tem_num)]\n",
    "# train_t['rating'].value_counts()\n",
    "\n",
    "set(tem['publisher'])"
   ]
  },
  {
   "cell_type": "code",
   "execution_count": 94,
   "id": "2a615bca",
   "metadata": {},
   "outputs": [
    {
     "data": {
      "text/plain": [
       "publisher\n",
       "Harlequin                   3005\n",
       "Ballantine Books            2322\n",
       "Pocket                      2274\n",
       "Penguin Books               1943\n",
       "Bantam Books                1938\n",
       "Berkley Publishing Group    1754\n",
       "Silhouette                  1684\n",
       "Warner Books                1667\n",
       "Scholastic                  1586\n",
       "Simon & Schuster            1578\n",
       "Name: isbn, dtype: int64"
      ]
     },
     "execution_count": 94,
     "metadata": {},
     "output_type": "execute_result"
    }
   ],
   "source": [
    "books_publishers[:10]"
   ]
  },
  {
   "cell_type": "code",
   "execution_count": 95,
   "id": "f1ebc64f",
   "metadata": {},
   "outputs": [
    {
     "name": "stdout",
     "output_type": "stream",
     "text": [
      "출판사의 수 : 10267\n",
      "10권 이상 집필한 출판사의 수 : 1216\n"
     ]
    }
   ],
   "source": [
    "for i in books_publishers[books_publishers > 20].index:\n",
    "    books['publisher'][books['publisher'].str.contains(i)] = i\n",
    "\n",
    "books.to_csv(\"../data/books_ksy.csv\", index = False)\n",
    "\n",
    "n = 10\n",
    "print('출판사의 수 :', books['publisher'].nunique())\n",
    "books_publishers = books.groupby('publisher')['isbn'].count().sort_values(ascending=False)\n",
    "print(f'{n}권 이상 집필한 출판사의 수 :', len(books_publishers[books_publishers >= n]))"
   ]
  },
  {
   "cell_type": "code",
   "execution_count": 96,
   "id": "8cfa4155",
   "metadata": {},
   "outputs": [
    {
     "data": {
      "text/plain": [
       "publisher\n",
       "Penguin                     4640\n",
       "Bantam                      4514\n",
       "Random House                3513\n",
       "Harlequin                   3157\n",
       "Pocket                      2845\n",
       "Scholastic                  2570\n",
       "Ballantine Books            2348\n",
       "Warner Books                2080\n",
       "Simon & Schuster            2011\n",
       "Berkley Publishing Group    1755\n",
       "Name: isbn, dtype: int64"
      ]
     },
     "execution_count": 96,
     "metadata": {},
     "output_type": "execute_result"
    }
   ],
   "source": [
    "books_publishers[:10]"
   ]
  },
  {
   "cell_type": "code",
   "execution_count": 97,
   "id": "1c9c3167",
   "metadata": {},
   "outputs": [
    {
     "data": {
      "text/plain": [
       "publisher\n",
       "Raintree                         4\n",
       "DaCapo Press                     4\n",
       "Dearborn Financial Publishing    4\n",
       "Scepter Pubs                     4\n",
       "Soho Crime                       4\n",
       "                                ..\n",
       "ICS Press                        1\n",
       "IAS Training                     1\n",
       "IANA                             1\n",
       "I.P.A.C.S.                       1\n",
       "Ã?lbaum                          1\n",
       "Name: isbn, Length: 8169, dtype: int64"
      ]
     },
     "execution_count": 97,
     "metadata": {},
     "output_type": "execute_result"
    }
   ],
   "source": [
    "books_publishers[books_publishers < 5]\n",
    "# 약 8천개의 출판사들 정리가 필요할듯?"
   ]
  },
  {
   "cell_type": "markdown",
   "id": "5bda8210",
   "metadata": {},
   "source": [
    "### 출판연도"
   ]
  },
  {
   "cell_type": "code",
   "execution_count": 5,
   "id": "ebfac9fb",
   "metadata": {},
   "outputs": [
    {
     "data": {
      "text/plain": [
       "2002.0    11669\n",
       "2001.0    11020\n",
       "1999.0    10480\n",
       "2000.0    10391\n",
       "2003.0     9430\n",
       "          ...  \n",
       "1378.0        1\n",
       "1900.0        1\n",
       "2006.0        1\n",
       "1926.0        1\n",
       "1934.0        1\n",
       "Name: year_of_publication, Length: 95, dtype: int64"
      ]
     },
     "execution_count": 5,
     "metadata": {},
     "output_type": "execute_result"
    }
   ],
   "source": [
    "books['year_of_publication'].value_counts()\n",
    "# 쓰여진 연도가 총 95개. 일부 이상한 연도는 수작업으로 가능할듯(1378년?)\n",
    "# 다만 연도가 평점과 상관이 있을까??"
   ]
  },
  {
   "cell_type": "code",
   "execution_count": 6,
   "id": "87aaf9fa",
   "metadata": {},
   "outputs": [
    {
     "data": {
      "text/plain": [
       "121860    1376.0\n",
       "104259    1378.0\n",
       "129205    1806.0\n",
       "97563     1900.0\n",
       "132721    1901.0\n",
       "           ...  \n",
       "55618     2005.0\n",
       "92507     2005.0\n",
       "104529    2005.0\n",
       "79497     2005.0\n",
       "81822     2006.0\n",
       "Name: year_of_publication, Length: 149570, dtype: float64"
      ]
     },
     "execution_count": 6,
     "metadata": {},
     "output_type": "execute_result"
    }
   ],
   "source": [
    "books['year_of_publication'].sort_values(ascending=True)"
   ]
  },
  {
   "cell_type": "code",
   "execution_count": 9,
   "id": "92650405",
   "metadata": {},
   "outputs": [
    {
     "data": {
      "text/plain": [
       "<matplotlib.collections.PathCollection at 0x7efdfa310af0>"
      ]
     },
     "execution_count": 9,
     "metadata": {},
     "output_type": "execute_result"
    },
    {
     "data": {
      "image/png": "[encoded data removed]",
      "text/plain": [
       "<Figure size 640x480 with 1 Axes>"
      ]
     },
     "metadata": {},
     "output_type": "display_data"
    }
   ],
   "source": [
    "# 평점과 출판연도간 상관관계를 알아보려고 함\n",
    "book_rating = pd.merge(train,books, how='right',on='isbn')\n",
    "book_rating.dropna(subset=['rating'], inplace = True)\n",
    "book_rating['year_of_publication'][book_rating['year_of_publication'] < 1900] = 1900\n",
    "plt.scatter(book_rating['year_of_publication'], book_rating['rating'])\n",
    "# 산점도로는 보기 힘든데 더 좋은 시각화 방법이 있으면 공유 부탁"
   ]
  },
  {
   "cell_type": "code",
   "execution_count": 10,
   "id": "f1b27a37",
   "metadata": {},
   "outputs": [
    {
     "data": {
      "text/plain": [
       "-0.004389969335149862"
      ]
     },
     "execution_count": 10,
     "metadata": {},
     "output_type": "execute_result"
    }
   ],
   "source": [
    "book_rating['year_of_publication'].corr(book_rating['rating'])"
   ]
  },
  {
   "cell_type": "code",
   "execution_count": 13,
   "id": "f169bdbc",
   "metadata": {},
   "outputs": [
    {
     "name": "stdout",
     "output_type": "stream",
     "text": [
      "1900 ~ 1970 까지 출판된 책 2469 개의 평균 평점은 7.50546780072904 입니다.\n",
      "1970 ~ 1980 까지 출판된 책 7208 개의 평균 평점은 7.227802441731409 입니다.\n",
      "1980 ~ 1990 까지 출판된 책 36409 개의 평균 평점은 7.0839352907248205 입니다.\n",
      "1990 ~ 2000 까지 출판된 책 140308 개의 평균 평점은 7.000356358867634 입니다.\n",
      "2000 ~ 2020 까지 출판된 책 87570 개의 평균 평점은 7.167842868562293 입니다.\n"
     ]
    }
   ],
   "source": [
    "pred = 1900\n",
    "for i in [1970, 1980, 1990, 2000, 2020]:\n",
    "    tem = book_rating['rating'][(book_rating['year_of_publication'] < i) & (book_rating['year_of_publication'] > pred)]\n",
    "    _mean = tem.mean()\n",
    "    cnt =  len(tem)\n",
    "    print(f'{pred} ~ {i} 까지 출판된 책 {cnt} 개의 평균 평점은 {_mean} 입니다.')\n",
    "    pred = i\n",
    "# 20년 단위로 이정도 분할하는건 약간의 효과가 있을수도.\n",
    "# 대부분의 책은 1980년 이후에 쓰였음을 알 수 있음."
   ]
  },
  {
   "cell_type": "markdown",
   "id": "6fa48410",
   "metadata": {},
   "source": [
    "### 책 언어"
   ]
  },
  {
   "cell_type": "code",
   "execution_count": 103,
   "id": "980d3ba1",
   "metadata": {},
   "outputs": [
    {
     "data": {
      "text/plain": [
       "en       182282\n",
       "de         2226\n",
       "es         1486\n",
       "fr         1175\n",
       "it          296\n",
       "nl           81\n",
       "pt           56\n",
       "da           43\n",
       "ca           23\n",
       "ms           10\n",
       "ru           10\n",
       "no            5\n",
       "zh-CN         3\n",
       "ja            3\n",
       "la            3\n",
       "el            1\n",
       "ro            1\n",
       "fa            1\n",
       "eo            1\n",
       "ga            1\n",
       "vi            1\n",
       "zh-TW         1\n",
       "ko            1\n",
       "gl            1\n",
       "Name: language, dtype: int64"
      ]
     },
     "execution_count": 103,
     "metadata": {},
     "output_type": "execute_result"
    }
   ],
   "source": [
    "book_rating['language'].value_counts() # 대부분 영어?"
   ]
  },
  {
   "cell_type": "code",
   "execution_count": 104,
   "id": "3e24fcf6",
   "metadata": {},
   "outputs": [
    {
     "data": {
      "text/plain": [
       "7.0413932681728015"
      ]
     },
     "execution_count": 104,
     "metadata": {},
     "output_type": "execute_result"
    }
   ],
   "source": [
    "book_rating['rating'][book_rating['language'] != 'en'].mean()\n",
    "# 영어 아닐때"
   ]
  },
  {
   "cell_type": "code",
   "execution_count": 105,
   "id": "087b3b27",
   "metadata": {},
   "outputs": [
    {
     "data": {
      "text/plain": [
       "7.089059808428698"
      ]
     },
     "execution_count": 105,
     "metadata": {},
     "output_type": "execute_result"
    }
   ],
   "source": [
    "book_rating['rating'][book_rating['language'] == 'en'].mean()\n",
    "# 영어 일때"
   ]
  },
  {
   "cell_type": "code",
   "execution_count": 106,
   "id": "4ec5be9e",
   "metadata": {},
   "outputs": [
    {
     "data": {
      "text/plain": [
       "7.048545564475496"
      ]
     },
     "execution_count": 106,
     "metadata": {},
     "output_type": "execute_result"
    }
   ],
   "source": [
    "book_rating['rating'][book_rating['language'].isna()].mean()\n",
    "# null 일때"
   ]
  },
  {
   "cell_type": "code",
   "execution_count": 122,
   "id": "d2f5e47c",
   "metadata": {},
   "outputs": [
    {
     "data": {
      "text/plain": [
       "language\n",
       "en       182282\n",
       "de         2226\n",
       "es         1486\n",
       "fr         1175\n",
       "it          296\n",
       "nl           81\n",
       "pt           56\n",
       "da           43\n",
       "ca           23\n",
       "ru           10\n",
       "ms           10\n",
       "no            5\n",
       "la            3\n",
       "zh-CN         3\n",
       "ja            3\n",
       "ko            1\n",
       "gl            1\n",
       "ga            1\n",
       "fa            1\n",
       "ro            1\n",
       "eo            1\n",
       "vi            1\n",
       "el            1\n",
       "zh-TW         1\n",
       "Name: rating, dtype: int64"
      ]
     },
     "execution_count": 122,
     "metadata": {},
     "output_type": "execute_result"
    }
   ],
   "source": [
    "book_rating.groupby('language')['rating'].count().sort_values(ascending=False)"
   ]
  },
  {
   "cell_type": "code",
   "execution_count": 123,
   "id": "26d7bb23",
   "metadata": {},
   "outputs": [
    {
     "name": "stdout",
     "output_type": "stream",
     "text": [
      "책 전체 평균 평점은 7.069714304340032\n",
      "en 언어 책은 182282개로 평균 평점은 7.089059808428698\n",
      "de 언어 책은 2226개로 평균 평점은 6.662623539982031\n",
      "es 언어 책은 1486개로 평균 평점은 6.917900403768506\n",
      "fr 언어 책은 1175개로 평균 평점은 7.12\n",
      "it 언어 책은 296개로 평균 평점은 7.398648648648648\n",
      "nl 언어 책은 81개로 평균 평점은 6.061728395061729\n",
      "pt 언어 책은 56개로 평균 평점은 7.767857142857143\n",
      "da 언어 책은 43개로 평균 평점은 7.674418604651163\n",
      "ca 언어 책은 23개로 평균 평점은 6.130434782608695\n",
      "ru 언어 책은 10개로 평균 평점은 8.0\n",
      "ms 언어 책은 10개로 평균 평점은 6.2\n",
      "no 언어 책은 5개로 평균 평점은 5.2\n",
      "la 언어 책은 3개로 평균 평점은 8.666666666666666\n",
      "zh-CN 언어 책은 3개로 평균 평점은 8.666666666666666\n",
      "ja 언어 책은 3개로 평균 평점은 7.0\n",
      "ko 언어 책은 1개로 평균 평점은 7.0\n",
      "gl 언어 책은 1개로 평균 평점은 7.0\n",
      "ga 언어 책은 1개로 평균 평점은 7.0\n",
      "fa 언어 책은 1개로 평균 평점은 10.0\n",
      "ro 언어 책은 1개로 평균 평점은 9.0\n",
      "eo 언어 책은 1개로 평균 평점은 8.0\n",
      "vi 언어 책은 1개로 평균 평점은 8.0\n",
      "el 언어 책은 1개로 평균 평점은 6.0\n",
      "zh-TW 언어 책은 1개로 평균 평점은 9.0\n",
      "NULL 언어 책은 119084개로 평균 평점은 7.048545564475496\n"
     ]
    }
   ],
   "source": [
    "print('책 전체 평균 평점은', book_rating['rating'].mean())\n",
    "for i in book_rating.groupby('language')['rating'].count().sort_values(ascending=False).index:\n",
    "    tem = book_rating['rating'][book_rating['language'] == i]\n",
    "    _mean = tem.mean()\n",
    "    cnt = tem.count()\n",
    "    print(f'{i} 언어 책은 {cnt}개로 평균 평점은 {_mean}')\n",
    "\n",
    "tem = book_rating['rating'][book_rating['language'].isna()]\n",
    "_mean = tem.mean()\n",
    "cnt = tem.count()\n",
    "print(f'NULL 언어 책은 {cnt}개로 평균 평점은 {_mean}')"
   ]
  },
  {
   "cell_type": "markdown",
   "id": "e808c176",
   "metadata": {},
   "source": [
    "### 카테고리"
   ]
  },
  {
   "cell_type": "code",
   "execution_count": 108,
   "id": "b32e7ac7",
   "metadata": {},
   "outputs": [],
   "source": [
    "import re\n",
    "books.loc[books[books['category'].notnull()].index, 'category'] = books[books['category'].notnull()]['category'].apply(lambda x: re.sub('[\\W_]+',' ',x).strip())\n",
    "# 미션 1 코드 사용, 대괄호 밖으로 빼는 과정."
   ]
  },
  {
   "cell_type": "code",
   "execution_count": 109,
   "id": "b822360a",
   "metadata": {},
   "outputs": [
    {
     "data": {
      "text/plain": [
       "fiction                                            33016\n",
       "juvenile fiction                                    5835\n",
       "biography autobiography                             3326\n",
       "history                                             1927\n",
       "religion                                            1818\n",
       "                                                   ...  \n",
       "brenner simon fictitious character                     1\n",
       "gone with the wind motion picture 1939                 1\n",
       "disguise                                               1\n",
       "country lawyers                                        1\n",
       "authors canadian english 20th century biography        1\n",
       "Name: category, Length: 4105, dtype: int64"
      ]
     },
     "execution_count": 109,
     "metadata": {},
     "output_type": "execute_result"
    }
   ],
   "source": [
    "books['category'] = books['category'].str.lower()\n",
    "books['category'].value_counts()"
   ]
  },
  {
   "cell_type": "code",
   "execution_count": 125,
   "id": "c7cbd4f0",
   "metadata": {},
   "outputs": [],
   "source": [
    "categories = ['garden','crafts','physics','adventure','music','fiction','nonfiction','science','science fiction','social','homicide',\n",
    " 'sociology','disease','religion','christian','philosophy','psycholog','mathemat','agricult','environmental',\n",
    " 'business','poetry','drama','literary','travel','motion picture','children','cook','literature','electronic',\n",
    " 'humor','animal','bird','photograph','computer','house','ecology','family','architect','camp','criminal','language','india']\n",
    "\n",
    "books['category_high'] = books['category'].copy()\n",
    "for category in categories:\n",
    "    books.loc[books[books['category'].str.contains(category,na=False)].index,'category_high'] = category"
   ]
  },
  {
   "cell_type": "code",
   "execution_count": 126,
   "id": "dcb6da57",
   "metadata": {},
   "outputs": [
    {
     "name": "stdout",
     "output_type": "stream",
     "text": [
      "4105\n",
      "415\n"
     ]
    }
   ],
   "source": [
    "category_high_df = pd.DataFrame(books['category_high'].value_counts()).reset_index()\n",
    "category_high_df.columns = ['category','count']\n",
    "others_list = category_high_df[category_high_df['count']<5]['category'].values\n",
    "books.loc[books[books['category_high'].isin(others_list)].index, 'category_high']='others'\n",
    "print(books['category'].nunique())\n",
    "print(books['category_high'].nunique())"
   ]
  },
  {
   "cell_type": "code",
   "execution_count": 127,
   "id": "271a1385",
   "metadata": {},
   "outputs": [
    {
     "name": "stdout",
     "output_type": "stream",
     "text": [
      "책 전체 평균 평점은 7.069714304340032\n",
      "fiction 언어 책은 122890개로 평균 평점은 7.036463503946619\n",
      "biography autobiography 언어 책은 7693개로 평균 평점은 7.244248017678409\n",
      "others 언어 책은 6023개로 평균 평점은 6.96397144280259\n",
      "humor 언어 책은 3378개로 평균 평점은 7.3303730017761985\n",
      "history 언어 책은 2740개로 평균 평점은 7.290875912408759\n",
      "religion 언어 책은 2408개로 평균 평점은 7.399086378737541\n",
      "body mind spirit 언어 책은 1738개로 평균 평점은 7.2025316455696204\n",
      "social 언어 책은 1682개로 평균 평점은 7.033293697978597\n",
      "nonfiction 언어 책은 1679개로 평균 평점은 7.322215604526503\n",
      "business 언어 책은 1670개로 평균 평점은 6.8293413173652695\n",
      "family 언어 책은 1566개로 평균 평점은 6.941890166028097\n",
      "science 언어 책은 1451개로 평균 평점은 7.126119917298415\n",
      "self help 언어 책은 1394개로 평균 평점은 7.041606886657102\n",
      "health fitness 언어 책은 1290개로 평균 평점은 6.924031007751938\n",
      "literary 언어 책은 1254개로 평균 평점은 7.067783094098884\n",
      "cook 언어 책은 1177개로 평균 평점은 7.452846219201359\n",
      "travel 언어 책은 1032개로 평균 평점은 7.216085271317829\n",
      "psycholog 언어 책은 1013개로 평균 평점은 6.818361303060217\n",
      "poetry 언어 책은 1000개로 평균 평점은 7.511\n",
      "language 언어 책은 975개로 평균 평점은 7.288205128205128\n",
      "drama 언어 책은 840개로 평균 평점은 7.280952380952381\n",
      "computer 언어 책은 832개로 평균 평점은 6.705528846153846\n",
      "true crime 언어 책은 804개로 평균 평점은 6.884328358208955\n",
      "comics graphic novels 언어 책은 675개로 평균 평점은 7.96\n",
      "philosophy 언어 책은 668개로 평균 평점은 7.374251497005988\n",
      "nature 언어 책은 662개로 평균 평점은 7.63595166163142\n",
      "children 언어 책은 651개로 평균 평점은 7.104454685099847\n",
      "performing arts 언어 책은 586개로 평균 평점은 7.220136518771331\n",
      "art 언어 책은 584개로 평균 평점은 7.890410958904109\n",
      "reference 언어 책은 574개로 평균 평점은 7.405923344947735\n",
      "pets 언어 책은 469개로 평균 평점은 7.537313432835821\n",
      "sports recreation 언어 책은 463개로 평균 평점은 7.047516198704104\n",
      "detective and mystery stories 언어 책은 455개로 평균 평점은 6.942857142857143\n",
      "crafts 언어 책은 420개로 평균 평점은 7.788095238095238\n",
      "education 언어 책은 373개로 평균 평점은 7.225201072386059\n",
      "music 언어 책은 371개로 평균 평점은 7.288409703504043\n",
      "adventure 언어 책은 363개로 평균 평점은 7.0523415977961434\n",
      "medical 언어 책은 333개로 평균 평점은 7.312312312312312\n",
      "garden 언어 책은 319개로 평균 평점은 7.6426332288401255\n",
      "animal 언어 책은 293개로 평균 평점은 7.337883959044369\n",
      "christian 언어 책은 286개로 평균 평점은 7.055944055944056\n",
      "literature 언어 책은 266개로 평균 평점은 6.917293233082707\n",
      "house 언어 책은 240개로 평균 평점은 7.166666666666667\n",
      "horror tales 언어 책은 203개로 평균 평점은 7.059113300492611\n",
      "science fiction 언어 책은 199개로 평균 평점은 6.914572864321608\n",
      "photograph 언어 책은 178개로 평균 평점은 7.98314606741573\n",
      "law 언어 책은 175개로 평균 평점은 7.194285714285714\n",
      "technology engineering 언어 책은 170개로 평균 평점은 7.364705882352941\n",
      "games activities 언어 책은 161개로 평균 평점은 7.093167701863354\n",
      "games 언어 책은 155개로 평균 평점은 7.096774193548387\n",
      "england 언어 책은 141개로 평균 평점은 7.198581560283688\n",
      "fantasy 언어 책은 139개로 평균 평점은 7.625899280575539\n",
      "adultery 언어 책은 136개로 평균 평점은 7.036764705882353\n",
      "architect 언어 책은 130개로 평균 평점은 7.630769230769231\n",
      "brothers and sisters 언어 책은 123개로 평균 평점은 6.967479674796748\n",
      "americans 언어 책은 116개로 평균 평점은 7.077586206896552\n",
      "india 언어 책은 114개로 평균 평점은 6.93859649122807\n",
      "california 언어 책은 113개로 평균 평점은 7.168141592920354\n",
      "cats 언어 책은 111개로 평균 평점은 7.378378378378378\n",
      "adolescence 언어 책은 103개로 평균 평점은 6.766990291262136\n",
      "london england 언어 책은 102개로 평균 평점은 8.362745098039216\n",
      "families 언어 책은 99개로 평균 평점은 6.818181818181818\n",
      "actors 언어 책은 99개로 평균 평점은 7.232323232323233\n",
      "african american men 언어 책은 97개로 평균 평점은 7.268041237113402\n",
      "bible 언어 책은 95개로 평균 평점은 7.842105263157895\n",
      "australia 언어 책은 94개로 평균 평점은 7.319148936170213\n",
      "authors american 언어 책은 93개로 평균 평점은 6.924731182795699\n",
      "conduct of life 언어 책은 92개로 평균 평점은 7.206521739130435\n",
      "antiques collectibles 언어 책은 92개로 평균 평점은 8.054347826086957\n",
      "friendship 언어 책은 92개로 평균 평점은 6.739130434782608\n",
      "motion picture 언어 책은 87개로 평균 평점은 6.091954022988506\n",
      "intelligence service 언어 책은 86개로 평균 평점은 7.1395348837209305\n",
      "great britain 언어 책은 84개로 평균 평점은 6.595238095238095\n",
      "blake anita fictitious character 언어 책은 83개로 평균 평점은 7.602409638554217\n",
      "mathemat 언어 책은 82개로 평균 평점은 7.353658536585366\n",
      "boys 언어 책은 79개로 평균 평점은 7.2025316455696204\n",
      "dune imaginary place 언어 책은 75개로 평균 평점은 7.68\n",
      "dent arthur fictitious character 언어 책은 73개로 평균 평점은 8.287671232876713\n",
      "design 언어 책은 69개로 평균 평점은 7.391304347826087\n",
      "france 언어 책은 66개로 평균 평점은 6.5\n",
      "fathers and sons 언어 책은 66개로 평균 평점은 7.333333333333333\n",
      "dogs 언어 책은 66개로 평균 평점은 6.393939393939394\n",
      "crime 언어 책은 66개로 평균 평점은 6.590909090909091\n",
      "city and town life 언어 책은 63개로 평균 평점은 7.444444444444445\n",
      "interpersonal relations 언어 책은 62개로 평균 평점은 7.161290322580645\n",
      "baggins frodo fictitious character 언어 책은 61개로 평균 평점은 8.475409836065573\n",
      "african american women 언어 책은 60개로 평균 평점은 8.15\n",
      "fairy tales 언어 책은 58개로 평균 평점은 7.086206896551724\n",
      "chocolate 언어 책은 58개로 평균 평점은 7.724137931034483\n",
      "arctic regions 언어 책은 57개로 평균 평점은 7.719298245614035\n",
      "comic books strips etc 언어 책은 57개로 평균 평점은 7.947368421052632\n",
      "artificial intelligence 언어 책은 55개로 평균 평점은 7.545454545454546\n",
      "abortion 언어 책은 55개로 평균 평점은 6.4363636363636365\n",
      "african americans 언어 책은 54개로 평균 평점은 6.703703703703703\n",
      "christmas stories 언어 책은 52개로 평균 평점은 7.3076923076923075\n",
      "camp 언어 책은 52개로 평균 평점은 7.1923076923076925\n",
      "murder 언어 책은 51개로 평균 평점은 6.254901960784314\n",
      "amsterdam netherlands 언어 책은 51개로 평균 평점은 8.313725490196079\n",
      "boston mass 언어 책은 50개로 평균 평점은 6.36\n",
      "british 언어 책은 50개로 평균 평점은 6.58\n",
      "criminal 언어 책은 49개로 평균 평점은 6.979591836734694\n",
      "man woman relationships 언어 책은 48개로 평균 평점은 7.6875\n",
      "books and reading 언어 책은 48개로 평균 평점은 7.6875\n",
      "curiosities and wonders 언어 책은 47개로 평균 평점은 7.0212765957446805\n",
      "brothers 언어 책은 47개로 평균 평점은 6.127659574468085\n",
      "authors english 언어 책은 45개로 평균 평점은 6.177777777777778\n",
      "canada 언어 책은 44개로 평균 평점은 7.454545454545454\n",
      "disease 언어 책은 43개로 평균 평점은 6.627906976744186\n",
      "africa 언어 책은 43개로 평균 평점은 7.162790697674419\n",
      "artists 언어 책은 42개로 평균 평점은 7.333333333333333\n",
      "transportation 언어 책은 42개로 평균 평점은 6.976190476190476\n",
      "arthurian romances 언어 책은 41개로 평균 평점은 7.146341463414634\n",
      "country life 언어 책은 40개로 평균 평점은 7.05\n",
      "interplanetary voyages 언어 책은 40개로 평균 평점은 6.65\n",
      "angels 언어 책은 39개로 평균 평점은 7.333333333333333\n",
      "united states 언어 책은 38개로 평균 평점은 6.421052631578948\n",
      "horror tales american 언어 책은 37개로 평균 평점은 6.864864864864865\n",
      "ireland 언어 책은 36개로 평균 평점은 7.416666666666667\n",
      "horror stories 언어 책은 36개로 평균 평점은 6.305555555555555\n",
      "babysitters 언어 책은 36개로 평균 평점은 5.583333333333333\n",
      "brunetti guido fictitious character 언어 책은 36개로 평균 평점은 6.583333333333333\n",
      "blind 언어 책은 36개로 평균 평점은 8.222222222222221\n",
      "audiobooks 언어 책은 35개로 평균 평점은 7.485714285714286\n",
      "death 언어 책은 35개로 평균 평점은 7.428571428571429\n",
      "dragons 언어 책은 35개로 평균 평점은 7.6571428571428575\n",
      "bears 언어 책은 35개로 평균 평점은 7.2\n",
      "life on other planets 언어 책은 34개로 평균 평점은 6.911764705882353\n",
      "dinosaurs 언어 책은 34개로 평균 평점은 6.911764705882353\n",
      "cities and towns 언어 책은 33개로 평균 평점은 7.545454545454546\n",
      "china 언어 책은 33개로 평균 평점은 7.242424242424242\n",
      "bird 언어 책은 33개로 평균 평점은 8.181818181818182\n",
      "dracula count fictitious character 언어 책은 33개로 평균 평점은 7.424242424242424\n",
      "berlin germany 언어 책은 32개로 평균 평점은 5.8125\n",
      "cornwall england county 언어 책은 32개로 평균 평점은 7.5625\n",
      "authors 언어 책은 32개로 평균 평점은 6.71875\n",
      "courtship 언어 책은 32개로 평균 평점은 7.78125\n",
      "bibles 언어 책은 31개로 평균 평점은 8.935483870967742\n",
      "authorship 언어 책은 31개로 평균 평점은 7.225806451612903\n",
      "chicago ill 언어 책은 31개로 평균 평점은 7.387096774193548\n",
      "electronic 언어 책은 31개로 평균 평점은 7.258064516129032\n",
      "bildungsromans 언어 책은 30개로 평균 평점은 7.133333333333334\n",
      "ghost stories 언어 책은 29개로 평균 평점은 6.655172413793103\n",
      "cancer 언어 책은 29개로 평균 평점은 6.931034482758621\n",
      "alchemists 언어 책은 29개로 평균 평점은 7.655172413793103\n",
      "boarding schools 언어 책은 29개로 평균 평점은 7.551724137931035\n",
      "large type books 언어 책은 29개로 평균 평점은 7.413793103448276\n",
      "egypt 언어 책은 28개로 평균 평점은 7.571428571428571\n",
      "discworld imaginary place 언어 책은 27개로 평균 평점은 8.62962962962963\n",
      "cousins 언어 책은 27개로 평균 평점은 6.2592592592592595\n",
      "accidents 언어 책은 27개로 평균 평점은 7.037037037037037\n",
      "communication in marriage 언어 책은 27개로 평균 평점은 5.0\n",
      "avarice 언어 책은 26개로 평균 평점은 7.923076923076923\n",
      "canon literarature 언어 책은 26개로 평균 평점은 7.615384615384615\n",
      "aunts 언어 책은 26개로 평균 평점은 7.461538461538462\n",
      "child rearing 언어 책은 26개로 평균 평점은 7.576923076923077\n",
      "assassins 언어 책은 25개로 평균 평점은 6.76\n",
      "love stories 언어 책은 24개로 평균 평점은 6.75\n",
      "accelerated readers 언어 책은 24개로 평균 평점은 8.333333333333334\n",
      "extraterrestrial beings 언어 책은 23개로 평균 평점은 7.260869565217392\n",
      "covenant thomas fictitious character 언어 책은 23개로 평균 평점은 6.608695652173913\n",
      "abused wives 언어 책은 22개로 평균 평점은 7.7272727272727275\n",
      "bereavement 언어 책은 22개로 평균 평점은 7.818181818181818\n",
      "audiocassettes 언어 책은 22개로 평균 평점은 7.181818181818182\n",
      "germany 언어 책은 21개로 평균 평점은 5.714285714285714\n",
      "short stories 언어 책은 21개로 평균 평점은 6.9523809523809526\n",
      "lesbians 언어 책은 21개로 평균 평점은 6.904761904761905\n",
      "jews 언어 책은 21개로 평균 평점은 7.190476190476191\n",
      "love 언어 책은 21개로 평균 평점은 6.238095238095238\n",
      "child care 언어 책은 21개로 평균 평점은 7.0476190476190474\n",
      "high schools 언어 책은 21개로 평균 평점은 5.095238095238095\n",
      "veterinarians 언어 책은 20개로 평균 평점은 8.7\n",
      "magic 언어 책은 20개로 평균 평점은 7.15\n",
      "frontier and pioneer life 언어 책은 20개로 평균 평점은 6.1\n",
      "caricatures and cartoons 언어 책은 19개로 평균 평점은 7.526315789473684\n",
      "aging 언어 책은 19개로 평균 평점은 6.473684210526316\n",
      "african american authors 언어 책은 19개로 평균 평점은 8.947368421052632\n",
      "authors german 언어 책은 19개로 평균 평점은 7.368421052631579\n",
      "dream interpretation 언어 책은 19개로 평균 평점은 6.631578947368421\n",
      "plot your own stories 언어 책은 19개로 평균 평점은 5.7368421052631575\n",
      "dreams 언어 책은 19개로 평균 평점은 5.947368421052632\n",
      "good and evil 언어 책은 18개로 평균 평점은 7.555555555555555\n",
      "courage 언어 책은 18개로 평균 평점은 6.388888888888889\n",
      "authors spanish 언어 책은 18개로 평균 평점은 7.166666666666667\n",
      "study aids 언어 책은 18개로 평균 평점은 6.388888888888889\n",
      "divorce 언어 책은 18개로 평균 평점은 5.555555555555555\n",
      "cults 언어 책은 18개로 평균 평점은 7.277777777777778\n",
      "child development 언어 책은 18개로 평균 평점은 6.333333333333333\n",
      "ecology 언어 책은 18개로 평균 평점은 6.5\n",
      "behavior 언어 책은 18개로 평균 평점은 5.277777777777778\n",
      "folklore 언어 책은 18개로 평균 평점은 6.611111111111111\n",
      "drug abuse 언어 책은 18개로 평균 평점은 6.666666666666667\n",
      "aboriginal australians 언어 책은 17개로 평균 평점은 7.705882352941177\n",
      "brain 언어 책은 17개로 평균 평점은 6.9411764705882355\n",
      "ghosts 언어 책은 17개로 평균 평점은 6.176470588235294\n",
      "alcoholics 언어 책은 17개로 평균 평점은 7.9411764705882355\n",
      "women 언어 책은 17개로 평균 평점은 5.647058823529412\n",
      "journalists 언어 책은 16개로 평균 평점은 7.75\n",
      "italy 언어 책은 16개로 평균 평점은 6.9375\n",
      "fantasy games 언어 책은 16개로 평균 평점은 7.4375\n",
      "feminism 언어 책은 16개로 평균 평점은 7.0625\n",
      "health 언어 책은 16개로 평균 평점은 6.4375\n",
      "holocaust jewish 1939 1945 언어 책은 16개로 평균 평점은 8.25\n",
      "spiritual life 언어 책은 16개로 평균 평점은 7.5\n",
      "environmental 언어 책은 15개로 평균 평점은 6.866666666666666\n",
      "encyclopedias and dictionaries 언어 책은 15개로 평균 평점은 6.866666666666666\n",
      "elves 언어 책은 15개로 평균 평점은 7.933333333333334\n",
      "detective and mystery stories english 언어 책은 15개로 평균 평점은 7.466666666666667\n",
      "fairies 언어 책은 15개로 평균 평점은 7.466666666666667\n",
      "world war 1939 1945 언어 책은 15개로 평균 평점은 7.2\n",
      "birthdays 언어 책은 15개로 평균 평점은 8.0\n",
      "christmas 언어 책은 15개로 평균 평점은 6.733333333333333\n",
      "buddhism 언어 책은 15개로 평균 평점은 6.933333333333334\n",
      "archaeology 언어 책은 15개로 평균 평점은 6.866666666666666\n",
      "quotations english 언어 책은 15개로 평균 평점은 8.933333333333334\n",
      "horses 언어 책은 15개로 평균 평점은 7.066666666666666\n",
      "cosmology 언어 책은 14개로 평균 평점은 5.928571428571429\n",
      "composers 언어 책은 14개로 평균 평점은 7.0\n",
      "home economics 언어 책은 14개로 평균 평점은 7.785714285714286\n",
      "actresses 언어 책은 14개로 평균 평점은 6.928571428571429\n",
      "paris france 언어 책은 14개로 평균 평점은 7.5\n",
      "vampires 언어 책은 14개로 평균 평점은 5.857142857142857\n",
      "cowboys 언어 책은 14개로 평균 평점은 7.714285714285714\n",
      "clubs 언어 책은 14개로 평균 평점은 5.642857142857143\n",
      "finance personal 언어 책은 13개로 평균 평점은 6.153846153846154\n",
      "apologetics 언어 책은 13개로 평균 평점은 7.3076923076923075\n",
      "acting 언어 책은 13개로 평균 평점은 5.615384615384615\n",
      "biography 언어 책은 13개로 평균 평점은 8.307692307692308\n",
      "brooklyn new york n y 언어 책은 13개로 평균 평점은 8.692307692307692\n",
      "europe 언어 책은 13개로 평균 평점은 8.076923076923077\n",
      "chile 언어 책은 13개로 평균 평점은 6.153846153846154\n",
      "beauty personal 언어 책은 13개로 평균 평점은 8.076923076923077\n",
      "astrology 언어 책은 13개로 평균 평점은 7.769230769230769\n",
      "communication 언어 책은 13개로 평균 평점은 5.615384615384615\n",
      "schools 언어 책은 13개로 평균 평점은 6.0\n",
      "novel 언어 책은 13개로 평균 평점은 6.230769230769231\n",
      "conspiracies 언어 책은 13개로 평균 평점은 7.230769230769231\n",
      "orphans 언어 책은 13개로 평균 평점은 6.846153846153846\n",
      "authors australian 언어 책은 13개로 평균 평점은 7.076923076923077\n",
      "tarot 언어 책은 13개로 평균 평점은 7.230769230769231\n",
      "arab israeli conflict 언어 책은 12개로 평균 평점은 8.166666666666666\n",
      "child abuse 언어 책은 12개로 평균 평점은 7.75\n",
      "classic 언어 책은 12개로 평균 평점은 8.083333333333334\n",
      "exercise 언어 책은 12개로 평균 평점은 6.75\n",
      "russia 언어 책은 12개로 평균 평점은 7.75\n",
      "girls 언어 책은 12개로 평균 평점은 7.083333333333333\n",
      "halloween 언어 책은 12개로 평균 평점은 5.5\n",
      "mothers and daughters 언어 책은 12개로 평균 평점은 4.916666666666667\n",
      "alaska 언어 책은 12개로 평균 평점은 7.0\n",
      "fear 언어 책은 11개로 평균 평점은 5.909090909090909\n",
      "new york n y 언어 책은 11개로 평균 평점은 6.545454545454546\n",
      "generals 언어 책은 11개로 평균 평점은 7.636363636363637\n",
      "kidnapping 언어 책은 11개로 평균 평점은 7.181818181818182\n",
      "scotland 언어 책은 11개로 평균 평점은 6.2727272727272725\n",
      "abduction 언어 책은 11개로 평균 평점은 6.909090909090909\n",
      "entertainers 언어 책은 11개로 평균 평점은 7.2727272727272725\n",
      "castaways 언어 책은 11개로 평균 평점은 6.909090909090909\n",
      "brazil 언어 책은 11개로 평균 평점은 7.818181818181818\n",
      "bashfulness 언어 책은 11개로 평균 평점은 8.272727272727273\n",
      "celebrities 언어 책은 11개로 평균 평점은 6.2727272727272725\n",
      "childbirth 언어 책은 11개로 평균 평점은 7.636363636363637\n",
      "college students 언어 책은 11개로 평균 평점은 5.545454545454546\n",
      "circus 언어 책은 11개로 평균 평점은 6.363636363636363\n",
      "counting 언어 책은 11개로 평균 평점은 7.636363636363637\n",
      "mythology 언어 책은 10개로 평균 평점은 8.1\n",
      "cruise ships 언어 책은 10개로 평균 평점은 5.5\n",
      "antiquities 언어 책은 10개로 평균 평점은 6.8\n",
      "high school students 언어 책은 10개로 평균 평점은 8.0\n",
      "herbs 언어 책은 10개로 평균 평점은 7.1\n",
      "diaries 언어 책은 10개로 평균 평점은 7.9\n",
      "human alien encounters 언어 책은 10개로 평균 평점은 7.5\n",
      "hollywood los angeles calif 언어 책은 10개로 평균 평점은 5.2\n",
      "colombia 언어 책은 10개로 평균 평점은 7.7\n",
      "amnesia 언어 책은 10개로 평균 평점은 5.9\n",
      "names personal 언어 책은 10개로 평균 평점은 7.4\n",
      "civilization medieval 언어 책은 10개로 평균 평점은 7.5\n",
      "homicide 언어 책은 10개로 평균 평점은 6.2\n",
      "authors french 언어 책은 10개로 평균 평점은 5.7\n",
      "antiques 언어 책은 10개로 평균 평점은 6.3\n",
      "baseball 언어 책은 10개로 평균 평점은 6.4\n",
      "arizona 언어 책은 10개로 평균 평점은 8.2\n",
      "relaxation 언어 책은 10개로 평균 평점은 7.2\n",
      "readers 언어 책은 10개로 평균 평점은 5.9\n",
      "feng shui 언어 책은 10개로 평균 평점은 5.8\n",
      "gay men 언어 책은 10개로 평균 평점은 6.8\n",
      "fathers and daughters 언어 책은 9개로 평균 평점은 7.555555555555555\n",
      "horse racing 언어 책은 9개로 평균 평점은 7.444444444444445\n",
      "monsters 언어 책은 9개로 평균 평점은 2.5555555555555554\n",
      "consumer education 언어 책은 9개로 평균 평점은 6.222222222222222\n",
      "alphabet 언어 책은 9개로 평균 평점은 7.555555555555555\n",
      "bedtime 언어 책은 9개로 평균 평점은 6.222222222222222\n",
      "arkansas 언어 책은 9개로 평균 평점은 7.333333333333333\n",
      "presidents 언어 책은 9개로 평균 평점은 7.222222222222222\n",
      "manners and customs 언어 책은 9개로 평균 평점은 7.222222222222222\n",
      "dolls 언어 책은 9개로 평균 평점은 6.555555555555555\n",
      "bullies 언어 책은 9개로 평균 평점은 7.555555555555555\n",
      "alternative medicine 언어 책은 9개로 평균 평점은 6.333333333333333\n",
      "mice 언어 책은 8개로 평균 평점은 6.0\n",
      "asterix fictitious character 언어 책은 8개로 평균 평점은 7.0\n",
      "journalism 언어 책은 8개로 평균 평점은 6.5\n",
      "anger 언어 책은 8개로 평균 평점은 7.0\n",
      "college readers 언어 책은 8개로 평균 평점은 6.875\n",
      "astronomy 언어 책은 8개로 평균 평점은 8.5\n",
      "horror 언어 책은 8개로 평균 평점은 5.875\n",
      "aliens 언어 책은 8개로 평균 평점은 6.875\n",
      "physics 언어 책은 8개로 평균 평점은 6.625\n",
      "executives 언어 책은 8개로 평균 평점은 7.0\n",
      "adoptees 언어 책은 8개로 평균 평점은 6.375\n",
      "athens greece 언어 책은 8개로 평균 평점은 8.125\n",
      "food 언어 책은 8개로 평균 평점은 7.75\n",
      "devil 언어 책은 8개로 평균 평점은 6.125\n",
      "god 언어 책은 8개로 평균 평점은 7.875\n",
      "current events 언어 책은 8개로 평균 평점은 7.375\n",
      "greece 언어 책은 8개로 평균 평점은 7.375\n",
      "success 언어 책은 8개로 평균 평점은 5.875\n",
      "soccer 언어 책은 8개로 평균 평점은 7.875\n",
      "biology 언어 책은 7개로 평균 평점은 7.571428571428571\n",
      "board books 언어 책은 7개로 평균 평점은 7.142857142857143\n",
      "mystery and detective stories 언어 책은 7개로 평균 평점은 6.714285714285714\n",
      "natural history 언어 책은 7개로 평균 평점은 5.857142857142857\n",
      "robots 언어 책은 7개로 평균 평점은 7.285714285714286\n",
      "meditation 언어 책은 7개로 평균 평점은 6.285714285714286\n",
      "extrasensory perception 언어 책은 7개로 평균 평점은 7.142857142857143\n",
      "authors austrian 언어 책은 7개로 평균 평점은 7.714285714285714\n",
      "applications for positions 언어 책은 7개로 평균 평점은 8.0\n",
      "catholics 언어 책은 7개로 평균 평점은 7.571428571428571\n",
      "bible stories english 언어 책은 7개로 평균 평점은 6.142857142857143\n",
      "ants 언어 책은 7개로 평균 평점은 5.571428571428571\n",
      "mothers and sons 언어 책은 7개로 평균 평점은 6.428571428571429\n",
      "sisters 언어 책은 7개로 평균 평점은 5.142857142857143\n",
      "infants 언어 책은 7개로 평균 평점은 6.857142857142857\n",
      "consciousness 언어 책은 7개로 평균 평점은 7.714285714285714\n",
      "erotic stories american 언어 책은 7개로 평균 평점은 6.142857142857143\n",
      "contests 언어 책은 7개로 평균 평점은 6.571428571428571\n",
      "african american families 언어 책은 7개로 평균 평점은 6.142857142857143\n",
      "stories in rhyme 언어 책은 7개로 평균 평점은 7.285714285714286\n",
      "college teachers 언어 책은 7개로 평균 평점은 7.285714285714286\n",
      "dwellings 언어 책은 7개로 평균 평점은 8.428571428571429\n",
      "spain 언어 책은 7개로 평균 평점은 7.857142857142857\n",
      "elephants 언어 책은 7개로 평균 평점은 7.428571428571429\n",
      "devotional calendars 언어 책은 7개로 평균 평점은 6.857142857142857\n",
      "police 언어 책은 7개로 평균 평점은 6.428571428571429\n",
      "arranged marriage 언어 책은 7개로 평균 평점은 7.0\n",
      "adoption 언어 책은 7개로 평균 평점은 6.285714285714286\n",
      "amusements 언어 책은 7개로 평균 평점은 8.285714285714286\n",
      "japan 언어 책은 7개로 평균 평점은 7.142857142857143\n",
      "kings and rulers 언어 책은 7개로 평균 평점은 7.428571428571429\n",
      "emotions 언어 책은 6개로 평균 평점은 8.666666666666666\n",
      "depressions 언어 책은 6개로 평균 평점은 7.833333333333333\n",
      "unidentified flying objects 언어 책은 6개로 평균 평점은 6.5\n",
      "baseball stories 언어 책은 6개로 평균 평점은 5.333333333333333\n",
      "aeronautics 언어 책은 6개로 평균 평점은 5.833333333333333\n",
      "vietnam war 1961 1975 언어 책은 6개로 평균 평점은 5.5\n",
      "air pilots 언어 책은 6개로 평균 평점은 7.0\n",
      "economics 언어 책은 6개로 평균 평점은 6.333333333333333\n",
      "singers 언어 책은 6개로 평균 평점은 7.333333333333333\n",
      "government investigators 언어 책은 6개로 평균 평점은 6.166666666666667\n",
      "country homes 언어 책은 6개로 평균 평점은 8.0\n",
      "history modern 언어 책은 6개로 평균 평점은 7.666666666666667\n",
      "chickens 언어 책은 6개로 평균 평점은 6.833333333333333\n",
      "comedians 언어 책은 6개로 평균 평점은 6.333333333333333\n",
      "antisemitism 언어 책은 6개로 평균 평점은 4.333333333333333\n",
      "idaho 언어 책은 6개로 평균 평점은 6.333333333333333\n",
      "clowns 언어 책은 6개로 평균 평점은 5.333333333333333\n",
      "medicine popular 언어 책은 6개로 평균 평점은 9.166666666666666\n",
      "clothing and dress 언어 책은 6개로 평균 평점은 8.0\n",
      "aromatherapy 언어 책은 6개로 평균 평점은 5.666666666666667\n",
      "internet 언어 책은 6개로 평균 평점은 5.333333333333333\n",
      "civilization 언어 책은 6개로 평균 평점은 6.166666666666667\n",
      "antarctica 언어 책은 6개로 평균 평점은 7.166666666666667\n",
      "christmas decorations 언어 책은 6개로 평균 평점은 8.333333333333334\n",
      "rabbits 언어 책은 6개로 평균 평점은 8.333333333333334\n",
      "fables 언어 책은 5개로 평균 평점은 7.4\n",
      "sociology 언어 책은 5개로 평균 평점은 4.2\n",
      "almanacs 언어 책은 5개로 평균 평점은 6.2\n",
      "advertising 언어 책은 5개로 평균 평점은 6.6\n",
      "soviet union 언어 책은 5개로 평균 평점은 8.2\n",
      "detective and mystery stories american 언어 책은 5개로 평균 평점은 7.8\n",
      "interior decoration 언어 책은 5개로 평균 평점은 7.6\n",
      "mexico 언어 책은 5개로 평균 평점은 6.2\n",
      "hiking 언어 책은 5개로 평균 평점은 8.0\n",
      "handicraft 언어 책은 5개로 평균 평점은 4.8\n",
      "atomic bomb 언어 책은 5개로 평균 평점은 8.0\n",
      "clergy 언어 책은 5개로 평균 평점은 7.2\n",
      "chess 언어 책은 5개로 평균 평점은 8.6\n",
      "drawing 언어 책은 5개로 평균 평점은 6.4\n",
      "celts 언어 책은 5개로 평균 평점은 6.2\n",
      "caribbean area 언어 책은 5개로 평균 평점은 5.6\n",
      "buried treasure 언어 책은 5개로 평균 평점은 7.2\n",
      "frogs 언어 책은 5개로 평균 평점은 7.6\n",
      "female friendship 언어 책은 5개로 평균 평점은 7.4\n",
      "farm life 언어 책은 5개로 평균 평점은 5.0\n",
      "outer space 언어 책은 5개로 평균 평점은 7.2\n",
      "autumn 언어 책은 5개로 평균 평점은 8.2\n",
      "colorado 언어 책은 5개로 평균 평점은 7.6\n",
      "homeless persons 언어 책은 4개로 평균 평점은 6.0\n",
      "ethics 언어 책은 4개로 평균 평점은 8.75\n",
      "diet 언어 책은 4개로 평균 평점은 8.5\n",
      "executive ability 언어 책은 4개로 평균 평점은 7.0\n",
      "criticism 언어 책은 4개로 평균 평점은 6.5\n",
      "achievement motivation 언어 책은 4개로 평균 평점은 5.75\n",
      "questions and answers 언어 책은 4개로 평균 평점은 4.25\n",
      "color 언어 책은 4개로 평균 평점은 7.0\n",
      "inheritance and succession 언어 책은 4개로 평균 평점은 6.5\n",
      "chemistry 언어 책은 4개로 평균 평점은 5.75\n",
      "cheerleading 언어 책은 4개로 평균 평점은 4.25\n",
      "missing persons 언어 책은 4개로 평균 평점은 7.5\n",
      "bicycle touring 언어 책은 4개로 평균 평점은 2.75\n",
      "sat educational test 언어 책은 4개로 평균 평점은 9.25\n",
      "bible stories 언어 책은 4개로 평균 평점은 5.0\n",
      "beaches 언어 책은 4개로 평균 평점은 9.5\n",
      "ballet 언어 책은 4개로 평균 평점은 7.75\n",
      "castles 언어 책은 4개로 평균 평점은 8.0\n",
      "ducks 언어 책은 3개로 평균 평점은 8.0\n",
      "city planning 언어 책은 2개로 평균 평점은 4.5\n",
      "grandmothers 언어 책은 2개로 평균 평점은 5.5\n",
      "NULL 언어 책은 121221개로 평균 평점은 7.044769470636276\n"
     ]
    }
   ],
   "source": [
    "book_rating = pd.merge(train,books, how='right',on='isbn')\n",
    "book_rating.dropna(subset=['rating'], inplace = True)\n",
    "print('책 전체 평균 평점은', book_rating['rating'].mean())\n",
    "for i in book_rating.groupby('category_high')['rating'].count().sort_values(ascending=False).index:\n",
    "    tem = book_rating['rating'][book_rating['category_high'] == i]\n",
    "    _mean = tem.mean()\n",
    "    cnt = tem.count()\n",
    "    print(f'{i} 언어 책은 {cnt}개로 평균 평점은 {_mean}')\n",
    "\n",
    "tem = book_rating['rating'][book_rating['category_high'].isna()]\n",
    "_mean = tem.mean()\n",
    "cnt = tem.count()\n",
    "print(f'NULL 언어 책은 {cnt}개로 평균 평점은 {_mean}')"
   ]
  },
  {
   "cell_type": "markdown",
   "id": "80c4cd41",
   "metadata": {},
   "source": [
    "카테고리 변수는 꽤 중요할지도 모릅니다."
   ]
  },
  {
   "cell_type": "markdown",
   "id": "f46fee24",
   "metadata": {},
   "source": [
    "## User에 관해"
   ]
  },
  {
   "cell_type": "code",
   "execution_count": 29,
   "id": "c7333705",
   "metadata": {},
   "outputs": [],
   "source": [
    "users = pd.read_csv('../data/users.csv')"
   ]
  },
  {
   "cell_type": "code",
   "execution_count": 30,
   "id": "97f24fd8",
   "metadata": {},
   "outputs": [
    {
     "name": "stdout",
     "output_type": "stream",
     "text": [
      "<class 'pandas.core.frame.DataFrame'>\n",
      "RangeIndex: 68092 entries, 0 to 68091\n",
      "Data columns (total 6 columns):\n",
      " #   Column            Non-Null Count  Dtype  \n",
      "---  ------            --------------  -----  \n",
      " 0   user_id           68092 non-null  int64  \n",
      " 1   location          68092 non-null  object \n",
      " 2   age               40259 non-null  float64\n",
      " 3   location_city     67970 non-null  object \n",
      " 4   location_state    66960 non-null  object \n",
      " 5   location_country  67821 non-null  object \n",
      "dtypes: float64(1), int64(1), object(4)\n",
      "memory usage: 3.1+ MB\n"
     ]
    }
   ],
   "source": [
    "users['location'] = users['location'].str.replace(r'[^0-9a-zA-Z:,]', '') # 특수문자 제거\n",
    "\n",
    "# 지역, 주, 국가\n",
    "users['location_city'] = users['location'].apply(lambda x: x.split(',')[0].strip())\n",
    "users['location_state'] = users['location'].apply(lambda x: x.split(',')[1].strip())\n",
    "users['location_country'] = users['location'].apply(lambda x: x.split(',')[2].strip())\n",
    "\n",
    "users = users.replace('na', np.nan) #특수문자 제거로 n/a가 na로 바뀌게 되었습니다. 따라서 이를 컴퓨터가 인식할 수 있는 결측값으로 변환합니다.\n",
    "users = users.replace('', np.nan) # 일부 경우 , , ,으로 입력된 경우가 있었으므로 이런 경우에도 결측값으로 변환합니다.\n",
    "\n",
    "# 도시는 존재하는데 나라 정보가 없는 경우 채워주는 코드\n",
    "modify_location = users[(users['location_country'].isna())&(users['location_city'].notnull())]['location_city'].values\n",
    "location = users[(users['location'].str.contains('seattle'))&(users['location_country'].notnull())]['location'].value_counts().index[0]\n",
    "\n",
    "location_list = []\n",
    "for location in modify_location:\n",
    "    try:\n",
    "        right_location = users[(users['location'].str.contains(location))&(users['location_country'].notnull())]['location'].value_counts().index[0]\n",
    "        location_list.append(right_location)\n",
    "    except:\n",
    "        pass\n",
    "\n",
    "for location in location_list:\n",
    "    users.loc[users[users['location_city']==location.split(',')[0]].index,'location_state'] = location.split(',')[1]\n",
    "    users.loc[users[users['location_city']==location.split(',')[0]].index,'location_country'] = location.split(',')[2]\n",
    "\n",
    "users.info()"
   ]
  },
  {
   "cell_type": "markdown",
   "id": "3533f4fb",
   "metadata": {},
   "source": [
    "age는 결측치가 많습니다."
   ]
  },
  {
   "cell_type": "code",
   "execution_count": 138,
   "id": "81bd1dab",
   "metadata": {},
   "outputs": [
    {
     "data": {
      "image/png": "[encoded data removed]",
      "text/plain": [
       "<Figure size 1100x600 with 1 Axes>"
      ]
     },
     "metadata": {},
     "output_type": "display_data"
    }
   ],
   "source": [
    "my_dict=(users['location_country'].value_counts()).to_dict()\n",
    "count= pd.DataFrame(list(my_dict.items()),columns = ['location_country','count'])\n",
    "f = count.sort_values(by=['count'], ascending = False)\n",
    "f = f.head(15)\n",
    "# f.drop(7,inplace=True)\n",
    "fig=plt.figure(figsize=(11,6))\n",
    "ax = sns.barplot(y = 'count',x= 'location_country' , data = f)\n",
    "ax.set_xticklabels(ax.get_xticklabels(), rotation=60,horizontalalignment='center')\n",
    "for bar in ax.patches: \n",
    "    ax.annotate(format(bar.get_height(), '.0f'),  \n",
    "                   (bar.get_x() + bar.get_width() / 2,  \n",
    "                    bar.get_height()), ha='center', va='center', \n",
    "                   size=8, xytext=(0,8), \n",
    "                   textcoords='offset points') \n",
    "\n",
    "plt.xlabel(\"Country\", size=10)\n",
    "plt.ylabel(\"# of Users\", size=10)\n",
    "plt.show()"
   ]
  },
  {
   "cell_type": "code",
   "execution_count": 141,
   "id": "44cb34f4",
   "metadata": {},
   "outputs": [
    {
     "data": {
      "image/png": "[encoded data removed]",
      "text/plain": [
       "<Figure size 1100x600 with 1 Axes>"
      ]
     },
     "metadata": {},
     "output_type": "display_data"
    }
   ],
   "source": [
    "my_dict=(users['location_state'].value_counts()).to_dict()\n",
    "count= pd.DataFrame(list(my_dict.items()),columns = ['location_state','count'])\n",
    "f = count.sort_values(by=['count'], ascending = False)\n",
    "f = f.head(15)\n",
    "# f.drop(7,inplace=True)\n",
    "fig=plt.figure(figsize=(11,6))\n",
    "ax = sns.barplot(y = 'count',x= 'location_state' , data = f)\n",
    "ax.set_xticklabels(ax.get_xticklabels(), rotation=60,horizontalalignment='center')\n",
    "for bar in ax.patches: \n",
    "    ax.annotate(format(bar.get_height(), '.0f'),  \n",
    "                   (bar.get_x() + bar.get_width() / 2,  \n",
    "                    bar.get_height()), ha='center', va='center', \n",
    "                   size=8, xytext=(0,8), \n",
    "                   textcoords='offset points') \n",
    "\n",
    "plt.xlabel(\"State\", size=10)\n",
    "plt.ylabel(\"# of Users\", size=10)\n",
    "plt.show()"
   ]
  },
  {
   "cell_type": "code",
   "execution_count": 142,
   "id": "35fa074f",
   "metadata": {},
   "outputs": [
    {
     "data": {
      "image/png": "[encoded data removed]",
      "text/plain": [
       "<Figure size 1100x600 with 1 Axes>"
      ]
     },
     "metadata": {},
     "output_type": "display_data"
    }
   ],
   "source": [
    "my_dict=(users['location_city'].value_counts()).to_dict()\n",
    "count= pd.DataFrame(list(my_dict.items()),columns = ['location_city','count'])\n",
    "f = count.sort_values(by=['count'], ascending = False)\n",
    "f = f.head(15)\n",
    "# f.drop(7,inplace=True)\n",
    "fig=plt.figure(figsize=(11,6))\n",
    "ax = sns.barplot(y = 'count',x= 'location_city' , data = f)\n",
    "ax.set_xticklabels(ax.get_xticklabels(), rotation=60,horizontalalignment='center')\n",
    "for bar in ax.patches: \n",
    "    ax.annotate(format(bar.get_height(), '.0f'),  \n",
    "                   (bar.get_x() + bar.get_width() / 2,  \n",
    "                    bar.get_height()), ha='center', va='center', \n",
    "                   size=8, xytext=(0,8), \n",
    "                   textcoords='offset points') \n",
    "\n",
    "plt.xlabel(\"Citys\", size=10)\n",
    "plt.ylabel(\"# of Users\", size=10)\n",
    "plt.show()"
   ]
  },
  {
   "cell_type": "code",
   "execution_count": 144,
   "id": "7f3ed142",
   "metadata": {},
   "outputs": [
    {
     "name": "stdout",
     "output_type": "stream",
     "text": [
      "268\n",
      "1323\n",
      "11994\n"
     ]
    }
   ],
   "source": [
    "print(users['location_country'].nunique())\n",
    "print(users['location_state'].nunique())\n",
    "print(users['location_city'].nunique())"
   ]
  },
  {
   "cell_type": "markdown",
   "id": "53b97d66",
   "metadata": {},
   "source": [
    "나라로 나누게 되면 미국은 너무 많은 집단이 묶이게 되고 도시로 하면 지나치게 많은 범주가 생깁니다.\n",
    "\n",
    "주를 잘 전치리 해서 사용하는게 베스트 아닐까요?\n",
    "\n",
    "물론 다양한 버전으로 실험해볼 생각입니다."
   ]
  },
  {
   "cell_type": "code",
   "execution_count": 158,
   "id": "e38e16e6",
   "metadata": {},
   "outputs": [
    {
     "data": {
      "text/plain": [
       "california       6878\n",
       "texas            2507\n",
       "ontario          2506\n",
       "newyork          2400\n",
       "england          2237\n",
       "                 ... \n",
       "fribourg           11\n",
       "crdoba             11\n",
       "hampshire          11\n",
       "catalua            11\n",
       "paysdelaloire      11\n",
       "Name: location_state, Length: 213, dtype: int64"
      ]
     },
     "execution_count": 158,
     "metadata": {},
     "output_type": "execute_result"
    }
   ],
   "source": [
    "tem = users['location_state'].value_counts()\n",
    "tem[tem > 10]"
   ]
  },
  {
   "cell_type": "code",
   "execution_count": 153,
   "id": "8c90fcad",
   "metadata": {},
   "outputs": [
    {
     "name": "stdout",
     "output_type": "stream",
     "text": [
      "책 전체 평균 평점은 7.069714304340032\n",
      "ontario 언어 책은 13283개로 평균 평점은 6.961228638108861\n",
      "britishcolumbia 언어 책은 5830개로 평균 평점은 6.785763293310463\n",
      "alberta 언어 책은 4383개로 평균 평점은 6.878165639972622\n",
      "quebec 언어 책은 1589개로 평균 평점은 7.040906230333543\n",
      "novascotia 언어 책은 1217개로 평균 평점은 7.066557107641742\n",
      "newbrunswick 언어 책은 1136개로 평균 평점은 6.680457746478873\n",
      "saskatchewan 언어 책은 741개로 평균 평점은 7.207827260458839\n",
      "manitoba 언어 책은 589개로 평균 평점은 7.448217317487266\n",
      "newfoundland 언어 책은 303개로 평균 평점은 6.4983498349834985\n",
      "yukonterritory 언어 책은 119개로 평균 평점은 5.436974789915967\n",
      "princeedwardisland 언어 책은 56개로 평균 평점은 8.035714285714286\n",
      "northwestterritories 언어 책은 23개로 평균 평점은 6.6521739130434785\n",
      "qubec 언어 책은 16개로 평균 평점은 7.25\n",
      "rhodeisland 언어 책은 662개로 평균 평점은 7.016616314199395\n",
      "delaware 언어 책은 540개로 평균 평점은 7.344444444444444\n",
      "nunavut 언어 책은 6개로 평균 평점은 6.833333333333333\n",
      "abruzzo 언어 책은 17개로 평균 평점은 7.117647058823529\n",
      "travelling 언어 책은 5개로 평균 평점은 8.6\n",
      "yukon 언어 책은 3개로 평균 평점은 4.333333333333333\n",
      "bc 언어 책은 7개로 평균 평점은 6.714285714285714\n",
      "newjersey 언어 책은 5627개로 평균 평점은 7.038030922338724\n",
      "alabama 언어 책은 2259개로 평균 평점은 6.957060646303674\n",
      "california 언어 책은 30318개로 평균 평점은 7.102447390988852\n",
      "private 언어 책은 2개로 평균 평점은 8.0\n",
      "oregon 언어 책은 6635개로 평균 평점은 7.203165033911078\n",
      "pennsylvania 언어 책은 8299개로 평균 평점은 6.864080009639715\n",
      "florida 언어 책은 9288개로 평균 평점은 7.3185831180017225\n",
      "hessen 언어 책은 1203개로 평균 평점은 7.238570241064006\n",
      "illinois 언어 책은 8176개로 평균 평점은 6.924412915851272\n",
      "mississippi 언어 책은 451개로 평균 평점은 7.206208425720621\n",
      "australiancapitalterritory 언어 책은 244개로 평균 평점은 6.237704918032787\n",
      "arizona 언어 책은 3619개로 평균 평점은 7.3669521967394305\n",
      "toscana 언어 책은 195개로 평균 평점은 7.512820512820513\n",
      "newbrunswickalberta 언어 책은 1개로 평균 평점은 4.0\n",
      "washington 언어 책은 8170개로 평균 평점은 7.096450428396573\n",
      "no 언어 책은 1개로 평균 평점은 10.0\n",
      "niagrafalls 언어 책은 1개로 평균 평점은 1.0\n",
      "NULL 언어 책은 8718개로 평균 평점은 6.86843312686396\n"
     ]
    }
   ],
   "source": [
    "user_rating = pd.merge(train,users, how='right',on='user_id')\n",
    "user_rating.dropna(subset=['rating'], inplace = True)\n",
    "print('책 전체 평균 평점은', book_rating['rating'].mean())\n",
    "for i in user_rating[user_rating['location_country'] == 'canada'].groupby('location_state')['rating'].count().sort_values(ascending=False).index:\n",
    "    tem = user_rating['rating'][user_rating['location_state'] == i]\n",
    "    _mean = tem.mean()\n",
    "    cnt = tem.count()\n",
    "    print(f'{i} 언어 책은 {cnt}개로 평균 평점은 {_mean}')\n",
    "\n",
    "tem = user_rating['rating'][user_rating['location_state'].isna()]\n",
    "_mean = tem.mean()\n",
    "cnt = tem.count()\n",
    "print(f'NULL 언어 책은 {cnt}개로 평균 평점은 {_mean}')"
   ]
  },
  {
   "cell_type": "code",
   "execution_count": 242,
   "id": "bba01c94",
   "metadata": {},
   "outputs": [],
   "source": [
    "def _fillna(x):\n",
    "    if pd.isna(x['location_country']):\n",
    "        # 만약 나라가 기록 안되있는 경우        \n",
    "        if pd.isna(x['location_city']):\n",
    "            # 도시까지 없다면 모든 정보가 없음. 최빈값 california 사용.\n",
    "            return 'california'\n",
    "        else:\n",
    "            tem = users['location_state'][users['location_city'] == x['location_city']].value_counts()\n",
    "            if len(tem) == 0: \n",
    "                # 만약 주 이름이 없는 도시이면 주이름을 주 이름으로 사용.\n",
    "                return x['location_city'] \n",
    "            else:\n",
    "                # 그 도시에서 가장 자주 쓰이는 주 이름 사용.\n",
    "                return tem.index[0]\n",
    "\n",
    "    else:\n",
    "        tem = users['location_state'][users['location_country'] == x['location_country']].value_counts()\n",
    "        if len(tem) == 0: \n",
    "            # 만약 주 이름이 없는 나라이면 나라이름을 주 이름으로 사용.\n",
    "            return x['location_country'] \n",
    "        else:\n",
    "            # 그 나라에서 가장 자주 쓰이는 주 이름 사용.\n",
    "            return tem.index[0]\n"
   ]
  },
  {
   "cell_type": "code",
   "execution_count": 243,
   "id": "7224712f",
   "metadata": {},
   "outputs": [],
   "source": [
    "users['fix_location_state'] = users.apply(lambda x : _fillna(x) if pd.isna(x['location_state']) else x['location_state'], axis = 1)"
   ]
  },
  {
   "cell_type": "code",
   "execution_count": 244,
   "id": "f56b7525",
   "metadata": {},
   "outputs": [
    {
     "data": {
      "text/html": [
       "<div>\n",
       "<style scoped>\n",
       "    .dataframe tbody tr th:only-of-type {\n",
       "        vertical-align: middle;\n",
       "    }\n",
       "\n",
       "    .dataframe tbody tr th {\n",
       "        vertical-align: top;\n",
       "    }\n",
       "\n",
       "    .dataframe thead th {\n",
       "        text-align: right;\n",
       "    }\n",
       "</style>\n",
       "<table border=\"1\" class=\"dataframe\">\n",
       "  <thead>\n",
       "    <tr style=\"text-align: right;\">\n",
       "      <th></th>\n",
       "      <th>user_id</th>\n",
       "      <th>location</th>\n",
       "      <th>age</th>\n",
       "      <th>location_city</th>\n",
       "      <th>location_state</th>\n",
       "      <th>location_country</th>\n",
       "      <th>fix_location_state</th>\n",
       "    </tr>\n",
       "  </thead>\n",
       "  <tbody>\n",
       "    <tr>\n",
       "      <th>633</th>\n",
       "      <td>271622</td>\n",
       "      <td>malmok,na,aruba</td>\n",
       "      <td>NaN</td>\n",
       "      <td>malmok</td>\n",
       "      <td>NaN</td>\n",
       "      <td>aruba</td>\n",
       "      <td>aruba</td>\n",
       "    </tr>\n",
       "    <tr>\n",
       "      <th>6632</th>\n",
       "      <td>60081</td>\n",
       "      <td>malmok,na,aruba</td>\n",
       "      <td>NaN</td>\n",
       "      <td>malmok</td>\n",
       "      <td>NaN</td>\n",
       "      <td>aruba</td>\n",
       "      <td>aruba</td>\n",
       "    </tr>\n",
       "    <tr>\n",
       "      <th>47152</th>\n",
       "      <td>247783</td>\n",
       "      <td>na,na,aruba</td>\n",
       "      <td>14.0</td>\n",
       "      <td>NaN</td>\n",
       "      <td>NaN</td>\n",
       "      <td>aruba</td>\n",
       "      <td>aruba</td>\n",
       "    </tr>\n",
       "  </tbody>\n",
       "</table>\n",
       "</div>"
      ],
      "text/plain": [
       "       user_id         location   age location_city location_state  \\\n",
       "633     271622  malmok,na,aruba   NaN        malmok            NaN   \n",
       "6632     60081  malmok,na,aruba   NaN        malmok            NaN   \n",
       "47152   247783      na,na,aruba  14.0           NaN            NaN   \n",
       "\n",
       "      location_country fix_location_state  \n",
       "633              aruba              aruba  \n",
       "6632             aruba              aruba  \n",
       "47152            aruba              aruba  "
      ]
     },
     "execution_count": 244,
     "metadata": {},
     "output_type": "execute_result"
    }
   ],
   "source": [
    "users[users['location_country'] == 'aruba']"
   ]
  },
  {
   "cell_type": "code",
   "execution_count": 252,
   "id": "06e481ab",
   "metadata": {},
   "outputs": [
    {
     "data": {
      "text/plain": [
       "california       6976\n",
       "ontario          2520\n",
       "texas            2507\n",
       "newyork          2402\n",
       "england          2298\n",
       "                 ... \n",
       "catalua            11\n",
       "crdoba             11\n",
       "paysdelaloire      11\n",
       "hampshire          11\n",
       "fribourg           11\n",
       "Name: fix_location_state, Length: 222, dtype: int64"
      ]
     },
     "execution_count": 252,
     "metadata": {},
     "output_type": "execute_result"
    }
   ],
   "source": [
    "tem = users['fix_location_state'].value_counts()\n",
    "tem[tem > 10]"
   ]
  },
  {
   "cell_type": "code",
   "execution_count": 174,
   "id": "921fd209",
   "metadata": {},
   "outputs": [
    {
     "data": {
      "text/plain": [
       "Index(['aberdeenshire', 'madagascar', 'massachusetts', 'metromanila',\n",
       "       'middlesex', 'minnesota', 'mongolia', 'montana', 'mozambique',\n",
       "       'naontheroad', 'newbrunswick', 'newfoundland', 'newhampshire',\n",
       "       'newjersey', 'newmexico', 'niedersachsen', 'northyorkshire',\n",
       "       'nottinghamshire', 'zambia', 'losestadosunidosdenorteamerica'],\n",
       "      dtype='object', name='location_country')"
      ]
     },
     "execution_count": 174,
     "metadata": {},
     "output_type": "execute_result"
    }
   ],
   "source": [
    "users.groupby('location_country')['user_id'].count().sort_values(ascending=True)[:20].index"
   ]
  },
  {
   "cell_type": "code",
   "execution_count": 31,
   "id": "3d63c886",
   "metadata": {},
   "outputs": [],
   "source": [
    "user_rating = pd.merge(train,users, how='right',on='user_id')\n",
    "user_rating.dropna(subset=['rating'], inplace = True)"
   ]
  },
  {
   "cell_type": "code",
   "execution_count": 32,
   "id": "1d7d370c",
   "metadata": {},
   "outputs": [
    {
     "name": "stdout",
     "output_type": "stream",
     "text": [
      "0 ~ 10 까지 출판된 책 623 개의 평균 평점은 6.73354735152488 입니다.\n",
      "10 ~ 20 까지 출판된 책 12034 개의 평균 평점은 7.111268073790925 입니다.\n",
      "20 ~ 30 까지 출판된 책 53141 개의 평균 평점은 7.248565138029017 입니다.\n",
      "30 ~ 35 까지 출판된 책 30681 개의 평균 평점은 7.033343111371859 입니다.\n",
      "35 ~ 40 까지 출판된 책 22746 개의 평균 평점은 7.155236085465576 입니다.\n",
      "40 ~ 50 까지 출판된 책 38489 개의 평균 평점은 7.261295435059368 입니다.\n",
      "50 ~ 100 까지 출판된 책 33299 개의 평균 평점은 7.386738340490705 입니다.\n",
      "NULL 나이 책은 92662개로 평균 평점은 6.735403941205672\n"
     ]
    }
   ],
   "source": [
    "pred = 0\n",
    "for i in [10, 20, 30, 35, 40, 50, 100]:\n",
    "    tem = user_rating['rating'][(user_rating['age'] < i) & (user_rating['age'] > pred)]\n",
    "    _mean = tem.mean()\n",
    "    cnt =  len(tem)\n",
    "    print(f'{pred} ~ {i} 까지 출판된 책 {cnt} 개의 평균 평점은 {_mean} 입니다.')\n",
    "    pred = i\n",
    "\n",
    "tem = user_rating['rating'][user_rating['age'].isna()]\n",
    "_mean = tem.mean()\n",
    "cnt = tem.count()\n",
    "print(f'NULL 나이 책은 {cnt}개로 평균 평점은 {_mean}')"
   ]
  },
  {
   "cell_type": "code",
   "execution_count": 36,
   "id": "8d271448",
   "metadata": {},
   "outputs": [
    {
     "data": {
      "text/plain": [
       "6.761904761904762"
      ]
     },
     "execution_count": 36,
     "metadata": {},
     "output_type": "execute_result"
    }
   ],
   "source": [
    "user_rating['rating'][(user_rating['age'].isna()) & (user_rating['location_state'].isna())].mean()"
   ]
  },
  {
   "cell_type": "code",
   "execution_count": null,
   "id": "0e34931e",
   "metadata": {},
   "outputs": [],
   "source": []
  }
 ],
 "metadata": {
  "kernelspec": {
   "display_name": "Python 3.8.5 ('base')",
   "language": "python",
   "name": "python3"
  },
  "language_info": {
   "codemirror_mode": {
    "name": "ipython",
    "version": 3
   },
   "file_extension": ".py",
   "mimetype": "text/x-python",
   "name": "python",
   "nbconvert_exporter": "python",
   "pygments_lexer": "ipython3",
   "version": "3.8.5"
  },
  "vscode": {
   "interpreter": {
    "hash": "d4d1e4263499bec80672ea0156c357c1ee493ec2b1c70f0acce89fc37c4a6abe"
   }
  }
 },
 "nbformat": 4,
 "nbformat_minor": 5
}
