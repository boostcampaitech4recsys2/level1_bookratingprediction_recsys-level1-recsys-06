{
 "cells": [
  {
   "cell_type": "code",
   "execution_count": 1,
   "metadata": {},
   "outputs": [],
   "source": [
    "import pandas as pd\n",
    "import numpy as np\n",
    "import seaborn as sns\n",
    "import matplotlib.pyplot as plt\n",
    "import math\n",
    "import tqdm\n",
    "import pdb\n",
    "from scipy.sparse import csr_matrix, linalg\n",
    "from sklearn.model_selection import train_test_split\n",
    "from sklearn.metrics import mean_squared_error\n",
    "import warnings\n",
    "\n",
    "import pandas as pd\n",
    "import numpy as np\n",
    "from sklearn.linear_model import LinearRegression\n",
    "from sklearn.model_selection import train_test_split\n",
    "from sklearn.preprocessing import OneHotEncoder\n",
    "from sklearn.metrics import mean_squared_error, r2_score\n",
    "\n",
    "import random\n",
    "import os\n",
    "\n",
    "import optuna\n",
    "from optuna import Trial, visualization\n",
    "from optuna.samplers import TPESampler\n",
    "\n",
    "from sklearn.model_selection import train_test_split\n",
    "from catboost import CatBoostRegressor\n",
    "\n",
    "from sklearn.metrics import mean_absolute_error\n",
    "\n",
    "warnings.filterwarnings(action='ignore')"
   ]
  },
  {
   "cell_type": "code",
   "execution_count": 158,
   "metadata": {},
   "outputs": [],
   "source": [
    "# pip install optuna\n",
    "# optuna.trial.Trial.suggest_categorical() : 리스트 범위 내에서 값을 선택한다.\n",
    "# optuna.trial.Trial.suggest_int() : 범위 내에서 정수형 값을 선택한다.\n",
    "# optuna.trial.Trial.suggest_float() : 범위 내에서 소수형 값을 선택한다.\n",
    "# optuna.trial.Trial.suggest_uniform() : 범위 내에서 균일분포 값을 선택한다.\n",
    "# optuna.trial.Trial.suggest_discrete_uniform() : 범위 내에서 이산 균일분포 값을 선택한다.\n",
    "# optuna.trial.Trial.suggest_loguniform() : 범위 내에서 로그 함수 값을 선택한다."
   ]
  },
  {
   "cell_type": "code",
   "execution_count": 2,
   "metadata": {},
   "outputs": [
    {
     "name": "stdout",
     "output_type": "stream",
     "text": [
      "users shape:  (68092, 3)\n",
      "books shape:  (149570, 15)\n",
      "train_ratings shape:  (306795, 3)\n"
     ]
    }
   ],
   "source": [
    "path= '../data/'\n",
    "users = pd.read_csv(path+'users.csv')\n",
    "books = pd.read_csv(path+'ksy_books_img.csv')\n",
    "train_ratings = pd.read_csv(path+'train_ratings.csv')\n",
    "test_ratings = pd.read_csv(path+'test_ratings.csv')\n",
    "submit = pd.read_csv(path + 'sample_submission.csv')\n",
    "\n",
    "print('users shape: ', users.shape)\n",
    "print('books shape: ', books.shape)\n",
    "print('train_ratings shape: ', train_ratings.shape)"
   ]
  },
  {
   "cell_type": "code",
   "execution_count": 3,
   "metadata": {},
   "outputs": [],
   "source": [
    "def rmse(real: list, predict: list) -> float:\n",
    "    pred = np.array(predict)\n",
    "    return np.sqrt(np.mean((real-pred) ** 2))\n",
    "\n",
    "SEED = 42\n",
    "def seed_everything(seed: int = 42):\n",
    "    random.seed(seed)\n",
    "    np.random.seed(seed)\n",
    "    os.environ[\"PYTHONHASHSEED\"] = str(seed)\n",
    "\n",
    "seed_everything(SEED)\n"
   ]
  },
  {
   "cell_type": "markdown",
   "metadata": {},
   "source": [
    "# 전처리"
   ]
  },
  {
   "cell_type": "code",
   "execution_count": 4,
   "metadata": {},
   "outputs": [],
   "source": [
    "users['location_city'] = users['location'].apply(lambda x: x.split(',')[0])\n",
    "users['location_state'] = users['location'].apply(lambda x: x.split(',')[1])\n",
    "users['location_country'] = users['location'].apply(lambda x: x.split(',')[2])\n",
    "users = users.drop(['location'], axis=1)"
   ]
  },
  {
   "cell_type": "code",
   "execution_count": 5,
   "metadata": {},
   "outputs": [],
   "source": [
    "ratings = pd.concat([train_ratings, test_ratings]).reset_index(drop=True)\n",
    "books = books[['isbn', 'book_author', 'publisher', 'language', 'category', 'v1','v2','v3','v4','v5']]\n",
    "context_df = ratings.merge(users, on='user_id', how='left').merge(books, on='isbn', how='left')\n",
    "train_df = train_ratings.merge(users, on='user_id', how='left').merge(books, on='isbn', how='left')\n",
    "test_df = test_ratings.merge(users, on='user_id', how='left').merge(books, on='isbn', how='left')"
   ]
  },
  {
   "cell_type": "code",
   "execution_count": 6,
   "metadata": {},
   "outputs": [],
   "source": [
    "loc_city2idx = {v:k for k,v in enumerate(context_df['location_city'].unique())}\n",
    "loc_state2idx = {v:k for k,v in enumerate(context_df['location_state'].unique())}\n",
    "loc_country2idx = {v:k for k,v in enumerate(context_df['location_country'].unique())}"
   ]
  },
  {
   "cell_type": "code",
   "execution_count": 7,
   "metadata": {},
   "outputs": [],
   "source": [
    "train_df['location_city'] = train_df['location_city'].map(loc_city2idx)\n",
    "train_df['location_state'] = train_df['location_state'].map(loc_state2idx)\n",
    "train_df['location_country'] = train_df['location_country'].map(loc_country2idx)\n",
    "\n",
    "test_df['location_city'] = test_df['location_city'].map(loc_city2idx)\n",
    "test_df['location_state'] = test_df['location_state'].map(loc_state2idx)\n",
    "test_df['location_country'] = test_df['location_country'].map(loc_country2idx)"
   ]
  },
  {
   "cell_type": "code",
   "execution_count": 8,
   "metadata": {},
   "outputs": [],
   "source": [
    "def age_map(x: int) -> int:\n",
    "    x = int(x)\n",
    "    if x < 20:\n",
    "        return 1\n",
    "    elif x >= 20 and x < 30:\n",
    "        return 2\n",
    "    elif x >= 30 and x < 40:\n",
    "        return 3\n",
    "    elif x >= 40 and x < 50:\n",
    "        return 4\n",
    "    elif x >= 50 and x < 60: \n",
    "        return 5\n",
    "    else:\n",
    "        return 6"
   ]
  },
  {
   "cell_type": "code",
   "execution_count": 9,
   "metadata": {},
   "outputs": [],
   "source": [
    "train_df['age'] = train_df['age'].fillna(int(train_df['age'].mean()))\n",
    "train_df['age'] = train_df['age'].apply(age_map)\n",
    "test_df['age'] = test_df['age'].fillna(int(test_df['age'].mean()))\n",
    "test_df['age'] = test_df['age'].apply(age_map)"
   ]
  },
  {
   "cell_type": "code",
   "execution_count": 10,
   "metadata": {},
   "outputs": [],
   "source": [
    "category2idx = {v:k for k,v in enumerate(context_df['category'].unique())}\n",
    "publisher2idx = {v:k for k,v in enumerate(context_df['publisher'].unique())}\n",
    "language2idx = {v:k for k,v in enumerate(context_df['language'].unique())}\n",
    "author2idx = {v:k for k,v in enumerate(context_df['book_author'].unique())}"
   ]
  },
  {
   "cell_type": "code",
   "execution_count": 11,
   "metadata": {},
   "outputs": [],
   "source": [
    "train_df['category'] = train_df['category'].map(category2idx)\n",
    "train_df['publisher'] = train_df['publisher'].map(publisher2idx)\n",
    "train_df['language'] = train_df['language'].map(language2idx)\n",
    "train_df['book_author'] = train_df['book_author'].map(author2idx)\n",
    "\n",
    "test_df['category'] = test_df['category'].map(category2idx)\n",
    "test_df['publisher'] = test_df['publisher'].map(publisher2idx)\n",
    "test_df['language'] = test_df['language'].map(language2idx)\n",
    "test_df['book_author'] = test_df['book_author'].map(author2idx)"
   ]
  },
  {
   "cell_type": "code",
   "execution_count": 12,
   "metadata": {},
   "outputs": [],
   "source": [
    "train_df['id'] = train_df['user_id'].copy()\n",
    "test_df['id'] = test_df['user_id'].copy()\n",
    "\n",
    "train_df['bn'] = train_df['isbn'].copy()\n",
    "test_df['bn'] = test_df['isbn'].copy()"
   ]
  },
  {
   "cell_type": "code",
   "execution_count": 15,
   "metadata": {},
   "outputs": [],
   "source": [
    "for i in enumerate (list(train_df.columns)) :\n",
    "    ca = i[1]\n",
    "    train_df[ca] = train_df[ca].astype('str')\n",
    "    test_df[ca] = test_df[ca].astype('str')\n",
    "train_df['rating'] = train_df['rating'].astype('float64')\n",
    "test_df['rating'] = test_df['rating'].astype('float64')\n",
    "\n",
    "train_df['age'] = train_df['age'].astype('float64')\n",
    "test_df['age'] = test_df['age'].astype('float64')"
   ]
  },
  {
   "cell_type": "markdown",
   "metadata": {},
   "source": [
    "1. age는 범위가 좁기도 하고 str으로 해서 label encoding이 비효율적이라 판단 ! -> 실제로 범위도 작기 때문에 age는 수치형으로 판단하는게 분석적으로 봤을 때 더 모델 성능에 좋은 결과를 미칠 것 이라 판단\n",
    "2. catb의 수치형 모델 알고리즘은 기존의 부스팅 모델들의 알고리즘과 같이 tree로 이루어짐 "
   ]
  },
  {
   "cell_type": "code",
   "execution_count": 17,
   "metadata": {},
   "outputs": [
    {
     "name": "stdout",
     "output_type": "stream",
     "text": [
      "user_id 범주 수: 59803\n",
      "isbn 범주 수: 129777\n",
      "rating 범주 수: 10\n",
      "age 범주 수: 6\n",
      "location_city 범주 수: 11374\n",
      "location_state 범주 수: 1487\n",
      "location_country 범주 수: 318\n",
      "book_author 범주 수: 54716\n",
      "publisher 범주 수: 10408\n",
      "language 범주 수: 25\n",
      "category 범주 수: 3873\n",
      "v1 범주 수: 94177\n",
      "v2 범주 수: 94158\n",
      "v3 범주 수: 94170\n",
      "v4 범주 수: 94180\n",
      "v5 범주 수: 94172\n",
      "id 범주 수: 59803\n",
      "bn 범주 수: 129777\n"
     ]
    }
   ],
   "source": [
    "for col in train_df.columns:\n",
    "    print(f'{col} 범주 수: {train_df[col].nunique()}')"
   ]
  },
  {
   "cell_type": "code",
   "execution_count": 20,
   "metadata": {},
   "outputs": [
    {
     "name": "stdout",
     "output_type": "stream",
     "text": [
      "2.1439588616597223\n"
     ]
    }
   ],
   "source": [
    "params_cat = {\n",
    "    \"task_type\" : \"GPU\",\n",
    "    \"devices\" : '0',\n",
    "    \"random_state\": SEED,\n",
    "    'learning_rate': 0.04574578205475402, \n",
    "    'bagging_temperature': 0.12172958098369972, \n",
    "    'n_estimators': 8459, \n",
    "    'max_depth': 8, \n",
    "    'random_strength': 28, \n",
    "    'l2_leaf_reg': 1.6285455533915874e-05, \n",
    "    'min_child_samples': 18, \n",
    "    'max_bin': 441, \n",
    "    'od_type': 'Iter',\n",
    "    \"cat_features\" : list(train_df.drop(['age','rating','user_id','isbn'],axis = 1).columns),\n",
    "}\n",
    "\n",
    "X_tr, X_val, y_tr, y_val = train_test_split(train_df.drop(['rating','user_id','isbn'],axis = 1), train_df['rating'], test_size=0.2)\n",
    "\n",
    "model = CatBoostRegressor(**params_cat)\n",
    "model.fit(\n",
    "    X_tr,\n",
    "    y_tr,\n",
    "    eval_set=[(X_val, y_val)],\n",
    "    #early_stopping_rounds=10,\n",
    "    verbose=False,\n",
    ")\n",
    "\n",
    "cat_pred = model.predict(X_val)\n",
    "log_score = rmse(y_val, cat_pred)\n",
    "\n",
    "print(log_score)"
   ]
  },
  {
   "cell_type": "markdown",
   "metadata": {},
   "source": [
    "# 모델링"
   ]
  },
  {
   "cell_type": "markdown",
   "metadata": {},
   "source": [
    "## Optuna 함수 정의"
   ]
  },
  {
   "cell_type": "code",
   "execution_count": 18,
   "metadata": {},
   "outputs": [],
   "source": [
    "def objective(trial):\n",
    "  param = {\n",
    "      \n",
    "      \"random_state\":42,\n",
    "      \"objective\" : \"RMSE\",\n",
    "      'learning_rate' : trial.suggest_loguniform('learning_rate', 0.01, 0.5),\n",
    "      'bagging_temperature' :trial.suggest_loguniform('bagging_temperature', 0.01, 100.00),\n",
    "      \"n_estimators\":trial.suggest_int(\"n_estimators\", 1000, 10000),\n",
    "      \"max_depth\":trial.suggest_int(\"max_depth\", 4, 16),\n",
    "      'random_strength' :trial.suggest_int('random_strength', 0, 100),\n",
    "    #   \"colsample_bylevel\":trial.suggest_float(\"colsample_bylevel\", 0.4, 1.0), 이거 때메 GPU 안돌아감\n",
    "      \"l2_leaf_reg\":trial.suggest_float(\"l2_leaf_reg\",1e-8,3e-5),\n",
    "      \"min_child_samples\": trial.suggest_int(\"min_child_samples\", 5, 100),\n",
    "      \"max_bin\": trial.suggest_int(\"max_bin\", 200, 500),\n",
    "      'od_type': trial.suggest_categorical('od_type', ['IncToDec', 'Iter']),\n",
    "  }\n",
    "  train_x, val_x, train_y, val_y = train_test_split(train_df.drop(['rating','user_id','isbn'], axis = 1), train_df['rating'], test_size=0.2)\n",
    "\n",
    "  model = CatBoostRegressor(**param, task_type = 'GPU')\n",
    "  model.fit(\n",
    "      train_x,\n",
    "      train_y,\n",
    "      eval_set=[(val_x, val_y)],\n",
    "      cat_features = list(train_df.drop(['age','rating','user_id','isbn','v1','v2','v3','v4','v5'], axis =1).columns),\n",
    "      verbose=100\n",
    "  )\n",
    "\n",
    "  cat_pred = model.predict(val_x)\n",
    "  log_score = rmse(val_y, cat_pred)\n",
    "\n",
    "  return log_score"
   ]
  },
  {
   "cell_type": "code",
   "execution_count": 196,
   "metadata": {},
   "outputs": [],
   "source": [
    "# parameter 참고\n",
    "# params_cat = {\n",
    "#         \"task_type\" : \"GPU\",\n",
    "#         \"devices\" : '0',\n",
    "#         \"random_state\": SEED,\n",
    "#         \"learning_rate\": 0.05,\n",
    "#         \"n_estimators\": 2000,\n",
    "#         \"verbose\" : 1,\n",
    "#         \"objective\" : \"RMSE\",\n",
    "#         \"max_depth\": 10,#trial.suggest_int(\"max_depth\", 1, 16),\n",
    "#         \"colsample_bylevel\": 1,#trial.suggest_float(\"colsample_bylevel\", 0.8, 1.0),\n",
    "#         #\"subsample\": 0.8, #trial.suggest_float(\"subsample\", 0.3, 1.0), GPU 사용시 안될수도.\n",
    "#         \"min_child_samples\": 50, #trial.suggest_int(\"min_child_samples\", 5, 100),\n",
    "#         \"max_bin\": 300, #trial.suggest_int(\"max_bin\", 200, 500),\n",
    "#         \"cat_features\" : list(train_df.drop(['age','rating','user_id','isbn'], axis =1).columns),\n",
    "#         \"one_hot_max_size\" : 256\n",
    "# }"
   ]
  },
  {
   "cell_type": "markdown",
   "metadata": {},
   "source": [
    "## Optuna 활용한 모델 실행"
   ]
  },
  {
   "cell_type": "code",
   "execution_count": 197,
   "metadata": {},
   "outputs": [
    {
     "name": "stderr",
     "output_type": "stream",
     "text": [
      "\u001b[32m[I 2022-10-29 06:35:17,382]\u001b[0m A new study created in memory with name: cat_parameter_opt\u001b[0m\n"
     ]
    },
    {
     "name": "stdout",
     "output_type": "stream",
     "text": [
      "0:\tlearn: 2.4320029\ttest: 2.4355332\tbest: 2.4355332 (0)\ttotal: 13.3ms\tremaining: 1m 40s\n",
      "100:\tlearn: 2.4267088\ttest: 2.4293666\tbest: 2.4293666 (100)\ttotal: 1.13s\tremaining: 1m 23s\n",
      "bestTest = 2.429362425\n",
      "bestIteration = 170\n",
      "Shrink model to first 171 iterations.\n"
     ]
    },
    {
     "name": "stderr",
     "output_type": "stream",
     "text": [
      "\u001b[32m[I 2022-10-29 06:35:23,450]\u001b[0m Trial 0 finished with value: 2.4293627866014256 and parameters: {'learning_rate': 0.043284502212938815, 'bagging_temperature': 63.512210106407046, 'n_estimators': 7588, 'max_depth': 11, 'random_strength': 15, 'l2_leaf_reg': 4.688275664882717e-06, 'min_child_samples': 10, 'max_bin': 460, 'od_type': 'Iter'}. Best is trial 0 with value: 2.4293627866014256.\u001b[0m\n"
     ]
    },
    {
     "name": "stdout",
     "output_type": "stream",
     "text": [
      "0:\tlearn: 2.4336202\ttest: 2.4309055\tbest: 2.4309055 (0)\ttotal: 12.8ms\tremaining: 1m 48s\n",
      "100:\tlearn: 2.4283644\ttest: 2.4243908\tbest: 2.4243908 (100)\ttotal: 1.1s\tremaining: 1m 31s\n",
      "200:\tlearn: 2.4277694\ttest: 2.4234933\tbest: 2.4234933 (200)\ttotal: 2.2s\tremaining: 1m 30s\n",
      "300:\tlearn: 2.4277025\ttest: 2.4233383\tbest: 2.4233383 (300)\ttotal: 3.3s\tremaining: 1m 29s\n",
      "400:\tlearn: 2.4276945\ttest: 2.4233028\tbest: 2.4233026 (399)\ttotal: 4.4s\tremaining: 1m 28s\n",
      "500:\tlearn: 2.4276937\ttest: 2.4232923\tbest: 2.4232923 (500)\ttotal: 5.52s\tremaining: 1m 28s\n",
      "600:\tlearn: 2.4276932\ttest: 2.4232895\tbest: 2.4232894 (595)\ttotal: 6.61s\tremaining: 1m 26s\n",
      "700:\tlearn: 2.4276936\ttest: 2.4232886\tbest: 2.4232884 (695)\ttotal: 7.71s\tremaining: 1m 25s\n",
      "800:\tlearn: 2.4276939\ttest: 2.4232881\tbest: 2.4232880 (785)\ttotal: 8.79s\tremaining: 1m 24s\n",
      "900:\tlearn: 2.4276938\ttest: 2.4232881\tbest: 2.4232880 (785)\ttotal: 9.89s\tremaining: 1m 23s\n",
      "1000:\tlearn: 2.4276938\ttest: 2.4232881\tbest: 2.4232880 (785)\ttotal: 11s\tremaining: 1m 22s\n",
      "1100:\tlearn: 2.4276938\ttest: 2.4232881\tbest: 2.4232880 (785)\ttotal: 12.1s\tremaining: 1m 21s\n",
      "1200:\tlearn: 2.4276938\ttest: 2.4232881\tbest: 2.4232880 (785)\ttotal: 13.2s\tremaining: 1m 20s\n",
      "1300:\tlearn: 2.4276938\ttest: 2.4232881\tbest: 2.4232880 (785)\ttotal: 14.3s\tremaining: 1m 18s\n",
      "1400:\tlearn: 2.4276938\ttest: 2.4232881\tbest: 2.4232880 (785)\ttotal: 15.4s\tremaining: 1m 18s\n",
      "1500:\tlearn: 2.4276938\ttest: 2.4232881\tbest: 2.4232880 (785)\ttotal: 16.6s\tremaining: 1m 17s\n",
      "1600:\tlearn: 2.4276938\ttest: 2.4232881\tbest: 2.4232880 (785)\ttotal: 17.7s\tremaining: 1m 16s\n",
      "1700:\tlearn: 2.4276938\ttest: 2.4232881\tbest: 2.4232880 (785)\ttotal: 18.9s\tremaining: 1m 15s\n",
      "1800:\tlearn: 2.4276938\ttest: 2.4232881\tbest: 2.4232880 (785)\ttotal: 20s\tremaining: 1m 14s\n",
      "1900:\tlearn: 2.4276938\ttest: 2.4232881\tbest: 2.4232880 (785)\ttotal: 21.2s\tremaining: 1m 13s\n",
      "2000:\tlearn: 2.4276938\ttest: 2.4232881\tbest: 2.4232880 (785)\ttotal: 22.4s\tremaining: 1m 12s\n",
      "2100:\tlearn: 2.4276938\ttest: 2.4232881\tbest: 2.4232880 (785)\ttotal: 23.5s\tremaining: 1m 11s\n",
      "2200:\tlearn: 2.4276938\ttest: 2.4232881\tbest: 2.4232880 (785)\ttotal: 24.6s\tremaining: 1m 10s\n",
      "2300:\tlearn: 2.4276938\ttest: 2.4232881\tbest: 2.4232880 (785)\ttotal: 25.8s\tremaining: 1m 9s\n",
      "2400:\tlearn: 2.4276938\ttest: 2.4232881\tbest: 2.4232880 (785)\ttotal: 27s\tremaining: 1m 8s\n",
      "2500:\tlearn: 2.4276938\ttest: 2.4232881\tbest: 2.4232880 (785)\ttotal: 28.1s\tremaining: 1m 7s\n",
      "2600:\tlearn: 2.4276938\ttest: 2.4232881\tbest: 2.4232880 (785)\ttotal: 29.3s\tremaining: 1m 6s\n",
      "2700:\tlearn: 2.4276938\ttest: 2.4232881\tbest: 2.4232880 (785)\ttotal: 30.5s\tremaining: 1m 5s\n",
      "2800:\tlearn: 2.4276938\ttest: 2.4232881\tbest: 2.4232880 (785)\ttotal: 31.6s\tremaining: 1m 4s\n",
      "2900:\tlearn: 2.4276938\ttest: 2.4232881\tbest: 2.4232880 (785)\ttotal: 32.7s\tremaining: 1m 3s\n",
      "3000:\tlearn: 2.4276938\ttest: 2.4232881\tbest: 2.4232880 (785)\ttotal: 33.9s\tremaining: 1m 2s\n",
      "3100:\tlearn: 2.4276938\ttest: 2.4232881\tbest: 2.4232880 (785)\ttotal: 35s\tremaining: 1m\n",
      "3200:\tlearn: 2.4276938\ttest: 2.4232881\tbest: 2.4232880 (785)\ttotal: 36.2s\tremaining: 59.8s\n",
      "3300:\tlearn: 2.4276938\ttest: 2.4232881\tbest: 2.4232880 (785)\ttotal: 37.4s\tremaining: 58.8s\n",
      "3400:\tlearn: 2.4276938\ttest: 2.4232881\tbest: 2.4232880 (785)\ttotal: 38.5s\tremaining: 57.7s\n",
      "3500:\tlearn: 2.4276938\ttest: 2.4232881\tbest: 2.4232880 (785)\ttotal: 39.7s\tremaining: 56.6s\n",
      "3600:\tlearn: 2.4276938\ttest: 2.4232881\tbest: 2.4232880 (785)\ttotal: 40.8s\tremaining: 55.4s\n",
      "3700:\tlearn: 2.4276938\ttest: 2.4232881\tbest: 2.4232880 (785)\ttotal: 42s\tremaining: 54.3s\n",
      "3800:\tlearn: 2.4276938\ttest: 2.4232881\tbest: 2.4232880 (785)\ttotal: 43.1s\tremaining: 53.2s\n",
      "3900:\tlearn: 2.4276938\ttest: 2.4232881\tbest: 2.4232880 (785)\ttotal: 44.3s\tremaining: 52.1s\n",
      "4000:\tlearn: 2.4276938\ttest: 2.4232881\tbest: 2.4232880 (785)\ttotal: 45.4s\tremaining: 51s\n",
      "4100:\tlearn: 2.4276938\ttest: 2.4232881\tbest: 2.4232880 (785)\ttotal: 46.5s\tremaining: 49.8s\n",
      "4200:\tlearn: 2.4276938\ttest: 2.4232881\tbest: 2.4232880 (785)\ttotal: 47.7s\tremaining: 48.7s\n",
      "4300:\tlearn: 2.4276938\ttest: 2.4232881\tbest: 2.4232880 (785)\ttotal: 48.9s\tremaining: 47.6s\n",
      "4400:\tlearn: 2.4276938\ttest: 2.4232881\tbest: 2.4232880 (785)\ttotal: 50s\tremaining: 46.5s\n",
      "4500:\tlearn: 2.4276938\ttest: 2.4232881\tbest: 2.4232880 (785)\ttotal: 51.2s\tremaining: 45.4s\n",
      "4600:\tlearn: 2.4276938\ttest: 2.4232881\tbest: 2.4232880 (785)\ttotal: 52.3s\tremaining: 44.2s\n",
      "4700:\tlearn: 2.4276938\ttest: 2.4232881\tbest: 2.4232880 (785)\ttotal: 53.5s\tremaining: 43.1s\n",
      "4800:\tlearn: 2.4276938\ttest: 2.4232881\tbest: 2.4232880 (785)\ttotal: 54.6s\tremaining: 42s\n",
      "4900:\tlearn: 2.4276938\ttest: 2.4232881\tbest: 2.4232880 (785)\ttotal: 55.8s\tremaining: 40.9s\n",
      "5000:\tlearn: 2.4276938\ttest: 2.4232881\tbest: 2.4232880 (785)\ttotal: 57s\tremaining: 39.8s\n",
      "5100:\tlearn: 2.4276938\ttest: 2.4232881\tbest: 2.4232880 (785)\ttotal: 58.1s\tremaining: 38.7s\n",
      "5200:\tlearn: 2.4276938\ttest: 2.4232881\tbest: 2.4232880 (785)\ttotal: 59.3s\tremaining: 37.5s\n",
      "5300:\tlearn: 2.4276938\ttest: 2.4232881\tbest: 2.4232880 (785)\ttotal: 1m\tremaining: 36.4s\n",
      "5400:\tlearn: 2.4276938\ttest: 2.4232881\tbest: 2.4232880 (785)\ttotal: 1m 1s\tremaining: 35.3s\n",
      "5500:\tlearn: 2.4276938\ttest: 2.4232881\tbest: 2.4232880 (785)\ttotal: 1m 2s\tremaining: 34.1s\n",
      "5600:\tlearn: 2.4276938\ttest: 2.4232881\tbest: 2.4232880 (785)\ttotal: 1m 3s\tremaining: 33s\n",
      "5700:\tlearn: 2.4276938\ttest: 2.4232881\tbest: 2.4232880 (785)\ttotal: 1m 5s\tremaining: 31.9s\n",
      "5800:\tlearn: 2.4276938\ttest: 2.4232881\tbest: 2.4232880 (785)\ttotal: 1m 6s\tremaining: 30.7s\n",
      "5900:\tlearn: 2.4276938\ttest: 2.4232881\tbest: 2.4232880 (785)\ttotal: 1m 7s\tremaining: 29.6s\n",
      "6000:\tlearn: 2.4276938\ttest: 2.4232881\tbest: 2.4232880 (785)\ttotal: 1m 8s\tremaining: 28.5s\n",
      "6100:\tlearn: 2.4276938\ttest: 2.4232881\tbest: 2.4232880 (785)\ttotal: 1m 9s\tremaining: 27.3s\n",
      "6200:\tlearn: 2.4276938\ttest: 2.4232881\tbest: 2.4232880 (785)\ttotal: 1m 10s\tremaining: 26.2s\n",
      "6300:\tlearn: 2.4276938\ttest: 2.4232881\tbest: 2.4232880 (785)\ttotal: 1m 12s\tremaining: 25s\n",
      "6400:\tlearn: 2.4276938\ttest: 2.4232881\tbest: 2.4232880 (785)\ttotal: 1m 13s\tremaining: 23.9s\n",
      "6500:\tlearn: 2.4276938\ttest: 2.4232881\tbest: 2.4232880 (785)\ttotal: 1m 14s\tremaining: 22.8s\n",
      "6600:\tlearn: 2.4276938\ttest: 2.4232881\tbest: 2.4232880 (785)\ttotal: 1m 15s\tremaining: 21.6s\n",
      "6700:\tlearn: 2.4276938\ttest: 2.4232881\tbest: 2.4232880 (785)\ttotal: 1m 16s\tremaining: 20.5s\n",
      "6800:\tlearn: 2.4276938\ttest: 2.4232881\tbest: 2.4232880 (785)\ttotal: 1m 17s\tremaining: 19.4s\n",
      "6900:\tlearn: 2.4276938\ttest: 2.4232881\tbest: 2.4232880 (785)\ttotal: 1m 19s\tremaining: 18.2s\n",
      "7000:\tlearn: 2.4276938\ttest: 2.4232881\tbest: 2.4232880 (785)\ttotal: 1m 20s\tremaining: 17.1s\n",
      "7100:\tlearn: 2.4276938\ttest: 2.4232881\tbest: 2.4232880 (785)\ttotal: 1m 21s\tremaining: 16s\n",
      "7200:\tlearn: 2.4276938\ttest: 2.4232881\tbest: 2.4232880 (785)\ttotal: 1m 22s\tremaining: 14.8s\n",
      "7300:\tlearn: 2.4276938\ttest: 2.4232881\tbest: 2.4232880 (785)\ttotal: 1m 23s\tremaining: 13.7s\n",
      "7400:\tlearn: 2.4276938\ttest: 2.4232881\tbest: 2.4232880 (785)\ttotal: 1m 24s\tremaining: 12.5s\n",
      "7500:\tlearn: 2.4276938\ttest: 2.4232881\tbest: 2.4232880 (785)\ttotal: 1m 26s\tremaining: 11.4s\n",
      "7600:\tlearn: 2.4276938\ttest: 2.4232881\tbest: 2.4232880 (785)\ttotal: 1m 27s\tremaining: 10.2s\n",
      "7700:\tlearn: 2.4276938\ttest: 2.4232881\tbest: 2.4232880 (785)\ttotal: 1m 28s\tremaining: 9.08s\n",
      "7800:\tlearn: 2.4276938\ttest: 2.4232881\tbest: 2.4232880 (785)\ttotal: 1m 29s\tremaining: 7.93s\n",
      "7900:\tlearn: 2.4276938\ttest: 2.4232881\tbest: 2.4232880 (785)\ttotal: 1m 30s\tremaining: 6.79s\n",
      "8000:\tlearn: 2.4276938\ttest: 2.4232881\tbest: 2.4232880 (785)\ttotal: 1m 31s\tremaining: 5.64s\n",
      "8100:\tlearn: 2.4276938\ttest: 2.4232881\tbest: 2.4232880 (785)\ttotal: 1m 33s\tremaining: 4.49s\n",
      "8200:\tlearn: 2.4276938\ttest: 2.4232881\tbest: 2.4232880 (785)\ttotal: 1m 34s\tremaining: 3.34s\n",
      "8300:\tlearn: 2.4276938\ttest: 2.4232881\tbest: 2.4232880 (785)\ttotal: 1m 35s\tremaining: 2.19s\n",
      "8400:\tlearn: 2.4276938\ttest: 2.4232881\tbest: 2.4232880 (785)\ttotal: 1m 36s\tremaining: 1.04s\n",
      "8491:\tlearn: 2.4276938\ttest: 2.4232881\tbest: 2.4232880 (785)\ttotal: 1m 37s\tremaining: 0us\n",
      "bestTest = 2.423287985\n",
      "bestIteration = 785\n",
      "Shrink model to first 786 iterations.\n"
     ]
    },
    {
     "name": "stderr",
     "output_type": "stream",
     "text": [
      "\u001b[32m[I 2022-10-29 06:37:07,527]\u001b[0m Trial 1 finished with value: 2.423288113205799 and parameters: {'learning_rate': 0.01083858126934475, 'bagging_temperature': 75.7947995334801, 'n_estimators': 8492, 'max_depth': 6, 'random_strength': 18, 'l2_leaf_reg': 5.51030125050448e-06, 'min_child_samples': 34, 'max_bin': 357, 'od_type': 'IncToDec'}. Best is trial 1 with value: 2.423288113205799.\u001b[0m\n"
     ]
    },
    {
     "name": "stdout",
     "output_type": "stream",
     "text": [
      "0:\tlearn: 2.4060595\ttest: 2.4014849\tbest: 2.4014849 (0)\ttotal: 33.1ms\tremaining: 2m\n",
      "100:\tlearn: 2.1873755\ttest: 2.1566879\tbest: 2.1566879 (100)\ttotal: 2.79s\tremaining: 1m 37s\n",
      "200:\tlearn: 2.1644718\ttest: 2.1490083\tbest: 2.1490083 (200)\ttotal: 5.36s\tremaining: 1m 31s\n",
      "300:\tlearn: 2.1461125\ttest: 2.1472575\tbest: 2.1472575 (300)\ttotal: 7.84s\tremaining: 1m 26s\n",
      "400:\tlearn: 2.1307500\ttest: 2.1463107\tbest: 2.1462307 (394)\ttotal: 10.4s\tremaining: 1m 23s\n",
      "500:\tlearn: 2.1173575\ttest: 2.1461277\tbest: 2.1457788 (431)\ttotal: 12.9s\tremaining: 1m 20s\n",
      "600:\tlearn: 2.1036081\ttest: 2.1456186\tbest: 2.1455404 (596)\ttotal: 15.4s\tremaining: 1m 17s\n",
      "700:\tlearn: 2.0909264\ttest: 2.1456178\tbest: 2.1453697 (620)\ttotal: 17.9s\tremaining: 1m 14s\n",
      "800:\tlearn: 2.0784078\ttest: 2.1455520\tbest: 2.1453697 (620)\ttotal: 20.4s\tremaining: 1m 12s\n",
      "900:\tlearn: 2.0669292\ttest: 2.1460309\tbest: 2.1453697 (620)\ttotal: 23s\tremaining: 1m 9s\n",
      "1000:\tlearn: 2.0557220\ttest: 2.1467363\tbest: 2.1453697 (620)\ttotal: 25.5s\tremaining: 1m 6s\n",
      "1100:\tlearn: 2.0442418\ttest: 2.1474567\tbest: 2.1453697 (620)\ttotal: 28s\tremaining: 1m 4s\n",
      "1200:\tlearn: 2.0341062\ttest: 2.1480040\tbest: 2.1453697 (620)\ttotal: 30.6s\tremaining: 1m 1s\n",
      "1300:\tlearn: 2.0234401\ttest: 2.1486266\tbest: 2.1453697 (620)\ttotal: 33s\tremaining: 59.1s\n",
      "1400:\tlearn: 2.0127304\ttest: 2.1491980\tbest: 2.1453697 (620)\ttotal: 35.5s\tremaining: 56.5s\n",
      "1500:\tlearn: 2.0019900\ttest: 2.1497089\tbest: 2.1453697 (620)\ttotal: 38.1s\tremaining: 54s\n",
      "1600:\tlearn: 1.9916000\ttest: 2.1501703\tbest: 2.1453697 (620)\ttotal: 40.6s\tremaining: 51.5s\n",
      "1700:\tlearn: 1.9825802\ttest: 2.1506251\tbest: 2.1453697 (620)\ttotal: 43.2s\tremaining: 49s\n",
      "1800:\tlearn: 1.9725904\ttest: 2.1512655\tbest: 2.1453697 (620)\ttotal: 45.7s\tremaining: 46.4s\n",
      "1900:\tlearn: 1.9631680\ttest: 2.1526153\tbest: 2.1453697 (620)\ttotal: 48.2s\tremaining: 43.8s\n",
      "2000:\tlearn: 1.9542978\ttest: 2.1531296\tbest: 2.1453697 (620)\ttotal: 50.7s\tremaining: 41.2s\n",
      "2100:\tlearn: 1.9450066\ttest: 2.1539446\tbest: 2.1453697 (620)\ttotal: 53.2s\tremaining: 38.7s\n",
      "2200:\tlearn: 1.9361540\ttest: 2.1546623\tbest: 2.1453697 (620)\ttotal: 55.7s\tremaining: 36.2s\n",
      "2300:\tlearn: 1.9268333\ttest: 2.1554493\tbest: 2.1453697 (620)\ttotal: 58.2s\tremaining: 33.6s\n",
      "2400:\tlearn: 1.9177394\ttest: 2.1562459\tbest: 2.1453697 (620)\ttotal: 1m\tremaining: 31.1s\n",
      "2500:\tlearn: 1.9094546\ttest: 2.1570823\tbest: 2.1453697 (620)\ttotal: 1m 3s\tremaining: 28.5s\n",
      "2600:\tlearn: 1.9013787\ttest: 2.1577787\tbest: 2.1453697 (620)\ttotal: 1m 5s\tremaining: 26s\n",
      "2700:\tlearn: 1.8930038\ttest: 2.1586311\tbest: 2.1453697 (620)\ttotal: 1m 8s\tremaining: 23.5s\n",
      "2800:\tlearn: 1.8846413\ttest: 2.1594117\tbest: 2.1453697 (620)\ttotal: 1m 10s\tremaining: 21s\n",
      "2900:\tlearn: 1.8759656\ttest: 2.1605281\tbest: 2.1453697 (620)\ttotal: 1m 13s\tremaining: 18.5s\n",
      "3000:\tlearn: 1.8680489\ttest: 2.1610423\tbest: 2.1453697 (620)\ttotal: 1m 16s\tremaining: 15.9s\n",
      "3100:\tlearn: 1.8599460\ttest: 2.1616173\tbest: 2.1453697 (620)\ttotal: 1m 18s\tremaining: 13.4s\n",
      "3200:\tlearn: 1.8525495\ttest: 2.1623083\tbest: 2.1453697 (620)\ttotal: 1m 21s\tremaining: 10.9s\n",
      "3300:\tlearn: 1.8443657\ttest: 2.1633855\tbest: 2.1453697 (620)\ttotal: 1m 23s\tremaining: 8.33s\n",
      "3400:\tlearn: 1.8364628\ttest: 2.1643973\tbest: 2.1453697 (620)\ttotal: 1m 26s\tremaining: 5.79s\n",
      "3500:\tlearn: 1.8281462\ttest: 2.1651684\tbest: 2.1453697 (620)\ttotal: 1m 28s\tremaining: 3.25s\n",
      "3600:\tlearn: 1.8213143\ttest: 2.1660843\tbest: 2.1453697 (620)\ttotal: 1m 31s\tremaining: 711ms\n",
      "3628:\tlearn: 1.8192066\ttest: 2.1662806\tbest: 2.1453697 (620)\ttotal: 1m 32s\tremaining: 0us\n",
      "bestTest = 2.145369728\n",
      "bestIteration = 620\n",
      "Shrink model to first 621 iterations.\n"
     ]
    },
    {
     "name": "stderr",
     "output_type": "stream",
     "text": [
      "\u001b[32m[I 2022-10-29 06:38:45,448]\u001b[0m Trial 2 finished with value: 2.145369597361437 and parameters: {'learning_rate': 0.10952662748632554, 'bagging_temperature': 0.03613894271216528, 'n_estimators': 3629, 'max_depth': 8, 'random_strength': 46, 'l2_leaf_reg': 2.355742708217648e-05, 'min_child_samples': 24, 'max_bin': 354, 'od_type': 'IncToDec'}. Best is trial 2 with value: 2.145369597361437.\u001b[0m\n"
     ]
    },
    {
     "name": "stdout",
     "output_type": "stream",
     "text": [
      "0:\tlearn: 2.3961448\ttest: 2.3994034\tbest: 2.3994034 (0)\ttotal: 502ms\tremaining: 13m 15s\n",
      "100:\tlearn: 1.9868617\ttest: 2.1611062\tbest: 2.1610978 (99)\ttotal: 46.5s\tremaining: 11m 23s\n",
      "200:\tlearn: 1.5710423\ttest: 2.1747294\tbest: 2.1602686 (119)\ttotal: 1m 34s\tremaining: 10m 53s\n",
      "300:\tlearn: 1.1673656\ttest: 2.1958181\tbest: 2.1602686 (119)\ttotal: 2m 24s\tremaining: 10m 16s\n",
      "400:\tlearn: 0.9225054\ttest: 2.2101481\tbest: 2.1602686 (119)\ttotal: 3m 12s\tremaining: 9m 28s\n",
      "500:\tlearn: 0.7604144\ttest: 2.2186528\tbest: 2.1602686 (119)\ttotal: 3m 59s\tremaining: 8m 38s\n",
      "600:\tlearn: 0.6391220\ttest: 2.2253047\tbest: 2.1602686 (119)\ttotal: 4m 46s\tremaining: 7m 48s\n",
      "700:\tlearn: 0.5405022\ttest: 2.2306011\tbest: 2.1602686 (119)\ttotal: 5m 32s\tremaining: 6m 59s\n",
      "800:\tlearn: 0.4691142\ttest: 2.2346676\tbest: 2.1602686 (119)\ttotal: 6m 19s\tremaining: 6m 11s\n",
      "900:\tlearn: 0.4095605\ttest: 2.2376280\tbest: 2.1602686 (119)\ttotal: 7m 5s\tremaining: 5m 23s\n",
      "1000:\tlearn: 0.3577025\ttest: 2.2403860\tbest: 2.1602686 (119)\ttotal: 7m 52s\tremaining: 4m 35s\n",
      "1100:\tlearn: 0.3198397\ttest: 2.2425508\tbest: 2.1602686 (119)\ttotal: 8m 38s\tremaining: 3m 47s\n",
      "1200:\tlearn: 0.2859377\ttest: 2.2443115\tbest: 2.1602686 (119)\ttotal: 9m 24s\tremaining: 3m\n",
      "1300:\tlearn: 0.2573195\ttest: 2.2455889\tbest: 2.1602686 (119)\ttotal: 10m 10s\tremaining: 2m 13s\n",
      "1400:\tlearn: 0.2309039\ttest: 2.2468973\tbest: 2.1602686 (119)\ttotal: 10m 57s\tremaining: 1m 26s\n",
      "1500:\tlearn: 0.2108788\ttest: 2.2477947\tbest: 2.1602686 (119)\ttotal: 11m 44s\tremaining: 39.4s\n",
      "1584:\tlearn: 0.1955982\ttest: 2.2484336\tbest: 2.1602686 (119)\ttotal: 12m 24s\tremaining: 0us\n",
      "bestTest = 2.160268589\n",
      "bestIteration = 119\n",
      "Shrink model to first 120 iterations.\n"
     ]
    },
    {
     "name": "stderr",
     "output_type": "stream",
     "text": [
      "\u001b[32m[I 2022-10-29 06:51:17,368]\u001b[0m Trial 3 finished with value: 2.160268517593712 and parameters: {'learning_rate': 0.10769622478263129, 'bagging_temperature': 0.04809461967501574, 'n_estimators': 1585, 'max_depth': 16, 'random_strength': 97, 'l2_leaf_reg': 2.425383647001267e-05, 'min_child_samples': 34, 'max_bin': 229, 'od_type': 'IncToDec'}. Best is trial 2 with value: 2.145369597361437.\u001b[0m\n"
     ]
    },
    {
     "name": "stdout",
     "output_type": "stream",
     "text": [
      "0:\tlearn: 2.4258904\ttest: 2.4371293\tbest: 2.4371293 (0)\ttotal: 299ms\tremaining: 6m 31s\n",
      "100:\tlearn: 2.1915970\ttest: 2.2133663\tbest: 2.2133663 (100)\ttotal: 25.9s\tremaining: 5m 10s\n",
      "200:\tlearn: 2.1306136\ttest: 2.1767717\tbest: 2.1767717 (200)\ttotal: 51s\tremaining: 4m 41s\n",
      "300:\tlearn: 2.0901990\ttest: 2.1669372\tbest: 2.1669372 (300)\ttotal: 1m 16s\tremaining: 4m 15s\n",
      "400:\tlearn: 2.0585726\ttest: 2.1626846\tbest: 2.1626846 (400)\ttotal: 1m 41s\tremaining: 3m 50s\n",
      "500:\tlearn: 2.0264155\ttest: 2.1598561\tbest: 2.1598531 (499)\ttotal: 2m 7s\tremaining: 3m 25s\n",
      "600:\tlearn: 2.0008181\ttest: 2.1581574\tbest: 2.1581574 (600)\ttotal: 2m 32s\tremaining: 3m\n",
      "700:\tlearn: 1.9731030\ttest: 2.1571374\tbest: 2.1571272 (699)\ttotal: 2m 58s\tremaining: 2m 35s\n",
      "800:\tlearn: 1.9447132\ttest: 2.1561191\tbest: 2.1561108 (799)\ttotal: 3m 24s\tremaining: 2m 9s\n",
      "900:\tlearn: 1.9001368\ttest: 2.1559826\tbest: 2.1559621 (885)\ttotal: 3m 50s\tremaining: 1m 44s\n",
      "1000:\tlearn: 1.8356553\ttest: 2.1561883\tbest: 2.1559158 (902)\ttotal: 4m 17s\tremaining: 1m 19s\n",
      "1100:\tlearn: 1.7730430\ttest: 2.1567083\tbest: 2.1559158 (902)\ttotal: 4m 45s\tremaining: 53.9s\n",
      "1200:\tlearn: 1.7084098\ttest: 2.1577817\tbest: 2.1559158 (902)\ttotal: 5m 12s\tremaining: 28.1s\n",
      "1300:\tlearn: 1.6457552\ttest: 2.1590259\tbest: 2.1559158 (902)\ttotal: 5m 39s\tremaining: 2.09s\n",
      "1308:\tlearn: 1.6418703\ttest: 2.1590862\tbest: 2.1559158 (902)\ttotal: 5m 41s\tremaining: 0us\n",
      "bestTest = 2.15591579\n",
      "bestIteration = 902\n",
      "Shrink model to first 903 iterations.\n"
     ]
    },
    {
     "name": "stderr",
     "output_type": "stream",
     "text": [
      "\u001b[32m[I 2022-10-29 06:57:11,335]\u001b[0m Trial 4 finished with value: 2.155915630615098 and parameters: {'learning_rate': 0.016119044727609194, 'bagging_temperature': 0.9565499215943827, 'n_estimators': 1309, 'max_depth': 15, 'random_strength': 26, 'l2_leaf_reg': 1.987904330777592e-05, 'min_child_samples': 34, 'max_bin': 356, 'od_type': 'IncToDec'}. Best is trial 2 with value: 2.145369597361437.\u001b[0m\n"
     ]
    },
    {
     "name": "stdout",
     "output_type": "stream",
     "text": [
      "0:\tlearn: 2.3853113\ttest: 2.3876925\tbest: 2.3876925 (0)\ttotal: 294ms\tremaining: 46m 16s\n",
      "bestTest = 2.261379381\n",
      "bestIteration = 18\n",
      "Shrink model to first 19 iterations.\n"
     ]
    },
    {
     "name": "stderr",
     "output_type": "stream",
     "text": [
      "\u001b[32m[I 2022-10-29 06:57:26,473]\u001b[0m Trial 5 finished with value: 2.2613793970797538 and parameters: {'learning_rate': 0.4439102767051397, 'bagging_temperature': 12.60466458564947, 'n_estimators': 9456, 'max_depth': 15, 'random_strength': 60, 'l2_leaf_reg': 2.7657008308343274e-05, 'min_child_samples': 13, 'max_bin': 258, 'od_type': 'Iter'}. Best is trial 2 with value: 2.145369597361437.\u001b[0m\n"
     ]
    },
    {
     "name": "stdout",
     "output_type": "stream",
     "text": [
      "0:\tlearn: 2.4223394\ttest: 2.4175378\tbest: 2.4175378 (0)\ttotal: 28.6ms\tremaining: 4m 2s\n",
      "100:\tlearn: 2.2073604\ttest: 2.1518541\tbest: 2.1518541 (100)\ttotal: 2.52s\tremaining: 3m 28s\n",
      "200:\tlearn: 2.1940328\ttest: 2.1403892\tbest: 2.1403892 (200)\ttotal: 5.07s\tremaining: 3m 28s\n",
      "300:\tlearn: 2.1857907\ttest: 2.1366327\tbest: 2.1366327 (300)\ttotal: 7.61s\tremaining: 3m 26s\n",
      "400:\tlearn: 2.1759205\ttest: 2.1329678\tbest: 2.1329678 (400)\ttotal: 9.94s\tremaining: 3m 19s\n",
      "500:\tlearn: 2.1668219\ttest: 2.1308710\tbest: 2.1308710 (500)\ttotal: 12.3s\tremaining: 3m 14s\n",
      "600:\tlearn: 2.1593822\ttest: 2.1297260\tbest: 2.1297260 (600)\ttotal: 14.6s\tremaining: 3m 10s\n",
      "700:\tlearn: 2.1522056\ttest: 2.1287957\tbest: 2.1287935 (699)\ttotal: 17s\tremaining: 3m 7s\n",
      "800:\tlearn: 2.1457807\ttest: 2.1282427\tbest: 2.1282120 (798)\ttotal: 19.2s\tremaining: 3m 3s\n",
      "900:\tlearn: 2.1391795\ttest: 2.1276415\tbest: 2.1276415 (900)\ttotal: 21.5s\tremaining: 3m\n",
      "bestTest = 2.127248887\n",
      "bestIteration = 968\n",
      "Shrink model to first 969 iterations.\n"
     ]
    },
    {
     "name": "stderr",
     "output_type": "stream",
     "text": [
      "\u001b[32m[I 2022-10-29 06:57:56,451]\u001b[0m Trial 6 finished with value: 2.1272488865264054 and parameters: {'learning_rate': 0.04574578205475402, 'bagging_temperature': 0.12172958098369972, 'n_estimators': 8459, 'max_depth': 8, 'random_strength': 28, 'l2_leaf_reg': 1.6285455533915874e-05, 'min_child_samples': 18, 'max_bin': 441, 'od_type': 'Iter'}. Best is trial 6 with value: 2.1272488865264054.\u001b[0m\n"
     ]
    },
    {
     "name": "stdout",
     "output_type": "stream",
     "text": [
      "0:\tlearn: 2.3743016\ttest: 2.3613140\tbest: 2.3613140 (0)\ttotal: 178ms\tremaining: 3m 6s\n",
      "100:\tlearn: 1.8539967\ttest: 2.1708259\tbest: 2.1557357 (51)\ttotal: 15.3s\tremaining: 2m 23s\n",
      "200:\tlearn: 1.4293485\ttest: 2.2113904\tbest: 2.1557357 (51)\ttotal: 30.6s\tremaining: 2m 9s\n",
      "300:\tlearn: 1.1471114\ttest: 2.2380176\tbest: 2.1557357 (51)\ttotal: 45.6s\tremaining: 1m 53s\n",
      "400:\tlearn: 0.9572717\ttest: 2.2556010\tbest: 2.1557357 (51)\ttotal: 1m\tremaining: 1m 37s\n",
      "500:\tlearn: 0.8095847\ttest: 2.2686003\tbest: 2.1557357 (51)\ttotal: 1m 14s\tremaining: 1m 21s\n",
      "600:\tlearn: 0.6911573\ttest: 2.2784229\tbest: 2.1557357 (51)\ttotal: 1m 29s\tremaining: 1m 6s\n",
      "700:\tlearn: 0.5987550\ttest: 2.2855869\tbest: 2.1557357 (51)\ttotal: 1m 43s\tremaining: 51.4s\n",
      "800:\tlearn: 0.5256096\ttest: 2.2911146\tbest: 2.1557357 (51)\ttotal: 1m 57s\tremaining: 36.5s\n",
      "900:\tlearn: 0.4642785\ttest: 2.2949366\tbest: 2.1557357 (51)\ttotal: 2m 12s\tremaining: 21.7s\n",
      "1000:\tlearn: 0.4107028\ttest: 2.2980388\tbest: 2.1557357 (51)\ttotal: 2m 26s\tremaining: 7.01s\n",
      "1048:\tlearn: 0.3849384\ttest: 2.2997167\tbest: 2.1557357 (51)\ttotal: 2m 32s\tremaining: 0us\n",
      "bestTest = 2.155735655\n",
      "bestIteration = 51\n",
      "Shrink model to first 52 iterations.\n"
     ]
    },
    {
     "name": "stderr",
     "output_type": "stream",
     "text": [
      "\u001b[32m[I 2022-10-29 07:00:39,219]\u001b[0m Trial 7 finished with value: 2.1557356326416883 and parameters: {'learning_rate': 0.20512599422151362, 'bagging_temperature': 0.06235377135673159, 'n_estimators': 1049, 'max_depth': 14, 'random_strength': 71, 'l2_leaf_reg': 2.187292496954921e-05, 'min_child_samples': 79, 'max_bin': 222, 'od_type': 'IncToDec'}. Best is trial 6 with value: 2.1272488865264054.\u001b[0m\n"
     ]
    },
    {
     "name": "stdout",
     "output_type": "stream",
     "text": [
      "0:\tlearn: 2.3701434\ttest: 2.3563748\tbest: 2.3563748 (0)\ttotal: 12.7ms\tremaining: 50.3s\n",
      "100:\tlearn: 2.2052661\ttest: 2.1603003\tbest: 2.1602841 (99)\ttotal: 1.37s\tremaining: 52.7s\n",
      "200:\tlearn: 2.2004898\ttest: 2.1591831\tbest: 2.1590924 (189)\ttotal: 2.65s\tremaining: 49.8s\n",
      "300:\tlearn: 2.1966981\ttest: 2.1584772\tbest: 2.1584092 (292)\ttotal: 3.9s\tremaining: 47.7s\n",
      "400:\tlearn: 2.1935338\ttest: 2.1580386\tbest: 2.1579613 (395)\ttotal: 5.15s\tremaining: 46s\n",
      "500:\tlearn: 2.1909642\ttest: 2.1577141\tbest: 2.1576890 (496)\ttotal: 6.44s\tremaining: 44.7s\n",
      "600:\tlearn: 2.1884446\ttest: 2.1577599\tbest: 2.1575562 (523)\ttotal: 7.74s\tremaining: 43.5s\n",
      "700:\tlearn: 2.1860400\ttest: 2.1571405\tbest: 2.1571008 (698)\ttotal: 9s\tremaining: 42.1s\n",
      "800:\tlearn: 2.1838614\ttest: 2.1566422\tbest: 2.1565996 (785)\ttotal: 10.3s\tremaining: 40.7s\n",
      "900:\tlearn: 2.1818936\ttest: 2.1564554\tbest: 2.1564554 (900)\ttotal: 11.5s\tremaining: 39.4s\n",
      "1000:\tlearn: 2.1798674\ttest: 2.1564226\tbest: 2.1563184 (917)\ttotal: 12.9s\tremaining: 38.2s\n",
      "1100:\tlearn: 2.1778376\ttest: 2.1560661\tbest: 2.1560398 (1093)\ttotal: 14.2s\tremaining: 37s\n",
      "1200:\tlearn: 2.1761106\ttest: 2.1558688\tbest: 2.1558165 (1186)\ttotal: 15.4s\tremaining: 35.6s\n",
      "1300:\tlearn: 2.1741041\ttest: 2.1558157\tbest: 2.1557960 (1295)\ttotal: 16.7s\tremaining: 34.3s\n",
      "1400:\tlearn: 2.1725645\ttest: 2.1559061\tbest: 2.1556971 (1346)\ttotal: 17.9s\tremaining: 33s\n",
      "1500:\tlearn: 2.1709232\ttest: 2.1561441\tbest: 2.1556971 (1346)\ttotal: 19.3s\tremaining: 31.8s\n",
      "1600:\tlearn: 2.1691480\ttest: 2.1563006\tbest: 2.1556971 (1346)\ttotal: 20.6s\tremaining: 30.5s\n",
      "1700:\tlearn: 2.1676829\ttest: 2.1563518\tbest: 2.1556971 (1346)\ttotal: 21.9s\tremaining: 29.3s\n",
      "1800:\tlearn: 2.1661650\ttest: 2.1563483\tbest: 2.1556971 (1346)\ttotal: 23.2s\tremaining: 28.1s\n",
      "1900:\tlearn: 2.1647912\ttest: 2.1565048\tbest: 2.1556971 (1346)\ttotal: 24.5s\tremaining: 26.8s\n",
      "2000:\tlearn: 2.1636553\ttest: 2.1562239\tbest: 2.1556971 (1346)\ttotal: 26.1s\tremaining: 25.8s\n",
      "2100:\tlearn: 2.1623543\ttest: 2.1564165\tbest: 2.1556971 (1346)\ttotal: 27.4s\tremaining: 24.5s\n",
      "2200:\tlearn: 2.1609548\ttest: 2.1564752\tbest: 2.1556971 (1346)\ttotal: 28.7s\tremaining: 23.2s\n",
      "2300:\tlearn: 2.1595532\ttest: 2.1564474\tbest: 2.1556971 (1346)\ttotal: 30s\tremaining: 21.9s\n",
      "2400:\tlearn: 2.1582345\ttest: 2.1565547\tbest: 2.1556971 (1346)\ttotal: 31.4s\tremaining: 20.6s\n",
      "2500:\tlearn: 2.1568011\ttest: 2.1567093\tbest: 2.1556971 (1346)\ttotal: 32.6s\tremaining: 19.3s\n",
      "2600:\tlearn: 2.1555137\ttest: 2.1569963\tbest: 2.1556971 (1346)\ttotal: 33.9s\tremaining: 17.9s\n",
      "2700:\tlearn: 2.1543303\ttest: 2.1570357\tbest: 2.1556971 (1346)\ttotal: 35.1s\tremaining: 16.6s\n",
      "2800:\tlearn: 2.1531085\ttest: 2.1572320\tbest: 2.1556971 (1346)\ttotal: 36.4s\tremaining: 15.3s\n",
      "2900:\tlearn: 2.1518372\ttest: 2.1569586\tbest: 2.1556971 (1346)\ttotal: 37.7s\tremaining: 14s\n",
      "3000:\tlearn: 2.1506592\ttest: 2.1571904\tbest: 2.1556971 (1346)\ttotal: 38.9s\tremaining: 12.7s\n",
      "3100:\tlearn: 2.1494924\ttest: 2.1571038\tbest: 2.1556971 (1346)\ttotal: 40.2s\tremaining: 11.4s\n",
      "3200:\tlearn: 2.1483426\ttest: 2.1573601\tbest: 2.1556971 (1346)\ttotal: 41.5s\tremaining: 10.1s\n",
      "3300:\tlearn: 2.1471759\ttest: 2.1575632\tbest: 2.1556971 (1346)\ttotal: 42.8s\tremaining: 8.77s\n",
      "3400:\tlearn: 2.1460380\ttest: 2.1576959\tbest: 2.1556971 (1346)\ttotal: 44.1s\tremaining: 7.47s\n",
      "3500:\tlearn: 2.1449293\ttest: 2.1576827\tbest: 2.1556971 (1346)\ttotal: 45.3s\tremaining: 6.18s\n",
      "3600:\tlearn: 2.1438502\ttest: 2.1579540\tbest: 2.1556971 (1346)\ttotal: 46.6s\tremaining: 4.88s\n",
      "3700:\tlearn: 2.1426290\ttest: 2.1578733\tbest: 2.1556971 (1346)\ttotal: 47.8s\tremaining: 3.58s\n",
      "3800:\tlearn: 2.1414364\ttest: 2.1578626\tbest: 2.1556971 (1346)\ttotal: 49.1s\tremaining: 2.28s\n",
      "3900:\tlearn: 2.1403828\ttest: 2.1580838\tbest: 2.1556971 (1346)\ttotal: 50.3s\tremaining: 993ms\n",
      "3977:\tlearn: 2.1394866\ttest: 2.1580170\tbest: 2.1556971 (1346)\ttotal: 51.3s\tremaining: 0us\n",
      "bestTest = 2.155697145\n",
      "bestIteration = 1346\n",
      "Shrink model to first 1347 iterations.\n"
     ]
    },
    {
     "name": "stderr",
     "output_type": "stream",
     "text": [
      "\u001b[32m[I 2022-10-29 07:01:35,430]\u001b[0m Trial 8 finished with value: 2.155697292534044 and parameters: {'learning_rate': 0.29267581150621286, 'bagging_temperature': 3.1130959561221245, 'n_estimators': 3978, 'max_depth': 4, 'random_strength': 31, 'l2_leaf_reg': 9.762247827582143e-06, 'min_child_samples': 75, 'max_bin': 391, 'od_type': 'IncToDec'}. Best is trial 6 with value: 2.1272488865264054.\u001b[0m\n"
     ]
    },
    {
     "name": "stdout",
     "output_type": "stream",
     "text": [
      "0:\tlearn: 2.4296617\ttest: 2.4284289\tbest: 2.4284289 (0)\ttotal: 46.2ms\tremaining: 6m 2s\n",
      "100:\tlearn: 2.2695758\ttest: 2.2650576\tbest: 2.2650576 (100)\ttotal: 4.38s\tremaining: 5m 35s\n",
      "200:\tlearn: 2.2297309\ttest: 2.2340478\tbest: 2.2340478 (200)\ttotal: 8.68s\tremaining: 5m 30s\n",
      "300:\tlearn: 2.2064800\ttest: 2.2212354\tbest: 2.2212354 (300)\ttotal: 12.9s\tremaining: 5m 23s\n",
      "400:\tlearn: 2.1878042\ttest: 2.2134135\tbest: 2.2134135 (400)\ttotal: 17.1s\tremaining: 5m 17s\n",
      "500:\tlearn: 2.1719997\ttest: 2.2086014\tbest: 2.2086014 (500)\ttotal: 21.4s\tremaining: 5m 13s\n",
      "600:\tlearn: 2.1570531\ttest: 2.2042260\tbest: 2.2042260 (600)\ttotal: 25.6s\tremaining: 5m 8s\n",
      "700:\tlearn: 2.1445020\ttest: 2.2015820\tbest: 2.2015645 (698)\ttotal: 29.9s\tremaining: 5m 4s\n",
      "800:\tlearn: 2.1324954\ttest: 2.1988992\tbest: 2.1988992 (800)\ttotal: 34.1s\tremaining: 4m 59s\n",
      "900:\tlearn: 2.1214926\ttest: 2.1973425\tbest: 2.1973307 (899)\ttotal: 38.3s\tremaining: 4m 55s\n",
      "1000:\tlearn: 2.1113358\ttest: 2.1961330\tbest: 2.1961277 (999)\ttotal: 42.5s\tremaining: 4m 50s\n",
      "bestTest = 2.195139528\n",
      "bestIteration = 1076\n",
      "Shrink model to first 1077 iterations.\n"
     ]
    },
    {
     "name": "stderr",
     "output_type": "stream",
     "text": [
      "\u001b[32m[I 2022-10-29 07:02:26,590]\u001b[0m Trial 9 finished with value: 2.1951391855765316 and parameters: {'learning_rate': 0.015965665886173763, 'bagging_temperature': 7.128188058401368, 'n_estimators': 7847, 'max_depth': 11, 'random_strength': 77, 'l2_leaf_reg': 1.4818929934968078e-05, 'min_child_samples': 55, 'max_bin': 328, 'od_type': 'Iter'}. Best is trial 6 with value: 2.1272488865264054.\u001b[0m\n"
     ]
    },
    {
     "name": "stdout",
     "output_type": "stream",
     "text": [
      "Best Score: 2.1272488865264054\n",
      "Best trial {'learning_rate': 0.04574578205475402, 'bagging_temperature': 0.12172958098369972, 'n_estimators': 8459, 'max_depth': 8, 'random_strength': 28, 'l2_leaf_reg': 1.6285455533915874e-05, 'min_child_samples': 18, 'max_bin': 441, 'od_type': 'Iter'}\n"
     ]
    }
   ],
   "source": [
    "sampler = optuna.samplers.TPESampler(seed=42)\n",
    "study = optuna.create_study(\n",
    "    study_name = 'cat_parameter_opt',\n",
    "    direction = 'minimize',\n",
    "    sampler = sampler,\n",
    ")\n",
    "study.optimize(objective, n_trials=10)\n",
    "print(\"Best Score:\",study.best_value)\n",
    "print(\"Best trial\",study.best_trial.params)"
   ]
  },
  {
   "cell_type": "markdown",
   "metadata": {},
   "source": [
    "## 학습한 best Parameter 활용하여 CatB에 적용"
   ]
  },
  {
   "cell_type": "markdown",
   "metadata": {},
   "source": [
    "### 계층별 교차 검증 활용"
   ]
  },
  {
   "cell_type": "code",
   "execution_count": 199,
   "metadata": {},
   "outputs": [],
   "source": [
    "from sklearn.model_selection import StratifiedKFold\n",
    "skf = StratifiedKFold(n_splits=5, shuffle=True, random_state=42)\n",
    "folds = []\n",
    "for train_idx, valid_idx in skf.split(train_df.drop(['user_id','isbn'], axis = 1), train_df['rating']):\n",
    "  folds.append((train_idx,valid_idx))"
   ]
  },
  {
   "cell_type": "code",
   "execution_count": 221,
   "metadata": {},
   "outputs": [
    {
     "name": "stdout",
     "output_type": "stream",
     "text": [
      "====================================1============================================\n",
      "0:\tlearn: 2.4201281\ttest: 2.4175192\tbest: 2.4175192 (0)\ttotal: 24.3ms\tremaining: 3m 25s\n",
      "100:\tlearn: 2.2060040\ttest: 2.1591838\tbest: 2.1591838 (100)\ttotal: 2.59s\tremaining: 3m 34s\n",
      "200:\tlearn: 2.1919494\ttest: 2.1476762\tbest: 2.1476762 (200)\ttotal: 5.22s\tremaining: 3m 34s\n",
      "300:\tlearn: 2.1842436\ttest: 2.1436401\tbest: 2.1436401 (300)\ttotal: 7.83s\tremaining: 3m 32s\n",
      "400:\tlearn: 2.1734491\ttest: 2.1398853\tbest: 2.1398853 (400)\ttotal: 10.2s\tremaining: 3m 25s\n",
      "500:\tlearn: 2.1637735\ttest: 2.1376195\tbest: 2.1376195 (500)\ttotal: 12.5s\tremaining: 3m 19s\n",
      "600:\tlearn: 2.1558220\ttest: 2.1361207\tbest: 2.1361207 (600)\ttotal: 14.9s\tremaining: 3m 14s\n",
      "700:\tlearn: 2.1489055\ttest: 2.1352596\tbest: 2.1352596 (700)\ttotal: 17.2s\tremaining: 3m 10s\n",
      "800:\tlearn: 2.1421184\ttest: 2.1345321\tbest: 2.1345321 (800)\ttotal: 19.6s\tremaining: 3m 7s\n",
      "900:\tlearn: 2.1354998\ttest: 2.1341123\tbest: 2.1340975 (897)\ttotal: 21.9s\tremaining: 3m 4s\n",
      "1000:\tlearn: 2.1291689\ttest: 2.1338433\tbest: 2.1338227 (999)\ttotal: 24.3s\tremaining: 3m\n",
      "1100:\tlearn: 2.1230642\ttest: 2.1333535\tbest: 2.1333535 (1100)\ttotal: 26.6s\tremaining: 2m 57s\n",
      "1200:\tlearn: 2.1171909\ttest: 2.1330539\tbest: 2.1330473 (1199)\ttotal: 29s\tremaining: 2m 55s\n",
      "bestTest = 2.132976033\n",
      "bestIteration = 1261\n",
      "Shrink model to first 1262 iterations.\n",
      "================================================================================\n",
      "\n",
      "\n",
      "====================================2============================================\n",
      "0:\tlearn: 2.4200480\ttest: 2.4178413\tbest: 2.4178413 (0)\ttotal: 23.9ms\tremaining: 3m 21s\n",
      "100:\tlearn: 2.2047888\ttest: 2.1613659\tbest: 2.1613659 (100)\ttotal: 2.55s\tremaining: 3m 30s\n",
      "200:\tlearn: 2.1906242\ttest: 2.1506387\tbest: 2.1506387 (200)\ttotal: 5.09s\tremaining: 3m 29s\n",
      "300:\tlearn: 2.1826943\ttest: 2.1466329\tbest: 2.1466329 (300)\ttotal: 7.64s\tremaining: 3m 27s\n",
      "400:\tlearn: 2.1720550\ttest: 2.1430888\tbest: 2.1430888 (400)\ttotal: 9.99s\tremaining: 3m 20s\n",
      "500:\tlearn: 2.1630126\ttest: 2.1413264\tbest: 2.1413191 (499)\ttotal: 12.3s\tremaining: 3m 15s\n",
      "600:\tlearn: 2.1548498\ttest: 2.1401385\tbest: 2.1401385 (600)\ttotal: 14.6s\tremaining: 3m 11s\n",
      "700:\tlearn: 2.1475007\ttest: 2.1395272\tbest: 2.1395133 (696)\ttotal: 16.9s\tremaining: 3m 6s\n",
      "800:\tlearn: 2.1401840\ttest: 2.1386576\tbest: 2.1386576 (800)\ttotal: 19.2s\tremaining: 3m 3s\n",
      "900:\tlearn: 2.1337438\ttest: 2.1381409\tbest: 2.1381409 (900)\ttotal: 21.5s\tremaining: 3m\n",
      "1000:\tlearn: 2.1275878\ttest: 2.1377159\tbest: 2.1377078 (999)\ttotal: 23.8s\tremaining: 2m 57s\n",
      "bestTest = 2.137707808\n",
      "bestIteration = 999\n",
      "Shrink model to first 1000 iterations.\n",
      "================================================================================\n",
      "\n",
      "\n",
      "====================================3============================================\n",
      "0:\tlearn: 2.4198789\ttest: 2.4182427\tbest: 2.4182427 (0)\ttotal: 23.9ms\tremaining: 3m 22s\n",
      "100:\tlearn: 2.2048163\ttest: 2.1690907\tbest: 2.1690907 (100)\ttotal: 2.58s\tremaining: 3m 33s\n",
      "200:\tlearn: 2.1908834\ttest: 2.1570821\tbest: 2.1570821 (200)\ttotal: 5.17s\tremaining: 3m 32s\n",
      "300:\tlearn: 2.1832956\ttest: 2.1528151\tbest: 2.1528151 (300)\ttotal: 7.73s\tremaining: 3m 29s\n",
      "400:\tlearn: 2.1728683\ttest: 2.1492726\tbest: 2.1492726 (400)\ttotal: 10.1s\tremaining: 3m 22s\n",
      "500:\tlearn: 2.1636300\ttest: 2.1469396\tbest: 2.1469394 (499)\ttotal: 12.3s\tremaining: 3m 15s\n",
      "600:\tlearn: 2.1555228\ttest: 2.1456619\tbest: 2.1456584 (598)\ttotal: 14.6s\tremaining: 3m 11s\n",
      "700:\tlearn: 2.1486644\ttest: 2.1448265\tbest: 2.1448138 (697)\ttotal: 17s\tremaining: 3m 7s\n",
      "800:\tlearn: 2.1420031\ttest: 2.1441394\tbest: 2.1441394 (800)\ttotal: 19.3s\tremaining: 3m 4s\n",
      "900:\tlearn: 2.1355309\ttest: 2.1434215\tbest: 2.1434087 (899)\ttotal: 21.6s\tremaining: 3m\n",
      "1000:\tlearn: 2.1298380\ttest: 2.1429480\tbest: 2.1429276 (994)\ttotal: 23.8s\tremaining: 2m 57s\n",
      "1100:\tlearn: 2.1239578\ttest: 2.1424888\tbest: 2.1424737 (1095)\ttotal: 26.2s\tremaining: 2m 54s\n",
      "bestTest = 2.142396446\n",
      "bestIteration = 1110\n",
      "Shrink model to first 1111 iterations.\n",
      "================================================================================\n",
      "\n",
      "\n",
      "====================================4============================================\n",
      "0:\tlearn: 2.4199428\ttest: 2.4182463\tbest: 2.4182463 (0)\ttotal: 25.6ms\tremaining: 3m 36s\n",
      "100:\tlearn: 2.2041741\ttest: 2.1661445\tbest: 2.1661445 (100)\ttotal: 2.58s\tremaining: 3m 33s\n",
      "200:\tlearn: 2.1903215\ttest: 2.1552967\tbest: 2.1552967 (200)\ttotal: 5.14s\tremaining: 3m 31s\n",
      "300:\tlearn: 2.1828595\ttest: 2.1516002\tbest: 2.1516002 (300)\ttotal: 7.66s\tremaining: 3m 27s\n",
      "400:\tlearn: 2.1717626\ttest: 2.1482236\tbest: 2.1482236 (400)\ttotal: 9.92s\tremaining: 3m 19s\n",
      "500:\tlearn: 2.1621639\ttest: 2.1461894\tbest: 2.1461492 (496)\ttotal: 12.1s\tremaining: 3m 12s\n",
      "600:\tlearn: 2.1542425\ttest: 2.1448984\tbest: 2.1448984 (600)\ttotal: 14.3s\tremaining: 3m 7s\n",
      "700:\tlearn: 2.1471194\ttest: 2.1438666\tbest: 2.1438467 (696)\ttotal: 16.6s\tremaining: 3m 3s\n",
      "800:\tlearn: 2.1404174\ttest: 2.1433387\tbest: 2.1433387 (800)\ttotal: 18.8s\tremaining: 2m 59s\n",
      "900:\tlearn: 2.1339459\ttest: 2.1428148\tbest: 2.1428148 (900)\ttotal: 21s\tremaining: 2m 55s\n",
      "bestTest = 2.142603968\n",
      "bestIteration = 963\n",
      "Shrink model to first 964 iterations.\n",
      "================================================================================\n",
      "\n",
      "\n",
      "====================================5============================================\n",
      "0:\tlearn: 2.4199285\ttest: 2.4179842\tbest: 2.4179842 (0)\ttotal: 23.2ms\tremaining: 3m 16s\n",
      "100:\tlearn: 2.2040950\ttest: 2.1658528\tbest: 2.1658528 (100)\ttotal: 2.57s\tremaining: 3m 32s\n",
      "200:\tlearn: 2.1903047\ttest: 2.1551306\tbest: 2.1551306 (200)\ttotal: 5.16s\tremaining: 3m 31s\n",
      "300:\tlearn: 2.1826407\ttest: 2.1510426\tbest: 2.1510245 (296)\ttotal: 7.74s\tremaining: 3m 29s\n",
      "400:\tlearn: 2.1715851\ttest: 2.1473671\tbest: 2.1473671 (400)\ttotal: 10.1s\tremaining: 3m 23s\n",
      "500:\tlearn: 2.1625553\ttest: 2.1453801\tbest: 2.1453801 (500)\ttotal: 12.4s\tremaining: 3m 17s\n",
      "600:\tlearn: 2.1546843\ttest: 2.1441012\tbest: 2.1441012 (600)\ttotal: 14.7s\tremaining: 3m 12s\n",
      "700:\tlearn: 2.1476384\ttest: 2.1431949\tbest: 2.1431855 (699)\ttotal: 17s\tremaining: 3m 7s\n",
      "800:\tlearn: 2.1411560\ttest: 2.1425407\tbest: 2.1425407 (800)\ttotal: 19.2s\tremaining: 3m 3s\n",
      "900:\tlearn: 2.1346773\ttest: 2.1420724\tbest: 2.1420724 (900)\ttotal: 21.6s\tremaining: 3m 1s\n",
      "1000:\tlearn: 2.1284406\ttest: 2.1417184\tbest: 2.1417169 (995)\ttotal: 23.8s\tremaining: 2m 57s\n",
      "1100:\tlearn: 2.1224228\ttest: 2.1412796\tbest: 2.1412796 (1100)\ttotal: 26s\tremaining: 2m 54s\n",
      "1200:\tlearn: 2.1167079\ttest: 2.1407284\tbest: 2.1407275 (1197)\ttotal: 28.3s\tremaining: 2m 50s\n",
      "bestTest = 2.140688198\n",
      "bestIteration = 1203\n",
      "Shrink model to first 1204 iterations.\n",
      "================================================================================\n",
      "\n",
      "\n"
     ]
    }
   ],
   "source": [
    "random.seed(42)\n",
    "cat_models={}\n",
    "\n",
    "cat_features = list(range(1, 10))\n",
    "\n",
    "for fold in range(5):\n",
    "  print(f'===================================={fold+1}============================================')\n",
    "  train_idx, valid_idx = folds[fold]\n",
    "  X_train = train_df.drop(['user_id','isbn','rating'], axis = 1).iloc[train_idx].values \n",
    "  X_valid = train_df.drop(['user_id','isbn','rating'], axis = 1).iloc[valid_idx].values\n",
    "  y_train = train_df['rating'][train_idx].values\n",
    "  y_valid = train_df['rating'][valid_idx].values\n",
    "\n",
    "  cat = CatBoostRegressor(**study.best_params, task_type = 'GPU')\n",
    "  cat.fit(X_train, y_train,\n",
    "          eval_set=[(X_valid,y_valid)],\n",
    "          early_stopping_rounds=35,cat_features=cat_features,\n",
    "          verbose=100)\n",
    "  pred = cat.predict(test_df.drop(['user_id', 'isbn', 'rating'],axis = 1))\n",
    "  cat_models[fold] = pred\n",
    "  print(f'================================================================================\\n\\n')"
   ]
  },
  {
   "cell_type": "markdown",
   "metadata": {},
   "source": [
    "# 변수 중요도 시각화"
   ]
  },
  {
   "cell_type": "code",
   "execution_count": 264,
   "metadata": {},
   "outputs": [],
   "source": [
    "def plot_feature_importance(importance,names,model_type):\n",
    "    \n",
    "    feature_importance = np.array(importance)\n",
    "    feature_names = np.array(names)\n",
    "    \n",
    "    data={'feature_names':feature_names,'feature_importance':feature_importance}\n",
    "    fi_df = pd.DataFrame(data)\n",
    "    \n",
    "    fi_df.sort_values(by=['feature_importance'], ascending=False,inplace=True)\n",
    "\n",
    "    plt.figure(figsize=(20,9))\n",
    "\n",
    "    sns.barplot(x=fi_df['feature_importance'], y=fi_df['feature_names'])\n",
    "\n",
    "    plt.title(model_type + ' Feature Importance')\n",
    "    plt.xlabel('Feature Importance')\n",
    "    plt.ylabel('Feature Names')\n",
    "    \n",
    "    plt.show()\n",
    "    "
   ]
  },
  {
   "cell_type": "code",
   "execution_count": 265,
   "metadata": {},
   "outputs": [
    {
     "data": {
      "image/png": "[encoded data removed]",
      "text/plain": [
       "<Figure size 2000x900 with 1 Axes>"
      ]
     },
     "metadata": {},
     "output_type": "display_data"
    }
   ],
   "source": [
    "plot_feature_importance(cat.get_feature_importance(), test_df.drop(['user_id', 'isbn', 'rating'],axis = 1).columns, 'CATBOOST')"
   ]
  },
  {
   "cell_type": "code",
   "execution_count": 232,
   "metadata": {},
   "outputs": [
    {
     "data": {
      "text/plain": [
       "array([ 6.29577269, 12.26040543, 10.51794789,  6.42722237,  5.99895674,\n",
       "       10.84526924,  3.12377887, 11.45774383, 29.2573957 ,  3.81550726])"
      ]
     },
     "execution_count": 232,
     "metadata": {},
     "output_type": "execute_result"
    }
   ],
   "source": [
    "cat.get_feature_importance()"
   ]
  },
  {
   "cell_type": "code",
   "execution_count": 235,
   "metadata": {},
   "outputs": [
    {
     "data": {
      "text/plain": [
       "Index(['rating', 'age', 'location_city', 'location_state', 'location_country',\n",
       "       'category', 'publisher', 'language', 'book_author', 'id', 'bn'],\n",
       "      dtype='object')"
      ]
     },
     "execution_count": 235,
     "metadata": {},
     "output_type": "execute_result"
    }
   ],
   "source": [
    "train_df.drop(['user_id', 'isbn'], axis = 1).columns"
   ]
  },
  {
   "cell_type": "code",
   "execution_count": 236,
   "metadata": {},
   "outputs": [
    {
     "name": "stdout",
     "output_type": "stream",
     "text": [
      "Collecting sns\n",
      "  Downloading sns-0.1.tar.gz (2.1 kB)\n",
      "Building wheels for collected packages: sns\n",
      "  Building wheel for sns (setup.py) ... \u001b[?25ldone\n",
      "\u001b[?25h  Created wheel for sns: filename=sns-0.1-py3-none-any.whl size=2664 sha256=5d90e88bbc6a7ce3bf2e1fb8bc985de2e140fb41d18ead65095e08892f8661b9\n",
      "  Stored in directory: /opt/ml/.cache/pip/wheels/94/30/68/c7bbc5257894097a14adf5c7d6e7de56127c9936f27afe2416\n",
      "Successfully built sns\n",
      "Installing collected packages: sns\n",
      "Successfully installed sns-0.1\n",
      "Note: you may need to restart the kernel to use updated packages.\n"
     ]
    }
   ],
   "source": [
    "pip install sns"
   ]
  },
  {
   "cell_type": "code",
   "execution_count": 222,
   "metadata": {},
   "outputs": [],
   "source": [
    "submit['rating'] = 0"
   ]
  },
  {
   "cell_type": "code",
   "execution_count": 223,
   "metadata": {},
   "outputs": [],
   "source": [
    "for fold in range(5):\n",
    "    submit['rating'] += cat_models[fold] / 5"
   ]
  },
  {
   "cell_type": "code",
   "execution_count": 225,
   "metadata": {},
   "outputs": [],
   "source": [
    "import datetime\n",
    "now = datetime.datetime.now()\n",
    "created_time = now.strftime('%m%d-%H%M')\n",
    "\n",
    "submit.to_csv(f'../data/{created_time}_submit.csv',index=False)"
   ]
  },
  {
   "cell_type": "code",
   "execution_count": 226,
   "metadata": {},
   "outputs": [
    {
     "data": {
      "text/html": [
       "<div>\n",
       "<style scoped>\n",
       "    .dataframe tbody tr th:only-of-type {\n",
       "        vertical-align: middle;\n",
       "    }\n",
       "\n",
       "    .dataframe tbody tr th {\n",
       "        vertical-align: top;\n",
       "    }\n",
       "\n",
       "    .dataframe thead th {\n",
       "        text-align: right;\n",
       "    }\n",
       "</style>\n",
       "<table border=\"1\" class=\"dataframe\">\n",
       "  <thead>\n",
       "    <tr style=\"text-align: right;\">\n",
       "      <th></th>\n",
       "      <th>user_id</th>\n",
       "      <th>isbn</th>\n",
       "      <th>rating</th>\n",
       "    </tr>\n",
       "  </thead>\n",
       "  <tbody>\n",
       "    <tr>\n",
       "      <th>0</th>\n",
       "      <td>11676</td>\n",
       "      <td>0002005018</td>\n",
       "      <td>7.005860</td>\n",
       "    </tr>\n",
       "    <tr>\n",
       "      <th>1</th>\n",
       "      <td>116866</td>\n",
       "      <td>0002005018</td>\n",
       "      <td>7.256630</td>\n",
       "    </tr>\n",
       "    <tr>\n",
       "      <th>2</th>\n",
       "      <td>152827</td>\n",
       "      <td>0060973129</td>\n",
       "      <td>7.553282</td>\n",
       "    </tr>\n",
       "    <tr>\n",
       "      <th>3</th>\n",
       "      <td>157969</td>\n",
       "      <td>0374157065</td>\n",
       "      <td>7.553738</td>\n",
       "    </tr>\n",
       "    <tr>\n",
       "      <th>4</th>\n",
       "      <td>67958</td>\n",
       "      <td>0399135782</td>\n",
       "      <td>7.303966</td>\n",
       "    </tr>\n",
       "    <tr>\n",
       "      <th>...</th>\n",
       "      <td>...</td>\n",
       "      <td>...</td>\n",
       "      <td>...</td>\n",
       "    </tr>\n",
       "    <tr>\n",
       "      <th>76694</th>\n",
       "      <td>278543</td>\n",
       "      <td>1576734218</td>\n",
       "      <td>6.169363</td>\n",
       "    </tr>\n",
       "    <tr>\n",
       "      <th>76695</th>\n",
       "      <td>278563</td>\n",
       "      <td>3492223710</td>\n",
       "      <td>6.288357</td>\n",
       "    </tr>\n",
       "    <tr>\n",
       "      <th>76696</th>\n",
       "      <td>278633</td>\n",
       "      <td>1896095186</td>\n",
       "      <td>6.311923</td>\n",
       "    </tr>\n",
       "    <tr>\n",
       "      <th>76697</th>\n",
       "      <td>278668</td>\n",
       "      <td>8408044079</td>\n",
       "      <td>5.132426</td>\n",
       "    </tr>\n",
       "    <tr>\n",
       "      <th>76698</th>\n",
       "      <td>278851</td>\n",
       "      <td>0767907566</td>\n",
       "      <td>5.534796</td>\n",
       "    </tr>\n",
       "  </tbody>\n",
       "</table>\n",
       "<p>76699 rows × 3 columns</p>\n",
       "</div>"
      ],
      "text/plain": [
       "       user_id        isbn    rating\n",
       "0        11676  0002005018  7.005860\n",
       "1       116866  0002005018  7.256630\n",
       "2       152827  0060973129  7.553282\n",
       "3       157969  0374157065  7.553738\n",
       "4        67958  0399135782  7.303966\n",
       "...        ...         ...       ...\n",
       "76694   278543  1576734218  6.169363\n",
       "76695   278563  3492223710  6.288357\n",
       "76696   278633  1896095186  6.311923\n",
       "76697   278668  8408044079  5.132426\n",
       "76698   278851  0767907566  5.534796\n",
       "\n",
       "[76699 rows x 3 columns]"
      ]
     },
     "execution_count": 226,
     "metadata": {},
     "output_type": "execute_result"
    }
   ],
   "source": [
    "submit"
   ]
  }
 ],
 "metadata": {
  "kernelspec": {
   "display_name": "Python 3.8.5 ('base')",
   "language": "python",
   "name": "python3"
  },
  "language_info": {
   "codemirror_mode": {
    "name": "ipython",
    "version": 3
   },
   "file_extension": ".py",
   "mimetype": "text/x-python",
   "name": "python",
   "nbconvert_exporter": "python",
   "pygments_lexer": "ipython3",
   "version": "3.8.5"
  },
  "orig_nbformat": 4,
  "vscode": {
   "interpreter": {
    "hash": "d4d1e4263499bec80672ea0156c357c1ee493ec2b1c70f0acce89fc37c4a6abe"
   }
  }
 },
 "nbformat": 4,
 "nbformat_minor": 2
}
