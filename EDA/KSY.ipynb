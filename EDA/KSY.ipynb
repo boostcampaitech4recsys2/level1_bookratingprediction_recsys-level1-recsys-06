{
 "cells": [
  {
   "cell_type": "markdown",
   "id": "d5d17da3",
   "metadata": {},
   "source": [
    "# rating 테이블 간단한 EDA"
   ]
  },
  {
   "cell_type": "markdown",
   "id": "3f0d6a43",
   "metadata": {},
   "source": [
    "## 데이터 다운로드"
   ]
  },
  {
   "cell_type": "code",
   "execution_count": 1,
   "id": "85bfaa4d-ef76-4cb0-95d8-7c69ef886126",
   "metadata": {},
   "outputs": [],
   "source": [
    "#import data\n",
    "import pandas as pd\n",
    "import numpy as np\n",
    "import seaborn as sns\n",
    "import matplotlib.pyplot as plt\n",
    "\n",
    "pd.set_option('display.max_row', 50)"
   ]
  },
  {
   "cell_type": "code",
   "execution_count": 2,
   "id": "59e4daf1",
   "metadata": {},
   "outputs": [
    {
     "name": "stdout",
     "output_type": "stream",
     "text": [
      "(306795, 3)\n",
      "(76699, 3)\n"
     ]
    }
   ],
   "source": [
    "train = pd.read_csv('../data/train_ratings.csv')\n",
    "test = pd.read_csv('../data/test_ratings.csv')\n",
    "print(train.shape)\n",
    "print(test.shape)"
   ]
  },
  {
   "cell_type": "code",
   "execution_count": 3,
   "id": "65a98cca",
   "metadata": {},
   "outputs": [],
   "source": [
    "train_counts = train.groupby('user_id')['rating'].count().sort_values(ascending=False)\n",
    "test_counts = test.groupby('user_id')['rating'].count().sort_values(ascending=False)"
   ]
  },
  {
   "cell_type": "markdown",
   "id": "db15f403",
   "metadata": {},
   "source": [
    "## User 관해서"
   ]
  },
  {
   "cell_type": "code",
   "execution_count": 4,
   "id": "ad43c6bb",
   "metadata": {},
   "outputs": [
    {
     "name": "stdout",
     "output_type": "stream",
     "text": [
      "59803\n",
      "26167\n"
     ]
    }
   ],
   "source": [
    "print(len(train_counts))\n",
    "print(len(test_counts))"
   ]
  },
  {
   "cell_type": "markdown",
   "id": "61432056",
   "metadata": {},
   "source": [
    "train 데이터 사용자는 약 6만명, test 데이터 사용자는 약 2만 6천명 입니다."
   ]
  },
  {
   "cell_type": "code",
   "execution_count": 5,
   "id": "3c7ca020",
   "metadata": {},
   "outputs": [
    {
     "data": {
      "text/plain": [
       "8266"
      ]
     },
     "execution_count": 5,
     "metadata": {},
     "output_type": "execute_result"
    }
   ],
   "source": [
    "len(set(test['user_id']) - set(train['user_id']))"
   ]
  },
  {
   "cell_type": "markdown",
   "id": "18cc36ef",
   "metadata": {},
   "source": [
    "test 데이터 약 2만 6천명 중 8천명 정도는 train 내 없는 데이터 입니다.\n",
    "\n",
    "좋은 모델을 위해선 cold start에 대한 대비가 필요합니다. "
   ]
  },
  {
   "cell_type": "markdown",
   "id": "7bbaa18d",
   "metadata": {},
   "source": [
    "다음으로 한 유저가 몇 권의 책을 읽는지 알아봅시다."
   ]
  },
  {
   "cell_type": "code",
   "execution_count": 6,
   "id": "39e3de4a",
   "metadata": {},
   "outputs": [
    {
     "data": {
      "text/plain": [
       "user_id\n",
       "11676     5520\n",
       "98391     4560\n",
       "189835    1503\n",
       "153662    1496\n",
       "23902      956\n",
       "235105     812\n",
       "76499      810\n",
       "171118     771\n",
       "16795      760\n",
       "248718     747\n",
       "Name: rating, dtype: int64"
      ]
     },
     "execution_count": 6,
     "metadata": {},
     "output_type": "execute_result"
    }
   ],
   "source": [
    "train_counts[:10]"
   ]
  },
  {
   "cell_type": "markdown",
   "id": "972bfdf7",
   "metadata": {},
   "source": [
    "11676, 98391 두 사용자가 압도적인 독서량을 보입니다."
   ]
  },
  {
   "cell_type": "code",
   "execution_count": 7,
   "id": "3a3ee11b",
   "metadata": {},
   "outputs": [
    {
     "data": {
      "text/plain": [
       "user_id\n",
       "11676     1419\n",
       "98391     1125\n",
       "189835     396\n",
       "153662     347\n",
       "23902      223\n",
       "235105     208\n",
       "76499      201\n",
       "16795      198\n",
       "248718     194\n",
       "171118     189\n",
       "Name: rating, dtype: int64"
      ]
     },
     "execution_count": 7,
     "metadata": {},
     "output_type": "execute_result"
    }
   ],
   "source": [
    "test_counts[:10]"
   ]
  },
  {
   "cell_type": "markdown",
   "id": "ba7ddfc9",
   "metadata": {},
   "source": [
    "테스트 데이터도 train 데이터와 비슷한 사용자가 독서를 많이하는 경향을 보입니다.\n",
    "\n",
    "이것으로 볼 때 train과 test는 시간 등의 기준 요소 없이 단순히 분할 되었음을 알 수 있습니다.\n",
    "\n",
    "실제로 valid 데이터 셋을 만들 때 단순히 분할해도 큰 문제가 없을 것 같아요."
   ]
  },
  {
   "cell_type": "code",
   "execution_count": 8,
   "id": "850fa9a0",
   "metadata": {},
   "outputs": [
    {
     "data": {
      "text/plain": [
       "<AxesSubplot:>"
      ]
     },
     "execution_count": 8,
     "metadata": {},
     "output_type": "execute_result"
    },
    {
     "data": {
      "image/png": "[encoded data removed]",
      "text/plain": [
       "<Figure size 640x480 with 1 Axes>"
      ]
     },
     "metadata": {},
     "output_type": "display_data"
    }
   ],
   "source": [
    "train_counts[20:].hist()"
   ]
  },
  {
   "cell_type": "markdown",
   "id": "edd0bc5a",
   "metadata": {},
   "source": [
    "책을 극단적으로 많이 읽은 일부 인원을 제외한 분포입니다.\n",
    "\n",
    "역시 대부분에 인원은 50권 이상 책을 읽긴 힘들군요. 당연한 결과입니다."
   ]
  },
  {
   "cell_type": "code",
   "execution_count": 9,
   "id": "78a5c991",
   "metadata": {},
   "outputs": [
    {
     "name": "stdout",
     "output_type": "stream",
     "text": [
      "책을 5권 이하로 읽은 사람의 비율은 82.1 입니다.\n"
     ]
    }
   ],
   "source": [
    "n = 5\n",
    "_ratio = np.round(len(train_counts[train_counts < n]) / len(train_counts), 3) * 100\n",
    "print(f'책을 {n}권 이하로 읽은 사람의 비율은 {_ratio} 입니다.')"
   ]
  },
  {
   "cell_type": "markdown",
   "id": "83f4eeea",
   "metadata": {},
   "source": [
    "조금 더 상세한 수치를 알 수 있는 코드입니다. 대부분 인원은 책을 몇권 안 읽었습니다."
   ]
  },
  {
   "cell_type": "markdown",
   "id": "17288fdb",
   "metadata": {},
   "source": [
    "## 책에 관해서"
   ]
  },
  {
   "cell_type": "code",
   "execution_count": 10,
   "id": "6e72eb1f",
   "metadata": {},
   "outputs": [
    {
     "data": {
      "text/html": [
       "<div>\n",
       "<style scoped>\n",
       "    .dataframe tbody tr th:only-of-type {\n",
       "        vertical-align: middle;\n",
       "    }\n",
       "\n",
       "    .dataframe tbody tr th {\n",
       "        vertical-align: top;\n",
       "    }\n",
       "\n",
       "    .dataframe thead th {\n",
       "        text-align: right;\n",
       "    }\n",
       "</style>\n",
       "<table border=\"1\" class=\"dataframe\">\n",
       "  <thead>\n",
       "    <tr style=\"text-align: right;\">\n",
       "      <th></th>\n",
       "      <th>isbn</th>\n",
       "      <th>book_title</th>\n",
       "      <th>book_author</th>\n",
       "      <th>year_of_publication</th>\n",
       "      <th>publisher</th>\n",
       "      <th>language</th>\n",
       "      <th>category</th>\n",
       "      <th>summary</th>\n",
       "    </tr>\n",
       "  </thead>\n",
       "  <tbody>\n",
       "    <tr>\n",
       "      <th>59310</th>\n",
       "      <td>0752999729</td>\n",
       "      <td>SECOND LADY</td>\n",
       "      <td>IRVING WALLACE</td>\n",
       "      <td>1997.0</td>\n",
       "      <td>Random House UK Ltd (A Division of Random Hous...</td>\n",
       "      <td>NaN</td>\n",
       "      <td>NaN</td>\n",
       "      <td>NaN</td>\n",
       "    </tr>\n",
       "    <tr>\n",
       "      <th>23520</th>\n",
       "      <td>1582341141</td>\n",
       "      <td>Mangoes and Quince: A Novel</td>\n",
       "      <td>Carol Field</td>\n",
       "      <td>2001.0</td>\n",
       "      <td>Bloomsbury Publishing (NY)</td>\n",
       "      <td>en</td>\n",
       "      <td>['Fiction']</td>\n",
       "      <td>A feast of the imagination, Mangoes and Quince...</td>\n",
       "    </tr>\n",
       "    <tr>\n",
       "      <th>143828</th>\n",
       "      <td>0810914824</td>\n",
       "      <td>The Perfect Setting</td>\n",
       "      <td>Peri Wolfman</td>\n",
       "      <td>1995.0</td>\n",
       "      <td>Harry N Abrams Inc</td>\n",
       "      <td>en</td>\n",
       "      <td>['Cooking']</td>\n",
       "      <td>Filled with useful ideas, this is a stylish bo...</td>\n",
       "    </tr>\n",
       "    <tr>\n",
       "      <th>13391</th>\n",
       "      <td>0553211439</td>\n",
       "      <td>A Connecticut Yankee in King Arthur's Court (B...</td>\n",
       "      <td>Mark Twain</td>\n",
       "      <td>1994.0</td>\n",
       "      <td>Bantam Books</td>\n",
       "      <td>en</td>\n",
       "      <td>['Fiction']</td>\n",
       "      <td>A stoical New Englander is transported to sixt...</td>\n",
       "    </tr>\n",
       "    <tr>\n",
       "      <th>23429</th>\n",
       "      <td>1569710732</td>\n",
       "      <td>Dark Empire (Star Wars)</td>\n",
       "      <td>Tom Veitch</td>\n",
       "      <td>1995.0</td>\n",
       "      <td>Dark Horse Comics</td>\n",
       "      <td>NaN</td>\n",
       "      <td>NaN</td>\n",
       "      <td>NaN</td>\n",
       "    </tr>\n",
       "  </tbody>\n",
       "</table>\n",
       "</div>"
      ],
      "text/plain": [
       "              isbn                                         book_title  \\\n",
       "59310   0752999729                                        SECOND LADY   \n",
       "23520   1582341141                        Mangoes and Quince: A Novel   \n",
       "143828  0810914824                                The Perfect Setting   \n",
       "13391   0553211439  A Connecticut Yankee in King Arthur's Court (B...   \n",
       "23429   1569710732                            Dark Empire (Star Wars)   \n",
       "\n",
       "           book_author  year_of_publication  \\\n",
       "59310   IRVING WALLACE               1997.0   \n",
       "23520      Carol Field               2001.0   \n",
       "143828    Peri Wolfman               1995.0   \n",
       "13391       Mark Twain               1994.0   \n",
       "23429       Tom Veitch               1995.0   \n",
       "\n",
       "                                                publisher language  \\\n",
       "59310   Random House UK Ltd (A Division of Random Hous...      NaN   \n",
       "23520                          Bloomsbury Publishing (NY)       en   \n",
       "143828                                 Harry N Abrams Inc       en   \n",
       "13391                                        Bantam Books       en   \n",
       "23429                                   Dark Horse Comics      NaN   \n",
       "\n",
       "           category                                            summary  \n",
       "59310           NaN                                                NaN  \n",
       "23520   ['Fiction']  A feast of the imagination, Mangoes and Quince...  \n",
       "143828  ['Cooking']  Filled with useful ideas, this is a stylish bo...  \n",
       "13391   ['Fiction']  A stoical New Englander is transported to sixt...  \n",
       "23429           NaN                                                NaN  "
      ]
     },
     "execution_count": 10,
     "metadata": {},
     "output_type": "execute_result"
    }
   ],
   "source": [
    "books = pd.read_csv('../data/books.csv')\n",
    "books.drop(['img_url', 'img_path'], axis = 1, inplace = True)\n",
    "books.sample(5)"
   ]
  },
  {
   "cell_type": "code",
   "execution_count": 11,
   "id": "8d75b67a",
   "metadata": {},
   "outputs": [
    {
     "name": "stdout",
     "output_type": "stream",
     "text": [
      "<class 'pandas.core.frame.DataFrame'>\n",
      "RangeIndex: 149570 entries, 0 to 149569\n",
      "Data columns (total 8 columns):\n",
      " #   Column               Non-Null Count   Dtype  \n",
      "---  ------               --------------   -----  \n",
      " 0   isbn                 149570 non-null  object \n",
      " 1   book_title           149570 non-null  object \n",
      " 2   book_author          149570 non-null  object \n",
      " 3   year_of_publication  149570 non-null  float64\n",
      " 4   publisher            149570 non-null  object \n",
      " 5   language             82343 non-null   object \n",
      " 6   category             80719 non-null   object \n",
      " 7   summary              82343 non-null   object \n",
      "dtypes: float64(1), object(7)\n",
      "memory usage: 9.1+ MB\n"
     ]
    }
   ],
   "source": [
    "books.info()"
   ]
  },
  {
   "cell_type": "markdown",
   "id": "f7b52c8d",
   "metadata": {},
   "source": [
    "언어, 카테고리, 요약 내용은 null값이 꽤 있는것이 확인됩니다."
   ]
  },
  {
   "cell_type": "code",
   "execution_count": 12,
   "id": "4e89e85a",
   "metadata": {},
   "outputs": [
    {
     "name": "stdout",
     "output_type": "stream",
     "text": [
      "작가의 수 : 62059\n",
      "10권 이상 집필한 작가의 수 : 1841\n"
     ]
    }
   ],
   "source": [
    "n = 10\n",
    "print('작가의 수 :', books['book_author'].nunique())\n",
    "books_authors = books.groupby('book_author')['isbn'].count().sort_values(ascending=False)\n",
    "print(f'{n}권 이상 집필한 작가의 수 :', len(books_authors[books_authors > n]))"
   ]
  },
  {
   "cell_type": "markdown",
   "id": "56c0da04",
   "metadata": {},
   "source": [
    "약 15만권중 책을 쓴 작가는 6만명이 넘습니다. 또 10권 이상 집필한 작가수는 2천명이 안됩니다."
   ]
  },
  {
   "cell_type": "code",
   "execution_count": 13,
   "id": "1dca91af",
   "metadata": {},
   "outputs": [
    {
     "name": "stdout",
     "output_type": "stream",
     "text": [
      "book_author\n",
      "Stephen King           446\n",
      "Agatha Christie        404\n",
      "William Shakespeare    381\n",
      "Barbara Cartland       283\n",
      "Nora Roberts           241\n",
      "Terry Pratchett        198\n",
      "Isaac Asimov           195\n",
      "Charles Dickens        187\n",
      "Carolyn Keene          185\n",
      "Ann M. Martin          183\n",
      "Name: isbn, dtype: int64\n"
     ]
    }
   ],
   "source": [
    "print(books_authors[:10])"
   ]
  },
  {
   "cell_type": "markdown",
   "id": "9a9089ec",
   "metadata": {},
   "source": [
    "일부 작가는 400권을 넘기기도 하는군요!"
   ]
  },
  {
   "cell_type": "markdown",
   "id": "c4d5b226",
   "metadata": {},
   "source": [
    "![image](https://user-images.githubusercontent.com/79916736/197498312-c2e08d6c-262f-4ae3-bcad-d985f967cf3b.png)\n"
   ]
  },
  {
   "cell_type": "code",
   "execution_count": 18,
   "id": "a168ba1d",
   "metadata": {},
   "outputs": [
    {
     "name": "stdout",
     "output_type": "stream",
     "text": [
      "출판사의 수 : 11571\n",
      "10권 이상 집필한 출판사의 수 : 1549\n"
     ]
    }
   ],
   "source": [
    "n = 10\n",
    "print('출판사의 수 :', books['publisher'].nunique())\n",
    "books_publishers = books.groupby('publisher')['isbn'].count().sort_values(ascending=False)\n",
    "print(f'{n}권 이상 집필한 출판사의 수 :', len(books_publishers[books_publishers >= n]))"
   ]
  },
  {
   "cell_type": "markdown",
   "id": "c8bea8db",
   "metadata": {},
   "source": [
    "출판사는 11571개 존재합니다. 10권 이상 출판한 출판사는 1426개로 다소 떨어짐을 알 수 있습니다."
   ]
  },
  {
   "cell_type": "code",
   "execution_count": 19,
   "id": "5926508c",
   "metadata": {},
   "outputs": [
    {
     "data": {
      "text/plain": [
       "publisher\n",
       "Harlequin                   3005\n",
       "Ballantine Books            2322\n",
       "Pocket                      2274\n",
       "Penguin Books               1943\n",
       "Bantam Books                1938\n",
       "Berkley Publishing Group    1754\n",
       "Silhouette                  1684\n",
       "Warner Books                1667\n",
       "Scholastic                  1586\n",
       "Simon & Schuster            1578\n",
       "Name: isbn, dtype: int64"
      ]
     },
     "execution_count": 19,
     "metadata": {},
     "output_type": "execute_result"
    }
   ],
   "source": [
    "books_publishers[:10]"
   ]
  },
  {
   "cell_type": "code",
   "execution_count": 16,
   "id": "b78327a7",
   "metadata": {},
   "outputs": [
    {
     "name": "stdout",
     "output_type": "stream",
     "text": [
      "Harlequin\n",
      "{'Harlequin Romance', 'Harlequin Enterprises', 'Harlequin', 'Harlequin Enterprises Limited', 'Harlequin Mills & Boon Ltd', 'Harlequin Sales Corp (Mm)', 'Harlequin Audio', 'Harlequin Books', 'Harlequin Sales Corp'}\n",
      "Ballantine Books\n",
      "{'Ballantine Books', 'Distributed by Ballantine Books', 'Ballantine Books (Mm)', 'Ballantine Books (Trd Pap)', 'Distributed in the U.S. by Ballantine Books'}\n",
      "Pocket\n",
      "{'Pocket (FR)', 'MÃ¥nPocket', 'Pocket Jeunesse', 'Paraview Pocket Books', 'TownHouse/Pocket Books', 'ManPocket', 'Pocket', 'Pocket Books (Mm)', 'Pocket Books : Distributed by Simon & Schuster', 'Press Pocket', 'Presses Pocket French', 'Pocket Books', 'Pocket Star Book', 'Pocket Books/TownHouse', 'Presses Pocket', 'Distributed by Pocket Books', 'Pocket Star', 'Pocket French', 'Pocket Classics', 'Pocket Star Books', 'Pocket : France-Inter'}\n",
      "Penguin Books\n",
      "{'Penguin Books, Canada', 'Penguin Books Australia Ltd.', 'Penguin Books', 'Penguin Books (NZ)', 'Penguin Books Canada Ltd', 'Granta Books in association with Penguin Books', 'Penguin Books India', 'Penguin Books USA', 'Penguin Books Canada', 'Penguin Books (NZ) Ltd', 'Penguin Books / Granta', 'Penguin Books, Limited (UK)', 'Penguin Books Ltd', 'Penguin Books Australia Ltd'}\n",
      "Bantam Books\n",
      "{'Bantam Books of Canada Ltd', 'A Disney/Bantam Books', 'Bantam Books', 'Bantam Books (Mm)', 'Bantam Books for Young Readers', 'Bantam Books-Audio', 'Bantam Books, Inc.'}\n",
      "Berkley Publishing Group\n",
      "{'The Berkley Publishing Group', 'Berkley Publishing Group'}\n",
      "Silhouette\n",
      "{'Silhouette Books New York', 'Silhouette Books', 'Silhouette'}\n",
      "Warner Books\n",
      "{'Time Warner Books UK', 'Warner Books, Incorporated', 'Warner Books> C/o Little Br', 'Warner Books : distributed in the U.S. by Random House', 'Warner Books (Mm)', 'Warner Books Inc', 'Warner Books', 'Warner Books/Walk Worthy Press'}\n",
      "Scholastic\n",
      "{'Scholastic Library Pub', 'Scholastic Inc.School Market Edition', 'Puffin / Scholastic', 'Scholastic Books', 'Scholastic Inc', 'Cartwheel Books (Scholastics)', 'Apple Signature (Scholastic)', 'Little Apple Books (Scholastic)', 'Scholastic Press', 'Scholastic Reference', 'Scholastic Incorporated', 'Scholastic Paperbacks (T)', 'Scholastic Library Pub (P)', 'Scholastic Inc. - School Market Edition', 'Scholastic Apple Paperbacks', 'Scholastic Paperbacks', 'Scholastic Point', 'Scholastic, Incorporated', 'Apple/Scholastic', 'Apple Paperbacks (Scholastic)', 'Scholastic Australia Pty Ltd', 'A Scholastic/Madison Prss Book', 'Scholastic Little Hippo', 'Scholastic Canada', 'Scholastic, Inc.', 'Scholastic Ltd', 'Scholastic US', 'Scholastics, Inc', 'Apple (Scholastic)', 'Scholastic Trade', 'Scholastic Education Australia', 'Scholastic School Market Edition', 'Scholastic Signature', 'Scholastic en Espanol', 'Scholastic Inc.', 'Scholastic, Inc', 'Scholastic INC.', 'Scholastic Audio Cassette', 'Scholastic Book Service', 'Scholastic', 'Scholastic Hippo', 'Scholastic Inc. School Market Edition', 'Apple Classics (Scholastic)', 'Scholastic Junior Classics', 'Scholastic Paperbacks (Mm)', 'Scholastic 10x8 paperback'}\n",
      "Simon & Schuster\n",
      "{'Simon & Schuster Audio', 'Simon & Schuster', 'Published by Simon & Schuster in association with WGBH Boston', 'Simon & Schuster (T)', 'Computer Book Division/Simon & Schuster', \"Simon & Schuster Children's Publishing\", 'Simon & Schuster (J)', 'Simon & Schuster (P)', 'Simon & Schuster Merchandise &', 'Simon & Schuster Mass Market', 'Pocket Books : Distributed by Simon & Schuster', 'Simon & Schuster (A)', 'Simon & Schuster Books', 'Simon & Schuster Adult Publishing Group', 'Simon & Schuster (Australia)', 'Simon & Schuster (Trade Division)', 'Simon & Schuster UK', 'Simon & Schuster Custom Publishing', 'Simon & Schuster Childrens Books'}\n"
     ]
    }
   ],
   "source": [
    "for i in books_publishers[:10].index:\n",
    "    print(i)\n",
    "    print(set(books['publisher'][books['publisher'].str.contains(i)]))"
   ]
  },
  {
   "cell_type": "code",
   "execution_count": null,
   "id": "980d3ba1",
   "metadata": {},
   "outputs": [],
   "source": []
  },
  {
   "cell_type": "code",
   "execution_count": 17,
   "id": "895fe021",
   "metadata": {},
   "outputs": [
    {
     "ename": "NameError",
     "evalue": "name 'tem' is not defined",
     "output_type": "error",
     "traceback": [
      "\u001b[0;31m---------------------------------------------------------------------------\u001b[0m",
      "\u001b[0;31mNameError\u001b[0m                                 Traceback (most recent call last)",
      "Cell \u001b[0;32mIn [17], line 1\u001b[0m\n\u001b[0;32m----> 1\u001b[0m tem[tem[\u001b[39m'\u001b[39m\u001b[39mpublisher\u001b[39m\u001b[39m'\u001b[39m] \u001b[39m==\u001b[39m \u001b[39m'\u001b[39m\u001b[39mPenguin Books USA\u001b[39m\u001b[39m'\u001b[39m]\n",
      "\u001b[0;31mNameError\u001b[0m: name 'tem' is not defined"
     ]
    }
   ],
   "source": [
    "tem[tem['publisher'] == 'Penguin Books USA']"
   ]
  },
  {
   "cell_type": "code",
   "execution_count": null,
   "id": "e6002301",
   "metadata": {},
   "outputs": [
    {
     "data": {
      "text/plain": [
       "{'0140',\n",
       " '0141',\n",
       " '0142',\n",
       " '0143',\n",
       " '0146',\n",
       " '0147',\n",
       " '0451',\n",
       " '0452',\n",
       " '0670',\n",
       " '0802',\n",
       " '1594',\n",
       " '1854',\n",
       " '1898'}"
      ]
     },
     "execution_count": 178,
     "metadata": {},
     "output_type": "execute_result"
    }
   ],
   "source": [
    "tem = books['isbn'][books['publisher'] == 'Penguin Books']\n",
    "set(tem.apply(lambda x : x[:4]))"
   ]
  },
  {
   "cell_type": "markdown",
   "id": "d0e73913",
   "metadata": {},
   "source": [
    "언어, 분류, 요약 내용이 null 인 경우가 꽤 많습니다."
   ]
  },
  {
   "cell_type": "code",
   "execution_count": null,
   "id": "9ffb97f3",
   "metadata": {},
   "outputs": [
    {
     "data": {
      "text/plain": [
       "149570"
      ]
     },
     "execution_count": 179,
     "metadata": {},
     "output_type": "execute_result"
    }
   ],
   "source": [
    "books['isbn'].nunique()"
   ]
  },
  {
   "cell_type": "code",
   "execution_count": null,
   "id": "758beb2b",
   "metadata": {},
   "outputs": [],
   "source": []
  }
 ],
 "metadata": {
  "kernelspec": {
   "display_name": "Python 3.8.5 ('base')",
   "language": "python",
   "name": "python3"
  },
  "language_info": {
   "codemirror_mode": {
    "name": "ipython",
    "version": 3
   },
   "file_extension": ".py",
   "mimetype": "text/x-python",
   "name": "python",
   "nbconvert_exporter": "python",
   "pygments_lexer": "ipython3",
   "version": "3.8.5"
  },
  "vscode": {
   "interpreter": {
    "hash": "d4d1e4263499bec80672ea0156c357c1ee493ec2b1c70f0acce89fc37c4a6abe"
   }
  }
 },
 "nbformat": 4,
 "nbformat_minor": 5
}
