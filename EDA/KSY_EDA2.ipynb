{
 "cells": [
  {
   "cell_type": "code",
   "execution_count": 7,
   "metadata": {},
   "outputs": [
    {
     "name": "stdout",
     "output_type": "stream",
     "text": [
      "(306795, 3)\n",
      "(76699, 3)\n"
     ]
    }
   ],
   "source": [
    "#import data\n",
    "import pandas as pd\n",
    "import numpy as np\n",
    "import seaborn as sns\n",
    "import matplotlib.pyplot as plt\n",
    "import random\n",
    "import os\n",
    "\n",
    "import warnings\n",
    "warnings.filterwarnings(\"ignore\")\n",
    "\n",
    "pd.set_option('display.max_row', 50)\n",
    "\n",
    "train = pd.read_csv('../data/train_ratings.csv')\n",
    "test = pd.read_csv('../data/test_ratings.csv')\n",
    "print(train.shape)\n",
    "print(test.shape)\n",
    "\n",
    "def rmse(real: list, predict: list) -> float:\n",
    "    pred = np.array(predict)\n",
    "    return np.sqrt(np.mean((real-pred) ** 2))\n",
    "\n",
    "SEED = 42\n",
    "def seed_everything(seed: int = 42):\n",
    "    random.seed(seed)\n",
    "    np.random.seed(seed)\n",
    "    os.environ[\"PYTHONHASHSEED\"] = str(seed)\n",
    "\n",
    "seed_everything(SEED)"
   ]
  },
  {
   "cell_type": "code",
   "execution_count": 71,
   "metadata": {},
   "outputs": [],
   "source": [
    "n = 5 # n은 other로 바꾸는 기준\n",
    "\n",
    "tem = train['user_id'].value_counts()\n",
    "tem = list(tem[tem >= n].index)\n",
    "train['id'] = train['user_id'].copy()\n",
    "train['id'][~train['id'].isin(tem)] = -1\n",
    "test['id'] = test['user_id'].copy()\n",
    "test['id'][~test['id'].isin(tem)] = -1\n",
    "\n",
    "tem = train['isbn'].value_counts()\n",
    "tem = list(tem[tem >= n].index)\n",
    "train['bn'] = train['isbn'].copy()\n",
    "train['bn'][~train['bn'].isin(tem)] = 1000000000\n",
    "test['bn'] = test['isbn'].copy()\n",
    "test['bn'][~test['bn'].isin(tem)] = 1000000000\n",
    "\n",
    "train['id'] = train['id'].astype('str')\n",
    "train['bn'] = train['bn'].astype('str')\n",
    "\n",
    "test['id'] = test['id'].astype('str')\n",
    "test['bn'] = test['bn'].astype('str')"
   ]
  },
  {
   "cell_type": "code",
   "execution_count": 72,
   "metadata": {},
   "outputs": [
    {
     "name": "stdout",
     "output_type": "stream",
     "text": [
      "중앙값은 : 7.0, 평균은 : 6.86547\n"
     ]
    }
   ],
   "source": [
    "# 유저만 others, 중앙값 평균 차이가 크지 않음. 1이 상대적으로 별로 없다.\n",
    "_median = train[(train['id'] == '-1')]['rating'].median()\n",
    "_mean = train[(train['id'] == '-1')]['rating'].mean()\n",
    "\n",
    "print(f'중앙값은 : {np.round(_median,5)}, 평균은 : {np.round(_mean,5)}')"
   ]
  },
  {
   "cell_type": "code",
   "execution_count": 73,
   "metadata": {},
   "outputs": [
    {
     "name": "stdout",
     "output_type": "stream",
     "text": [
      "중앙값은 : 8.0, 평균은 : 6.94185\n"
     ]
    }
   ],
   "source": [
    "# 책만 others, 1점을 준 비중이 생각보다 많다.\n",
    "_median = train[(train['bn'] == '1000000000')]['rating'].median()\n",
    "_mean = train[(train['bn'] == '1000000000')]['rating'].mean()\n",
    "\n",
    "print(f'중앙값은 : {np.round(_median,5)}, 평균은 : {np.round(_mean,5)}')"
   ]
  },
  {
   "cell_type": "code",
   "execution_count": 74,
   "metadata": {},
   "outputs": [
    {
     "name": "stdout",
     "output_type": "stream",
     "text": [
      "중앙값은 : 7.0, 평균은 : 6.66446\n"
     ]
    }
   ],
   "source": [
    "# 유저는 others, 책도 others\n",
    "_median = train[(train['id'] == '-1') & (train['bn'] == '1000000000')]['rating'].median()\n",
    "_mean = train[(train['id'] == '-1') & (train['bn'] == '1000000000')]['rating'].mean()\n",
    "\n",
    "print(f'중앙값은 : {np.round(_median,5)}, 평균은 : {np.round(_mean,5)}')"
   ]
  },
  {
   "cell_type": "code",
   "execution_count": 76,
   "metadata": {},
   "outputs": [
    {
     "name": "stdout",
     "output_type": "stream",
     "text": [
      "중앙값은 : 8.0, 평균은 : 7.01491\n"
     ]
    }
   ],
   "source": [
    "# 유저는 not others, 책은 others\n",
    "_median = train[~(train['id'] == '-1') & (train['bn'] == '1000000000')]['rating'].median()\n",
    "_mean = train[~(train['id'] == '-1') & (train['bn'] == '1000000000')]['rating'].mean()\n",
    "\n",
    "print(f'중앙값은 : {np.round(_median,5)}, 평균은 : {np.round(_mean,5)}')"
   ]
  },
  {
   "cell_type": "code",
   "execution_count": 77,
   "metadata": {},
   "outputs": [
    {
     "name": "stdout",
     "output_type": "stream",
     "text": [
      "중앙값은 : 8.0, 평균은 : 7.28676\n"
     ]
    }
   ],
   "source": [
    "# 유저는 not others, 책도 not others\n",
    "_median = train[~(train['id'] == '-1') & ~(train['bn'] == '1000000000')]['rating'].median()\n",
    "_mean = train[~(train['id'] == '-1') & ~(train['bn'] == '1000000000')]['rating'].mean()\n",
    "\n",
    "print(f'중앙값은 : {np.round(_median,5)}, 평균은 : {np.round(_mean,5)}')"
   ]
  },
  {
   "cell_type": "code",
   "execution_count": 86,
   "metadata": {},
   "outputs": [
    {
     "data": {
      "text/plain": [
       "2.7873994060412275"
      ]
     },
     "execution_count": 86,
     "metadata": {},
     "output_type": "execute_result"
    }
   ],
   "source": [
    "tem = train[(train['id'] == '-1') & (train['bn'] == '1000000000')]\n",
    "tem['pred_rating'] = 5.5\n",
    "rmse(tem['rating'], tem['pred_rating'])"
   ]
  },
  {
   "cell_type": "code",
   "execution_count": 80,
   "metadata": {},
   "outputs": [
    {
     "data": {
      "text/plain": [
       "6.664463854729341"
      ]
     },
     "execution_count": 80,
     "metadata": {},
     "output_type": "execute_result"
    }
   ],
   "source": [
    "tem['rating'].mean()"
   ]
  },
  {
   "cell_type": "code",
   "execution_count": 95,
   "metadata": {},
   "outputs": [
    {
     "data": {
      "text/plain": [
       "8     7918\n",
       "7     6532\n",
       "9     4212\n",
       "10    3774\n",
       "6     3447\n",
       "1     2222\n",
       "5     2092\n",
       "4     1664\n",
       "2     1615\n",
       "3     1328\n",
       "Name: rating, dtype: int64"
      ]
     },
     "execution_count": 95,
     "metadata": {},
     "output_type": "execute_result"
    }
   ],
   "source": [
    "train[(train['id'] == '-1') & (train['bn'] == '1000000000')]['rating'].value_counts()"
   ]
  },
  {
   "cell_type": "code",
   "execution_count": null,
   "metadata": {},
   "outputs": [],
   "source": []
  }
 ],
 "metadata": {
  "kernelspec": {
   "display_name": "Python 3.8.5 ('base')",
   "language": "python",
   "name": "python3"
  },
  "language_info": {
   "codemirror_mode": {
    "name": "ipython",
    "version": 3
   },
   "file_extension": ".py",
   "mimetype": "text/x-python",
   "name": "python",
   "nbconvert_exporter": "python",
   "pygments_lexer": "ipython3",
   "version": "3.8.5"
  },
  "orig_nbformat": 4,
  "vscode": {
   "interpreter": {
    "hash": "d4d1e4263499bec80672ea0156c357c1ee493ec2b1c70f0acce89fc37c4a6abe"
   }
  }
 },
 "nbformat": 4,
 "nbformat_minor": 2
}
