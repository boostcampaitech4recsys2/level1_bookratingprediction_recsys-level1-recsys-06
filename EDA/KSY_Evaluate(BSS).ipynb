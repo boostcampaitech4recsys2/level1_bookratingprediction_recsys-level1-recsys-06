{
 "cells": [
  {
   "cell_type": "code",
   "execution_count": 2,
   "metadata": {},
   "outputs": [],
   "source": [
    "import pandas as pd\n",
    "import numpy as np"
   ]
  },
  {
   "cell_type": "code",
   "execution_count": 5,
   "metadata": {},
   "outputs": [],
   "source": [
    "path = '../data/'\n",
    "\n",
    "#book_counts = pd.read_csv(path + 'books.csv',index_col=0)\n",
    "#user_counts = pd.read_csv(path + 'user_review_count.csv',index_col=0)\n",
    "train_df = pd.read_csv(path + 'ksy_train.csv')\n",
    "valid_df = pd.read_csv(path + 'ksy_valid.csv') "
   ]
  },
  {
   "cell_type": "code",
   "execution_count": 11,
   "metadata": {},
   "outputs": [],
   "source": [
    "n = 5\n",
    "tem = train_df['user_id'].value_counts()\n",
    "user_counts = list(tem[tem >= n].index)\n",
    "\n",
    "tem = train_df['isbn'].value_counts()\n",
    "book_counts = list(tem[tem >= n].index)"
   ]
  },
  {
   "cell_type": "code",
   "execution_count": 56,
   "metadata": {},
   "outputs": [],
   "source": [
    "def cold_users(n: int=1)->set():\n",
    "    tem = train_df['user_id'].value_counts()\n",
    "    cold_users = list(tem[tem <= n].index)\n",
    "    return cold_users\n",
    "\n",
    "def cold_books(n:int=0)->set():\n",
    "    tem = train_df['isbn'].value_counts()\n",
    "    cold_books = list(tem[tem <= n].index)\n",
    "    return cold_books\n",
    "\n",
    "def df_rmse(df:pd.DataFrame):\n",
    "    df.cat_pred2 = (df.cat_pred - _mean) * 1.05 + _mean\n",
    "    return ((df.cat_pred2 - df.y)**2).mean()**.5 , len(df)\n",
    "\n",
    "# def df_rmse(df:pd.DataFrame):\n",
    "#     return ((6.8 - df.y)**2).mean()**.5 , len(df)\n",
    "\n",
    "def conditional_rmse(df:pd.DataFrame, userset:set={}, bookset:set={}):\n",
    "    is_colduser = df['user_id'].isin(userset)\n",
    "    is_coldbook = df['isbn'].isin(bookset)\n",
    "    \n",
    "    print(\"-*\"*10+\"두가지로 나눈 경우\"+\"-*\"*10)\n",
    "    print(\"----------유저 기준으로 나눴을 때----------\")\n",
    "    error,length = df_rmse(df[is_colduser])\n",
    "    print(f'RMSE = {error}, {length}개 - 유저 COLD')\n",
    "    error,length = df_rmse(df[~is_colduser])\n",
    "    print(f'RMSE = {error}, {length}개 - 유저 데이터가 {n+1}개 이상인 경우')\n",
    "    print()\n",
    "\n",
    "    print(\"----------책 기준으로 나눴을 때----------\")\n",
    "    error,length = df_rmse(df[is_coldbook])\n",
    "    print(f'RMSE = {error}, {length}개 - 책 COLD')\n",
    "    error,length = df_rmse(df[~is_coldbook])\n",
    "    print(f'RMSE = {error}, {length}개 - 책 데이터가 {n+1}개 이상인 경우')\n",
    "    print()\n",
    "\n",
    "    print(\"----------유저,책 둘 기준으로 나눴을 때----------\")\n",
    "    error,length = df_rmse(df[is_colduser&is_coldbook])\n",
    "    print(f'RMSE = {error}, {length}개 - 유저 COLD, 책 COLD')\n",
    "    error,length = df_rmse(df[~(is_colduser&is_coldbook)])\n",
    "    print(f'RMSE = {error}, {length}개 - 유저와 책 둘 다 데이터가 {n+1}개 이상인 경우')\n",
    "    print('\\n')\n",
    "    \n",
    "    print(\"-*\"*10+\"네가지로 나눈 경우\"+\"-*\"*10)\n",
    "    error,length = df_rmse(df[is_colduser&is_coldbook])\n",
    "    print(f'RMSE = {error}, {length}개 - 유저 COLD, 책 COLD')\n",
    "    print()\n",
    "    error,length = df_rmse(df[is_colduser&~is_coldbook])\n",
    "    print(f'RMSE = {error}, {length}개 - 유저 COLD, 책 HOT')\n",
    "    print()\n",
    "    error,length = df_rmse(df[~is_colduser&is_coldbook])\n",
    "    print(f'RMSE = {error}, {length}개 - 유저 HOT, 책 COLD')\n",
    "    print()\n",
    "    error,length = df_rmse(df[~is_colduser&~is_coldbook])\n",
    "    print(f'RMSE = {error}, {length}개 - 유저 HOT, 책 HOT')\n",
    "    print()\n",
    "\n",
    "    print(\"-\"*20)\n",
    "    error,length = df_rmse(df)\n",
    "    print(f'RMSE = {error}, {length}개 - 총 데이터')\n"
   ]
  },
  {
   "cell_type": "code",
   "execution_count": 23,
   "metadata": {},
   "outputs": [
    {
     "data": {
      "text/plain": [
       "7.073029221467103"
      ]
     },
     "execution_count": 23,
     "metadata": {},
     "output_type": "execute_result"
    }
   ],
   "source": [
    "valid_df['y'].mean()"
   ]
  },
  {
   "cell_type": "code",
   "execution_count": 35,
   "metadata": {},
   "outputs": [],
   "source": []
  },
  {
   "cell_type": "code",
   "execution_count": 57,
   "metadata": {},
   "outputs": [
    {
     "name": "stdout",
     "output_type": "stream",
     "text": [
      "Cold Start 10개 기준\n",
      "-*-*-*-*-*-*-*-*-*-*두가지로 나눈 경우-*-*-*-*-*-*-*-*-*-*\n",
      "----------유저 기준으로 나눴을 때----------\n",
      "RMSE = 2.2991505427609877, 17814개 - 유저 COLD\n",
      "RMSE = 2.072884362178345, 43545개 - 유저 데이터가 11개 이상인 경우\n",
      "\n",
      "----------책 기준으로 나눴을 때----------\n",
      "RMSE = 2.122205025506493, 25905개 - 책 COLD\n",
      "RMSE = 2.1546974094790268, 35454개 - 책 데이터가 11개 이상인 경우\n",
      "\n",
      "----------유저,책 둘 기준으로 나눴을 때----------\n",
      "RMSE = 2.2851618672595766, 7507개 - 유저 COLD, 책 COLD\n",
      "RMSE = 2.1201710649327974, 53852개 - 유저와 책 둘 다 데이터가 11개 이상인 경우\n",
      "\n",
      "\n",
      "-*-*-*-*-*-*-*-*-*-*네가지로 나눈 경우-*-*-*-*-*-*-*-*-*-*\n",
      "RMSE = 2.2851618672595766, 7507개 - 유저 COLD, 책 COLD\n",
      "\n",
      "RMSE = 2.309285720200963, 10307개 - 유저 COLD, 책 HOT\n",
      "\n",
      "RMSE = 2.0519990747557664, 18398개 - 유저 HOT, 책 COLD\n",
      "\n",
      "RMSE = 2.088032092817024, 25147개 - 유저 HOT, 책 HOT\n",
      "\n",
      "--------------------\n",
      "RMSE = 2.141039678621469, 61359개 - 총 데이터\n"
     ]
    },
    {
     "name": "stderr",
     "output_type": "stream",
     "text": [
      "/tmp/ipykernel_125579/3212743179.py:12: UserWarning: Pandas doesn't allow columns to be created via a new attribute name - see https://pandas.pydata.org/pandas-docs/stable/indexing.html#attribute-access\n",
      "  df.cat_pred2 = (df.cat_pred - _mean) * 1.05 + _mean\n"
     ]
    }
   ],
   "source": [
    "n = 10\n",
    "cu_n = cold_users(n)\n",
    "cb_n = cold_books(n)\n",
    "_mean = valid_df[valid_df['user_id'].isin(cu_n)]['y'].mean()\n",
    "print(f\"Cold Start {n}개 기준\")\n",
    "conditional_rmse(valid_df,cu_n,cb_n)"
   ]
  },
  {
   "cell_type": "code",
   "execution_count": 49,
   "metadata": {},
   "outputs": [
    {
     "data": {
      "text/plain": [
       "<AxesSubplot:>"
      ]
     },
     "execution_count": 49,
     "metadata": {},
     "output_type": "execute_result"
    },
    {
     "data": {
      "image/png": "[encoded data removed]",
      "text/plain": [
       "<Figure size 640x480 with 1 Axes>"
      ]
     },
     "metadata": {},
     "output_type": "display_data"
    }
   ],
   "source": [
    "valid_df[valid_df['user_id'].isin(cu_n)]['y'].hist()"
   ]
  },
  {
   "cell_type": "code",
   "execution_count": 51,
   "metadata": {},
   "outputs": [
    {
     "data": {
      "text/plain": [
       "<AxesSubplot:>"
      ]
     },
     "execution_count": 51,
     "metadata": {},
     "output_type": "execute_result"
    },
    {
     "data": {
      "image/png": "[encoded data removed]",
      "text/plain": [
       "<Figure size 640x480 with 1 Axes>"
      ]
     },
     "metadata": {},
     "output_type": "display_data"
    }
   ],
   "source": [
    "valid_df[~valid_df['user_id'].isin(cu_n)]['y'].hist()"
   ]
  },
  {
   "cell_type": "code",
   "execution_count": null,
   "metadata": {},
   "outputs": [],
   "source": []
  }
 ],
 "metadata": {
  "kernelspec": {
   "display_name": "Python 3.8.5 ('base')",
   "language": "python",
   "name": "python3"
  },
  "language_info": {
   "codemirror_mode": {
    "name": "ipython",
    "version": 3
   },
   "file_extension": ".py",
   "mimetype": "text/x-python",
   "name": "python",
   "nbconvert_exporter": "python",
   "pygments_lexer": "ipython3",
   "version": "3.8.5"
  },
  "orig_nbformat": 4,
  "vscode": {
   "interpreter": {
    "hash": "d4d1e4263499bec80672ea0156c357c1ee493ec2b1c70f0acce89fc37c4a6abe"
   }
  }
 },
 "nbformat": 4,
 "nbformat_minor": 2
}
