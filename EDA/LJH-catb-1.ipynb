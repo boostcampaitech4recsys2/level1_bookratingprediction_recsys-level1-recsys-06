{
 "cells": [
  {
   "cell_type": "code",
   "execution_count": 24,
   "metadata": {},
   "outputs": [],
   "source": [
    "import pandas as pd\n",
    "import numpy as np\n",
    "import seaborn as sns\n",
    "import matplotlib.pyplot as plt\n",
    "import math\n",
    "import tqdm\n",
    "import pdb\n",
    "from scipy.sparse import csr_matrix, linalg\n",
    "from sklearn.model_selection import train_test_split\n",
    "from sklearn.metrics import mean_squared_error\n",
    "import warnings\n",
    "\n",
    "import pandas as pd\n",
    "import numpy as np\n",
    "from sklearn.linear_model import LinearRegression\n",
    "from sklearn.model_selection import train_test_split\n",
    "from sklearn.preprocessing import OneHotEncoder\n",
    "from sklearn.metrics import mean_squared_error, r2_score\n",
    "import lightgbm as lgb\n",
    "\n",
    "import random\n",
    "import os\n",
    "\n",
    "import optuna\n",
    "from optuna import Trial, visualization\n",
    "from optuna.samplers import TPESampler\n",
    "\n",
    "from sklearn.model_selection import train_test_split\n",
    "from catboost import CatBoostRegressor\n",
    "\n",
    "from sklearn.metrics import mean_absolute_error\n",
    "\n",
    "warnings.filterwarnings(action='ignore')"
   ]
  },
  {
   "cell_type": "code",
   "execution_count": 25,
   "metadata": {},
   "outputs": [],
   "source": [
    "# pip install optuna\n",
    "# optuna.trial.Trial.suggest_categorical() : 리스트 범위 내에서 값을 선택한다.\n",
    "# optuna.trial.Trial.suggest_int() : 범위 내에서 정수형 값을 선택한다.\n",
    "# optuna.trial.Trial.suggest_float() : 범위 내에서 소수형 값을 선택한다.\n",
    "# optuna.trial.Trial.suggest_uniform() : 범위 내에서 균일분포 값을 선택한다.\n",
    "# optuna.trial.Trial.suggest_discrete_uniform() : 범위 내에서 이산 균일분포 값을 선택한다.\n",
    "# optuna.trial.Trial.suggest_loguniform() : 범위 내에서 로그 함수 값을 선택한다."
   ]
  },
  {
   "cell_type": "code",
   "execution_count": 26,
   "metadata": {},
   "outputs": [
    {
     "name": "stdout",
     "output_type": "stream",
     "text": [
      "users shape:  (68092, 3)\n",
      "books shape:  (149570, 10)\n",
      "train_ratings shape:  (306795, 3)\n"
     ]
    }
   ],
   "source": [
    "path= '/opt/ml/level1_bookratingprediction_recsys-level1-recsys-06/data/'\n",
    "\n",
    "users = pd.read_csv(path+'users.csv')\n",
    "books = pd.read_csv(path+'books.csv')\n",
    "train_ratings = pd.read_csv(path+'train_ratings.csv')\n",
    "test_ratings = pd.read_csv(path+'test_ratings.csv')\n",
    "submit = pd.read_csv(path + 'sample_submission.csv')\n",
    "\n",
    "print('users shape: ', users.shape)\n",
    "print('books shape: ', books.shape)\n",
    "print('train_ratings shape: ', train_ratings.shape)"
   ]
  },
  {
   "cell_type": "code",
   "execution_count": 27,
   "metadata": {},
   "outputs": [],
   "source": [
    "def rmse(real: list, predict: list) -> float:\n",
    "    pred = np.array(predict)\n",
    "    return np.sqrt(np.mean((real-pred) ** 2))\n",
    "\n",
    "SEED = 42\n",
    "def seed_everything(seed: int = 42):\n",
    "    random.seed(seed)\n",
    "    np.random.seed(seed)\n",
    "    os.environ[\"PYTHONHASHSEED\"] = str(seed)\n",
    "\n",
    "seed_everything(SEED)\n"
   ]
  },
  {
   "cell_type": "markdown",
   "metadata": {},
   "source": [
    "# 전처리"
   ]
  },
  {
   "cell_type": "code",
   "execution_count": 28,
   "metadata": {},
   "outputs": [],
   "source": [
    "users['location_city'] = users['location'].apply(lambda x: x.split(',')[0])\n",
    "users['location_state'] = users['location'].apply(lambda x: x.split(',')[1])\n",
    "users['location_country'] = users['location'].apply(lambda x: x.split(',')[2])\n",
    "users = users.drop(['location'], axis=1)"
   ]
  },
  {
   "cell_type": "code",
   "execution_count": 29,
   "metadata": {},
   "outputs": [],
   "source": [
    "ratings = pd.concat([train_ratings, test_ratings]).reset_index(drop=True)\n",
    "context_df = ratings.merge(users, on='user_id', how='left').merge(books[['isbn', 'category', 'publisher', 'language', 'book_author']], on='isbn', how='left')\n",
    "train_df = train_ratings.merge(users, on='user_id', how='left').merge(books[['isbn', 'category', 'publisher', 'language', 'book_author']], on='isbn', how='left')\n",
    "test_df = test_ratings.merge(users, on='user_id', how='left').merge(books[['isbn', 'category', 'publisher', 'language', 'book_author']], on='isbn', how='left')"
   ]
  },
  {
   "cell_type": "code",
   "execution_count": 30,
   "metadata": {},
   "outputs": [],
   "source": [
    "loc_city2idx = {v:k for k,v in enumerate(context_df['location_city'].unique())}\n",
    "loc_state2idx = {v:k for k,v in enumerate(context_df['location_state'].unique())}\n",
    "loc_country2idx = {v:k for k,v in enumerate(context_df['location_country'].unique())}"
   ]
  },
  {
   "cell_type": "code",
   "execution_count": 31,
   "metadata": {},
   "outputs": [],
   "source": [
    "train_df['location_city'] = train_df['location_city'].map(loc_city2idx)\n",
    "train_df['location_state'] = train_df['location_state'].map(loc_state2idx)\n",
    "train_df['location_country'] = train_df['location_country'].map(loc_country2idx)\n",
    "\n",
    "test_df['location_city'] = test_df['location_city'].map(loc_city2idx)\n",
    "test_df['location_state'] = test_df['location_state'].map(loc_state2idx)\n",
    "test_df['location_country'] = test_df['location_country'].map(loc_country2idx)"
   ]
  },
  {
   "cell_type": "code",
   "execution_count": 32,
   "metadata": {},
   "outputs": [],
   "source": [
    "def age_map(x: int) -> int:\n",
    "    x = int(x)\n",
    "    if x < 20:\n",
    "        return 1\n",
    "    elif x >= 20 and x < 30:\n",
    "        return 2\n",
    "    elif x >= 30 and x < 40:\n",
    "        return 3\n",
    "    elif x >= 40 and x < 50:\n",
    "        return 4\n",
    "    elif x >= 50 and x < 60:\n",
    "        return 5\n",
    "    else:\n",
    "        return 6"
   ]
  },
  {
   "cell_type": "code",
   "execution_count": 33,
   "metadata": {},
   "outputs": [],
   "source": [
    "train_df['age'] = train_df['age'].fillna(int(train_df['age'].mean()))\n",
    "train_df['age'] = train_df['age'].apply(age_map)\n",
    "test_df['age'] = test_df['age'].fillna(int(test_df['age'].mean()))\n",
    "test_df['age'] = test_df['age'].apply(age_map)"
   ]
  },
  {
   "cell_type": "code",
   "execution_count": 34,
   "metadata": {},
   "outputs": [],
   "source": [
    "category2idx = {v:k for k,v in enumerate(context_df['category'].unique())}\n",
    "publisher2idx = {v:k for k,v in enumerate(context_df['publisher'].unique())}\n",
    "language2idx = {v:k for k,v in enumerate(context_df['language'].unique())}\n",
    "author2idx = {v:k for k,v in enumerate(context_df['book_author'].unique())}"
   ]
  },
  {
   "cell_type": "code",
   "execution_count": 35,
   "metadata": {},
   "outputs": [],
   "source": [
    "train_df['category'] = train_df['category'].map(category2idx)\n",
    "train_df['publisher'] = train_df['publisher'].map(publisher2idx)\n",
    "train_df['language'] = train_df['language'].map(language2idx)\n",
    "train_df['book_author'] = train_df['book_author'].map(author2idx)\n",
    "\n",
    "test_df['category'] = test_df['category'].map(category2idx)\n",
    "test_df['publisher'] = test_df['publisher'].map(publisher2idx)\n",
    "test_df['language'] = test_df['language'].map(language2idx)\n",
    "test_df['book_author'] = test_df['book_author'].map(author2idx)"
   ]
  },
  {
   "cell_type": "code",
   "execution_count": 36,
   "metadata": {},
   "outputs": [],
   "source": [
    "train_df['id'] = train_df['user_id'].copy()\n",
    "test_df['id'] = test_df['user_id'].copy()\n",
    "\n",
    "train_df['bn'] = train_df['isbn'].copy()\n",
    "test_df['bn'] = test_df['isbn'].copy()"
   ]
  },
  {
   "cell_type": "code",
   "execution_count": 37,
   "metadata": {},
   "outputs": [],
   "source": [
    "for i in enumerate (list(train_df.columns)) :\n",
    "    ca = i[1]\n",
    "    train_df[ca] = train_df[ca].astype('str')\n",
    "    test_df[ca] = test_df[ca].astype('str')\n",
    "train_df['rating'] = train_df['rating'].astype('float64')\n",
    "test_df['rating'] = test_df['rating'].astype('float64')"
   ]
  },
  {
   "cell_type": "markdown",
   "metadata": {},
   "source": [
    "1. age는 범위가 좁기도 하고 str으로 해서 label encoding이 비효율적이라 판단 ! -> 실제로 범위도 작기 때문에 age는 수치형으로 판단하는게 분석적으로 봤을 때 더 모델 성능에 좋은 결과를 미칠 것 이라 판단\n",
    "2. catb의 수치형 모델 알고리즘은 기존의 부스팅 모델들의 알고리즘과 같이 tree로 이루어짐 "
   ]
  },
  {
   "cell_type": "code",
   "execution_count": 38,
   "metadata": {},
   "outputs": [
    {
     "name": "stdout",
     "output_type": "stream",
     "text": [
      "user_id 범주 수: 59803\n",
      "isbn 범주 수: 129777\n",
      "rating 범주 수: 10\n",
      "age 범주 수: 6\n",
      "location_city 범주 수: 11374\n",
      "location_state 범주 수: 1487\n",
      "location_country 범주 수: 318\n",
      "category 범주 수: 3873\n",
      "publisher 범주 수: 10408\n",
      "language 범주 수: 25\n",
      "book_author 범주 수: 54716\n",
      "id 범주 수: 59803\n",
      "bn 범주 수: 129777\n"
     ]
    }
   ],
   "source": [
    "cols_nums = {}\n",
    "for col in train_df.columns:\n",
    "    print(f'{col} 범주 수: {train_df[col].nunique()}')\n",
    "    cols_nums[col] = train_df[col].nunique()"
   ]
  },
  {
   "cell_type": "code",
   "execution_count": 39,
   "metadata": {},
   "outputs": [
    {
     "data": {
      "text/plain": [
       "str"
      ]
     },
     "execution_count": 39,
     "metadata": {},
     "output_type": "execute_result"
    }
   ],
   "source": [
    "type(list(train_df.drop(['rating','user_id','isbn'], axis =1).columns)[0])"
   ]
  },
  {
   "cell_type": "code",
   "execution_count": 40,
   "metadata": {},
   "outputs": [
    {
     "name": "stdout",
     "output_type": "stream",
     "text": [
      "<class 'pandas.core.frame.DataFrame'>\n",
      "Int64Index: 306795 entries, 0 to 306794\n",
      "Data columns (total 13 columns):\n",
      " #   Column            Non-Null Count   Dtype  \n",
      "---  ------            --------------   -----  \n",
      " 0   user_id           306795 non-null  object \n",
      " 1   isbn              306795 non-null  object \n",
      " 2   rating            306795 non-null  float64\n",
      " 3   age               306795 non-null  object \n",
      " 4   location_city     306795 non-null  object \n",
      " 5   location_state    306795 non-null  object \n",
      " 6   location_country  306795 non-null  object \n",
      " 7   category          306795 non-null  object \n",
      " 8   publisher         306795 non-null  object \n",
      " 9   language          306795 non-null  object \n",
      " 10  book_author       306795 non-null  object \n",
      " 11  id                306795 non-null  object \n",
      " 12  bn                306795 non-null  object \n",
      "dtypes: float64(1), object(12)\n",
      "memory usage: 32.8+ MB\n"
     ]
    }
   ],
   "source": [
    "train_df.info()"
   ]
  },
  {
   "cell_type": "markdown",
   "metadata": {},
   "source": [
    "# 모델링"
   ]
  },
  {
   "cell_type": "markdown",
   "metadata": {},
   "source": [
    "## Optuna 함수 정의"
   ]
  },
  {
   "cell_type": "code",
   "execution_count": 41,
   "metadata": {},
   "outputs": [],
   "source": [
    "def objective(trial):\n",
    "  param = {\n",
    "      \n",
    "      \"random_state\":42,\n",
    "      \"objective\" : \"RMSE\",\n",
    "      'learning_rate' : trial.suggest_loguniform('learning_rate', 0.01, 0.5),\n",
    "      'bagging_temperature' :trial.suggest_loguniform('bagging_temperature', 0.01, 100.00),\n",
    "      \"n_estimators\":trial.suggest_int(\"n_estimators\", 1000, 10000),\n",
    "      \"max_depth\":trial.suggest_int(\"max_depth\", 4, 16),\n",
    "      'random_strength' :trial.suggest_int('random_strength', 0, 100),\n",
    "    #   \"colsample_bylevel\":trial.suggest_float(\"colsample_bylevel\", 0.4, 1.0), 이거 때메 GPU 안돌아감\n",
    "      \"l2_leaf_reg\":trial.suggest_float(\"l2_leaf_reg\",1e-8,3e-5),\n",
    "      \"min_child_samples\": trial.suggest_int(\"min_child_samples\", 5, 100),\n",
    "      \"max_bin\": trial.suggest_int(\"max_bin\", 200, 500),\n",
    "      'od_type': trial.suggest_categorical('od_type', ['IncToDec', 'Iter']),\n",
    "  }\n",
    "  train_x, val_x, train_y, val_y = train_test_split(train_df.drop(['rating','user_id','isbn'], axis = 1), train_df['rating'], test_size=0.2)\n",
    "\n",
    "  model = CatBoostRegressor(**param, task_type = 'GPU')\n",
    "  model.fit(\n",
    "      train_x,\n",
    "      train_y,\n",
    "      eval_set=[(val_x, val_y)],\n",
    "      cat_features = list(train_df.drop(['rating','user_id','isbn'], axis =1).columns),\n",
    "      verbose=100\n",
    "  )\n",
    "\n",
    "  cat_pred = model.predict(val_x)\n",
    "  log_score = rmse(val_y, cat_pred)\n",
    "\n",
    "  return log_score"
   ]
  },
  {
   "cell_type": "code",
   "execution_count": 42,
   "metadata": {},
   "outputs": [],
   "source": [
    "# parameter 참고\n",
    "# params_cat = {\n",
    "#         \"task_type\" : \"GPU\",\n",
    "#         \"devices\" : '0',\n",
    "#         \"random_state\": SEED,\n",
    "#         \"learning_rate\": 0.05,\n",
    "#         \"n_estimators\": 2000,\n",
    "#         \"verbose\" : 1,\n",
    "#         \"objective\" : \"RMSE\",\n",
    "#         \"max_depth\": 10,#trial.suggest_int(\"max_depth\", 1, 16),\n",
    "#         \"colsample_bylevel\": 1,#trial.suggest_float(\"colsample_bylevel\", 0.8, 1.0),\n",
    "#         #\"subsample\": 0.8, #trial.suggest_float(\"subsample\", 0.3, 1.0), GPU 사용시 안될수도.\n",
    "#         \"min_child_samples\": 50, #trial.suggest_int(\"min_child_samples\", 5, 100),\n",
    "#         \"max_bin\": 300, #trial.suggest_int(\"max_bin\", 200, 500),\n",
    "#         \"cat_features\" : list(train_df.drop(['age','rating','user_id','isbn'], axis =1).columns),\n",
    "#         \"one_hot_max_size\" : 256\n",
    "# }"
   ]
  },
  {
   "cell_type": "markdown",
   "metadata": {},
   "source": [
    "## Optuna 활용한 모델 실행"
   ]
  },
  {
   "cell_type": "code",
   "execution_count": 43,
   "metadata": {},
   "outputs": [
    {
     "name": "stderr",
     "output_type": "stream",
     "text": [
      "\u001b[32m[I 2022-10-30 08:25:25,642]\u001b[0m A new study created in memory with name: cat_parameter_opt\u001b[0m\n"
     ]
    },
    {
     "name": "stdout",
     "output_type": "stream",
     "text": [
      "0:\tlearn: 2.4328108\ttest: 2.4321749\tbest: 2.4321749 (0)\ttotal: 14.1ms\tremaining: 1m 47s\n",
      "100:\tlearn: 2.4273058\ttest: 2.4248424\tbest: 2.4248424 (100)\ttotal: 1.24s\tremaining: 1m 32s\n",
      "200:\tlearn: 2.4273043\ttest: 2.4248248\tbest: 2.4248248 (200)\ttotal: 2.44s\tremaining: 1m 29s\n",
      "bestTest = 2.424824667\n",
      "bestIteration = 201\n",
      "Shrink model to first 202 iterations.\n"
     ]
    },
    {
     "name": "stderr",
     "output_type": "stream",
     "text": [
      "\u001b[32m[I 2022-10-30 08:25:31,901]\u001b[0m Trial 0 finished with value: 2.4248248146321605 and parameters: {'learning_rate': 0.043284502212938815, 'bagging_temperature': 63.512210106407046, 'n_estimators': 7588, 'max_depth': 11, 'random_strength': 15, 'l2_leaf_reg': 4.688275664882717e-06, 'min_child_samples': 10, 'max_bin': 460, 'od_type': 'Iter'}. Best is trial 0 with value: 2.4248248146321605.\u001b[0m\n"
     ]
    },
    {
     "name": "stdout",
     "output_type": "stream",
     "text": [
      "0:\tlearn: 2.4346166\ttest: 2.4268810\tbest: 2.4268810 (0)\ttotal: 12.7ms\tremaining: 1m 48s\n",
      "100:\tlearn: 2.4289878\ttest: 2.4211551\tbest: 2.4211551 (100)\ttotal: 1.23s\tremaining: 1m 41s\n",
      "200:\tlearn: 2.4283507\ttest: 2.4206160\tbest: 2.4206160 (200)\ttotal: 2.41s\tremaining: 1m 39s\n",
      "300:\tlearn: 2.4282779\ttest: 2.4205915\tbest: 2.4205898 (275)\ttotal: 3.59s\tremaining: 1m 37s\n",
      "400:\tlearn: 2.4282698\ttest: 2.4206011\tbest: 2.4205898 (275)\ttotal: 4.79s\tremaining: 1m 36s\n",
      "500:\tlearn: 2.4282692\ttest: 2.4206061\tbest: 2.4205898 (275)\ttotal: 5.97s\tremaining: 1m 35s\n",
      "600:\tlearn: 2.4282691\ttest: 2.4206084\tbest: 2.4205898 (275)\ttotal: 7.17s\tremaining: 1m 34s\n",
      "700:\tlearn: 2.4282694\ttest: 2.4206092\tbest: 2.4205898 (275)\ttotal: 8.36s\tremaining: 1m 32s\n",
      "800:\tlearn: 2.4282693\ttest: 2.4206094\tbest: 2.4205898 (275)\ttotal: 9.56s\tremaining: 1m 31s\n",
      "900:\tlearn: 2.4282692\ttest: 2.4206094\tbest: 2.4205898 (275)\ttotal: 10.8s\tremaining: 1m 31s\n",
      "1000:\tlearn: 2.4282692\ttest: 2.4206094\tbest: 2.4205898 (275)\ttotal: 12s\tremaining: 1m 29s\n",
      "1100:\tlearn: 2.4282692\ttest: 2.4206094\tbest: 2.4205898 (275)\ttotal: 13.2s\tremaining: 1m 28s\n",
      "1200:\tlearn: 2.4282692\ttest: 2.4206094\tbest: 2.4205898 (275)\ttotal: 14.4s\tremaining: 1m 27s\n",
      "1300:\tlearn: 2.4282692\ttest: 2.4206094\tbest: 2.4205898 (275)\ttotal: 15.6s\tremaining: 1m 26s\n",
      "1400:\tlearn: 2.4282692\ttest: 2.4206094\tbest: 2.4205898 (275)\ttotal: 16.7s\tremaining: 1m 24s\n",
      "1500:\tlearn: 2.4282692\ttest: 2.4206094\tbest: 2.4205898 (275)\ttotal: 17.9s\tremaining: 1m 23s\n",
      "1600:\tlearn: 2.4282692\ttest: 2.4206094\tbest: 2.4205898 (275)\ttotal: 19s\tremaining: 1m 21s\n",
      "1700:\tlearn: 2.4282692\ttest: 2.4206094\tbest: 2.4205898 (275)\ttotal: 20.2s\tremaining: 1m 20s\n",
      "1800:\tlearn: 2.4282692\ttest: 2.4206094\tbest: 2.4205898 (275)\ttotal: 21.4s\tremaining: 1m 19s\n",
      "1900:\tlearn: 2.4282692\ttest: 2.4206094\tbest: 2.4205898 (275)\ttotal: 22.5s\tremaining: 1m 18s\n",
      "2000:\tlearn: 2.4282692\ttest: 2.4206094\tbest: 2.4205898 (275)\ttotal: 23.7s\tremaining: 1m 16s\n",
      "2100:\tlearn: 2.4282692\ttest: 2.4206094\tbest: 2.4205898 (275)\ttotal: 24.9s\tremaining: 1m 15s\n",
      "2200:\tlearn: 2.4282692\ttest: 2.4206094\tbest: 2.4205898 (275)\ttotal: 26s\tremaining: 1m 14s\n",
      "2300:\tlearn: 2.4282692\ttest: 2.4206094\tbest: 2.4205898 (275)\ttotal: 27.2s\tremaining: 1m 13s\n",
      "2400:\tlearn: 2.4282692\ttest: 2.4206094\tbest: 2.4205898 (275)\ttotal: 28.4s\tremaining: 1m 12s\n",
      "2500:\tlearn: 2.4282692\ttest: 2.4206094\tbest: 2.4205898 (275)\ttotal: 29.6s\tremaining: 1m 10s\n",
      "2600:\tlearn: 2.4282692\ttest: 2.4206094\tbest: 2.4205898 (275)\ttotal: 30.7s\tremaining: 1m 9s\n",
      "2700:\tlearn: 2.4282692\ttest: 2.4206094\tbest: 2.4205898 (275)\ttotal: 31.9s\tremaining: 1m 8s\n",
      "2800:\tlearn: 2.4282692\ttest: 2.4206094\tbest: 2.4205898 (275)\ttotal: 33.1s\tremaining: 1m 7s\n",
      "2900:\tlearn: 2.4282692\ttest: 2.4206094\tbest: 2.4205898 (275)\ttotal: 34.3s\tremaining: 1m 6s\n",
      "3000:\tlearn: 2.4282692\ttest: 2.4206094\tbest: 2.4205898 (275)\ttotal: 35.5s\tremaining: 1m 4s\n",
      "3100:\tlearn: 2.4282692\ttest: 2.4206094\tbest: 2.4205898 (275)\ttotal: 36.7s\tremaining: 1m 3s\n",
      "3200:\tlearn: 2.4282692\ttest: 2.4206094\tbest: 2.4205898 (275)\ttotal: 37.9s\tremaining: 1m 2s\n",
      "3300:\tlearn: 2.4282692\ttest: 2.4206094\tbest: 2.4205898 (275)\ttotal: 39s\tremaining: 1m 1s\n",
      "3400:\tlearn: 2.4282692\ttest: 2.4206094\tbest: 2.4205898 (275)\ttotal: 40.2s\tremaining: 1m\n",
      "3500:\tlearn: 2.4282692\ttest: 2.4206094\tbest: 2.4205898 (275)\ttotal: 41.4s\tremaining: 59s\n",
      "3600:\tlearn: 2.4282692\ttest: 2.4206094\tbest: 2.4205898 (275)\ttotal: 42.5s\tremaining: 57.8s\n",
      "3700:\tlearn: 2.4282692\ttest: 2.4206094\tbest: 2.4205898 (275)\ttotal: 43.7s\tremaining: 56.6s\n",
      "3800:\tlearn: 2.4282692\ttest: 2.4206094\tbest: 2.4205898 (275)\ttotal: 44.9s\tremaining: 55.5s\n",
      "3900:\tlearn: 2.4282692\ttest: 2.4206094\tbest: 2.4205898 (275)\ttotal: 46.1s\tremaining: 54.3s\n",
      "4000:\tlearn: 2.4282692\ttest: 2.4206094\tbest: 2.4205898 (275)\ttotal: 47.3s\tremaining: 53.1s\n",
      "4100:\tlearn: 2.4282692\ttest: 2.4206094\tbest: 2.4205898 (275)\ttotal: 48.4s\tremaining: 51.9s\n",
      "4200:\tlearn: 2.4282692\ttest: 2.4206094\tbest: 2.4205898 (275)\ttotal: 49.6s\tremaining: 50.7s\n",
      "4300:\tlearn: 2.4282692\ttest: 2.4206094\tbest: 2.4205898 (275)\ttotal: 50.8s\tremaining: 49.5s\n",
      "4400:\tlearn: 2.4282692\ttest: 2.4206094\tbest: 2.4205898 (275)\ttotal: 51.9s\tremaining: 48.3s\n",
      "4500:\tlearn: 2.4282692\ttest: 2.4206094\tbest: 2.4205898 (275)\ttotal: 53.1s\tremaining: 47s\n",
      "4600:\tlearn: 2.4282692\ttest: 2.4206094\tbest: 2.4205898 (275)\ttotal: 54.3s\tremaining: 45.9s\n",
      "4700:\tlearn: 2.4282692\ttest: 2.4206094\tbest: 2.4205898 (275)\ttotal: 55.4s\tremaining: 44.7s\n",
      "4800:\tlearn: 2.4282692\ttest: 2.4206094\tbest: 2.4205898 (275)\ttotal: 56.6s\tremaining: 43.5s\n",
      "4900:\tlearn: 2.4282692\ttest: 2.4206094\tbest: 2.4205898 (275)\ttotal: 57.8s\tremaining: 42.4s\n",
      "5000:\tlearn: 2.4282692\ttest: 2.4206094\tbest: 2.4205898 (275)\ttotal: 59s\tremaining: 41.2s\n",
      "5100:\tlearn: 2.4282692\ttest: 2.4206094\tbest: 2.4205898 (275)\ttotal: 1m\tremaining: 40s\n",
      "5200:\tlearn: 2.4282692\ttest: 2.4206094\tbest: 2.4205898 (275)\ttotal: 1m 1s\tremaining: 38.8s\n",
      "5300:\tlearn: 2.4282692\ttest: 2.4206094\tbest: 2.4205898 (275)\ttotal: 1m 2s\tremaining: 37.6s\n",
      "5400:\tlearn: 2.4282692\ttest: 2.4206094\tbest: 2.4205898 (275)\ttotal: 1m 3s\tremaining: 36.4s\n",
      "5500:\tlearn: 2.4282692\ttest: 2.4206094\tbest: 2.4205898 (275)\ttotal: 1m 4s\tremaining: 35.2s\n",
      "5600:\tlearn: 2.4282692\ttest: 2.4206094\tbest: 2.4205898 (275)\ttotal: 1m 6s\tremaining: 34.1s\n",
      "5700:\tlearn: 2.4282692\ttest: 2.4206094\tbest: 2.4205898 (275)\ttotal: 1m 7s\tremaining: 32.9s\n",
      "5800:\tlearn: 2.4282692\ttest: 2.4206094\tbest: 2.4205898 (275)\ttotal: 1m 8s\tremaining: 31.7s\n",
      "5900:\tlearn: 2.4282692\ttest: 2.4206094\tbest: 2.4205898 (275)\ttotal: 1m 9s\tremaining: 30.5s\n",
      "6000:\tlearn: 2.4282692\ttest: 2.4206094\tbest: 2.4205898 (275)\ttotal: 1m 10s\tremaining: 29.4s\n",
      "6100:\tlearn: 2.4282692\ttest: 2.4206094\tbest: 2.4205898 (275)\ttotal: 1m 11s\tremaining: 28.2s\n",
      "6200:\tlearn: 2.4282692\ttest: 2.4206094\tbest: 2.4205898 (275)\ttotal: 1m 13s\tremaining: 27.1s\n",
      "6300:\tlearn: 2.4282692\ttest: 2.4206094\tbest: 2.4205898 (275)\ttotal: 1m 14s\tremaining: 25.9s\n",
      "6400:\tlearn: 2.4282692\ttest: 2.4206094\tbest: 2.4205898 (275)\ttotal: 1m 15s\tremaining: 24.7s\n",
      "6500:\tlearn: 2.4282692\ttest: 2.4206094\tbest: 2.4205898 (275)\ttotal: 1m 16s\tremaining: 23.5s\n",
      "6600:\tlearn: 2.4282692\ttest: 2.4206094\tbest: 2.4205898 (275)\ttotal: 1m 18s\tremaining: 22.4s\n",
      "6700:\tlearn: 2.4282692\ttest: 2.4206094\tbest: 2.4205898 (275)\ttotal: 1m 19s\tremaining: 21.2s\n",
      "6800:\tlearn: 2.4282692\ttest: 2.4206094\tbest: 2.4205898 (275)\ttotal: 1m 20s\tremaining: 20.1s\n",
      "6900:\tlearn: 2.4282692\ttest: 2.4206094\tbest: 2.4205898 (275)\ttotal: 1m 21s\tremaining: 18.9s\n",
      "7000:\tlearn: 2.4282692\ttest: 2.4206094\tbest: 2.4205898 (275)\ttotal: 1m 23s\tremaining: 17.8s\n",
      "7100:\tlearn: 2.4282692\ttest: 2.4206094\tbest: 2.4205898 (275)\ttotal: 1m 24s\tremaining: 16.6s\n",
      "7200:\tlearn: 2.4282692\ttest: 2.4206094\tbest: 2.4205898 (275)\ttotal: 1m 26s\tremaining: 15.4s\n",
      "7300:\tlearn: 2.4282692\ttest: 2.4206094\tbest: 2.4205898 (275)\ttotal: 1m 27s\tremaining: 14.2s\n",
      "7400:\tlearn: 2.4282692\ttest: 2.4206094\tbest: 2.4205898 (275)\ttotal: 1m 28s\tremaining: 13.1s\n",
      "7500:\tlearn: 2.4282692\ttest: 2.4206094\tbest: 2.4205898 (275)\ttotal: 1m 29s\tremaining: 11.9s\n",
      "7600:\tlearn: 2.4282692\ttest: 2.4206094\tbest: 2.4205898 (275)\ttotal: 1m 31s\tremaining: 10.7s\n",
      "7700:\tlearn: 2.4282692\ttest: 2.4206094\tbest: 2.4205898 (275)\ttotal: 1m 32s\tremaining: 9.51s\n",
      "7800:\tlearn: 2.4282692\ttest: 2.4206094\tbest: 2.4205898 (275)\ttotal: 1m 33s\tremaining: 8.32s\n",
      "7900:\tlearn: 2.4282692\ttest: 2.4206094\tbest: 2.4205898 (275)\ttotal: 1m 35s\tremaining: 7.12s\n",
      "8000:\tlearn: 2.4282692\ttest: 2.4206094\tbest: 2.4205898 (275)\ttotal: 1m 36s\tremaining: 5.92s\n",
      "8100:\tlearn: 2.4282692\ttest: 2.4206094\tbest: 2.4205898 (275)\ttotal: 1m 37s\tremaining: 4.72s\n",
      "8200:\tlearn: 2.4282692\ttest: 2.4206094\tbest: 2.4205898 (275)\ttotal: 1m 39s\tremaining: 3.52s\n",
      "8300:\tlearn: 2.4282692\ttest: 2.4206094\tbest: 2.4205898 (275)\ttotal: 1m 40s\tremaining: 2.31s\n",
      "8400:\tlearn: 2.4282692\ttest: 2.4206094\tbest: 2.4205898 (275)\ttotal: 1m 41s\tremaining: 1.1s\n",
      "8491:\tlearn: 2.4282692\ttest: 2.4206094\tbest: 2.4205898 (275)\ttotal: 1m 42s\tremaining: 0us\n",
      "bestTest = 2.420589817\n",
      "bestIteration = 275\n",
      "Shrink model to first 276 iterations.\n"
     ]
    },
    {
     "name": "stderr",
     "output_type": "stream",
     "text": [
      "\u001b[32m[I 2022-10-30 08:27:20,805]\u001b[0m Trial 1 finished with value: 2.420590147008885 and parameters: {'learning_rate': 0.01083858126934475, 'bagging_temperature': 75.7947995334801, 'n_estimators': 8492, 'max_depth': 6, 'random_strength': 18, 'l2_leaf_reg': 5.51030125050448e-06, 'min_child_samples': 34, 'max_bin': 357, 'od_type': 'IncToDec'}. Best is trial 1 with value: 2.420590147008885.\u001b[0m\n"
     ]
    },
    {
     "name": "stdout",
     "output_type": "stream",
     "text": [
      "0:\tlearn: 2.4009979\ttest: 2.3903957\tbest: 2.3903957 (0)\ttotal: 28.6ms\tremaining: 1m 43s\n",
      "100:\tlearn: 2.1907853\ttest: 2.1479792\tbest: 2.1479792 (100)\ttotal: 2.77s\tremaining: 1m 36s\n",
      "200:\tlearn: 2.1685841\ttest: 2.1414757\tbest: 2.1414757 (200)\ttotal: 5.3s\tremaining: 1m 30s\n",
      "300:\tlearn: 2.1513463\ttest: 2.1395526\tbest: 2.1394701 (298)\ttotal: 7.84s\tremaining: 1m 26s\n",
      "400:\tlearn: 2.1373118\ttest: 2.1388683\tbest: 2.1387893 (395)\ttotal: 10.4s\tremaining: 1m 24s\n",
      "500:\tlearn: 2.1240379\ttest: 2.1386040\tbest: 2.1385852 (461)\ttotal: 13s\tremaining: 1m 21s\n",
      "600:\tlearn: 2.1110913\ttest: 2.1385420\tbest: 2.1382562 (585)\ttotal: 15.6s\tremaining: 1m 18s\n",
      "700:\tlearn: 2.0991806\ttest: 2.1380013\tbest: 2.1379273 (689)\ttotal: 18.2s\tremaining: 1m 16s\n",
      "800:\tlearn: 2.0871067\ttest: 2.1381510\tbest: 2.1376868 (747)\ttotal: 20.8s\tremaining: 1m 13s\n",
      "900:\tlearn: 2.0759343\ttest: 2.1384379\tbest: 2.1376868 (747)\ttotal: 23.5s\tremaining: 1m 11s\n",
      "1000:\tlearn: 2.0634734\ttest: 2.1392233\tbest: 2.1376868 (747)\ttotal: 26.1s\tremaining: 1m 8s\n",
      "1100:\tlearn: 2.0532031\ttest: 2.1396179\tbest: 2.1376868 (747)\ttotal: 28.8s\tremaining: 1m 6s\n",
      "1200:\tlearn: 2.0429564\ttest: 2.1401410\tbest: 2.1376868 (747)\ttotal: 31.4s\tremaining: 1m 3s\n",
      "1300:\tlearn: 2.0332378\ttest: 2.1406106\tbest: 2.1376868 (747)\ttotal: 34.1s\tremaining: 1m\n",
      "1400:\tlearn: 2.0236227\ttest: 2.1409808\tbest: 2.1376868 (747)\ttotal: 36.7s\tremaining: 58.3s\n",
      "1500:\tlearn: 2.0135659\ttest: 2.1414846\tbest: 2.1376868 (747)\ttotal: 39.3s\tremaining: 55.7s\n",
      "1600:\tlearn: 2.0034450\ttest: 2.1420989\tbest: 2.1376868 (747)\ttotal: 41.9s\tremaining: 53.1s\n",
      "1700:\tlearn: 1.9939054\ttest: 2.1429888\tbest: 2.1376868 (747)\ttotal: 44.6s\tremaining: 50.5s\n",
      "1800:\tlearn: 1.9848688\ttest: 2.1435175\tbest: 2.1376868 (747)\ttotal: 47.2s\tremaining: 47.9s\n",
      "1900:\tlearn: 1.9754945\ttest: 2.1444249\tbest: 2.1376868 (747)\ttotal: 49.9s\tremaining: 45.3s\n",
      "2000:\tlearn: 1.9662160\ttest: 2.1450904\tbest: 2.1376868 (747)\ttotal: 52.5s\tremaining: 42.7s\n",
      "2100:\tlearn: 1.9570991\ttest: 2.1457367\tbest: 2.1376868 (747)\ttotal: 55.1s\tremaining: 40.1s\n",
      "2200:\tlearn: 1.9480952\ttest: 2.1467912\tbest: 2.1376868 (747)\ttotal: 57.8s\tremaining: 37.5s\n",
      "2300:\tlearn: 1.9393236\ttest: 2.1472084\tbest: 2.1376868 (747)\ttotal: 1m\tremaining: 34.9s\n",
      "2400:\tlearn: 1.9307192\ttest: 2.1479092\tbest: 2.1376868 (747)\ttotal: 1m 3s\tremaining: 32.3s\n",
      "2500:\tlearn: 1.9225339\ttest: 2.1483562\tbest: 2.1376868 (747)\ttotal: 1m 5s\tremaining: 29.6s\n",
      "2600:\tlearn: 1.9135256\ttest: 2.1489711\tbest: 2.1376868 (747)\ttotal: 1m 8s\tremaining: 27s\n",
      "2700:\tlearn: 1.9049629\ttest: 2.1493932\tbest: 2.1376868 (747)\ttotal: 1m 10s\tremaining: 24.4s\n",
      "2800:\tlearn: 1.8966872\ttest: 2.1496588\tbest: 2.1376868 (747)\ttotal: 1m 13s\tremaining: 21.8s\n",
      "2900:\tlearn: 1.8884891\ttest: 2.1505987\tbest: 2.1376868 (747)\ttotal: 1m 16s\tremaining: 19.2s\n",
      "3000:\tlearn: 1.8795629\ttest: 2.1515696\tbest: 2.1376868 (747)\ttotal: 1m 18s\tremaining: 16.5s\n",
      "3100:\tlearn: 1.8718032\ttest: 2.1518115\tbest: 2.1376868 (747)\ttotal: 1m 21s\tremaining: 13.9s\n",
      "3200:\tlearn: 1.8640291\ttest: 2.1525011\tbest: 2.1376868 (747)\ttotal: 1m 24s\tremaining: 11.3s\n",
      "3300:\tlearn: 1.8559495\ttest: 2.1533718\tbest: 2.1376868 (747)\ttotal: 1m 26s\tremaining: 8.63s\n",
      "3400:\tlearn: 1.8473541\ttest: 2.1540272\tbest: 2.1376868 (747)\ttotal: 1m 29s\tremaining: 6s\n",
      "3500:\tlearn: 1.8392412\ttest: 2.1547016\tbest: 2.1376868 (747)\ttotal: 1m 32s\tremaining: 3.37s\n",
      "3600:\tlearn: 1.8314354\ttest: 2.1556388\tbest: 2.1376868 (747)\ttotal: 1m 34s\tremaining: 739ms\n",
      "3628:\tlearn: 1.8292820\ttest: 2.1558988\tbest: 2.1376868 (747)\ttotal: 1m 35s\tremaining: 0us\n",
      "bestTest = 2.137686842\n",
      "bestIteration = 747\n",
      "Shrink model to first 748 iterations.\n"
     ]
    },
    {
     "name": "stderr",
     "output_type": "stream",
     "text": [
      "\u001b[32m[I 2022-10-30 08:29:01,937]\u001b[0m Trial 2 finished with value: 2.1376868814754526 and parameters: {'learning_rate': 0.10952662748632554, 'bagging_temperature': 0.03613894271216528, 'n_estimators': 3629, 'max_depth': 8, 'random_strength': 46, 'l2_leaf_reg': 2.355742708217648e-05, 'min_child_samples': 24, 'max_bin': 354, 'od_type': 'IncToDec'}. Best is trial 2 with value: 2.1376868814754526.\u001b[0m\n"
     ]
    },
    {
     "name": "stdout",
     "output_type": "stream",
     "text": [
      "0:\tlearn: 2.3948099\ttest: 2.3895980\tbest: 2.3895980 (0)\ttotal: 489ms\tremaining: 12m 53s\n",
      "100:\tlearn: 1.9559240\ttest: 2.1512670\tbest: 2.1509828 (90)\ttotal: 46.1s\tremaining: 11m 18s\n",
      "200:\tlearn: 1.5165604\ttest: 2.1694362\tbest: 2.1509828 (90)\ttotal: 1m 32s\tremaining: 10m 36s\n",
      "300:\tlearn: 1.1295556\ttest: 2.1947148\tbest: 2.1509828 (90)\ttotal: 2m 18s\tremaining: 9m 52s\n",
      "400:\tlearn: 0.9021107\ttest: 2.2106452\tbest: 2.1509828 (90)\ttotal: 3m 5s\tremaining: 9m 7s\n",
      "500:\tlearn: 0.7445873\ttest: 2.2211121\tbest: 2.1509828 (90)\ttotal: 3m 51s\tremaining: 8m 21s\n",
      "600:\tlearn: 0.6185506\ttest: 2.2297713\tbest: 2.1509828 (90)\ttotal: 4m 37s\tremaining: 7m 34s\n",
      "700:\tlearn: 0.5308423\ttest: 2.2351687\tbest: 2.1509828 (90)\ttotal: 5m 23s\tremaining: 6m 47s\n",
      "800:\tlearn: 0.4620612\ttest: 2.2398877\tbest: 2.1509828 (90)\ttotal: 6m 8s\tremaining: 6m\n",
      "900:\tlearn: 0.4044167\ttest: 2.2435580\tbest: 2.1509828 (90)\ttotal: 6m 54s\tremaining: 5m 14s\n",
      "1000:\tlearn: 0.3576001\ttest: 2.2464646\tbest: 2.1509828 (90)\ttotal: 7m 39s\tremaining: 4m 28s\n",
      "1100:\tlearn: 0.3174745\ttest: 2.2488397\tbest: 2.1509828 (90)\ttotal: 8m 25s\tremaining: 3m 42s\n",
      "1200:\tlearn: 0.2828364\ttest: 2.2509170\tbest: 2.1509828 (90)\ttotal: 9m 11s\tremaining: 2m 56s\n",
      "1300:\tlearn: 0.2549397\ttest: 2.2525099\tbest: 2.1509828 (90)\ttotal: 9m 56s\tremaining: 2m 10s\n",
      "1400:\tlearn: 0.2316045\ttest: 2.2536611\tbest: 2.1509828 (90)\ttotal: 10m 42s\tremaining: 1m 24s\n",
      "1500:\tlearn: 0.2133651\ttest: 2.2544987\tbest: 2.1509828 (90)\ttotal: 11m 28s\tremaining: 38.5s\n",
      "1584:\tlearn: 0.1994058\ttest: 2.2552139\tbest: 2.1509828 (90)\ttotal: 12m 6s\tremaining: 0us\n",
      "bestTest = 2.150982805\n",
      "bestIteration = 90\n",
      "Shrink model to first 91 iterations.\n"
     ]
    },
    {
     "name": "stderr",
     "output_type": "stream",
     "text": [
      "\u001b[32m[I 2022-10-30 08:41:17,021]\u001b[0m Trial 3 finished with value: 2.1509825667548097 and parameters: {'learning_rate': 0.10769622478263129, 'bagging_temperature': 0.04809461967501574, 'n_estimators': 1585, 'max_depth': 16, 'random_strength': 97, 'l2_leaf_reg': 2.425383647001267e-05, 'min_child_samples': 34, 'max_bin': 229, 'od_type': 'IncToDec'}. Best is trial 2 with value: 2.1376868814754526.\u001b[0m\n"
     ]
    },
    {
     "name": "stdout",
     "output_type": "stream",
     "text": [
      "0:\tlearn: 2.4255668\ttest: 2.4360690\tbest: 2.4360690 (0)\ttotal: 267ms\tremaining: 5m 49s\n",
      "100:\tlearn: 2.1913752\ttest: 2.2060536\tbest: 2.2060536 (100)\ttotal: 24.8s\tremaining: 4m 57s\n",
      "200:\tlearn: 2.1252843\ttest: 2.1684655\tbest: 2.1684655 (200)\ttotal: 49.7s\tremaining: 4m 33s\n",
      "300:\tlearn: 2.0885601\ttest: 2.1581396\tbest: 2.1581396 (300)\ttotal: 1m 14s\tremaining: 4m 9s\n",
      "400:\tlearn: 2.0536595\ttest: 2.1539658\tbest: 2.1539648 (399)\ttotal: 1m 39s\tremaining: 3m 44s\n",
      "500:\tlearn: 2.0210396\ttest: 2.1516483\tbest: 2.1516483 (500)\ttotal: 2m 4s\tremaining: 3m 20s\n",
      "600:\tlearn: 1.9876049\ttest: 2.1499700\tbest: 2.1499700 (600)\ttotal: 2m 29s\tremaining: 2m 56s\n",
      "700:\tlearn: 1.9606702\ttest: 2.1491516\tbest: 2.1491516 (700)\ttotal: 2m 54s\tremaining: 2m 31s\n",
      "800:\tlearn: 1.9283208\ttest: 2.1485981\tbest: 2.1485822 (796)\ttotal: 3m 19s\tremaining: 2m 6s\n",
      "900:\tlearn: 1.8769261\ttest: 2.1480156\tbest: 2.1480156 (900)\ttotal: 3m 44s\tremaining: 1m 41s\n",
      "1000:\tlearn: 1.8083530\ttest: 2.1488449\tbest: 2.1480156 (900)\ttotal: 4m 9s\tremaining: 1m 16s\n",
      "1100:\tlearn: 1.7371998\ttest: 2.1505917\tbest: 2.1480156 (900)\ttotal: 4m 34s\tremaining: 51.9s\n",
      "1200:\tlearn: 1.6709067\ttest: 2.1527218\tbest: 2.1480156 (900)\ttotal: 4m 59s\tremaining: 27s\n",
      "1300:\tlearn: 1.6063110\ttest: 2.1547773\tbest: 2.1480156 (900)\ttotal: 5m 24s\tremaining: 2s\n",
      "1308:\tlearn: 1.6021069\ttest: 2.1549410\tbest: 2.1480156 (900)\ttotal: 5m 26s\tremaining: 0us\n",
      "bestTest = 2.148015632\n",
      "bestIteration = 900\n",
      "Shrink model to first 901 iterations.\n"
     ]
    },
    {
     "name": "stderr",
     "output_type": "stream",
     "text": [
      "\u001b[32m[I 2022-10-30 08:46:53,257]\u001b[0m Trial 4 finished with value: 2.1480157000143723 and parameters: {'learning_rate': 0.016119044727609194, 'bagging_temperature': 0.9565499215943827, 'n_estimators': 1309, 'max_depth': 15, 'random_strength': 26, 'l2_leaf_reg': 1.987904330777592e-05, 'min_child_samples': 34, 'max_bin': 356, 'od_type': 'IncToDec'}. Best is trial 2 with value: 2.1376868814754526.\u001b[0m\n"
     ]
    },
    {
     "name": "stdout",
     "output_type": "stream",
     "text": [
      "0:\tlearn: 2.4015188\ttest: 2.4101231\tbest: 2.4101231 (0)\ttotal: 271ms\tremaining: 42m 41s\n",
      "bestTest = 2.269183034\n",
      "bestIteration = 39\n",
      "Shrink model to first 40 iterations.\n"
     ]
    },
    {
     "name": "stderr",
     "output_type": "stream",
     "text": [
      "\u001b[32m[I 2022-10-30 08:47:11,551]\u001b[0m Trial 5 finished with value: 2.2691830769339942 and parameters: {'learning_rate': 0.4439102767051397, 'bagging_temperature': 12.60466458564947, 'n_estimators': 9456, 'max_depth': 15, 'random_strength': 60, 'l2_leaf_reg': 2.7657008308343274e-05, 'min_child_samples': 13, 'max_bin': 258, 'od_type': 'Iter'}. Best is trial 2 with value: 2.1376868814754526.\u001b[0m\n"
     ]
    },
    {
     "name": "stdout",
     "output_type": "stream",
     "text": [
      "0:\tlearn: 2.4193781\ttest: 2.4139423\tbest: 2.4139423 (0)\ttotal: 28.2ms\tremaining: 3m 58s\n",
      "100:\tlearn: 2.2043603\ttest: 2.1576007\tbest: 2.1576007 (100)\ttotal: 2.65s\tremaining: 3m 39s\n",
      "200:\tlearn: 2.1914344\ttest: 2.1482359\tbest: 2.1482359 (200)\ttotal: 5.37s\tremaining: 3m 40s\n",
      "300:\tlearn: 2.1838684\ttest: 2.1445032\tbest: 2.1445032 (300)\ttotal: 8.06s\tremaining: 3m 38s\n",
      "400:\tlearn: 2.1730260\ttest: 2.1408912\tbest: 2.1408912 (400)\ttotal: 10.5s\tremaining: 3m 30s\n",
      "500:\tlearn: 2.1636607\ttest: 2.1388305\tbest: 2.1388305 (500)\ttotal: 12.8s\tremaining: 3m 23s\n",
      "600:\tlearn: 2.1560157\ttest: 2.1376244\tbest: 2.1376244 (600)\ttotal: 15.2s\tremaining: 3m 18s\n",
      "700:\tlearn: 2.1487540\ttest: 2.1368981\tbest: 2.1368718 (699)\ttotal: 17.5s\tremaining: 3m 14s\n",
      "800:\tlearn: 2.1421367\ttest: 2.1361607\tbest: 2.1361607 (800)\ttotal: 20s\tremaining: 3m 11s\n",
      "bestTest = 2.135896738\n",
      "bestIteration = 858\n",
      "Shrink model to first 859 iterations.\n"
     ]
    },
    {
     "name": "stderr",
     "output_type": "stream",
     "text": [
      "\u001b[32m[I 2022-10-30 08:47:38,262]\u001b[0m Trial 6 finished with value: 2.1358967193313947 and parameters: {'learning_rate': 0.04574578205475402, 'bagging_temperature': 0.12172958098369972, 'n_estimators': 8459, 'max_depth': 8, 'random_strength': 28, 'l2_leaf_reg': 1.6285455533915874e-05, 'min_child_samples': 18, 'max_bin': 441, 'od_type': 'Iter'}. Best is trial 6 with value: 2.1358967193313947.\u001b[0m\n"
     ]
    },
    {
     "name": "stdout",
     "output_type": "stream",
     "text": [
      "0:\tlearn: 2.3670903\ttest: 2.3591841\tbest: 2.3591841 (0)\ttotal: 166ms\tremaining: 2m 53s\n",
      "100:\tlearn: 1.8830949\ttest: 2.1697921\tbest: 2.1576489 (62)\ttotal: 14.5s\tremaining: 2m 15s\n",
      "200:\tlearn: 1.4579714\ttest: 2.2118478\tbest: 2.1576489 (62)\ttotal: 28.5s\tremaining: 2m\n",
      "300:\tlearn: 1.1886992\ttest: 2.2438778\tbest: 2.1576489 (62)\ttotal: 42.6s\tremaining: 1m 45s\n",
      "400:\tlearn: 0.9957266\ttest: 2.2658816\tbest: 2.1576489 (62)\ttotal: 56.7s\tremaining: 1m 31s\n",
      "500:\tlearn: 0.8309848\ttest: 2.2828274\tbest: 2.1576489 (62)\ttotal: 1m 10s\tremaining: 1m 17s\n",
      "600:\tlearn: 0.7137950\ttest: 2.2932183\tbest: 2.1576489 (62)\ttotal: 1m 24s\tremaining: 1m 3s\n",
      "700:\tlearn: 0.6228970\ttest: 2.3004026\tbest: 2.1576489 (62)\ttotal: 1m 38s\tremaining: 48.9s\n",
      "800:\tlearn: 0.5489670\ttest: 2.3070661\tbest: 2.1576489 (62)\ttotal: 1m 52s\tremaining: 34.9s\n",
      "900:\tlearn: 0.4806895\ttest: 2.3130563\tbest: 2.1576489 (62)\ttotal: 2m 6s\tremaining: 20.8s\n",
      "1000:\tlearn: 0.4244136\ttest: 2.3178728\tbest: 2.1576489 (62)\ttotal: 2m 20s\tremaining: 6.73s\n",
      "1048:\tlearn: 0.4007066\ttest: 2.3196289\tbest: 2.1576489 (62)\ttotal: 2m 27s\tremaining: 0us\n",
      "bestTest = 2.157648923\n",
      "bestIteration = 62\n",
      "Shrink model to first 63 iterations.\n"
     ]
    },
    {
     "name": "stderr",
     "output_type": "stream",
     "text": [
      "\u001b[32m[I 2022-10-30 08:50:09,892]\u001b[0m Trial 7 finished with value: 2.157648995432325 and parameters: {'learning_rate': 0.20512599422151362, 'bagging_temperature': 0.06235377135673159, 'n_estimators': 1049, 'max_depth': 14, 'random_strength': 71, 'l2_leaf_reg': 2.187292496954921e-05, 'min_child_samples': 79, 'max_bin': 222, 'od_type': 'IncToDec'}. Best is trial 6 with value: 2.1358967193313947.\u001b[0m\n"
     ]
    },
    {
     "name": "stdout",
     "output_type": "stream",
     "text": [
      "0:\tlearn: 2.3646642\ttest: 2.3609053\tbest: 2.3609053 (0)\ttotal: 13.2ms\tremaining: 52.3s\n",
      "100:\tlearn: 2.2028145\ttest: 2.1698509\tbest: 2.1698333 (98)\ttotal: 1.4s\tremaining: 53.5s\n",
      "200:\tlearn: 2.1980219\ttest: 2.1674125\tbest: 2.1674125 (200)\ttotal: 2.74s\tremaining: 51.5s\n",
      "300:\tlearn: 2.1942434\ttest: 2.1657156\tbest: 2.1657156 (300)\ttotal: 4.06s\tremaining: 49.6s\n",
      "400:\tlearn: 2.1912122\ttest: 2.1649866\tbest: 2.1649814 (399)\ttotal: 5.35s\tremaining: 47.7s\n",
      "500:\tlearn: 2.1884024\ttest: 2.1637323\tbest: 2.1637017 (498)\ttotal: 6.64s\tremaining: 46.1s\n",
      "600:\tlearn: 2.1861419\ttest: 2.1632970\tbest: 2.1632970 (600)\ttotal: 7.96s\tremaining: 44.7s\n",
      "700:\tlearn: 2.1838278\ttest: 2.1627135\tbest: 2.1626717 (698)\ttotal: 9.23s\tremaining: 43.2s\n",
      "800:\tlearn: 2.1819524\ttest: 2.1625281\tbest: 2.1624631 (767)\ttotal: 10.5s\tremaining: 41.8s\n",
      "900:\tlearn: 2.1799792\ttest: 2.1623392\tbest: 2.1623165 (889)\ttotal: 11.9s\tremaining: 40.5s\n",
      "1000:\tlearn: 2.1782506\ttest: 2.1619892\tbest: 2.1619661 (997)\ttotal: 13.2s\tremaining: 39.2s\n",
      "1100:\tlearn: 2.1765567\ttest: 2.1616977\tbest: 2.1616977 (1100)\ttotal: 14.5s\tremaining: 37.9s\n",
      "1200:\tlearn: 2.1745299\ttest: 2.1613770\tbest: 2.1611933 (1167)\ttotal: 15.8s\tremaining: 36.6s\n",
      "1300:\tlearn: 2.1729298\ttest: 2.1613526\tbest: 2.1610943 (1253)\ttotal: 17.2s\tremaining: 35.3s\n",
      "1400:\tlearn: 2.1714322\ttest: 2.1613544\tbest: 2.1610943 (1253)\ttotal: 18.4s\tremaining: 33.9s\n",
      "1500:\tlearn: 2.1693973\ttest: 2.1612012\tbest: 2.1610943 (1253)\ttotal: 19.7s\tremaining: 32.6s\n",
      "1600:\tlearn: 2.1680582\ttest: 2.1612125\tbest: 2.1610943 (1253)\ttotal: 21s\tremaining: 31.2s\n",
      "1700:\tlearn: 2.1662572\ttest: 2.1604900\tbest: 2.1604750 (1690)\ttotal: 22.3s\tremaining: 29.9s\n",
      "1800:\tlearn: 2.1648080\ttest: 2.1606099\tbest: 2.1604344 (1709)\ttotal: 23.6s\tremaining: 28.6s\n",
      "1900:\tlearn: 2.1633459\ttest: 2.1606769\tbest: 2.1604344 (1709)\ttotal: 25s\tremaining: 27.3s\n",
      "2000:\tlearn: 2.1620265\ttest: 2.1607944\tbest: 2.1604344 (1709)\ttotal: 26.3s\tremaining: 26s\n",
      "2100:\tlearn: 2.1607193\ttest: 2.1608258\tbest: 2.1604344 (1709)\ttotal: 27.7s\tremaining: 24.7s\n",
      "2200:\tlearn: 2.1594127\ttest: 2.1611179\tbest: 2.1604344 (1709)\ttotal: 29s\tremaining: 23.4s\n",
      "2300:\tlearn: 2.1579313\ttest: 2.1609077\tbest: 2.1604344 (1709)\ttotal: 30.3s\tremaining: 22.1s\n",
      "2400:\tlearn: 2.1566226\ttest: 2.1611049\tbest: 2.1604344 (1709)\ttotal: 31.7s\tremaining: 20.8s\n",
      "2500:\tlearn: 2.1553927\ttest: 2.1610908\tbest: 2.1604344 (1709)\ttotal: 33.1s\tremaining: 19.5s\n",
      "2600:\tlearn: 2.1541112\ttest: 2.1612342\tbest: 2.1604344 (1709)\ttotal: 34.4s\tremaining: 18.2s\n",
      "2700:\tlearn: 2.1527256\ttest: 2.1613182\tbest: 2.1604344 (1709)\ttotal: 35.7s\tremaining: 16.9s\n",
      "2800:\tlearn: 2.1514768\ttest: 2.1615637\tbest: 2.1604344 (1709)\ttotal: 37s\tremaining: 15.6s\n",
      "2900:\tlearn: 2.1503757\ttest: 2.1616989\tbest: 2.1604344 (1709)\ttotal: 38.3s\tremaining: 14.2s\n",
      "3000:\tlearn: 2.1491274\ttest: 2.1615616\tbest: 2.1604344 (1709)\ttotal: 39.6s\tremaining: 12.9s\n",
      "3100:\tlearn: 2.1479350\ttest: 2.1616249\tbest: 2.1604344 (1709)\ttotal: 40.9s\tremaining: 11.6s\n",
      "3200:\tlearn: 2.1468393\ttest: 2.1616787\tbest: 2.1604344 (1709)\ttotal: 42.2s\tremaining: 10.2s\n",
      "3300:\tlearn: 2.1456847\ttest: 2.1617923\tbest: 2.1604344 (1709)\ttotal: 43.4s\tremaining: 8.91s\n",
      "3400:\tlearn: 2.1446619\ttest: 2.1620892\tbest: 2.1604344 (1709)\ttotal: 44.7s\tremaining: 7.59s\n",
      "3500:\tlearn: 2.1437240\ttest: 2.1623411\tbest: 2.1604344 (1709)\ttotal: 46.1s\tremaining: 6.28s\n",
      "3600:\tlearn: 2.1427189\ttest: 2.1624508\tbest: 2.1604344 (1709)\ttotal: 47.4s\tremaining: 4.96s\n",
      "3700:\tlearn: 2.1416829\ttest: 2.1623975\tbest: 2.1604344 (1709)\ttotal: 48.8s\tremaining: 3.65s\n",
      "3800:\tlearn: 2.1406434\ttest: 2.1620073\tbest: 2.1604344 (1709)\ttotal: 50.1s\tremaining: 2.33s\n",
      "3900:\tlearn: 2.1395751\ttest: 2.1620865\tbest: 2.1604344 (1709)\ttotal: 51.5s\tremaining: 1.02s\n",
      "3977:\tlearn: 2.1386762\ttest: 2.1621268\tbest: 2.1604344 (1709)\ttotal: 52.5s\tremaining: 0us\n",
      "bestTest = 2.160434438\n",
      "bestIteration = 1709\n",
      "Shrink model to first 1710 iterations.\n"
     ]
    },
    {
     "name": "stderr",
     "output_type": "stream",
     "text": [
      "\u001b[32m[I 2022-10-30 08:51:06,841]\u001b[0m Trial 8 finished with value: 2.1604344534535995 and parameters: {'learning_rate': 0.29267581150621286, 'bagging_temperature': 3.1130959561221245, 'n_estimators': 3978, 'max_depth': 4, 'random_strength': 31, 'l2_leaf_reg': 9.762247827582143e-06, 'min_child_samples': 75, 'max_bin': 391, 'od_type': 'IncToDec'}. Best is trial 6 with value: 2.1358967193313947.\u001b[0m\n"
     ]
    },
    {
     "name": "stdout",
     "output_type": "stream",
     "text": [
      "0:\tlearn: 2.4302525\ttest: 2.4338086\tbest: 2.4338086 (0)\ttotal: 39.5ms\tremaining: 5m 9s\n",
      "100:\tlearn: 2.2772791\ttest: 2.2768112\tbest: 2.2768112 (100)\ttotal: 3.88s\tremaining: 4m 57s\n",
      "200:\tlearn: 2.2316193\ttest: 2.2380484\tbest: 2.2380484 (200)\ttotal: 7.65s\tremaining: 4m 51s\n",
      "300:\tlearn: 2.2071521\ttest: 2.2236782\tbest: 2.2236782 (300)\ttotal: 11.5s\tremaining: 4m 48s\n",
      "400:\tlearn: 2.1889603\ttest: 2.2159588\tbest: 2.2159588 (400)\ttotal: 15.4s\tremaining: 4m 45s\n",
      "500:\tlearn: 2.1740406\ttest: 2.2109997\tbest: 2.2109997 (500)\ttotal: 19.2s\tremaining: 4m 41s\n",
      "600:\tlearn: 2.1600413\ttest: 2.2065863\tbest: 2.2065863 (600)\ttotal: 23s\tremaining: 4m 37s\n",
      "700:\tlearn: 2.1471395\ttest: 2.2034797\tbest: 2.2034797 (700)\ttotal: 26.9s\tremaining: 4m 33s\n",
      "800:\tlearn: 2.1357070\ttest: 2.2009816\tbest: 2.2009816 (800)\ttotal: 30.7s\tremaining: 4m 30s\n",
      "900:\tlearn: 2.1246257\ttest: 2.1989574\tbest: 2.1989574 (900)\ttotal: 34.6s\tremaining: 4m 26s\n",
      "1000:\tlearn: 2.1142657\ttest: 2.1975319\tbest: 2.1975319 (1000)\ttotal: 38.4s\tremaining: 4m 22s\n",
      "1100:\tlearn: 2.1044816\ttest: 2.1960458\tbest: 2.1960302 (1097)\ttotal: 42.3s\tremaining: 4m 19s\n",
      "1200:\tlearn: 2.0950046\ttest: 2.1950581\tbest: 2.1950511 (1199)\ttotal: 46.1s\tremaining: 4m 15s\n",
      "1300:\tlearn: 2.0862609\ttest: 2.1941760\tbest: 2.1941492 (1292)\ttotal: 49.9s\tremaining: 4m 11s\n",
      "1400:\tlearn: 2.0776589\ttest: 2.1936977\tbest: 2.1936615 (1392)\ttotal: 53.8s\tremaining: 4m 7s\n",
      "bestTest = 2.193661465\n",
      "bestIteration = 1392\n",
      "Shrink model to first 1393 iterations.\n"
     ]
    },
    {
     "name": "stderr",
     "output_type": "stream",
     "text": [
      "\u001b[32m[I 2022-10-30 08:52:05,312]\u001b[0m Trial 9 finished with value: 2.193661601478618 and parameters: {'learning_rate': 0.015965665886173763, 'bagging_temperature': 7.128188058401368, 'n_estimators': 7847, 'max_depth': 11, 'random_strength': 77, 'l2_leaf_reg': 1.4818929934968078e-05, 'min_child_samples': 55, 'max_bin': 328, 'od_type': 'Iter'}. Best is trial 6 with value: 2.1358967193313947.\u001b[0m\n"
     ]
    },
    {
     "name": "stdout",
     "output_type": "stream",
     "text": [
      "Best Score: 2.1358967193313947\n",
      "Best trial {'learning_rate': 0.04574578205475402, 'bagging_temperature': 0.12172958098369972, 'n_estimators': 8459, 'max_depth': 8, 'random_strength': 28, 'l2_leaf_reg': 1.6285455533915874e-05, 'min_child_samples': 18, 'max_bin': 441, 'od_type': 'Iter'}\n"
     ]
    }
   ],
   "source": [
    "sampler = optuna.samplers.TPESampler(seed=42)\n",
    "study = optuna.create_study(\n",
    "    study_name = 'cat_parameter_opt',\n",
    "    direction = 'minimize',\n",
    "    sampler = sampler,\n",
    ")\n",
    "study.optimize(objective, n_trials=10)\n",
    "print(\"Best Score:\",study.best_value)\n",
    "print(\"Best trial\",study.best_trial.params)"
   ]
  },
  {
   "cell_type": "markdown",
   "metadata": {},
   "source": [
    "## 학습한 best Parameter 활용하여 CatB에 적용"
   ]
  },
  {
   "cell_type": "markdown",
   "metadata": {},
   "source": [
    "### 계층별 교차 검증 활용"
   ]
  },
  {
   "cell_type": "code",
   "execution_count": 44,
   "metadata": {},
   "outputs": [],
   "source": [
    "from sklearn.model_selection import StratifiedKFold\n",
    "skf = StratifiedKFold(n_splits=5, shuffle=True, random_state=42)\n",
    "folds = []\n",
    "for train_idx, valid_idx in skf.split(train_df.drop(['user_id','isbn'], axis = 1), train_df['rating']):\n",
    "  folds.append((train_idx,valid_idx))"
   ]
  },
  {
   "cell_type": "code",
   "execution_count": 45,
   "metadata": {},
   "outputs": [
    {
     "name": "stdout",
     "output_type": "stream",
     "text": [
      "====================================1============================================\n",
      "0:\tlearn: 2.4210651\ttest: 2.4187388\tbest: 2.4187388 (0)\ttotal: 29.2ms\tremaining: 4m 7s\n",
      "100:\tlearn: 2.2058807\ttest: 2.1583849\tbest: 2.1583849 (100)\ttotal: 2.67s\tremaining: 3m 40s\n",
      "200:\tlearn: 2.1924549\ttest: 2.1475737\tbest: 2.1475737 (200)\ttotal: 5.35s\tremaining: 3m 39s\n",
      "300:\tlearn: 2.1845426\ttest: 2.1434064\tbest: 2.1434064 (300)\ttotal: 8.05s\tremaining: 3m 38s\n",
      "400:\tlearn: 2.1737918\ttest: 2.1395146\tbest: 2.1395146 (400)\ttotal: 10.4s\tremaining: 3m 29s\n",
      "500:\tlearn: 2.1642069\ttest: 2.1373555\tbest: 2.1373555 (500)\ttotal: 12.7s\tremaining: 3m 21s\n",
      "600:\tlearn: 2.1563353\ttest: 2.1359140\tbest: 2.1359140 (600)\ttotal: 15s\tremaining: 3m 15s\n",
      "700:\tlearn: 2.1497293\ttest: 2.1352651\tbest: 2.1352651 (700)\ttotal: 17.3s\tremaining: 3m 11s\n",
      "800:\tlearn: 2.1429562\ttest: 2.1345751\tbest: 2.1345727 (792)\ttotal: 19.6s\tremaining: 3m 6s\n",
      "900:\tlearn: 2.1364769\ttest: 2.1338112\tbest: 2.1338112 (900)\ttotal: 21.9s\tremaining: 3m 3s\n",
      "bestTest = 2.133625994\n",
      "bestIteration = 959\n",
      "Shrink model to first 960 iterations.\n",
      "================================================================================\n",
      "\n",
      "\n",
      "====================================2============================================\n",
      "0:\tlearn: 2.4209590\ttest: 2.4188225\tbest: 2.4188225 (0)\ttotal: 27.7ms\tremaining: 3m 53s\n",
      "100:\tlearn: 2.2041059\ttest: 2.1600038\tbest: 2.1600038 (100)\ttotal: 2.78s\tremaining: 3m 49s\n",
      "200:\tlearn: 2.1907155\ttest: 2.1501878\tbest: 2.1501878 (200)\ttotal: 5.58s\tremaining: 3m 49s\n",
      "300:\tlearn: 2.1830396\ttest: 2.1461573\tbest: 2.1461573 (300)\ttotal: 8.41s\tremaining: 3m 48s\n",
      "400:\tlearn: 2.1726858\ttest: 2.1427623\tbest: 2.1427623 (400)\ttotal: 10.7s\tremaining: 3m 35s\n",
      "500:\tlearn: 2.1635205\ttest: 2.1406858\tbest: 2.1406858 (500)\ttotal: 12.9s\tremaining: 3m 24s\n",
      "600:\tlearn: 2.1559361\ttest: 2.1392554\tbest: 2.1392454 (599)\ttotal: 15.1s\tremaining: 3m 17s\n",
      "700:\tlearn: 2.1487588\ttest: 2.1386150\tbest: 2.1386125 (699)\ttotal: 17.3s\tremaining: 3m 11s\n",
      "800:\tlearn: 2.1418169\ttest: 2.1379247\tbest: 2.1379099 (798)\ttotal: 19.5s\tremaining: 3m 6s\n",
      "900:\tlearn: 2.1355244\ttest: 2.1375657\tbest: 2.1375657 (900)\ttotal: 21.7s\tremaining: 3m 2s\n",
      "1000:\tlearn: 2.1294703\ttest: 2.1374604\tbest: 2.1374563 (997)\ttotal: 23.9s\tremaining: 2m 58s\n",
      "bestTest = 2.137452037\n",
      "bestIteration = 1031\n",
      "Shrink model to first 1032 iterations.\n",
      "================================================================================\n",
      "\n",
      "\n",
      "====================================3============================================\n",
      "0:\tlearn: 2.4208053\ttest: 2.4192889\tbest: 2.4192889 (0)\ttotal: 30.1ms\tremaining: 4m 14s\n",
      "100:\tlearn: 2.2034095\ttest: 2.1668222\tbest: 2.1668222 (100)\ttotal: 2.77s\tremaining: 3m 49s\n",
      "200:\tlearn: 2.1908781\ttest: 2.1568081\tbest: 2.1568081 (200)\ttotal: 5.6s\tremaining: 3m 50s\n",
      "300:\tlearn: 2.1835552\ttest: 2.1530597\tbest: 2.1530597 (300)\ttotal: 8.39s\tremaining: 3m 47s\n",
      "400:\tlearn: 2.1728925\ttest: 2.1490933\tbest: 2.1490933 (400)\ttotal: 10.8s\tremaining: 3m 37s\n",
      "500:\tlearn: 2.1637975\ttest: 2.1471805\tbest: 2.1471784 (499)\ttotal: 13.3s\tremaining: 3m 31s\n",
      "600:\tlearn: 2.1558460\ttest: 2.1458370\tbest: 2.1458054 (593)\ttotal: 15.7s\tremaining: 3m 25s\n",
      "700:\tlearn: 2.1489321\ttest: 2.1450788\tbest: 2.1450708 (698)\ttotal: 18s\tremaining: 3m 18s\n",
      "800:\tlearn: 2.1427575\ttest: 2.1445037\tbest: 2.1444570 (785)\ttotal: 20.2s\tremaining: 3m 13s\n",
      "900:\tlearn: 2.1364921\ttest: 2.1441474\tbest: 2.1441309 (891)\ttotal: 22.7s\tremaining: 3m 10s\n",
      "1000:\tlearn: 2.1305078\ttest: 2.1437775\tbest: 2.1437775 (1000)\ttotal: 25.2s\tremaining: 3m 7s\n",
      "1100:\tlearn: 2.1247142\ttest: 2.1433065\tbest: 2.1432992 (1099)\ttotal: 27.5s\tremaining: 3m 3s\n",
      "1200:\tlearn: 2.1188485\ttest: 2.1429099\tbest: 2.1428860 (1197)\ttotal: 29.7s\tremaining: 2m 59s\n",
      "bestTest = 2.142885981\n",
      "bestIteration = 1197\n",
      "Shrink model to first 1198 iterations.\n",
      "================================================================================\n",
      "\n",
      "\n",
      "====================================4============================================\n",
      "0:\tlearn: 2.4209297\ttest: 2.4192181\tbest: 2.4192181 (0)\ttotal: 27.9ms\tremaining: 3m 55s\n",
      "100:\tlearn: 2.2042065\ttest: 2.1655714\tbest: 2.1655714 (100)\ttotal: 2.61s\tremaining: 3m 36s\n",
      "200:\tlearn: 2.1906282\ttest: 2.1547419\tbest: 2.1547383 (199)\ttotal: 5.26s\tremaining: 3m 35s\n",
      "300:\tlearn: 2.1828555\ttest: 2.1509587\tbest: 2.1509587 (300)\ttotal: 7.79s\tremaining: 3m 31s\n",
      "400:\tlearn: 2.1713924\ttest: 2.1472137\tbest: 2.1472137 (400)\ttotal: 10.1s\tremaining: 3m 23s\n",
      "500:\tlearn: 2.1620340\ttest: 2.1451098\tbest: 2.1451098 (500)\ttotal: 12.3s\tremaining: 3m 15s\n",
      "600:\tlearn: 2.1542529\ttest: 2.1438560\tbest: 2.1438560 (600)\ttotal: 14.5s\tremaining: 3m 9s\n",
      "700:\tlearn: 2.1471800\ttest: 2.1428975\tbest: 2.1428975 (700)\ttotal: 16.7s\tremaining: 3m 4s\n",
      "800:\tlearn: 2.1406323\ttest: 2.1421392\tbest: 2.1421175 (796)\ttotal: 18.9s\tremaining: 3m\n",
      "900:\tlearn: 2.1344902\ttest: 2.1416430\tbest: 2.1416338 (892)\ttotal: 21.2s\tremaining: 2m 57s\n",
      "1000:\tlearn: 2.1285557\ttest: 2.1413340\tbest: 2.1413120 (988)\ttotal: 23.4s\tremaining: 2m 54s\n",
      "1100:\tlearn: 2.1228227\ttest: 2.1410155\tbest: 2.1410015 (1081)\ttotal: 25.6s\tremaining: 2m 51s\n",
      "bestTest = 2.141001506\n",
      "bestIteration = 1081\n",
      "Shrink model to first 1082 iterations.\n",
      "================================================================================\n",
      "\n",
      "\n",
      "====================================5============================================\n",
      "0:\tlearn: 2.4208438\ttest: 2.4191477\tbest: 2.4191477 (0)\ttotal: 29.7ms\tremaining: 4m 10s\n",
      "100:\tlearn: 2.2034791\ttest: 2.1645439\tbest: 2.1645439 (100)\ttotal: 2.57s\tremaining: 3m 32s\n",
      "200:\tlearn: 2.1899573\ttest: 2.1543540\tbest: 2.1543540 (200)\ttotal: 5.18s\tremaining: 3m 32s\n",
      "300:\tlearn: 2.1822747\ttest: 2.1501127\tbest: 2.1501127 (300)\ttotal: 7.75s\tremaining: 3m 30s\n",
      "400:\tlearn: 2.1715167\ttest: 2.1463931\tbest: 2.1463931 (400)\ttotal: 10s\tremaining: 3m 21s\n",
      "500:\tlearn: 2.1624237\ttest: 2.1443099\tbest: 2.1443045 (496)\ttotal: 12.2s\tremaining: 3m 14s\n",
      "600:\tlearn: 2.1547640\ttest: 2.1432404\tbest: 2.1432264 (595)\ttotal: 14.4s\tremaining: 3m 8s\n",
      "700:\tlearn: 2.1481486\ttest: 2.1424162\tbest: 2.1424048 (699)\ttotal: 16.7s\tremaining: 3m 4s\n",
      "800:\tlearn: 2.1414685\ttest: 2.1414832\tbest: 2.1414832 (800)\ttotal: 19s\tremaining: 3m 1s\n",
      "900:\tlearn: 2.1351127\ttest: 2.1410515\tbest: 2.1409885 (888)\ttotal: 21.2s\tremaining: 2m 57s\n",
      "bestTest = 2.140988542\n",
      "bestIteration = 888\n",
      "Shrink model to first 889 iterations.\n",
      "================================================================================\n",
      "\n",
      "\n"
     ]
    }
   ],
   "source": [
    "random.seed(42)\n",
    "cat_models={}\n",
    "\n",
    "cat_features = list(range(10))\n",
    "\n",
    "for fold in range(5):\n",
    "  print(f'===================================={fold+1}============================================')\n",
    "  train_idx, valid_idx = folds[fold]\n",
    "  X_train = train_df.drop(['user_id','isbn','rating'], axis = 1).iloc[train_idx].values \n",
    "  X_valid = train_df.drop(['user_id','isbn','rating'], axis = 1).iloc[valid_idx].values\n",
    "  y_train = train_df['rating'][train_idx].values\n",
    "  y_valid = train_df['rating'][valid_idx].values\n",
    "\n",
    "  cat = CatBoostRegressor(**study.best_params, task_type = 'GPU')\n",
    "  cat.fit(X_train, y_train,\n",
    "          eval_set=[(X_valid,y_valid)],\n",
    "          early_stopping_rounds=35,cat_features=cat_features,\n",
    "          verbose=100)\n",
    "  pred = cat.predict(test_df.drop(['user_id', 'isbn', 'rating'],axis = 1))\n",
    "  cat_models[fold] = pred\n",
    "  print(f'================================================================================\\n\\n')"
   ]
  },
  {
   "cell_type": "markdown",
   "metadata": {},
   "source": [
    "# 변수 중요도 시각화"
   ]
  },
  {
   "cell_type": "code",
   "execution_count": 46,
   "metadata": {},
   "outputs": [],
   "source": [
    "def plot_feature_importance(importance,names,model_type):\n",
    "    \n",
    "    feature_importance = np.array(importance)\n",
    "    feature_names = np.array(names)\n",
    "    \n",
    "    data={'feature_names':feature_names,'feature_importance':feature_importance}\n",
    "    fi_df = pd.DataFrame(data)\n",
    "    \n",
    "    fi_df.sort_values(by=['feature_importance'], ascending=False,inplace=True)\n",
    "\n",
    "    plt.figure(figsize=(20,9))\n",
    "\n",
    "    sns.barplot(x=fi_df['feature_importance'], y=fi_df['feature_names'])\n",
    "\n",
    "    plt.title(model_type + ' Feature Importance')\n",
    "    plt.xlabel('Feature Importance')\n",
    "    plt.ylabel('Feature Names')\n",
    "    \n",
    "    plt.show()\n",
    "    "
   ]
  },
  {
   "cell_type": "code",
   "execution_count": 47,
   "metadata": {},
   "outputs": [
    {
     "data": {
      "image/png": "[encoded data removed]",
      "text/plain": [
       "<Figure size 2000x900 with 1 Axes>"
      ]
     },
     "metadata": {},
     "output_type": "display_data"
    }
   ],
   "source": [
    "plot_feature_importance(cat.get_feature_importance(), test_df.drop(['user_id', 'isbn', 'rating'],axis = 1).columns, 'CATBOOST')"
   ]
  },
  {
   "cell_type": "code",
   "execution_count": 48,
   "metadata": {},
   "outputs": [
    {
     "data": {
      "text/plain": [
       "array([ 7.64396163, 11.43860089,  9.64126124,  6.30665511,  4.94374266,\n",
       "       10.38758106,  3.03385682, 10.88481622, 31.89690796,  3.82261641])"
      ]
     },
     "execution_count": 48,
     "metadata": {},
     "output_type": "execute_result"
    }
   ],
   "source": [
    "cat.get_feature_importance()"
   ]
  },
  {
   "cell_type": "code",
   "execution_count": 49,
   "metadata": {},
   "outputs": [
    {
     "data": {
      "text/plain": [
       "Index(['rating', 'age', 'location_city', 'location_state', 'location_country',\n",
       "       'category', 'publisher', 'language', 'book_author', 'id', 'bn'],\n",
       "      dtype='object')"
      ]
     },
     "execution_count": 49,
     "metadata": {},
     "output_type": "execute_result"
    }
   ],
   "source": [
    "train_df.drop(['user_id', 'isbn'], axis = 1).columns"
   ]
  },
  {
   "cell_type": "code",
   "execution_count": 50,
   "metadata": {},
   "outputs": [
    {
     "name": "stdout",
     "output_type": "stream",
     "text": [
      "Requirement already satisfied: sns in /opt/conda/lib/python3.8/site-packages (0.1)\n",
      "Note: you may need to restart the kernel to use updated packages.\n"
     ]
    }
   ],
   "source": [
    "pip install sns"
   ]
  },
  {
   "cell_type": "code",
   "execution_count": 51,
   "metadata": {},
   "outputs": [],
   "source": [
    "submit['rating'] = 0"
   ]
  },
  {
   "cell_type": "code",
   "execution_count": 52,
   "metadata": {},
   "outputs": [],
   "source": [
    "for fold in range(5):\n",
    "    submit['rating'] += cat_models[fold] / 5"
   ]
  },
  {
   "cell_type": "code",
   "execution_count": 53,
   "metadata": {},
   "outputs": [],
   "source": [
    "import datetime\n",
    "now = datetime.datetime.now()\n",
    "created_time = now.strftime('%m%d-%H%M')\n",
    "\n",
    "submit.to_csv(f'../data/{created_time}_submit.csv',index=False)"
   ]
  },
  {
   "cell_type": "code",
   "execution_count": 54,
   "metadata": {},
   "outputs": [
    {
     "data": {
      "text/html": [
       "<div>\n",
       "<style scoped>\n",
       "    .dataframe tbody tr th:only-of-type {\n",
       "        vertical-align: middle;\n",
       "    }\n",
       "\n",
       "    .dataframe tbody tr th {\n",
       "        vertical-align: top;\n",
       "    }\n",
       "\n",
       "    .dataframe thead th {\n",
       "        text-align: right;\n",
       "    }\n",
       "</style>\n",
       "<table border=\"1\" class=\"dataframe\">\n",
       "  <thead>\n",
       "    <tr style=\"text-align: right;\">\n",
       "      <th></th>\n",
       "      <th>user_id</th>\n",
       "      <th>isbn</th>\n",
       "      <th>rating</th>\n",
       "    </tr>\n",
       "  </thead>\n",
       "  <tbody>\n",
       "    <tr>\n",
       "      <th>0</th>\n",
       "      <td>11676</td>\n",
       "      <td>0002005018</td>\n",
       "      <td>7.086857</td>\n",
       "    </tr>\n",
       "    <tr>\n",
       "      <th>1</th>\n",
       "      <td>116866</td>\n",
       "      <td>0002005018</td>\n",
       "      <td>7.256944</td>\n",
       "    </tr>\n",
       "    <tr>\n",
       "      <th>2</th>\n",
       "      <td>152827</td>\n",
       "      <td>0060973129</td>\n",
       "      <td>7.530020</td>\n",
       "    </tr>\n",
       "    <tr>\n",
       "      <th>3</th>\n",
       "      <td>157969</td>\n",
       "      <td>0374157065</td>\n",
       "      <td>7.565263</td>\n",
       "    </tr>\n",
       "    <tr>\n",
       "      <th>4</th>\n",
       "      <td>67958</td>\n",
       "      <td>0399135782</td>\n",
       "      <td>7.333589</td>\n",
       "    </tr>\n",
       "    <tr>\n",
       "      <th>...</th>\n",
       "      <td>...</td>\n",
       "      <td>...</td>\n",
       "      <td>...</td>\n",
       "    </tr>\n",
       "    <tr>\n",
       "      <th>76694</th>\n",
       "      <td>278543</td>\n",
       "      <td>1576734218</td>\n",
       "      <td>6.195006</td>\n",
       "    </tr>\n",
       "    <tr>\n",
       "      <th>76695</th>\n",
       "      <td>278563</td>\n",
       "      <td>3492223710</td>\n",
       "      <td>6.223573</td>\n",
       "    </tr>\n",
       "    <tr>\n",
       "      <th>76696</th>\n",
       "      <td>278633</td>\n",
       "      <td>1896095186</td>\n",
       "      <td>6.332805</td>\n",
       "    </tr>\n",
       "    <tr>\n",
       "      <th>76697</th>\n",
       "      <td>278668</td>\n",
       "      <td>8408044079</td>\n",
       "      <td>5.315886</td>\n",
       "    </tr>\n",
       "    <tr>\n",
       "      <th>76698</th>\n",
       "      <td>278851</td>\n",
       "      <td>0767907566</td>\n",
       "      <td>5.503140</td>\n",
       "    </tr>\n",
       "  </tbody>\n",
       "</table>\n",
       "<p>76699 rows × 3 columns</p>\n",
       "</div>"
      ],
      "text/plain": [
       "       user_id        isbn    rating\n",
       "0        11676  0002005018  7.086857\n",
       "1       116866  0002005018  7.256944\n",
       "2       152827  0060973129  7.530020\n",
       "3       157969  0374157065  7.565263\n",
       "4        67958  0399135782  7.333589\n",
       "...        ...         ...       ...\n",
       "76694   278543  1576734218  6.195006\n",
       "76695   278563  3492223710  6.223573\n",
       "76696   278633  1896095186  6.332805\n",
       "76697   278668  8408044079  5.315886\n",
       "76698   278851  0767907566  5.503140\n",
       "\n",
       "[76699 rows x 3 columns]"
      ]
     },
     "execution_count": 54,
     "metadata": {},
     "output_type": "execute_result"
    }
   ],
   "source": [
    "submit"
   ]
  }
 ],
 "metadata": {
  "kernelspec": {
   "display_name": "Python 3.8.5 ('base')",
   "language": "python",
   "name": "python3"
  },
  "language_info": {
   "codemirror_mode": {
    "name": "ipython",
    "version": 3
   },
   "file_extension": ".py",
   "mimetype": "text/x-python",
   "name": "python",
   "nbconvert_exporter": "python",
   "pygments_lexer": "ipython3",
   "version": "3.8.5"
  },
  "orig_nbformat": 4,
  "vscode": {
   "interpreter": {
    "hash": "d4d1e4263499bec80672ea0156c357c1ee493ec2b1c70f0acce89fc37c4a6abe"
   }
  }
 },
 "nbformat": 4,
 "nbformat_minor": 2
}
