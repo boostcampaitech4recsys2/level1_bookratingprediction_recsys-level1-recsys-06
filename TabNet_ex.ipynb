{
 "cells": [
  {
   "cell_type": "code",
   "execution_count": 1,
   "metadata": {},
   "outputs": [],
   "source": [
    "from pytorch_tabnet.tab_model import TabNetRegressor\n",
    "\n",
    "import torch\n",
    "from sklearn.preprocessing import LabelEncoder\n",
    "from sklearn.metrics import mean_squared_error\n",
    "\n",
    "import pandas as pd\n",
    "import numpy as np\n",
    "np.random.seed(0)\n",
    "\n",
    "\n",
    "import os\n",
    "import wget\n",
    "from pathlib import Path\n",
    "\n",
    "\n",
    "%load_ext autoreload\n",
    "\n",
    "%autoreload 2"
   ]
  },
  {
   "cell_type": "markdown",
   "metadata": {},
   "source": [
    "# Download census-income dataset"
   ]
  },
  {
   "cell_type": "code",
   "execution_count": 2,
   "metadata": {},
   "outputs": [],
   "source": [
    "url = \"https://archive.ics.uci.edu/ml/machine-learning-databases/adult/adult.data\"\n",
    "dataset_name = 'census-income'\n",
    "out = Path(os.getcwd()+'/data/'+dataset_name+'.csv')"
   ]
  },
  {
   "cell_type": "code",
   "execution_count": 3,
   "metadata": {},
   "outputs": [
    {
     "name": "stdout",
     "output_type": "stream",
     "text": [
      "File already exists.\n"
     ]
    }
   ],
   "source": [
    "out.parent.mkdir(parents=True, exist_ok=True)\n",
    "if out.exists():\n",
    "    print(\"File already exists.\")\n",
    "else:\n",
    "    print(\"Downloading file...\")\n",
    "    wget.download(url, out.as_posix())"
   ]
  },
  {
   "cell_type": "markdown",
   "metadata": {},
   "source": [
    "# Load data and split"
   ]
  },
  {
   "cell_type": "code",
   "execution_count": 4,
   "metadata": {},
   "outputs": [],
   "source": [
    "train = pd.read_csv(out)\n",
    "target = ' <=50K'\n",
    "if \"Set\" not in train.columns:\n",
    "    train[\"Set\"] = np.random.choice([\"train\", \"valid\", \"test\"], p =[.8, .1, .1], size=(train.shape[0],))\n",
    "\n",
    "train_indices = train[train.Set==\"train\"].index\n",
    "valid_indices = train[train.Set==\"valid\"].index\n",
    "test_indices = train[train.Set==\"test\"].index"
   ]
  },
  {
   "cell_type": "code",
   "execution_count": 5,
   "metadata": {},
   "outputs": [
    {
     "name": "stdout",
     "output_type": "stream",
     "text": [
      "Int64Index([    0,     1,     2,     3,     4,     5,     6,     9,    10,\n",
      "               11,\n",
      "            ...\n",
      "            32547, 32549, 32550, 32551, 32553, 32554, 32555, 32557, 32558,\n",
      "            32559],\n",
      "           dtype='int64', length=26072)\n"
     ]
    }
   ],
   "source": [
    "print(train_indices)"
   ]
  },
  {
   "cell_type": "markdown",
   "metadata": {},
   "source": [
    "# Simple preprocessing"
   ]
  },
  {
   "cell_type": "code",
   "execution_count": 6,
   "metadata": {},
   "outputs": [
    {
     "data": {
      "text/plain": [
       "39                 int64\n",
       " State-gov        object\n",
       " 77516             int64\n",
       " Bachelors        object\n",
       " 13                int64\n",
       " Never-married    object\n",
       " Adm-clerical     object\n",
       " Not-in-family    object\n",
       " White            object\n",
       " Male             object\n",
       " 2174              int64\n",
       " 0                 int64\n",
       " 40                int64\n",
       " United-States    object\n",
       " <=50K            object\n",
       "Set               object\n",
       "dtype: object"
      ]
     },
     "execution_count": 6,
     "metadata": {},
     "output_type": "execute_result"
    }
   ],
   "source": [
    "train.dtypes"
   ]
  },
  {
   "cell_type": "code",
   "execution_count": 7,
   "metadata": {},
   "outputs": [
    {
     "data": {
      "text/html": [
       "<div>\n",
       "<style scoped>\n",
       "    .dataframe tbody tr th:only-of-type {\n",
       "        vertical-align: middle;\n",
       "    }\n",
       "\n",
       "    .dataframe tbody tr th {\n",
       "        vertical-align: top;\n",
       "    }\n",
       "\n",
       "    .dataframe thead th {\n",
       "        text-align: right;\n",
       "    }\n",
       "</style>\n",
       "<table border=\"1\" class=\"dataframe\">\n",
       "  <thead>\n",
       "    <tr style=\"text-align: right;\">\n",
       "      <th></th>\n",
       "      <th>39</th>\n",
       "      <th>State-gov</th>\n",
       "      <th>77516</th>\n",
       "      <th>Bachelors</th>\n",
       "      <th>13</th>\n",
       "      <th>Never-married</th>\n",
       "      <th>Adm-clerical</th>\n",
       "      <th>Not-in-family</th>\n",
       "      <th>White</th>\n",
       "      <th>Male</th>\n",
       "      <th>2174</th>\n",
       "      <th>0</th>\n",
       "      <th>40</th>\n",
       "      <th>United-States</th>\n",
       "      <th>&lt;=50K</th>\n",
       "      <th>Set</th>\n",
       "    </tr>\n",
       "  </thead>\n",
       "  <tbody>\n",
       "    <tr>\n",
       "      <th>0</th>\n",
       "      <td>50</td>\n",
       "      <td>Self-emp-not-inc</td>\n",
       "      <td>83311</td>\n",
       "      <td>Bachelors</td>\n",
       "      <td>13</td>\n",
       "      <td>Married-civ-spouse</td>\n",
       "      <td>Exec-managerial</td>\n",
       "      <td>Husband</td>\n",
       "      <td>White</td>\n",
       "      <td>Male</td>\n",
       "      <td>0</td>\n",
       "      <td>0</td>\n",
       "      <td>13</td>\n",
       "      <td>United-States</td>\n",
       "      <td>&lt;=50K</td>\n",
       "      <td>train</td>\n",
       "    </tr>\n",
       "    <tr>\n",
       "      <th>1</th>\n",
       "      <td>38</td>\n",
       "      <td>Private</td>\n",
       "      <td>215646</td>\n",
       "      <td>HS-grad</td>\n",
       "      <td>9</td>\n",
       "      <td>Divorced</td>\n",
       "      <td>Handlers-cleaners</td>\n",
       "      <td>Not-in-family</td>\n",
       "      <td>White</td>\n",
       "      <td>Male</td>\n",
       "      <td>0</td>\n",
       "      <td>0</td>\n",
       "      <td>40</td>\n",
       "      <td>United-States</td>\n",
       "      <td>&lt;=50K</td>\n",
       "      <td>train</td>\n",
       "    </tr>\n",
       "    <tr>\n",
       "      <th>2</th>\n",
       "      <td>53</td>\n",
       "      <td>Private</td>\n",
       "      <td>234721</td>\n",
       "      <td>11th</td>\n",
       "      <td>7</td>\n",
       "      <td>Married-civ-spouse</td>\n",
       "      <td>Handlers-cleaners</td>\n",
       "      <td>Husband</td>\n",
       "      <td>Black</td>\n",
       "      <td>Male</td>\n",
       "      <td>0</td>\n",
       "      <td>0</td>\n",
       "      <td>40</td>\n",
       "      <td>United-States</td>\n",
       "      <td>&lt;=50K</td>\n",
       "      <td>train</td>\n",
       "    </tr>\n",
       "    <tr>\n",
       "      <th>3</th>\n",
       "      <td>28</td>\n",
       "      <td>Private</td>\n",
       "      <td>338409</td>\n",
       "      <td>Bachelors</td>\n",
       "      <td>13</td>\n",
       "      <td>Married-civ-spouse</td>\n",
       "      <td>Prof-specialty</td>\n",
       "      <td>Wife</td>\n",
       "      <td>Black</td>\n",
       "      <td>Female</td>\n",
       "      <td>0</td>\n",
       "      <td>0</td>\n",
       "      <td>40</td>\n",
       "      <td>Cuba</td>\n",
       "      <td>&lt;=50K</td>\n",
       "      <td>train</td>\n",
       "    </tr>\n",
       "    <tr>\n",
       "      <th>4</th>\n",
       "      <td>37</td>\n",
       "      <td>Private</td>\n",
       "      <td>284582</td>\n",
       "      <td>Masters</td>\n",
       "      <td>14</td>\n",
       "      <td>Married-civ-spouse</td>\n",
       "      <td>Exec-managerial</td>\n",
       "      <td>Wife</td>\n",
       "      <td>White</td>\n",
       "      <td>Female</td>\n",
       "      <td>0</td>\n",
       "      <td>0</td>\n",
       "      <td>40</td>\n",
       "      <td>United-States</td>\n",
       "      <td>&lt;=50K</td>\n",
       "      <td>train</td>\n",
       "    </tr>\n",
       "  </tbody>\n",
       "</table>\n",
       "</div>"
      ],
      "text/plain": [
       "   39          State-gov   77516   Bachelors   13        Never-married  \\\n",
       "0  50   Self-emp-not-inc   83311   Bachelors   13   Married-civ-spouse   \n",
       "1  38            Private  215646     HS-grad    9             Divorced   \n",
       "2  53            Private  234721        11th    7   Married-civ-spouse   \n",
       "3  28            Private  338409   Bachelors   13   Married-civ-spouse   \n",
       "4  37            Private  284582     Masters   14   Married-civ-spouse   \n",
       "\n",
       "         Adm-clerical   Not-in-family   White     Male   2174   0   40  \\\n",
       "0     Exec-managerial         Husband   White     Male      0   0   13   \n",
       "1   Handlers-cleaners   Not-in-family   White     Male      0   0   40   \n",
       "2   Handlers-cleaners         Husband   Black     Male      0   0   40   \n",
       "3      Prof-specialty            Wife   Black   Female      0   0   40   \n",
       "4     Exec-managerial            Wife   White   Female      0   0   40   \n",
       "\n",
       "    United-States   <=50K    Set  \n",
       "0   United-States   <=50K  train  \n",
       "1   United-States   <=50K  train  \n",
       "2   United-States   <=50K  train  \n",
       "3            Cuba   <=50K  train  \n",
       "4   United-States   <=50K  train  "
      ]
     },
     "execution_count": 7,
     "metadata": {},
     "output_type": "execute_result"
    }
   ],
   "source": [
    "train.head()"
   ]
  },
  {
   "cell_type": "code",
   "execution_count": 8,
   "metadata": {},
   "outputs": [
    {
     "name": "stdout",
     "output_type": "stream",
     "text": [
      " State-gov 9\n",
      "[' State-gov'] 9\n",
      " Bachelors 16\n",
      "[' State-gov', ' Bachelors'] 16\n",
      " Never-married 7\n",
      "[' State-gov', ' Bachelors', ' Never-married'] 7\n",
      " Adm-clerical 15\n",
      "[' State-gov', ' Bachelors', ' Never-married', ' Adm-clerical'] 15\n",
      " Not-in-family 6\n",
      "[' State-gov', ' Bachelors', ' Never-married', ' Adm-clerical', ' Not-in-family'] 6\n",
      " White 5\n",
      "[' State-gov', ' Bachelors', ' Never-married', ' Adm-clerical', ' Not-in-family', ' White'] 5\n",
      " Male 2\n",
      "[' State-gov', ' Bachelors', ' Never-married', ' Adm-clerical', ' Not-in-family', ' White', ' Male'] 2\n",
      " United-States 42\n",
      "[' State-gov', ' Bachelors', ' Never-married', ' Adm-clerical', ' Not-in-family', ' White', ' Male', ' United-States'] 42\n",
      " <=50K 2\n",
      "[' State-gov', ' Bachelors', ' Never-married', ' Adm-clerical', ' Not-in-family', ' White', ' Male', ' United-States', ' <=50K'] 2\n",
      "Set 3\n",
      "[' State-gov', ' Bachelors', ' Never-married', ' Adm-clerical', ' Not-in-family', ' White', ' Male', ' United-States', ' <=50K', 'Set'] 3\n"
     ]
    }
   ],
   "source": [
    "# Label encode categorical features and fill empty cells.\n",
    "\n",
    "categorical_columns = []\n",
    "categorical_dims =  {}\n",
    "for col in train.columns[train.dtypes == object]:\n",
    "    print(col, train[col].nunique())\n",
    "    l_enc = LabelEncoder()  # 문자를 정수형 자료로 변환시켜주는 인코더(수치화)\n",
    "    train[col] = train[col].fillna(\"VV_likely\") # 결측값 채우기 해당 값은 최빈값인가?\n",
    "    train[col] = l_enc.fit_transform(train[col].values)\n",
    "    categorical_columns.append(col)\n",
    "    categorical_dims[col] = len(l_enc.classes_)\n",
    "    print(categorical_columns, categorical_dims[col])\n",
    "\n",
    "# nunique 값이 작은 변수들을 categorical 변수로 등록 - one-hot encoding\n",
    "\n",
    "for col in train.columns[train.dtypes == 'float64']:\n",
    "    train.fillna(train.loc[train_indices, col].mean(), inplace=True)"
   ]
  },
  {
   "cell_type": "markdown",
   "metadata": {},
   "source": [
    "# Define categorical features for categorical embeddings"
   ]
  },
  {
   "cell_type": "code",
   "execution_count": 9,
   "metadata": {},
   "outputs": [],
   "source": [
    "unused_feat = ['Set']\n",
    "\n",
    "features = [ col for col in train.columns if col not in unused_feat+[target]] \n",
    "\n",
    "cat_idxs = [ i for i, f in enumerate(features) if f in categorical_columns]\n",
    "\n",
    "cat_dims = [ categorical_dims[f] for i, f in enumerate(features) if f in categorical_columns]\n",
    "\n",
    "# define your embedding sizes : here just a random choice (Optional)\n",
    "cat_emb_dim = [5, 4, 3, 6, 2, 2, 1, 10]"
   ]
  },
  {
   "cell_type": "markdown",
   "metadata": {},
   "source": [
    "# Network parameters"
   ]
  },
  {
   "cell_type": "code",
   "execution_count": 10,
   "metadata": {},
   "outputs": [
    {
     "name": "stderr",
     "output_type": "stream",
     "text": [
      "/opt/conda/lib/python3.8/site-packages/pytorch_tabnet/abstract_model.py:75: UserWarning: Device used : cuda\n",
      "  warnings.warn(f\"Device used : {self.device}\")\n"
     ]
    }
   ],
   "source": [
    "clf = TabNetRegressor(cat_dims=cat_dims, cat_emb_dim=cat_emb_dim, cat_idxs=cat_idxs)"
   ]
  },
  {
   "cell_type": "code",
   "execution_count": 11,
   "metadata": {},
   "outputs": [
    {
     "name": "stdout",
     "output_type": "stream",
     "text": [
      "['39', ' State-gov', ' 77516', ' Bachelors', ' 13', ' Never-married', ' Adm-clerical', ' Not-in-family', ' White', ' Male', ' 2174', ' 0', ' 40', ' United-States']\n"
     ]
    }
   ],
   "source": [
    "print(features)"
   ]
  },
  {
   "cell_type": "code",
   "execution_count": 12,
   "metadata": {},
   "outputs": [
    {
     "data": {
      "text/html": [
       "<div>\n",
       "<style scoped>\n",
       "    .dataframe tbody tr th:only-of-type {\n",
       "        vertical-align: middle;\n",
       "    }\n",
       "\n",
       "    .dataframe tbody tr th {\n",
       "        vertical-align: top;\n",
       "    }\n",
       "\n",
       "    .dataframe thead th {\n",
       "        text-align: right;\n",
       "    }\n",
       "</style>\n",
       "<table border=\"1\" class=\"dataframe\">\n",
       "  <thead>\n",
       "    <tr style=\"text-align: right;\">\n",
       "      <th></th>\n",
       "      <th>39</th>\n",
       "      <th>State-gov</th>\n",
       "      <th>77516</th>\n",
       "      <th>Bachelors</th>\n",
       "      <th>13</th>\n",
       "      <th>Never-married</th>\n",
       "      <th>Adm-clerical</th>\n",
       "      <th>Not-in-family</th>\n",
       "      <th>White</th>\n",
       "      <th>Male</th>\n",
       "      <th>2174</th>\n",
       "      <th>0</th>\n",
       "      <th>40</th>\n",
       "      <th>United-States</th>\n",
       "      <th>&lt;=50K</th>\n",
       "      <th>Set</th>\n",
       "    </tr>\n",
       "  </thead>\n",
       "  <tbody>\n",
       "    <tr>\n",
       "      <th>0</th>\n",
       "      <td>50</td>\n",
       "      <td>6</td>\n",
       "      <td>83311</td>\n",
       "      <td>9</td>\n",
       "      <td>13</td>\n",
       "      <td>2</td>\n",
       "      <td>4</td>\n",
       "      <td>0</td>\n",
       "      <td>4</td>\n",
       "      <td>1</td>\n",
       "      <td>0</td>\n",
       "      <td>0</td>\n",
       "      <td>13</td>\n",
       "      <td>39</td>\n",
       "      <td>0</td>\n",
       "      <td>1</td>\n",
       "    </tr>\n",
       "    <tr>\n",
       "      <th>1</th>\n",
       "      <td>38</td>\n",
       "      <td>4</td>\n",
       "      <td>215646</td>\n",
       "      <td>11</td>\n",
       "      <td>9</td>\n",
       "      <td>0</td>\n",
       "      <td>6</td>\n",
       "      <td>1</td>\n",
       "      <td>4</td>\n",
       "      <td>1</td>\n",
       "      <td>0</td>\n",
       "      <td>0</td>\n",
       "      <td>40</td>\n",
       "      <td>39</td>\n",
       "      <td>0</td>\n",
       "      <td>1</td>\n",
       "    </tr>\n",
       "    <tr>\n",
       "      <th>2</th>\n",
       "      <td>53</td>\n",
       "      <td>4</td>\n",
       "      <td>234721</td>\n",
       "      <td>1</td>\n",
       "      <td>7</td>\n",
       "      <td>2</td>\n",
       "      <td>6</td>\n",
       "      <td>0</td>\n",
       "      <td>2</td>\n",
       "      <td>1</td>\n",
       "      <td>0</td>\n",
       "      <td>0</td>\n",
       "      <td>40</td>\n",
       "      <td>39</td>\n",
       "      <td>0</td>\n",
       "      <td>1</td>\n",
       "    </tr>\n",
       "    <tr>\n",
       "      <th>3</th>\n",
       "      <td>28</td>\n",
       "      <td>4</td>\n",
       "      <td>338409</td>\n",
       "      <td>9</td>\n",
       "      <td>13</td>\n",
       "      <td>2</td>\n",
       "      <td>10</td>\n",
       "      <td>5</td>\n",
       "      <td>2</td>\n",
       "      <td>0</td>\n",
       "      <td>0</td>\n",
       "      <td>0</td>\n",
       "      <td>40</td>\n",
       "      <td>5</td>\n",
       "      <td>0</td>\n",
       "      <td>1</td>\n",
       "    </tr>\n",
       "    <tr>\n",
       "      <th>4</th>\n",
       "      <td>37</td>\n",
       "      <td>4</td>\n",
       "      <td>284582</td>\n",
       "      <td>12</td>\n",
       "      <td>14</td>\n",
       "      <td>2</td>\n",
       "      <td>4</td>\n",
       "      <td>5</td>\n",
       "      <td>4</td>\n",
       "      <td>0</td>\n",
       "      <td>0</td>\n",
       "      <td>0</td>\n",
       "      <td>40</td>\n",
       "      <td>39</td>\n",
       "      <td>0</td>\n",
       "      <td>1</td>\n",
       "    </tr>\n",
       "  </tbody>\n",
       "</table>\n",
       "</div>"
      ],
      "text/plain": [
       "   39   State-gov   77516   Bachelors   13   Never-married   Adm-clerical  \\\n",
       "0  50           6   83311           9   13               2              4   \n",
       "1  38           4  215646          11    9               0              6   \n",
       "2  53           4  234721           1    7               2              6   \n",
       "3  28           4  338409           9   13               2             10   \n",
       "4  37           4  284582          12   14               2              4   \n",
       "\n",
       "    Not-in-family   White   Male   2174   0   40   United-States   <=50K  Set  \n",
       "0               0       4      1      0   0   13              39       0    1  \n",
       "1               1       4      1      0   0   40              39       0    1  \n",
       "2               0       2      1      0   0   40              39       0    1  \n",
       "3               5       2      0      0   0   40               5       0    1  \n",
       "4               5       4      0      0   0   40              39       0    1  "
      ]
     },
     "execution_count": 12,
     "metadata": {},
     "output_type": "execute_result"
    }
   ],
   "source": [
    "train.head()"
   ]
  },
  {
   "cell_type": "markdown",
   "metadata": {},
   "source": [
    "# Training"
   ]
  },
  {
   "cell_type": "code",
   "execution_count": 26,
   "metadata": {},
   "outputs": [],
   "source": [
    "# X와 y의 형태 맞춰주기 -> n_tragets 값은 변경 가능\n",
    "n_targets = 1\n",
    "\n",
    "X_train = train[features].values[train_indices]\n",
    "y_train = train[target].values[train_indices]\n",
    "y_train = np.transpose(np.tile(y_train, (n_targets,1)))\n",
    "\n",
    "X_valid = train[features].values[valid_indices]\n",
    "y_valid = train[target].values[valid_indices]\n",
    "y_valid = np.transpose(np.tile(y_valid, (n_targets,1)))\n",
    "\n",
    "X_test = train[features].values[test_indices]\n",
    "y_test = train[target].values[test_indices]\n",
    "y_test = np.transpose(np.tile(y_test, (n_targets,1)))"
   ]
  },
  {
   "cell_type": "code",
   "execution_count": 27,
   "metadata": {},
   "outputs": [
    {
     "name": "stdout",
     "output_type": "stream",
     "text": [
      "(26072, 14) (26072, 1)\n"
     ]
    }
   ],
   "source": [
    "print(X_train.shape, y_train.shape)"
   ]
  },
  {
   "cell_type": "code",
   "execution_count": 28,
   "metadata": {},
   "outputs": [],
   "source": [
    "max_epochs = 1000 if not os.getenv(\"CI\", False) else 2"
   ]
  },
  {
   "cell_type": "code",
   "execution_count": 30,
   "metadata": {},
   "outputs": [
    {
     "name": "stdout",
     "output_type": "stream",
     "text": [
      "epoch 0  | loss: 0.17564 | train_rmse: 0.54852 | valid_rmse: 0.54368 |  0:00:02s\n",
      "epoch 1  | loss: 0.13847 | train_rmse: 0.43974 | valid_rmse: 0.43278 |  0:00:05s\n",
      "epoch 2  | loss: 0.1285  | train_rmse: 0.39044 | valid_rmse: 0.38876 |  0:00:08s\n",
      "epoch 3  | loss: 0.1232  | train_rmse: 0.38782 | valid_rmse: 0.38541 |  0:00:10s\n",
      "epoch 4  | loss: 0.11749 | train_rmse: 0.40303 | valid_rmse: 0.40061 |  0:00:13s\n",
      "epoch 5  | loss: 0.11647 | train_rmse: 0.36837 | valid_rmse: 0.36475 |  0:00:16s\n",
      "epoch 6  | loss: 0.11363 | train_rmse: 0.3442  | valid_rmse: 0.34081 |  0:00:19s\n",
      "epoch 7  | loss: 0.11246 | train_rmse: 0.33843 | valid_rmse: 0.33716 |  0:00:21s\n",
      "epoch 8  | loss: 0.11184 | train_rmse: 0.33959 | valid_rmse: 0.3381  |  0:00:24s\n",
      "epoch 9  | loss: 0.11043 | train_rmse: 0.33137 | valid_rmse: 0.32891 |  0:00:27s\n",
      "epoch 10 | loss: 0.10892 | train_rmse: 0.32777 | valid_rmse: 0.32636 |  0:00:29s\n",
      "epoch 11 | loss: 0.10937 | train_rmse: 0.32856 | valid_rmse: 0.32436 |  0:00:32s\n",
      "epoch 12 | loss: 0.10884 | train_rmse: 0.32648 | valid_rmse: 0.32306 |  0:00:35s\n",
      "epoch 13 | loss: 0.10733 | train_rmse: 0.32529 | valid_rmse: 0.32068 |  0:00:38s\n",
      "epoch 14 | loss: 0.10736 | train_rmse: 0.32284 | valid_rmse: 0.31793 |  0:00:40s\n",
      "epoch 15 | loss: 0.1071  | train_rmse: 0.32564 | valid_rmse: 0.32253 |  0:00:43s\n",
      "epoch 16 | loss: 0.10715 | train_rmse: 0.32358 | valid_rmse: 0.31878 |  0:00:45s\n",
      "epoch 17 | loss: 0.10584 | train_rmse: 0.32553 | valid_rmse: 0.31813 |  0:00:48s\n",
      "epoch 18 | loss: 0.10527 | train_rmse: 0.32604 | valid_rmse: 0.32077 |  0:00:51s\n",
      "epoch 19 | loss: 0.10485 | train_rmse: 0.32341 | valid_rmse: 0.3166  |  0:00:54s\n",
      "epoch 20 | loss: 0.10496 | train_rmse: 0.3191  | valid_rmse: 0.31475 |  0:00:57s\n",
      "epoch 21 | loss: 0.10528 | train_rmse: 0.32382 | valid_rmse: 0.32058 |  0:01:00s\n",
      "epoch 22 | loss: 0.10426 | train_rmse: 0.31883 | valid_rmse: 0.31513 |  0:01:02s\n",
      "epoch 23 | loss: 0.1034  | train_rmse: 0.32051 | valid_rmse: 0.31799 |  0:01:05s\n",
      "epoch 24 | loss: 0.10275 | train_rmse: 0.32086 | valid_rmse: 0.31801 |  0:01:08s\n",
      "epoch 25 | loss: 0.10262 | train_rmse: 0.31873 | valid_rmse: 0.31567 |  0:01:10s\n",
      "epoch 26 | loss: 0.10223 | train_rmse: 0.31738 | valid_rmse: 0.31534 |  0:01:13s\n",
      "epoch 27 | loss: 0.10149 | train_rmse: 0.31778 | valid_rmse: 0.31357 |  0:01:16s\n",
      "epoch 28 | loss: 0.10144 | train_rmse: 0.31769 | valid_rmse: 0.31463 |  0:01:18s\n",
      "epoch 29 | loss: 0.1017  | train_rmse: 0.31893 | valid_rmse: 0.31443 |  0:01:21s\n",
      "epoch 30 | loss: 0.10209 | train_rmse: 0.31472 | valid_rmse: 0.3117  |  0:01:23s\n",
      "epoch 31 | loss: 0.10209 | train_rmse: 0.31857 | valid_rmse: 0.31601 |  0:01:26s\n",
      "epoch 32 | loss: 0.10217 | train_rmse: 0.31601 | valid_rmse: 0.31311 |  0:01:28s\n",
      "epoch 33 | loss: 0.10086 | train_rmse: 0.31706 | valid_rmse: 0.31521 |  0:01:31s\n",
      "epoch 34 | loss: 0.10028 | train_rmse: 0.3155  | valid_rmse: 0.31379 |  0:01:34s\n",
      "epoch 35 | loss: 0.1     | train_rmse: 0.31396 | valid_rmse: 0.31366 |  0:01:36s\n",
      "epoch 36 | loss: 0.09928 | train_rmse: 0.31616 | valid_rmse: 0.31605 |  0:01:39s\n",
      "epoch 37 | loss: 0.09959 | train_rmse: 0.31257 | valid_rmse: 0.31156 |  0:01:42s\n",
      "epoch 38 | loss: 0.09977 | train_rmse: 0.31385 | valid_rmse: 0.31276 |  0:01:44s\n",
      "epoch 39 | loss: 0.09927 | train_rmse: 0.31364 | valid_rmse: 0.31306 |  0:01:47s\n",
      "epoch 40 | loss: 0.09869 | train_rmse: 0.31351 | valid_rmse: 0.31452 |  0:01:49s\n",
      "epoch 41 | loss: 0.0991  | train_rmse: 0.3125  | valid_rmse: 0.31261 |  0:01:52s\n",
      "epoch 42 | loss: 0.09836 | train_rmse: 0.31159 | valid_rmse: 0.31347 |  0:01:55s\n",
      "epoch 43 | loss: 0.09793 | train_rmse: 0.3127  | valid_rmse: 0.31256 |  0:01:57s\n",
      "epoch 44 | loss: 0.09791 | train_rmse: 0.31476 | valid_rmse: 0.31348 |  0:02:00s\n",
      "epoch 45 | loss: 0.09936 | train_rmse: 0.31397 | valid_rmse: 0.31347 |  0:02:03s\n",
      "epoch 46 | loss: 0.09938 | train_rmse: 0.31325 | valid_rmse: 0.31264 |  0:02:06s\n",
      "epoch 47 | loss: 0.09917 | train_rmse: 0.31426 | valid_rmse: 0.31314 |  0:02:08s\n",
      "epoch 48 | loss: 0.09984 | train_rmse: 0.31437 | valid_rmse: 0.31263 |  0:02:11s\n",
      "epoch 49 | loss: 0.09887 | train_rmse: 0.31572 | valid_rmse: 0.31373 |  0:02:14s\n",
      "epoch 50 | loss: 0.09916 | train_rmse: 0.31311 | valid_rmse: 0.31117 |  0:02:17s\n",
      "epoch 51 | loss: 0.09934 | train_rmse: 0.31399 | valid_rmse: 0.31056 |  0:02:19s\n",
      "epoch 52 | loss: 0.0992  | train_rmse: 0.31124 | valid_rmse: 0.30998 |  0:02:22s\n",
      "epoch 53 | loss: 0.0989  | train_rmse: 0.31159 | valid_rmse: 0.311   |  0:02:25s\n",
      "epoch 54 | loss: 0.09757 | train_rmse: 0.31594 | valid_rmse: 0.31629 |  0:02:27s\n",
      "epoch 55 | loss: 0.09762 | train_rmse: 0.31581 | valid_rmse: 0.31384 |  0:02:30s\n",
      "epoch 56 | loss: 0.09875 | train_rmse: 0.31132 | valid_rmse: 0.31167 |  0:02:32s\n",
      "epoch 57 | loss: 0.09873 | train_rmse: 0.30777 | valid_rmse: 0.30803 |  0:02:35s\n",
      "epoch 58 | loss: 0.09697 | train_rmse: 0.31209 | valid_rmse: 0.31184 |  0:02:38s\n",
      "epoch 59 | loss: 0.09773 | train_rmse: 0.31038 | valid_rmse: 0.30987 |  0:02:40s\n",
      "epoch 60 | loss: 0.09721 | train_rmse: 0.31356 | valid_rmse: 0.31168 |  0:02:43s\n",
      "epoch 61 | loss: 0.09737 | train_rmse: 0.31016 | valid_rmse: 0.30877 |  0:02:45s\n",
      "epoch 62 | loss: 0.09901 | train_rmse: 0.31004 | valid_rmse: 0.3082  |  0:02:48s\n",
      "epoch 63 | loss: 0.09854 | train_rmse: 0.30969 | valid_rmse: 0.30885 |  0:02:50s\n",
      "epoch 64 | loss: 0.09705 | train_rmse: 0.31073 | valid_rmse: 0.31126 |  0:02:53s\n",
      "epoch 65 | loss: 0.0976  | train_rmse: 0.31128 | valid_rmse: 0.31198 |  0:02:56s\n",
      "epoch 66 | loss: 0.09684 | train_rmse: 0.30959 | valid_rmse: 0.31111 |  0:02:59s\n",
      "epoch 67 | loss: 0.09733 | train_rmse: 0.31202 | valid_rmse: 0.31572 |  0:03:01s\n",
      "epoch 68 | loss: 0.09742 | train_rmse: 0.31509 | valid_rmse: 0.31573 |  0:03:04s\n",
      "epoch 69 | loss: 0.10033 | train_rmse: 0.32488 | valid_rmse: 0.32504 |  0:03:06s\n",
      "epoch 70 | loss: 0.10241 | train_rmse: 0.31525 | valid_rmse: 0.31369 |  0:03:09s\n",
      "epoch 71 | loss: 0.09957 | train_rmse: 0.31603 | valid_rmse: 0.31501 |  0:03:12s\n",
      "epoch 72 | loss: 0.09843 | train_rmse: 0.3141  | valid_rmse: 0.31429 |  0:03:15s\n",
      "epoch 73 | loss: 0.09772 | train_rmse: 0.31273 | valid_rmse: 0.31409 |  0:03:17s\n",
      "epoch 74 | loss: 0.09768 | train_rmse: 0.32619 | valid_rmse: 0.3243  |  0:03:20s\n",
      "epoch 75 | loss: 0.1014  | train_rmse: 0.31817 | valid_rmse: 0.31598 |  0:03:23s\n",
      "epoch 76 | loss: 0.09885 | train_rmse: 0.31488 | valid_rmse: 0.31236 |  0:03:25s\n",
      "epoch 77 | loss: 0.09811 | train_rmse: 0.31092 | valid_rmse: 0.31039 |  0:03:28s\n",
      "epoch 78 | loss: 0.09758 | train_rmse: 0.31382 | valid_rmse: 0.31383 |  0:03:31s\n",
      "epoch 79 | loss: 0.09749 | train_rmse: 0.31639 | valid_rmse: 0.31597 |  0:03:33s\n",
      "epoch 80 | loss: 0.09867 | train_rmse: 0.31856 | valid_rmse: 0.31861 |  0:03:36s\n",
      "epoch 81 | loss: 0.09776 | train_rmse: 0.31434 | valid_rmse: 0.31401 |  0:03:38s\n",
      "epoch 82 | loss: 0.0972  | train_rmse: 0.31    | valid_rmse: 0.31377 |  0:03:41s\n",
      "epoch 83 | loss: 0.09566 | train_rmse: 0.31341 | valid_rmse: 0.31586 |  0:03:44s\n",
      "epoch 84 | loss: 0.09625 | train_rmse: 0.30765 | valid_rmse: 0.31165 |  0:03:46s\n",
      "epoch 85 | loss: 0.09586 | train_rmse: 0.31155 | valid_rmse: 0.31431 |  0:03:49s\n",
      "epoch 86 | loss: 0.0958  | train_rmse: 0.30731 | valid_rmse: 0.31199 |  0:03:51s\n",
      "epoch 87 | loss: 0.09533 | train_rmse: 0.30726 | valid_rmse: 0.31169 |  0:03:54s\n",
      "epoch 88 | loss: 0.09465 | train_rmse: 0.30899 | valid_rmse: 0.31234 |  0:03:57s\n",
      "epoch 89 | loss: 0.09435 | train_rmse: 0.30756 | valid_rmse: 0.31526 |  0:03:59s\n",
      "epoch 90 | loss: 0.09405 | train_rmse: 0.30731 | valid_rmse: 0.31554 |  0:04:02s\n",
      "epoch 91 | loss: 0.09406 | train_rmse: 0.3083  | valid_rmse: 0.31389 |  0:04:05s\n",
      "epoch 92 | loss: 0.09645 | train_rmse: 0.32675 | valid_rmse: 0.32515 |  0:04:07s\n",
      "epoch 93 | loss: 0.10041 | train_rmse: 0.32136 | valid_rmse: 0.31864 |  0:04:10s\n",
      "epoch 94 | loss: 0.10013 | train_rmse: 0.31747 | valid_rmse: 0.31808 |  0:04:13s\n",
      "epoch 95 | loss: 0.10122 | train_rmse: 0.32456 | valid_rmse: 0.32631 |  0:04:15s\n",
      "epoch 96 | loss: 0.1019  | train_rmse: 0.31568 | valid_rmse: 0.31684 |  0:04:18s\n",
      "epoch 97 | loss: 0.09821 | train_rmse: 0.31253 | valid_rmse: 0.31198 |  0:04:20s\n",
      "epoch 98 | loss: 0.09774 | train_rmse: 0.30919 | valid_rmse: 0.30936 |  0:04:24s\n",
      "epoch 99 | loss: 0.09691 | train_rmse: 0.31219 | valid_rmse: 0.31264 |  0:04:26s\n",
      "epoch 100| loss: 0.09729 | train_rmse: 0.31399 | valid_rmse: 0.31402 |  0:04:29s\n",
      "epoch 101| loss: 0.09822 | train_rmse: 0.30831 | valid_rmse: 0.30912 |  0:04:31s\n",
      "epoch 102| loss: 0.09675 | train_rmse: 0.30877 | valid_rmse: 0.31166 |  0:04:34s\n",
      "epoch 103| loss: 0.09756 | train_rmse: 0.30887 | valid_rmse: 0.31018 |  0:04:36s\n",
      "epoch 104| loss: 0.09722 | train_rmse: 0.3129  | valid_rmse: 0.31485 |  0:04:39s\n",
      "epoch 105| loss: 0.09707 | train_rmse: 0.31103 | valid_rmse: 0.31174 |  0:04:41s\n",
      "epoch 106| loss: 0.09713 | train_rmse: 0.31243 | valid_rmse: 0.31541 |  0:04:44s\n",
      "epoch 107| loss: 0.09665 | train_rmse: 0.31252 | valid_rmse: 0.3133  |  0:04:47s\n",
      "\n",
      "Early stopping occurred at epoch 107 with best_epoch = 57 and best_valid_rmse = 0.30803\n"
     ]
    },
    {
     "name": "stderr",
     "output_type": "stream",
     "text": [
      "/opt/conda/lib/python3.8/site-packages/pytorch_tabnet/callbacks.py:172: UserWarning: Best weights from best epoch are automatically used!\n",
      "  warnings.warn(wrn_msg)\n"
     ]
    }
   ],
   "source": [
    "clf.fit(\n",
    "    X_train=X_train, y_train=y_train,\n",
    "    eval_set=[(X_train, y_train), (X_valid, y_valid)],\n",
    "    eval_name=['train', 'valid'],\n",
    "    eval_metric=['rmse'], #['rmsle', 'mae', 'rmse', 'mse']\n",
    "    max_epochs=max_epochs,\n",
    "    patience=50,\n",
    "    batch_size=1024, virtual_batch_size=128,\n",
    "    num_workers=0,\n",
    "    drop_last=False\n",
    ")"
   ]
  },
  {
   "cell_type": "code",
   "execution_count": 31,
   "metadata": {},
   "outputs": [
    {
     "name": "stdout",
     "output_type": "stream",
     "text": [
      "BEST VALID SCORE FOR census-income : 0.3080251202721779\n",
      "FINAL TEST SCORE FOR census-income : 0.3184409838608684\n"
     ]
    }
   ],
   "source": [
    "preds = clf.predict(X_test)\n",
    "\n",
    "test_rmse = mean_squared_error(y_pred=preds, y_true=y_test)**0.5\n",
    "\n",
    "print(f\"BEST VALID SCORE FOR {dataset_name} : {clf.best_cost}\")\n",
    "print(f\"FINAL TEST SCORE FOR {dataset_name} : {test_rmse}\")"
   ]
  },
  {
   "cell_type": "markdown",
   "metadata": {},
   "source": [
    "# Global explainability : feat importance summing to 1"
   ]
  },
  {
   "cell_type": "code",
   "execution_count": 32,
   "metadata": {},
   "outputs": [
    {
     "data": {
      "text/plain": [
       "array([4.48931387e-02, 2.31856868e-01, 0.00000000e+00, 6.34769663e-02,\n",
       "       6.84839537e-03, 1.32974592e-01, 1.05265706e-01, 8.16312128e-06,\n",
       "       2.56215246e-02, 6.94263963e-02, 2.30727214e-01, 1.53338828e-02,\n",
       "       4.59705731e-02, 2.75965789e-02])"
      ]
     },
     "execution_count": 32,
     "metadata": {},
     "output_type": "execute_result"
    }
   ],
   "source": [
    "clf.feature_importances_"
   ]
  },
  {
   "cell_type": "code",
   "execution_count": 36,
   "metadata": {},
   "outputs": [
    {
     "data": {
      "text/plain": [
       "(14,)"
      ]
     },
     "execution_count": 36,
     "metadata": {},
     "output_type": "execute_result"
    }
   ],
   "source": [
    "clf.feature_importances_.shape"
   ]
  },
  {
   "cell_type": "markdown",
   "metadata": {},
   "source": [
    "# Local explainability and masks"
   ]
  },
  {
   "cell_type": "code",
   "execution_count": 33,
   "metadata": {},
   "outputs": [],
   "source": [
    "explain_matrix, masks = clf.explain(X_test)"
   ]
  },
  {
   "cell_type": "code",
   "execution_count": 34,
   "metadata": {},
   "outputs": [],
   "source": [
    "from matplotlib import pyplot as plt\n",
    "%matplotlib inline"
   ]
  },
  {
   "cell_type": "code",
   "execution_count": 35,
   "metadata": {},
   "outputs": [
    {
     "data": {
      "image/png": "[encoded data removed]",
      "text/plain": [
       "<Figure size 2000x2000 with 3 Axes>"
      ]
     },
     "metadata": {},
     "output_type": "display_data"
    }
   ],
   "source": [
    "fig, axs = plt.subplots(1, 3, figsize=(20,20))\n",
    "\n",
    "for i in range(3):\n",
    "    axs[i].imshow(masks[i][:50])\n",
    "    axs[i].set_title(f\"mask {i}\")"
   ]
  }
 ],
 "metadata": {
  "kernelspec": {
   "display_name": "Python 3.8.5 ('base')",
   "language": "python",
   "name": "python3"
  },
  "language_info": {
   "codemirror_mode": {
    "name": "ipython",
    "version": 3
   },
   "file_extension": ".py",
   "mimetype": "text/x-python",
   "name": "python",
   "nbconvert_exporter": "python",
   "pygments_lexer": "ipython3",
   "version": "3.8.5"
  },
  "orig_nbformat": 4,
  "vscode": {
   "interpreter": {
    "hash": "d4d1e4263499bec80672ea0156c357c1ee493ec2b1c70f0acce89fc37c4a6abe"
   }
  }
 },
 "nbformat": 4,
 "nbformat_minor": 2
}
