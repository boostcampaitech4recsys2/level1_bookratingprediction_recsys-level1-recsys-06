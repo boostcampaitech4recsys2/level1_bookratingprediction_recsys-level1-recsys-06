{
 "cells": [
  {
   "cell_type": "markdown",
   "metadata": {},
   "source": [
    "### 사용한 TabNet 라이브러리는 [PyTorch-TabNet](https://github.com/dreamquark-ai/tabnet) 으로 scikit-learn 인터페이스를 따르고 있음."
   ]
  },
  {
   "cell_type": "markdown",
   "metadata": {},
   "source": [
    "# Import"
   ]
  },
  {
   "cell_type": "code",
   "execution_count": 1,
   "metadata": {},
   "outputs": [],
   "source": [
    "#import data\n",
    "import pandas as pd\n",
    "import numpy as np\n",
    "import seaborn as sns\n",
    "import matplotlib.pyplot as plt\n",
    "import random\n",
    "import os\n",
    "\n",
    "import warnings\n",
    "warnings.filterwarnings(\"ignore\")\n",
    "\n",
    "pd.set_option('display.max_row', 50)\n",
    "\n",
    "SEED = 42\n",
    "def seed_everything(seed: int = 42):\n",
    "    random.seed(seed)\n",
    "    np.random.seed(seed)\n",
    "    os.environ[\"PYTHONHASHSEED\"] = str(seed)\n",
    "\n",
    "seed_everything(SEED)"
   ]
  },
  {
   "cell_type": "markdown",
   "metadata": {},
   "source": [
    "# Load data and split"
   ]
  },
  {
   "cell_type": "code",
   "execution_count": 4,
   "metadata": {},
   "outputs": [
    {
     "name": "stdout",
     "output_type": "stream",
     "text": [
      "(306795, 10)\n",
      "(76699, 10)\n"
     ]
    }
   ],
   "source": [
    "path = 'data/'\n",
    "\n",
    "train = pd.read_csv(path+'mod_train_rating_5n.csv')\n",
    "test = pd.read_csv(path+'mod_test_rating_5n.csv')\n",
    "\n",
    "print(train.shape)\n",
    "print(test.shape)"
   ]
  },
  {
   "cell_type": "code",
   "execution_count": 5,
   "metadata": {},
   "outputs": [
    {
     "data": {
      "text/html": [
       "<div>\n",
       "<style scoped>\n",
       "    .dataframe tbody tr th:only-of-type {\n",
       "        vertical-align: middle;\n",
       "    }\n",
       "\n",
       "    .dataframe tbody tr th {\n",
       "        vertical-align: top;\n",
       "    }\n",
       "\n",
       "    .dataframe thead th {\n",
       "        text-align: right;\n",
       "    }\n",
       "</style>\n",
       "<table border=\"1\" class=\"dataframe\">\n",
       "  <thead>\n",
       "    <tr style=\"text-align: right;\">\n",
       "      <th></th>\n",
       "      <th>user_id</th>\n",
       "      <th>isbn</th>\n",
       "      <th>rating</th>\n",
       "      <th>book_author</th>\n",
       "      <th>publisher</th>\n",
       "      <th>language</th>\n",
       "      <th>category_high</th>\n",
       "      <th>years</th>\n",
       "      <th>fix_location_state</th>\n",
       "      <th>fix_age</th>\n",
       "    </tr>\n",
       "  </thead>\n",
       "  <tbody>\n",
       "    <tr>\n",
       "      <th>0</th>\n",
       "      <td>8.0</td>\n",
       "      <td>0002005018</td>\n",
       "      <td>4.0</td>\n",
       "      <td>Richard Bruce Wright</td>\n",
       "      <td>Flamingo</td>\n",
       "      <td>en</td>\n",
       "      <td>actresses</td>\n",
       "      <td>2020</td>\n",
       "      <td>ontario</td>\n",
       "      <td>10</td>\n",
       "    </tr>\n",
       "    <tr>\n",
       "      <th>1</th>\n",
       "      <td>8.0</td>\n",
       "      <td>074322678X</td>\n",
       "      <td>4.0</td>\n",
       "      <td>Ann Beattie</td>\n",
       "      <td>Scribner</td>\n",
       "      <td>en</td>\n",
       "      <td>fiction</td>\n",
       "      <td>2020</td>\n",
       "      <td>ontario</td>\n",
       "      <td>10</td>\n",
       "    </tr>\n",
       "    <tr>\n",
       "      <th>2</th>\n",
       "      <td>8.0</td>\n",
       "      <td>0887841740</td>\n",
       "      <td>2.0</td>\n",
       "      <td>Sheila Heti</td>\n",
       "      <td>House of Anansi Press</td>\n",
       "      <td>en</td>\n",
       "      <td>fiction</td>\n",
       "      <td>2020</td>\n",
       "      <td>ontario</td>\n",
       "      <td>10</td>\n",
       "    </tr>\n",
       "    <tr>\n",
       "      <th>3</th>\n",
       "      <td>8.0</td>\n",
       "      <td>1552041778</td>\n",
       "      <td>2.0</td>\n",
       "      <td>R. J. Kaiser</td>\n",
       "      <td>Mira</td>\n",
       "      <td>en</td>\n",
       "      <td>fiction</td>\n",
       "      <td>2000</td>\n",
       "      <td>ontario</td>\n",
       "      <td>10</td>\n",
       "    </tr>\n",
       "    <tr>\n",
       "      <th>4</th>\n",
       "      <td>8.0</td>\n",
       "      <td>1567407781</td>\n",
       "      <td>6.0</td>\n",
       "      <td>Loren D. Estleman</td>\n",
       "      <td>Brilliance Audio</td>\n",
       "      <td>en</td>\n",
       "      <td>fiction</td>\n",
       "      <td>2000</td>\n",
       "      <td>ontario</td>\n",
       "      <td>10</td>\n",
       "    </tr>\n",
       "  </tbody>\n",
       "</table>\n",
       "</div>"
      ],
      "text/plain": [
       "   user_id        isbn  rating           book_author              publisher  \\\n",
       "0      8.0  0002005018     4.0  Richard Bruce Wright               Flamingo   \n",
       "1      8.0  074322678X     4.0           Ann Beattie               Scribner   \n",
       "2      8.0  0887841740     2.0           Sheila Heti  House of Anansi Press   \n",
       "3      8.0  1552041778     2.0          R. J. Kaiser                   Mira   \n",
       "4      8.0  1567407781     6.0     Loren D. Estleman       Brilliance Audio   \n",
       "\n",
       "  language category_high  years fix_location_state  fix_age  \n",
       "0       en     actresses   2020            ontario       10  \n",
       "1       en       fiction   2020            ontario       10  \n",
       "2       en       fiction   2020            ontario       10  \n",
       "3       en       fiction   2000            ontario       10  \n",
       "4       en       fiction   2000            ontario       10  "
      ]
     },
     "execution_count": 5,
     "metadata": {},
     "output_type": "execute_result"
    }
   ],
   "source": [
    "train.head()"
   ]
  },
  {
   "cell_type": "code",
   "execution_count": 6,
   "metadata": {},
   "outputs": [
    {
     "data": {
      "text/plain": [
       "<AxesSubplot:>"
      ]
     },
     "execution_count": 6,
     "metadata": {},
     "output_type": "execute_result"
    },
    {
     "data": {
      "image/png": "[encoded data removed]",
      "text/plain": [
       "<Figure size 640x480 with 1 Axes>"
      ]
     },
     "metadata": {},
     "output_type": "display_data"
    }
   ],
   "source": [
    "train['rating'].hist()"
   ]
  },
  {
   "cell_type": "markdown",
   "metadata": {},
   "source": [
    "# KSY process"
   ]
  },
  {
   "cell_type": "code",
   "execution_count": null,
   "metadata": {},
   "outputs": [],
   "source": [
    "tem = train['user_id'].value_counts()\n",
    "tem = list(tem[tem >= 10].index)\n",
    "train['id'] = train['user_id'].copy()\n",
    "train['id'][~train['id'].isin(tem)] = -1\n",
    "test['id'] = test['user_id'].copy()\n",
    "test['id'][~test['id'].isin(tem)] = -1"
   ]
  },
  {
   "cell_type": "code",
   "execution_count": null,
   "metadata": {},
   "outputs": [],
   "source": [
    "tem = train['isbn'].value_counts()\n",
    "tem = list(tem[tem >= 10].index)\n",
    "train['bn'] = train['isbn'].copy()\n",
    "train['bn'][~train['bn'].isin(tem)] = 1000000000\n",
    "test['bn'] = test['isbn'].copy()\n",
    "test['bn'][~test['bn'].isin(tem)] = 1000000000"
   ]
  },
  {
   "cell_type": "code",
   "execution_count": null,
   "metadata": {},
   "outputs": [],
   "source": [
    "train['years'] = train['years'].astype('str')\n",
    "train['fix_age'] = train['fix_age'].astype('str')\n",
    "train['id'] = train['id'].astype('str')\n",
    "train['bn'] = train['bn'].astype('str')\n",
    "\n",
    "test['years'] = test['years'].astype('str')\n",
    "test['fix_age'] = test['fix_age'].astype('str')\n",
    "test['id'] = test['id'].astype('str')\n",
    "test['bn'] = test['bn'].astype('str')"
   ]
  },
  {
   "cell_type": "code",
   "execution_count": null,
   "metadata": {},
   "outputs": [],
   "source": [
    "train.head()"
   ]
  },
  {
   "cell_type": "code",
   "execution_count": null,
   "metadata": {},
   "outputs": [],
   "source": [
    "target = 'rating'\n",
    "if \"Set\" not in train.columns:\n",
    "    train[\"Set\"] = np.random.choice([\"train\", \"valid\"], p =[.9, .1], size=(train.shape[0],))\n",
    "\n",
    "train_indices = train[train.Set==\"train\"].index\n",
    "valid_indices = train[train.Set==\"valid\"].index\n",
    "\n",
    "test[\"Set\"] = 'test'\n",
    "test_indices = test.index"
   ]
  },
  {
   "cell_type": "code",
   "execution_count": null,
   "metadata": {},
   "outputs": [],
   "source": [
    "print(train_indices)"
   ]
  },
  {
   "cell_type": "markdown",
   "metadata": {},
   "source": [
    "# Simple preprocessing"
   ]
  },
  {
   "cell_type": "code",
   "execution_count": null,
   "metadata": {},
   "outputs": [],
   "source": [
    "train.dtypes"
   ]
  },
  {
   "cell_type": "code",
   "execution_count": null,
   "metadata": {},
   "outputs": [],
   "source": [
    "train.head()"
   ]
  },
  {
   "cell_type": "code",
   "execution_count": null,
   "metadata": {},
   "outputs": [],
   "source": [
    "# Label encode categorical features and fill empty cells.\n",
    "from sklearn.preprocessing import LabelEncoder\n",
    "\n",
    "categorical_columns = []\n",
    "categorical_dims =  {}\n",
    "for col in train.columns:\n",
    "    if train.dtypes[col] == 'object' or train.nunique()[col] < 100:\n",
    "        print(col, train[col].nunique())\n",
    "        l_enc = LabelEncoder()\n",
    "        train[col] = train[col].fillna(\"VV_likely\") # 결측값 채우기, 얘는 뭐지?\n",
    "        train[col] = l_enc.fit_transform(train[col].values) # 정수값으로 인코딩(수치화)\n",
    "        categorical_columns.append(col)\n",
    "        categorical_dims[col] = len(l_enc.classes_)\n",
    "    else:\n",
    "        train.fillna(train.loc[train_indices, col].mean(), inplace=True)    # numerical 결측값 평균으로 채우기\n",
    "\n",
    "print(\"========================================================\")\n",
    "\n",
    "for col in test.columns:\n",
    "    if test.dtypes[col] == 'object' or test.nunique()[col] < 100:\n",
    "        print(col, test[col].nunique())\n",
    "        l_enc = LabelEncoder()\n",
    "        test[col] = test[col].fillna(\"VV_likely\")\n",
    "        test[col] = l_enc.fit_transform(test[col].values)\n",
    "    else:\n",
    "        test.fillna(test.loc[test_indices, col].mean(), inplace=True)\n",
    "\n",
    "# object 타입 or nunique < 200인 변수들을 인코딩해서 카테고리컬 변수로 넣어주기"
   ]
  },
  {
   "cell_type": "markdown",
   "metadata": {},
   "source": [
    "# Define categorical features for categorical embeddings"
   ]
  },
  {
   "cell_type": "code",
   "execution_count": null,
   "metadata": {},
   "outputs": [],
   "source": [
    "unused_feat = ['Set']\n",
    "\n",
    "features = [ col for col in train.columns if col not in unused_feat+[target]] \n",
    "\n",
    "cat_idxs = [ i for i, f in enumerate(features) if f in categorical_columns]\n",
    "\n",
    "cat_dims = [ categorical_dims[f] for i, f in enumerate(features) if f in categorical_columns]"
   ]
  },
  {
   "cell_type": "code",
   "execution_count": null,
   "metadata": {},
   "outputs": [],
   "source": [
    "cat_dims"
   ]
  },
  {
   "cell_type": "code",
   "execution_count": null,
   "metadata": {},
   "outputs": [],
   "source": [
    "# define your embedding sizes : here just a random choice (default =1)\n",
    "# cat_idxs나 cat_dims와 동일한 형태로 만들어야함 or int\n",
    "# cat_emb_dim = [10, 10, 10, 10, 10, 10, 10, 10]"
   ]
  },
  {
   "cell_type": "markdown",
   "metadata": {},
   "source": [
    "# Network parameters"
   ]
  },
  {
   "cell_type": "code",
   "execution_count": null,
   "metadata": {},
   "outputs": [],
   "source": [
    "from pytorch_tabnet.tab_model import TabNetRegressor\n",
    "import torch\n",
    "\n",
    "clf = TabNetRegressor(  cat_idxs=cat_idxs,\n",
    "                        cat_dims=cat_dims,\n",
    "                        cat_emb_dim=10,\n",
    "                        optimizer_fn=torch.optim.Adam,  # (default=torch.optim.Adam)\n",
    "                        optimizer_params=dict(lr=2e-2), # (default=dict(lr=2e-2))\n",
    "                        scheduler_params={\"step_size\":10,\n",
    "                                            \"gamma\":0.95},\n",
    "                        scheduler_fn=torch.optim.lr_scheduler.StepLR,   # (default=None)\n",
    "                        mask_type='entmax', # \"sparsemax\", entmax\n",
    "                        n_steps=5  # (default=3) 이게 부스팅 단계 조절 파라미터! 보통 3~10 정도 사용한대\n",
    "                        )"
   ]
  },
  {
   "cell_type": "code",
   "execution_count": null,
   "metadata": {},
   "outputs": [],
   "source": [
    "print(features)"
   ]
  },
  {
   "cell_type": "code",
   "execution_count": null,
   "metadata": {},
   "outputs": [],
   "source": [
    "train.head()"
   ]
  },
  {
   "cell_type": "markdown",
   "metadata": {},
   "source": [
    "# Training"
   ]
  },
  {
   "cell_type": "code",
   "execution_count": null,
   "metadata": {},
   "outputs": [],
   "source": [
    "# X와 y의 형태 맞춰주기 -> n_tragets 값은 변경 가능\n",
    "n_targets = 1\n",
    "\n",
    "X_train = train[features].values[train_indices]\n",
    "y_train = train[target].values[train_indices]\n",
    "y_train = np.transpose(np.tile(y_train, (n_targets,1)))\n",
    "\n",
    "X_valid = train[features].values[valid_indices]\n",
    "y_valid = train[target].values[valid_indices]\n",
    "y_valid = np.transpose(np.tile(y_valid, (n_targets,1)))\n",
    "\n",
    "X_test = test[features].values[test_indices]\n",
    "y_test = test[target].values[test_indices]\n",
    "y_test = np.transpose(np.tile(y_test, (n_targets,1)))"
   ]
  },
  {
   "cell_type": "code",
   "execution_count": null,
   "metadata": {},
   "outputs": [],
   "source": [
    "print(X_train.shape, y_train.shape)"
   ]
  },
  {
   "cell_type": "code",
   "execution_count": null,
   "metadata": {},
   "outputs": [],
   "source": [
    "max_epochs = 1000 if not os.getenv(\"CI\", False) else 2"
   ]
  },
  {
   "cell_type": "code",
   "execution_count": null,
   "metadata": {},
   "outputs": [],
   "source": [
    "from torch import nn\n",
    "\n",
    "clf.fit(\n",
    "    X_train=X_train, y_train=y_train,\n",
    "    eval_set=[(X_train, y_train), (X_valid, y_valid)],\n",
    "    eval_name=['train', 'valid'],\n",
    "    eval_metric=['rmse'], #['rmsle', 'mae', 'rmse', 'mse']\n",
    "    max_epochs=max_epochs,\n",
    "    patience=10,\n",
    "    batch_size=1024, virtual_batch_size=128,\n",
    "    num_workers=0,\n",
    "    drop_last=True, # (default=False)\n",
    ")\n",
    "\n",
    "# default loss_fn: mse"
   ]
  },
  {
   "cell_type": "code",
   "execution_count": null,
   "metadata": {},
   "outputs": [],
   "source": [
    "print(f\"BEST VALID SCORE FOR bookrec - best epoch {clf.best_epoch}: {clf.best_cost}\")"
   ]
  },
  {
   "cell_type": "markdown",
   "metadata": {},
   "source": [
    "# Test"
   ]
  },
  {
   "cell_type": "code",
   "execution_count": null,
   "metadata": {},
   "outputs": [],
   "source": [
    "preds = clf.predict(X_test)"
   ]
  },
  {
   "cell_type": "code",
   "execution_count": null,
   "metadata": {},
   "outputs": [],
   "source": [
    "preds"
   ]
  },
  {
   "cell_type": "markdown",
   "metadata": {},
   "source": [
    "# Submit"
   ]
  },
  {
   "cell_type": "code",
   "execution_count": null,
   "metadata": {},
   "outputs": [],
   "source": [
    "submit = pd.read_csv(path+'sample_submission.csv')"
   ]
  },
  {
   "cell_type": "code",
   "execution_count": null,
   "metadata": {},
   "outputs": [],
   "source": [
    "submit['rating'] = preds"
   ]
  },
  {
   "cell_type": "code",
   "execution_count": null,
   "metadata": {},
   "outputs": [],
   "source": [
    "submit"
   ]
  },
  {
   "cell_type": "code",
   "execution_count": null,
   "metadata": {},
   "outputs": [],
   "source": [
    "import time\n",
    "\n",
    "now = time.localtime()\n",
    "now_date = time.strftime('%Y%m%d', now)\n",
    "now_hour = time.strftime('%X', now)\n",
    "save_time = now_date + '_' + now_hour.replace(':', '')\n",
    "\n",
    "submit.to_csv('submit/KCH_{}_TabNet_{}{}_{}epoch_{:.4f}.csv'.format(save_time, clf.mask_type, clf.n_steps, clf.best_epoch, clf.best_cost, index = False))"
   ]
  },
  {
   "cell_type": "markdown",
   "metadata": {},
   "source": [
    "# Global explainability : feat importance summing to 1"
   ]
  },
  {
   "cell_type": "code",
   "execution_count": null,
   "metadata": {},
   "outputs": [],
   "source": [
    "clf.feature_importances_"
   ]
  },
  {
   "cell_type": "markdown",
   "metadata": {},
   "source": [
    "# Local explainability and masks"
   ]
  },
  {
   "cell_type": "code",
   "execution_count": null,
   "metadata": {},
   "outputs": [],
   "source": [
    "explain_matrix, masks = clf.explain(X_test)"
   ]
  },
  {
   "cell_type": "code",
   "execution_count": null,
   "metadata": {},
   "outputs": [],
   "source": [
    "from matplotlib import pyplot as plt\n",
    "%matplotlib inline"
   ]
  },
  {
   "cell_type": "code",
   "execution_count": null,
   "metadata": {},
   "outputs": [],
   "source": [
    "fig, axs = plt.subplots(1, clf.n_steps, figsize=(20,20))\n",
    "\n",
    "for i in range(clf.n_steps):\n",
    "    axs[i].imshow(masks[i][:50])\n",
    "    axs[i].set_title(f\"mask {i}\")"
   ]
  },
  {
   "cell_type": "code",
   "execution_count": null,
   "metadata": {},
   "outputs": [],
   "source": [
    "explain_matrix.shape"
   ]
  },
  {
   "cell_type": "code",
   "execution_count": null,
   "metadata": {},
   "outputs": [],
   "source": [
    "masks.keys()"
   ]
  },
  {
   "cell_type": "code",
   "execution_count": null,
   "metadata": {},
   "outputs": [],
   "source": [
    "submit['rating'].hist()"
   ]
  },
  {
   "cell_type": "markdown",
   "metadata": {},
   "source": [
    "# Model Save / Load"
   ]
  },
  {
   "cell_type": "code",
   "execution_count": null,
   "metadata": {},
   "outputs": [],
   "source": [
    "# 예제 코드를 그냥 가져온 것으로 조금 수정이 필요할 듯\n",
    "\"\"\"\n",
    "# save tabnet model\n",
    "saving_path_name = \"./tabnet_model_test_1\"\n",
    "saved_filepath = clf.save_model(saving_path_name)\n",
    "\n",
    "# define new model with basic parameters and load state dict weights\n",
    "loaded_clf = TabNetClassifier()\n",
    "loaded_clf.load_model(saved_filepath)\n",
    "\"\"\""
   ]
  }
 ],
 "metadata": {
  "kernelspec": {
   "display_name": "Python 3.8.5 ('base')",
   "language": "python",
   "name": "python3"
  },
  "language_info": {
   "codemirror_mode": {
    "name": "ipython",
    "version": 3
   },
   "file_extension": ".py",
   "mimetype": "text/x-python",
   "name": "python",
   "nbconvert_exporter": "python",
   "pygments_lexer": "ipython3",
   "version": "3.8.5"
  },
  "orig_nbformat": 4,
  "vscode": {
   "interpreter": {
    "hash": "d4d1e4263499bec80672ea0156c357c1ee493ec2b1c70f0acce89fc37c4a6abe"
   }
  }
 },
 "nbformat": 4,
 "nbformat_minor": 2
}
