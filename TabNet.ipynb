{
 "cells": [
  {
   "cell_type": "markdown",
   "metadata": {},
   "source": [
    "# Import"
   ]
  },
  {
   "cell_type": "code",
   "execution_count": 1,
   "metadata": {},
   "outputs": [],
   "source": [
    "#import data\n",
    "import pandas as pd\n",
    "import numpy as np\n",
    "import seaborn as sns\n",
    "import matplotlib.pyplot as plt\n",
    "import random\n",
    "import os\n",
    "\n",
    "import warnings\n",
    "warnings.filterwarnings(\"ignore\")\n",
    "\n",
    "import torch\n",
    "from sklearn.metrics import mean_squared_error\n",
    "\n",
    "pd.set_option('display.max_row', 50)\n",
    "\n",
    "SEED = 42\n",
    "def seed_everything(seed: int = 42):\n",
    "    random.seed(seed)\n",
    "    np.random.seed(seed)\n",
    "    os.environ[\"PYTHONHASHSEED\"] = str(seed)\n",
    "\n",
    "seed_everything(SEED)"
   ]
  },
  {
   "cell_type": "markdown",
   "metadata": {},
   "source": [
    "# Load data and split"
   ]
  },
  {
   "cell_type": "code",
   "execution_count": 2,
   "metadata": {},
   "outputs": [
    {
     "name": "stdout",
     "output_type": "stream",
     "text": [
      "(306795, 10)\n"
     ]
    }
   ],
   "source": [
    "path = 'data/'\n",
    "\n",
    "train = pd.read_csv(path+'mod_train_rating_10n.csv')\n",
    "#test = pd.read_csv(path+'mod_test_rating_10n.csv')\n",
    "\n",
    "print(train.shape)\n",
    "#print(test.shape)"
   ]
  },
  {
   "cell_type": "code",
   "execution_count": 3,
   "metadata": {},
   "outputs": [
    {
     "data": {
      "text/html": [
       "<div>\n",
       "<style scoped>\n",
       "    .dataframe tbody tr th:only-of-type {\n",
       "        vertical-align: middle;\n",
       "    }\n",
       "\n",
       "    .dataframe tbody tr th {\n",
       "        vertical-align: top;\n",
       "    }\n",
       "\n",
       "    .dataframe thead th {\n",
       "        text-align: right;\n",
       "    }\n",
       "</style>\n",
       "<table border=\"1\" class=\"dataframe\">\n",
       "  <thead>\n",
       "    <tr style=\"text-align: right;\">\n",
       "      <th></th>\n",
       "      <th>user_id</th>\n",
       "      <th>isbn</th>\n",
       "      <th>rating</th>\n",
       "      <th>book_author</th>\n",
       "      <th>publisher</th>\n",
       "      <th>language</th>\n",
       "      <th>category_high</th>\n",
       "      <th>years</th>\n",
       "      <th>fix_location_state</th>\n",
       "      <th>fix_age</th>\n",
       "    </tr>\n",
       "  </thead>\n",
       "  <tbody>\n",
       "    <tr>\n",
       "      <th>0</th>\n",
       "      <td>8.0</td>\n",
       "      <td>0002005018</td>\n",
       "      <td>4.0</td>\n",
       "      <td>others</td>\n",
       "      <td>Flamingo</td>\n",
       "      <td>en</td>\n",
       "      <td>actresses</td>\n",
       "      <td>2020</td>\n",
       "      <td>ontario</td>\n",
       "      <td>10</td>\n",
       "    </tr>\n",
       "    <tr>\n",
       "      <th>1</th>\n",
       "      <td>8.0</td>\n",
       "      <td>074322678X</td>\n",
       "      <td>4.0</td>\n",
       "      <td>Ann Beattie</td>\n",
       "      <td>Scribner</td>\n",
       "      <td>en</td>\n",
       "      <td>fiction</td>\n",
       "      <td>2020</td>\n",
       "      <td>ontario</td>\n",
       "      <td>10</td>\n",
       "    </tr>\n",
       "    <tr>\n",
       "      <th>2</th>\n",
       "      <td>8.0</td>\n",
       "      <td>0887841740</td>\n",
       "      <td>2.0</td>\n",
       "      <td>others</td>\n",
       "      <td>others</td>\n",
       "      <td>en</td>\n",
       "      <td>fiction</td>\n",
       "      <td>2020</td>\n",
       "      <td>ontario</td>\n",
       "      <td>10</td>\n",
       "    </tr>\n",
       "    <tr>\n",
       "      <th>3</th>\n",
       "      <td>8.0</td>\n",
       "      <td>1552041778</td>\n",
       "      <td>2.0</td>\n",
       "      <td>others</td>\n",
       "      <td>Mira</td>\n",
       "      <td>en</td>\n",
       "      <td>fiction</td>\n",
       "      <td>2000</td>\n",
       "      <td>ontario</td>\n",
       "      <td>10</td>\n",
       "    </tr>\n",
       "    <tr>\n",
       "      <th>4</th>\n",
       "      <td>8.0</td>\n",
       "      <td>1567407781</td>\n",
       "      <td>6.0</td>\n",
       "      <td>Loren D. Estleman</td>\n",
       "      <td>Brilliance Audio</td>\n",
       "      <td>en</td>\n",
       "      <td>fiction</td>\n",
       "      <td>2000</td>\n",
       "      <td>ontario</td>\n",
       "      <td>10</td>\n",
       "    </tr>\n",
       "  </tbody>\n",
       "</table>\n",
       "</div>"
      ],
      "text/plain": [
       "   user_id        isbn  rating        book_author         publisher language  \\\n",
       "0      8.0  0002005018     4.0             others          Flamingo       en   \n",
       "1      8.0  074322678X     4.0        Ann Beattie          Scribner       en   \n",
       "2      8.0  0887841740     2.0             others            others       en   \n",
       "3      8.0  1552041778     2.0             others              Mira       en   \n",
       "4      8.0  1567407781     6.0  Loren D. Estleman  Brilliance Audio       en   \n",
       "\n",
       "  category_high  years fix_location_state  fix_age  \n",
       "0     actresses   2020            ontario       10  \n",
       "1       fiction   2020            ontario       10  \n",
       "2       fiction   2020            ontario       10  \n",
       "3       fiction   2000            ontario       10  \n",
       "4       fiction   2000            ontario       10  "
      ]
     },
     "execution_count": 3,
     "metadata": {},
     "output_type": "execute_result"
    }
   ],
   "source": [
    "train.head()"
   ]
  },
  {
   "cell_type": "code",
   "execution_count": 4,
   "metadata": {},
   "outputs": [],
   "source": [
    "target = 'rating'\n",
    "if \"Set\" not in train.columns:\n",
    "    train[\"Set\"] = np.random.choice([\"train\", \"valid\", \"test\"], p =[.8, .1, .1], size=(train.shape[0],))\n",
    "\n",
    "train_indices = train[train.Set==\"train\"].index\n",
    "valid_indices = train[train.Set==\"valid\"].index\n",
    "test_indices = train[train.Set==\"test\"].index"
   ]
  },
  {
   "cell_type": "code",
   "execution_count": 5,
   "metadata": {},
   "outputs": [
    {
     "name": "stdout",
     "output_type": "stream",
     "text": [
      "Int64Index([     0,      2,      3,      4,      5,      6,      8,      9,\n",
      "                10,     13,\n",
      "            ...\n",
      "            306782, 306783, 306784, 306785, 306786, 306787, 306788, 306792,\n",
      "            306793, 306794],\n",
      "           dtype='int64', length=245332)\n"
     ]
    }
   ],
   "source": [
    "print(train_indices)"
   ]
  },
  {
   "cell_type": "markdown",
   "metadata": {},
   "source": [
    "# Simple preprocessing"
   ]
  },
  {
   "cell_type": "code",
   "execution_count": 6,
   "metadata": {},
   "outputs": [
    {
     "data": {
      "text/plain": [
       "user_id               float64\n",
       "isbn                   object\n",
       "rating                float64\n",
       "book_author            object\n",
       "publisher              object\n",
       "language               object\n",
       "category_high          object\n",
       "years                   int64\n",
       "fix_location_state     object\n",
       "fix_age                 int64\n",
       "Set                    object\n",
       "dtype: object"
      ]
     },
     "execution_count": 6,
     "metadata": {},
     "output_type": "execute_result"
    }
   ],
   "source": [
    "train.dtypes"
   ]
  },
  {
   "cell_type": "code",
   "execution_count": 7,
   "metadata": {},
   "outputs": [
    {
     "data": {
      "text/html": [
       "<div>\n",
       "<style scoped>\n",
       "    .dataframe tbody tr th:only-of-type {\n",
       "        vertical-align: middle;\n",
       "    }\n",
       "\n",
       "    .dataframe tbody tr th {\n",
       "        vertical-align: top;\n",
       "    }\n",
       "\n",
       "    .dataframe thead th {\n",
       "        text-align: right;\n",
       "    }\n",
       "</style>\n",
       "<table border=\"1\" class=\"dataframe\">\n",
       "  <thead>\n",
       "    <tr style=\"text-align: right;\">\n",
       "      <th></th>\n",
       "      <th>user_id</th>\n",
       "      <th>isbn</th>\n",
       "      <th>rating</th>\n",
       "      <th>book_author</th>\n",
       "      <th>publisher</th>\n",
       "      <th>language</th>\n",
       "      <th>category_high</th>\n",
       "      <th>years</th>\n",
       "      <th>fix_location_state</th>\n",
       "      <th>fix_age</th>\n",
       "      <th>Set</th>\n",
       "    </tr>\n",
       "  </thead>\n",
       "  <tbody>\n",
       "    <tr>\n",
       "      <th>0</th>\n",
       "      <td>8.0</td>\n",
       "      <td>0002005018</td>\n",
       "      <td>4.0</td>\n",
       "      <td>others</td>\n",
       "      <td>Flamingo</td>\n",
       "      <td>en</td>\n",
       "      <td>actresses</td>\n",
       "      <td>2020</td>\n",
       "      <td>ontario</td>\n",
       "      <td>10</td>\n",
       "      <td>train</td>\n",
       "    </tr>\n",
       "    <tr>\n",
       "      <th>1</th>\n",
       "      <td>8.0</td>\n",
       "      <td>074322678X</td>\n",
       "      <td>4.0</td>\n",
       "      <td>Ann Beattie</td>\n",
       "      <td>Scribner</td>\n",
       "      <td>en</td>\n",
       "      <td>fiction</td>\n",
       "      <td>2020</td>\n",
       "      <td>ontario</td>\n",
       "      <td>10</td>\n",
       "      <td>test</td>\n",
       "    </tr>\n",
       "    <tr>\n",
       "      <th>2</th>\n",
       "      <td>8.0</td>\n",
       "      <td>0887841740</td>\n",
       "      <td>2.0</td>\n",
       "      <td>others</td>\n",
       "      <td>others</td>\n",
       "      <td>en</td>\n",
       "      <td>fiction</td>\n",
       "      <td>2020</td>\n",
       "      <td>ontario</td>\n",
       "      <td>10</td>\n",
       "      <td>train</td>\n",
       "    </tr>\n",
       "    <tr>\n",
       "      <th>3</th>\n",
       "      <td>8.0</td>\n",
       "      <td>1552041778</td>\n",
       "      <td>2.0</td>\n",
       "      <td>others</td>\n",
       "      <td>Mira</td>\n",
       "      <td>en</td>\n",
       "      <td>fiction</td>\n",
       "      <td>2000</td>\n",
       "      <td>ontario</td>\n",
       "      <td>10</td>\n",
       "      <td>train</td>\n",
       "    </tr>\n",
       "    <tr>\n",
       "      <th>4</th>\n",
       "      <td>8.0</td>\n",
       "      <td>1567407781</td>\n",
       "      <td>6.0</td>\n",
       "      <td>Loren D. Estleman</td>\n",
       "      <td>Brilliance Audio</td>\n",
       "      <td>en</td>\n",
       "      <td>fiction</td>\n",
       "      <td>2000</td>\n",
       "      <td>ontario</td>\n",
       "      <td>10</td>\n",
       "      <td>train</td>\n",
       "    </tr>\n",
       "  </tbody>\n",
       "</table>\n",
       "</div>"
      ],
      "text/plain": [
       "   user_id        isbn  rating        book_author         publisher language  \\\n",
       "0      8.0  0002005018     4.0             others          Flamingo       en   \n",
       "1      8.0  074322678X     4.0        Ann Beattie          Scribner       en   \n",
       "2      8.0  0887841740     2.0             others            others       en   \n",
       "3      8.0  1552041778     2.0             others              Mira       en   \n",
       "4      8.0  1567407781     6.0  Loren D. Estleman  Brilliance Audio       en   \n",
       "\n",
       "  category_high  years fix_location_state  fix_age    Set  \n",
       "0     actresses   2020            ontario       10  train  \n",
       "1       fiction   2020            ontario       10   test  \n",
       "2       fiction   2020            ontario       10  train  \n",
       "3       fiction   2000            ontario       10  train  \n",
       "4       fiction   2000            ontario       10  train  "
      ]
     },
     "execution_count": 7,
     "metadata": {},
     "output_type": "execute_result"
    }
   ],
   "source": [
    "train.head()"
   ]
  },
  {
   "cell_type": "code",
   "execution_count": 8,
   "metadata": {},
   "outputs": [
    {
     "name": "stdout",
     "output_type": "stream",
     "text": [
      "isbn 129777\n",
      "['isbn'] 129777\n",
      "book_author 2102\n",
      "['isbn', 'book_author'] 2102\n",
      "publisher 1190\n",
      "['isbn', 'book_author', 'publisher'] 1190\n",
      "language 11\n",
      "['isbn', 'book_author', 'publisher', 'language'] 11\n",
      "category_high 209\n",
      "['isbn', 'book_author', 'publisher', 'language', 'category_high'] 209\n",
      "fix_location_state 234\n",
      "['isbn', 'book_author', 'publisher', 'language', 'category_high', 'fix_location_state'] 234\n",
      "Set 3\n",
      "['isbn', 'book_author', 'publisher', 'language', 'category_high', 'fix_location_state', 'Set'] 3\n"
     ]
    }
   ],
   "source": [
    "# Label encode categorical features and fill empty cells.\n",
    "from sklearn.preprocessing import LabelEncoder\n",
    "\n",
    "categorical_columns = []\n",
    "categorical_dims =  {}\n",
    "for col in train.columns[train.dtypes == object]:\n",
    "    print(col, train[col].nunique())\n",
    "    l_enc = LabelEncoder()  # 문자를 정수형 자료로 변환시켜주는 인코더(수치화)\n",
    "    train[col] = train[col].fillna(\"VV_likely\") # 결측값 채우기 해당 값은 뭘까? col이 달라도 상관없이 얘가 들어가는데..\n",
    "    train[col] = l_enc.fit_transform(train[col].values)\n",
    "    categorical_columns.append(col)\n",
    "    categorical_dims[col] = len(l_enc.classes_)\n",
    "    print(categorical_columns, categorical_dims[col])\n",
    "\n",
    "# object 타입의 변수들을 인코딩해서 카테고리컬 변수로 넣어주기\n",
    "\n",
    "for col in train.columns[train.dtypes == 'float64']:    # 실수형 자료 결측값 채우기\n",
    "    train.fillna(train.loc[train_indices, col].mean(), inplace=True)"
   ]
  },
  {
   "cell_type": "markdown",
   "metadata": {},
   "source": [
    "# Define categorical features for categorical embeddings"
   ]
  },
  {
   "cell_type": "code",
   "execution_count": 9,
   "metadata": {},
   "outputs": [],
   "source": [
    "unused_feat = ['Set']\n",
    "\n",
    "features = [ col for col in train.columns if col not in unused_feat+[target]] \n",
    "\n",
    "cat_idxs = [ i for i, f in enumerate(features) if f in categorical_columns]\n",
    "\n",
    "cat_dims = [ categorical_dims[f] for i, f in enumerate(features) if f in categorical_columns]\n",
    "\n",
    "# define your embedding sizes : here just a random choice (Optional)\n",
    "#cat_emb_dim = [5, 4, 3, 6, 2, 2, 1, 10]"
   ]
  },
  {
   "cell_type": "markdown",
   "metadata": {},
   "source": [
    "# Network parameters"
   ]
  },
  {
   "cell_type": "code",
   "execution_count": 10,
   "metadata": {},
   "outputs": [],
   "source": [
    "from pytorch_tabnet.tab_model import TabNetRegressor\n",
    "\n",
    "clf = TabNetRegressor(cat_dims=cat_dims, cat_idxs=cat_idxs)\n",
    "#cat_emb_dim=cat_emb_dim"
   ]
  },
  {
   "cell_type": "code",
   "execution_count": 11,
   "metadata": {},
   "outputs": [
    {
     "name": "stdout",
     "output_type": "stream",
     "text": [
      "['user_id', 'isbn', 'book_author', 'publisher', 'language', 'category_high', 'years', 'fix_location_state', 'fix_age']\n"
     ]
    }
   ],
   "source": [
    "print(features)"
   ]
  },
  {
   "cell_type": "code",
   "execution_count": 12,
   "metadata": {},
   "outputs": [
    {
     "data": {
      "text/html": [
       "<div>\n",
       "<style scoped>\n",
       "    .dataframe tbody tr th:only-of-type {\n",
       "        vertical-align: middle;\n",
       "    }\n",
       "\n",
       "    .dataframe tbody tr th {\n",
       "        vertical-align: top;\n",
       "    }\n",
       "\n",
       "    .dataframe thead th {\n",
       "        text-align: right;\n",
       "    }\n",
       "</style>\n",
       "<table border=\"1\" class=\"dataframe\">\n",
       "  <thead>\n",
       "    <tr style=\"text-align: right;\">\n",
       "      <th></th>\n",
       "      <th>user_id</th>\n",
       "      <th>isbn</th>\n",
       "      <th>rating</th>\n",
       "      <th>book_author</th>\n",
       "      <th>publisher</th>\n",
       "      <th>language</th>\n",
       "      <th>category_high</th>\n",
       "      <th>years</th>\n",
       "      <th>fix_location_state</th>\n",
       "      <th>fix_age</th>\n",
       "      <th>Set</th>\n",
       "    </tr>\n",
       "  </thead>\n",
       "  <tbody>\n",
       "    <tr>\n",
       "      <th>0</th>\n",
       "      <td>8.0</td>\n",
       "      <td>31</td>\n",
       "      <td>4.0</td>\n",
       "      <td>2101</td>\n",
       "      <td>401</td>\n",
       "      <td>3</td>\n",
       "      <td>2</td>\n",
       "      <td>2020</td>\n",
       "      <td>142</td>\n",
       "      <td>10</td>\n",
       "      <td>1</td>\n",
       "    </tr>\n",
       "    <tr>\n",
       "      <th>1</th>\n",
       "      <td>8.0</td>\n",
       "      <td>76197</td>\n",
       "      <td>4.0</td>\n",
       "      <td>83</td>\n",
       "      <td>938</td>\n",
       "      <td>3</td>\n",
       "      <td>123</td>\n",
       "      <td>2020</td>\n",
       "      <td>142</td>\n",
       "      <td>10</td>\n",
       "      <td>0</td>\n",
       "    </tr>\n",
       "    <tr>\n",
       "      <th>2</th>\n",
       "      <td>8.0</td>\n",
       "      <td>96808</td>\n",
       "      <td>2.0</td>\n",
       "      <td>2101</td>\n",
       "      <td>1189</td>\n",
       "      <td>3</td>\n",
       "      <td>123</td>\n",
       "      <td>2020</td>\n",
       "      <td>142</td>\n",
       "      <td>10</td>\n",
       "      <td>1</td>\n",
       "    </tr>\n",
       "    <tr>\n",
       "      <th>3</th>\n",
       "      <td>8.0</td>\n",
       "      <td>104143</td>\n",
       "      <td>2.0</td>\n",
       "      <td>2101</td>\n",
       "      <td>713</td>\n",
       "      <td>3</td>\n",
       "      <td>123</td>\n",
       "      <td>2000</td>\n",
       "      <td>142</td>\n",
       "      <td>10</td>\n",
       "      <td>1</td>\n",
       "    </tr>\n",
       "    <tr>\n",
       "      <th>4</th>\n",
       "      <td>8.0</td>\n",
       "      <td>107921</td>\n",
       "      <td>6.0</td>\n",
       "      <td>1254</td>\n",
       "      <td>158</td>\n",
       "      <td>3</td>\n",
       "      <td>123</td>\n",
       "      <td>2000</td>\n",
       "      <td>142</td>\n",
       "      <td>10</td>\n",
       "      <td>1</td>\n",
       "    </tr>\n",
       "  </tbody>\n",
       "</table>\n",
       "</div>"
      ],
      "text/plain": [
       "   user_id    isbn  rating  book_author  publisher  language  category_high  \\\n",
       "0      8.0      31     4.0         2101        401         3              2   \n",
       "1      8.0   76197     4.0           83        938         3            123   \n",
       "2      8.0   96808     2.0         2101       1189         3            123   \n",
       "3      8.0  104143     2.0         2101        713         3            123   \n",
       "4      8.0  107921     6.0         1254        158         3            123   \n",
       "\n",
       "   years  fix_location_state  fix_age  Set  \n",
       "0   2020                 142       10    1  \n",
       "1   2020                 142       10    0  \n",
       "2   2020                 142       10    1  \n",
       "3   2000                 142       10    1  \n",
       "4   2000                 142       10    1  "
      ]
     },
     "execution_count": 12,
     "metadata": {},
     "output_type": "execute_result"
    }
   ],
   "source": [
    "train.head()"
   ]
  },
  {
   "cell_type": "markdown",
   "metadata": {},
   "source": [
    "# Training"
   ]
  },
  {
   "cell_type": "code",
   "execution_count": 13,
   "metadata": {},
   "outputs": [],
   "source": [
    "# X와 y의 형태 맞춰주기 -> n_tragets 값은 변경 가능\n",
    "n_targets = 1\n",
    "\n",
    "X_train = train[features].values[train_indices]\n",
    "y_train = train[target].values[train_indices]\n",
    "y_train = np.transpose(np.tile(y_train, (n_targets,1)))\n",
    "\n",
    "X_valid = train[features].values[valid_indices]\n",
    "y_valid = train[target].values[valid_indices]\n",
    "y_valid = np.transpose(np.tile(y_valid, (n_targets,1)))\n",
    "\n",
    "X_test = train[features].values[test_indices]\n",
    "y_test = train[target].values[test_indices]\n",
    "y_test = np.transpose(np.tile(y_test, (n_targets,1)))"
   ]
  },
  {
   "cell_type": "code",
   "execution_count": 16,
   "metadata": {},
   "outputs": [
    {
     "name": "stdout",
     "output_type": "stream",
     "text": [
      "(245332, 9) (245332, 1)\n"
     ]
    }
   ],
   "source": [
    "print(X_train.shape, y_train.shape)"
   ]
  },
  {
   "cell_type": "code",
   "execution_count": 17,
   "metadata": {},
   "outputs": [],
   "source": [
    "max_epochs = 1000 if not os.getenv(\"CI\", False) else 2"
   ]
  },
  {
   "cell_type": "code",
   "execution_count": 18,
   "metadata": {},
   "outputs": [
    {
     "name": "stdout",
     "output_type": "stream",
     "text": [
      "epoch 0  | loss: 7.13225 | train_rmse: 2.43913 | valid_rmse: 2.43113 |  0:00:23s\n",
      "epoch 1  | loss: 5.91401 | train_rmse: 2.43564 | valid_rmse: 2.42841 |  0:00:46s\n",
      "epoch 2  | loss: 5.87335 | train_rmse: 2.41243 | valid_rmse: 2.40729 |  0:01:09s\n",
      "epoch 3  | loss: 5.81284 | train_rmse: 2.38455 | valid_rmse: 2.4048  |  0:01:32s\n",
      "epoch 4  | loss: 5.66193 | train_rmse: 2.31949 | valid_rmse: 2.41268 |  0:01:55s\n",
      "epoch 5  | loss: 5.3292  | train_rmse: 2.20848 | valid_rmse: 2.44089 |  0:02:18s\n",
      "epoch 6  | loss: 4.92569 | train_rmse: 2.12672 | valid_rmse: 2.47978 |  0:02:46s\n",
      "epoch 7  | loss: 4.59521 | train_rmse: 2.0667  | valid_rmse: 2.52559 |  0:03:09s\n",
      "epoch 8  | loss: 4.36637 | train_rmse: 2.01027 | valid_rmse: 2.5532  |  0:03:32s\n",
      "epoch 9  | loss: 4.1819  | train_rmse: 1.9614  | valid_rmse: 2.60155 |  0:03:55s\n",
      "epoch 10 | loss: 4.02562 | train_rmse: 1.92148 | valid_rmse: 2.64751 |  0:04:18s\n",
      "epoch 11 | loss: 3.88352 | train_rmse: 1.8994  | valid_rmse: 2.642   |  0:04:41s\n",
      "epoch 12 | loss: 3.78326 | train_rmse: 1.86972 | valid_rmse: 2.67282 |  0:05:04s\n",
      "epoch 13 | loss: 3.69037 | train_rmse: 1.86006 | valid_rmse: 2.66747 |  0:05:27s\n",
      "\n",
      "Early stopping occurred at epoch 13 with best_epoch = 3 and best_valid_rmse = 2.4048\n"
     ]
    }
   ],
   "source": [
    "clf.fit(\n",
    "    X_train=X_train, y_train=y_train,\n",
    "    eval_set=[(X_train, y_train), (X_valid, y_valid)],\n",
    "    eval_name=['train', 'valid'],\n",
    "    eval_metric=['rmse'], #['rmsle', 'mae', 'rmse', 'mse']\n",
    "    max_epochs=max_epochs,\n",
    "    patience=10,\n",
    "    batch_size=1024, virtual_batch_size=128,\n",
    "    num_workers=0,\n",
    "    drop_last=False,\n",
    ")"
   ]
  },
  {
   "cell_type": "code",
   "execution_count": 19,
   "metadata": {},
   "outputs": [
    {
     "name": "stdout",
     "output_type": "stream",
     "text": [
      "BEST VALID SCORE FOR bookrec : 2.404801638584884\n",
      "FINAL TEST SCORE FOR bookrec : 2.407831429792227\n"
     ]
    }
   ],
   "source": [
    "preds = clf.predict(X_test)\n",
    "\n",
    "test_rmse = mean_squared_error(y_pred=preds, y_true=y_test)**0.5\n",
    "\n",
    "print(f\"BEST VALID SCORE FOR bookrec : {clf.best_cost}\")\n",
    "print(f\"FINAL TEST SCORE FOR bookrec : {test_rmse}\")"
   ]
  },
  {
   "cell_type": "code",
   "execution_count": 20,
   "metadata": {},
   "outputs": [
    {
     "data": {
      "text/plain": [
       "(30582, 1)"
      ]
     },
     "execution_count": 20,
     "metadata": {},
     "output_type": "execute_result"
    }
   ],
   "source": [
    "preds.shape"
   ]
  },
  {
   "cell_type": "markdown",
   "metadata": {},
   "source": [
    "# Global explainability : feat importance summing to 1"
   ]
  },
  {
   "cell_type": "code",
   "execution_count": 21,
   "metadata": {},
   "outputs": [
    {
     "data": {
      "text/plain": [
       "array([0.00313126, 0.15324788, 0.08402489, 0.00495506, 0.04931256,\n",
       "       0.33417186, 0.03004712, 0.02443112, 0.31667825])"
      ]
     },
     "execution_count": 21,
     "metadata": {},
     "output_type": "execute_result"
    }
   ],
   "source": [
    "clf.feature_importances_"
   ]
  },
  {
   "cell_type": "code",
   "execution_count": 22,
   "metadata": {},
   "outputs": [
    {
     "data": {
      "text/plain": [
       "(9,)"
      ]
     },
     "execution_count": 22,
     "metadata": {},
     "output_type": "execute_result"
    }
   ],
   "source": [
    "clf.feature_importances_.shape"
   ]
  },
  {
   "cell_type": "markdown",
   "metadata": {},
   "source": [
    "# Local explainability and masks"
   ]
  },
  {
   "cell_type": "code",
   "execution_count": 23,
   "metadata": {},
   "outputs": [],
   "source": [
    "explain_matrix, masks = clf.explain(X_test)"
   ]
  },
  {
   "cell_type": "code",
   "execution_count": 24,
   "metadata": {},
   "outputs": [],
   "source": [
    "from matplotlib import pyplot as plt\n",
    "%matplotlib inline"
   ]
  },
  {
   "cell_type": "code",
   "execution_count": 25,
   "metadata": {},
   "outputs": [
    {
     "data": {
      "image/png": "[encoded data removed]",
      "text/plain": [
       "<Figure size 2000x2000 with 3 Axes>"
      ]
     },
     "metadata": {},
     "output_type": "display_data"
    }
   ],
   "source": [
    "fig, axs = plt.subplots(1, 3, figsize=(20,20))\n",
    "\n",
    "for i in range(3):\n",
    "    axs[i].imshow(masks[i][:50])\n",
    "    axs[i].set_title(f\"mask {i}\")"
   ]
  },
  {
   "cell_type": "code",
   "execution_count": 26,
   "metadata": {},
   "outputs": [
    {
     "data": {
      "text/plain": [
       "(30582, 9)"
      ]
     },
     "execution_count": 26,
     "metadata": {},
     "output_type": "execute_result"
    }
   ],
   "source": [
    "explain_matrix.shape"
   ]
  },
  {
   "cell_type": "code",
   "execution_count": 27,
   "metadata": {},
   "outputs": [
    {
     "data": {
      "text/plain": [
       "dict_keys([0, 1, 2])"
      ]
     },
     "execution_count": 27,
     "metadata": {},
     "output_type": "execute_result"
    }
   ],
   "source": [
    "masks.keys()"
   ]
  },
  {
   "cell_type": "markdown",
   "metadata": {},
   "source": [
    "# Submit"
   ]
  },
  {
   "cell_type": "code",
   "execution_count": 41,
   "metadata": {},
   "outputs": [
    {
     "name": "stdout",
     "output_type": "stream",
     "text": [
      "(76699, 10)\n"
     ]
    }
   ],
   "source": [
    "submit = pd.read_csv(path+'mod_test_rating_10n.csv')\n",
    "print(submit.shape)"
   ]
  },
  {
   "cell_type": "code",
   "execution_count": 42,
   "metadata": {},
   "outputs": [],
   "source": [
    "submit[\"Set\"] = 'submit'\n",
    "\n",
    "submit_indices = submit.index"
   ]
  },
  {
   "cell_type": "code",
   "execution_count": 43,
   "metadata": {},
   "outputs": [
    {
     "name": "stdout",
     "output_type": "stream",
     "text": [
      "isbn 52000\n",
      "book_author 2093\n",
      "publisher 1174\n",
      "language 11\n",
      "category_high 207\n",
      "fix_location_state 233\n",
      "Set 1\n"
     ]
    }
   ],
   "source": [
    "# Label encode categorical features and fill empty cells.\n",
    "from sklearn.preprocessing import LabelEncoder\n",
    "\n",
    "for col in submit.columns[submit.dtypes == object]:\n",
    "    print(col, submit[col].nunique())\n",
    "    l_enc = LabelEncoder()  # 문자를 정수형 자료로 변환시켜주는 인코더(수치화)\n",
    "    submit[col] = submit[col].fillna(\"VV_likely\") # 결측값 채우기 해당 값은 뭘까? col이 달라도 상관없이 얘가 들어가는데..\n",
    "    submit[col] = l_enc.fit_transform(submit[col].values)\n",
    "\n",
    "# object 타입의 변수들을 인코딩해서 카테고리컬 변수로 넣어주기\n",
    "\n",
    "for col in submit.columns[submit.dtypes == 'float64']:    # 실수형 자료 결측값 채우기\n",
    "    submit.fillna(submit.loc[submit_indices, col].mean(), inplace=True)"
   ]
  },
  {
   "cell_type": "code",
   "execution_count": 44,
   "metadata": {},
   "outputs": [],
   "source": [
    "X_submit = submit[features].values[submit_indices]\n",
    "y_submit = submit[target].values[submit_indices]\n",
    "y_submit = np.transpose(np.tile(y_submit, (n_targets,1)))"
   ]
  },
  {
   "cell_type": "code",
   "execution_count": 48,
   "metadata": {},
   "outputs": [],
   "source": [
    "submit_preds = clf.predict(X_submit)"
   ]
  },
  {
   "cell_type": "code",
   "execution_count": 46,
   "metadata": {},
   "outputs": [
    {
     "data": {
      "text/plain": [
       "array([[8.00000e+00, 7.61970e+04, 8.30000e+01, ..., 2.02000e+03,\n",
       "        1.42000e+02, 1.00000e+01],\n",
       "       [1.14000e+04, 4.17720e+04, 1.48500e+03, ..., 2.00000e+03,\n",
       "        1.42000e+02, 5.00000e+01],\n",
       "       [1.16760e+04, 4.18860e+04, 8.22000e+02, ..., 2.00000e+03,\n",
       "        3.60000e+01, 1.00000e+01],\n",
       "       ...,\n",
       "       [2.73666e+05, 5.47540e+04, 2.10100e+03, ..., 2.02000e+03,\n",
       "        3.60000e+01, 1.00000e+01],\n",
       "       [2.76912e+05, 1.20000e+02, 2.10100e+03, ..., 2.00000e+03,\n",
       "        2.20000e+02, 3.00000e+01],\n",
       "       [2.78330e+05, 9.85840e+04, 2.10100e+03, ..., 1.99000e+03,\n",
       "        1.08000e+02, 5.00000e+01]])"
      ]
     },
     "execution_count": 46,
     "metadata": {},
     "output_type": "execute_result"
    }
   ],
   "source": [
    "X_test"
   ]
  },
  {
   "cell_type": "code",
   "execution_count": 47,
   "metadata": {},
   "outputs": [
    {
     "data": {
      "text/plain": [
       "array([[1.14000e+04, 3.34060e+04, 2.09200e+03, ..., 2.02000e+03,\n",
       "        1.42000e+02, 5.00000e+01],\n",
       "       [1.14000e+04, 1.96820e+04, 4.13000e+02, ..., 2.00000e+03,\n",
       "        1.42000e+02, 5.00000e+01],\n",
       "       [1.14000e+04, 1.22390e+04, 2.09200e+03, ..., 2.02000e+03,\n",
       "        1.42000e+02, 5.00000e+01],\n",
       "       ...,\n",
       "       [2.77079e+05, 5.00380e+04, 2.09200e+03, ..., 2.02000e+03,\n",
       "        2.50000e+01, 1.00000e+01],\n",
       "       [2.77514e+05, 4.95180e+04, 2.09200e+03, ..., 2.00000e+03,\n",
       "        1.31000e+02, 1.00000e+01],\n",
       "       [2.77680e+05, 4.80330e+04, 2.09200e+03, ..., 2.00000e+03,\n",
       "        1.46000e+02, 4.00000e+01]])"
      ]
     },
     "execution_count": 47,
     "metadata": {},
     "output_type": "execute_result"
    }
   ],
   "source": [
    "X_submit"
   ]
  },
  {
   "cell_type": "code",
   "execution_count": 49,
   "metadata": {},
   "outputs": [
    {
     "data": {
      "text/plain": [
       "array([[6.901532 ],\n",
       "       [7.476406 ],\n",
       "       [7.328086 ],\n",
       "       ...,\n",
       "       [6.806209 ],\n",
       "       [6.83507  ],\n",
       "       [6.9672823]], dtype=float32)"
      ]
     },
     "execution_count": 49,
     "metadata": {},
     "output_type": "execute_result"
    }
   ],
   "source": [
    "submit_preds"
   ]
  },
  {
   "cell_type": "markdown",
   "metadata": {},
   "source": [
    "# Save Submit"
   ]
  },
  {
   "cell_type": "code",
   "execution_count": 50,
   "metadata": {},
   "outputs": [],
   "source": [
    "output = pd.read_csv(path+'sample_submission.csv')"
   ]
  },
  {
   "cell_type": "code",
   "execution_count": 51,
   "metadata": {},
   "outputs": [],
   "source": [
    "output['rating'] = submit_preds"
   ]
  },
  {
   "cell_type": "code",
   "execution_count": 52,
   "metadata": {},
   "outputs": [
    {
     "data": {
      "text/html": [
       "<div>\n",
       "<style scoped>\n",
       "    .dataframe tbody tr th:only-of-type {\n",
       "        vertical-align: middle;\n",
       "    }\n",
       "\n",
       "    .dataframe tbody tr th {\n",
       "        vertical-align: top;\n",
       "    }\n",
       "\n",
       "    .dataframe thead th {\n",
       "        text-align: right;\n",
       "    }\n",
       "</style>\n",
       "<table border=\"1\" class=\"dataframe\">\n",
       "  <thead>\n",
       "    <tr style=\"text-align: right;\">\n",
       "      <th></th>\n",
       "      <th>user_id</th>\n",
       "      <th>isbn</th>\n",
       "      <th>rating</th>\n",
       "    </tr>\n",
       "  </thead>\n",
       "  <tbody>\n",
       "    <tr>\n",
       "      <th>0</th>\n",
       "      <td>11676</td>\n",
       "      <td>0002005018</td>\n",
       "      <td>6.901532</td>\n",
       "    </tr>\n",
       "    <tr>\n",
       "      <th>1</th>\n",
       "      <td>116866</td>\n",
       "      <td>0002005018</td>\n",
       "      <td>7.476406</td>\n",
       "    </tr>\n",
       "    <tr>\n",
       "      <th>2</th>\n",
       "      <td>152827</td>\n",
       "      <td>0060973129</td>\n",
       "      <td>7.328086</td>\n",
       "    </tr>\n",
       "    <tr>\n",
       "      <th>3</th>\n",
       "      <td>157969</td>\n",
       "      <td>0374157065</td>\n",
       "      <td>6.991628</td>\n",
       "    </tr>\n",
       "    <tr>\n",
       "      <th>4</th>\n",
       "      <td>67958</td>\n",
       "      <td>0399135782</td>\n",
       "      <td>7.447005</td>\n",
       "    </tr>\n",
       "    <tr>\n",
       "      <th>...</th>\n",
       "      <td>...</td>\n",
       "      <td>...</td>\n",
       "      <td>...</td>\n",
       "    </tr>\n",
       "    <tr>\n",
       "      <th>76694</th>\n",
       "      <td>278543</td>\n",
       "      <td>1576734218</td>\n",
       "      <td>6.841472</td>\n",
       "    </tr>\n",
       "    <tr>\n",
       "      <th>76695</th>\n",
       "      <td>278563</td>\n",
       "      <td>3492223710</td>\n",
       "      <td>7.307286</td>\n",
       "    </tr>\n",
       "    <tr>\n",
       "      <th>76696</th>\n",
       "      <td>278633</td>\n",
       "      <td>1896095186</td>\n",
       "      <td>6.806209</td>\n",
       "    </tr>\n",
       "    <tr>\n",
       "      <th>76697</th>\n",
       "      <td>278668</td>\n",
       "      <td>8408044079</td>\n",
       "      <td>6.835070</td>\n",
       "    </tr>\n",
       "    <tr>\n",
       "      <th>76698</th>\n",
       "      <td>278851</td>\n",
       "      <td>0767907566</td>\n",
       "      <td>6.967282</td>\n",
       "    </tr>\n",
       "  </tbody>\n",
       "</table>\n",
       "<p>76699 rows × 3 columns</p>\n",
       "</div>"
      ],
      "text/plain": [
       "       user_id        isbn    rating\n",
       "0        11676  0002005018  6.901532\n",
       "1       116866  0002005018  7.476406\n",
       "2       152827  0060973129  7.328086\n",
       "3       157969  0374157065  6.991628\n",
       "4        67958  0399135782  7.447005\n",
       "...        ...         ...       ...\n",
       "76694   278543  1576734218  6.841472\n",
       "76695   278563  3492223710  7.307286\n",
       "76696   278633  1896095186  6.806209\n",
       "76697   278668  8408044079  6.835070\n",
       "76698   278851  0767907566  6.967282\n",
       "\n",
       "[76699 rows x 3 columns]"
      ]
     },
     "execution_count": 52,
     "metadata": {},
     "output_type": "execute_result"
    }
   ],
   "source": [
    "output"
   ]
  },
  {
   "cell_type": "code",
   "execution_count": 55,
   "metadata": {},
   "outputs": [],
   "source": [
    "output.to_csv('submit/20221028_TabNet.csv', index = False)"
   ]
  }
 ],
 "metadata": {
  "kernelspec": {
   "display_name": "Python 3.8.5 ('base')",
   "language": "python",
   "name": "python3"
  },
  "language_info": {
   "codemirror_mode": {
    "name": "ipython",
    "version": 3
   },
   "file_extension": ".py",
   "mimetype": "text/x-python",
   "name": "python",
   "nbconvert_exporter": "python",
   "pygments_lexer": "ipython3",
   "version": "3.8.5"
  },
  "orig_nbformat": 4,
  "vscode": {
   "interpreter": {
    "hash": "d4d1e4263499bec80672ea0156c357c1ee493ec2b1c70f0acce89fc37c4a6abe"
   }
  }
 },
 "nbformat": 4,
 "nbformat_minor": 2
}
